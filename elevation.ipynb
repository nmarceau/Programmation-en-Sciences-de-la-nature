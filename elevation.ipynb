{
 "cells": [
  {
   "cell_type": "markdown",
   "metadata": {},
   "source": [
    "## Utiliser la trigonométrie dans le triangle rectangle pour résoudre des problèmes avec des angles d'élévation et de dépression.\n",
    "\n",
    "### Quelle est la hauteur de l'arbre?"
   ]
  },
  {
   "cell_type": "markdown",
   "metadata": {},
   "source": [
    "![elevation](images/elevation.png)\n"
   ]
  },
  {
   "cell_type": "code",
   "execution_count": 1,
   "metadata": {},
   "outputs": [
    {
     "name": "stdout",
     "output_type": "stream",
     "text": [
      "La distance entre l'immeuble et l'arbre est de 5.00 mètres.\n",
      "La hauteur de l'arbre est de 12.83 mètres.\n"
     ]
    }
   ],
   "source": [
    "import math\n",
    "\n",
    "x = 8 / math.tan(math.radians(58))  # Tangente = Opposé/Adjacent.\n",
    "print(f\"La distance entre l'immeuble et l'arbre est de {x:.2f} mètres.\")\n",
    "\n",
    "hauteur_arbre = 8 + math.tan(math.radians(44)) * x\n",
    "\n",
    "print(f\"La hauteur de l'arbre est de {hauteur_arbre:.2f} mètres.\")"
   ]
  },
  {
   "cell_type": "markdown",
   "metadata": {},
   "source": [
    "### Quelle est la hauteur de l'immeuble CD?"
   ]
  },
  {
   "cell_type": "markdown",
   "metadata": {},
   "source": [
    "![elevation](images/immeuble.png)"
   ]
  },
  {
   "cell_type": "code",
   "execution_count": 3,
   "metadata": {},
   "outputs": [
    {
     "name": "stdout",
     "output_type": "stream",
     "text": [
      "La hauteur de l'immeuble est de 53.09 mètres.\n"
     ]
    }
   ],
   "source": [
    "import math\n",
    "\n",
    "h = 30\n",
    "h += 40 * math.tan(math.radians(30))\n",
    "print(f\"La hauteur de l'immeuble est de {h:.2f} mètres.\")"
   ]
  },
  {
   "cell_type": "markdown",
   "metadata": {},
   "source": [
    "### Quelle est la distance entre les deux bateaux, arrondie au mètre le plus près."
   ]
  },
  {
   "cell_type": "markdown",
   "metadata": {},
   "source": [
    "![elevation](images/bateaux.png)"
   ]
  },
  {
   "cell_type": "code",
   "execution_count": 7,
   "metadata": {},
   "outputs": [
    {
     "name": "stdout",
     "output_type": "stream",
     "text": [
      "La distance entre le bateau bleu et le bateau rouge est de 34 mètres.\n"
     ]
    }
   ],
   "source": [
    "import math\n",
    "\n",
    "bateau_bleu = 60 / math.tan(math.radians(39))\n",
    "bateau_rouge = 60 / math.tan(math.radians(29))\n",
    "\n",
    "print(f\"La distance entre le bateau bleu et le bateau rouge est de {round( bateau_rouge - bateau_bleu)} mètres.\")\n"
   ]
  }
 ],
 "metadata": {
  "kernelspec": {
   "display_name": "base",
   "language": "python",
   "name": "python3"
  },
  "language_info": {
   "codemirror_mode": {
    "name": "ipython",
    "version": 3
   },
   "file_extension": ".py",
   "mimetype": "text/x-python",
   "name": "python",
   "nbconvert_exporter": "python",
   "pygments_lexer": "ipython3",
   "version": "3.11.7"
  }
 },
 "nbformat": 4,
 "nbformat_minor": 2
}
