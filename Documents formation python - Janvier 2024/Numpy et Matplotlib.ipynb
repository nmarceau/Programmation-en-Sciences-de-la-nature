{
 "cells": [
  {
   "cell_type": "markdown",
   "metadata": {
    "id": "6O3rN2XHfN8f"
   },
   "source": [
    "# tableaux avancés avec Numpy"
   ]
  },
  {
   "cell_type": "markdown",
   "metadata": {
    "id": "VCHXO_02fSeF"
   },
   "source": [
    "Nous avons vu précédemment comment créer un tableau contenant des nombres, soit avec une liste, un tuple ou un dictionnaire.\n",
    "Numpy est une librairie qui permet de créer des tableaux avec des fonctionnalités avancées pour le calcul. Elle permet aussi de créer des vecteurs et des matrices avec les opérations associées.\n",
    "\n",
    "Tout d'abord, un retour sur les listes"
   ]
  },
  {
   "cell_type": "code",
   "execution_count": null,
   "metadata": {
    "id": "JBIjET8rfC5H"
   },
   "outputs": [],
   "source": [
    "liste = [1,2,3,4,5]"
   ]
  },
  {
   "cell_type": "code",
   "execution_count": null,
   "metadata": {
    "id": "ZPqO2gg-fkvw"
   },
   "outputs": [],
   "source": [
    "print(sum(liste))"
   ]
  },
  {
   "cell_type": "code",
   "execution_count": null,
   "metadata": {
    "id": "oTNpZHckgZ50"
   },
   "outputs": [],
   "source": [
    "print(mean(liste))"
   ]
  },
  {
   "cell_type": "markdown",
   "metadata": {
    "id": "usEN2BYLgc1o"
   },
   "source": [
    "Supposons qu'on veuille créer une deuxième liste où tous les éléments sont au carré (on verra bientôt ça pourra servir à quoi).\n"
   ]
  },
  {
   "cell_type": "code",
   "execution_count": null,
   "metadata": {
    "id": "l5YgeS6kgmZw"
   },
   "outputs": [],
   "source": [
    "liste2 = []  # pour créer une deuxième liste\n",
    "for i in range(len(liste)):\n",
    "  liste2.append(liste[i]**2)\n",
    "\n",
    "print(liste2)"
   ]
  },
  {
   "cell_type": "markdown",
   "metadata": {
    "id": "AFCdEvfuh-4k"
   },
   "source": [
    "Ceci peut se faire beaucoup plus simplement avec numpy"
   ]
  },
  {
   "cell_type": "code",
   "execution_count": null,
   "metadata": {
    "id": "EWZA6KS4g5PV"
   },
   "outputs": [],
   "source": [
    "import numpy as np\n",
    "\n",
    "liste = np.array([1, 2, 3, 4, 5])\n",
    "liste2 = liste**2\n",
    "\n",
    "print(liste2)"
   ]
  },
  {
   "cell_type": "markdown",
   "metadata": {
    "id": "yaqxjBV0jqqb"
   },
   "source": [
    "On peut aussi calculer"
   ]
  },
  {
   "cell_type": "code",
   "execution_count": null,
   "metadata": {
    "id": "VjNVvb7blJfR"
   },
   "outputs": [],
   "source": [
    "print(liste.mean())\n",
    "print(liste.std())\n",
    "print(liste.std(ddof=1))"
   ]
  },
  {
   "cell_type": "markdown",
   "metadata": {
    "id": "gtWPRhOnlZr1"
   },
   "source": [
    "# Tracer des graphiques avec Matplotlib"
   ]
  },
  {
   "cell_type": "markdown",
   "metadata": {
    "id": "k0cRrK_-llsr"
   },
   "source": [
    "Il existe de nombreuses librairies en Python pour tracer des graphiques :     \n",
    "- matplotlib\n",
    "- seaborn\n",
    "- plotly\n",
    "- bokeh\n",
    "- etc.\n",
    "\n",
    "La plus commune et de base est matplolib."
   ]
  },
  {
   "cell_type": "code",
   "execution_count": null,
   "metadata": {
    "id": "O_OISjdXmGN6"
   },
   "outputs": [],
   "source": []
  },
  {
   "cell_type": "markdown",
   "metadata": {
    "id": "9iRemipymV84"
   },
   "source": [
    "On va tracer le graphique de la fonction $f(x)=x^2$. Pour le faire, il faut fournir à matplotlib une série de points, avec leurs coordonnées en x et en y. Le graphique sera simplement une série de segments de droites entre ces points."
   ]
  },
  {
   "cell_type": "code",
   "execution_count": null,
   "metadata": {
    "id": "PZSw28LCm3MW"
   },
   "outputs": [],
   "source": []
  },
  {
   "cell_type": "code",
   "execution_count": null,
   "metadata": {
    "id": "kBp1c2yunALL"
   },
   "outputs": [],
   "source": []
  },
  {
   "cell_type": "markdown",
   "metadata": {
    "id": "USXmXCf6l6S9"
   },
   "source": [
    "On peut tracer plusieurs courbes sur un même graphique"
   ]
  },
  {
   "cell_type": "code",
   "execution_count": null,
   "metadata": {
    "id": "c7_Jlpnyl_6i"
   },
   "outputs": [],
   "source": []
  },
  {
   "cell_type": "markdown",
   "metadata": {
    "id": "msiLCvVckKza"
   },
   "source": [
    "Si les données sont des données de laboratoire, elles ne sont pas données par une fonction, mais plutôt par des valeurs numériques. Par exemple la position d'un mobile à un temps donné"
   ]
  },
  {
   "cell_type": "code",
   "execution_count": null,
   "metadata": {
    "id": "-Dw3SiB2knCQ"
   },
   "outputs": [],
   "source": [
    "\n",
    "T = np.array([0, 0.1, 0.2, 0.3, 0.5, 0.7, 0.9, 1])\n",
    "\n",
    "X = np.array([5, 4, 3.6, 3.4, 3.8, 3.9, 4.3, 4.5])\n",
    "\n",
    "plt.plot(T, X)\n",
    "plt.show()"
   ]
  },
  {
   "cell_type": "markdown",
   "metadata": {
    "id": "IsNYm8s2lOpR"
   },
   "source": [
    "On peut aussi faire des histogrammes pour des séries de données"
   ]
  },
  {
   "cell_type": "code",
   "execution_count": 9,
   "metadata": {
    "colab": {
     "base_uri": "https://localhost:8080/"
    },
    "executionInfo": {
     "elapsed": 173,
     "status": "ok",
     "timestamp": 1705031401333,
     "user": {
      "displayName": "Olivier Rousseau",
      "userId": "13667766751933395199"
     },
     "user_tz": 300
    },
    "id": "2himXTb9lT6v",
    "outputId": "b53482de-eaa0-40ca-8bbd-2a02c836f344"
   },
   "outputs": [
    {
     "name": "stdout",
     "output_type": "stream",
     "text": [
      "[0.85775114 0.95593512 0.80264828 0.39723912 0.39910801 0.23739946\n",
      " 0.58851617 0.74051214 0.76471367 0.7135617  0.67692886 0.30619873\n",
      " 0.76706048 0.98631182 0.9034457  0.94123699 0.31047485 0.51462974\n",
      " 0.04020304 0.65085587 0.11904189 0.76111141 0.01029908 0.83582846\n",
      " 0.53972551 0.20364633 0.21251907 0.64698654 0.83148632 0.99468287\n",
      " 0.88350951 0.67820511 0.19680692 0.71349322 0.6989945  0.75081776\n",
      " 0.24029449 0.35648022 0.56840213 0.51302408 0.73373    0.1572796\n",
      " 0.72449702 0.38502495 0.11925309 0.09506189 0.0748959  0.82687263\n",
      " 0.7541895  0.96150037 0.01635969 0.34890657 0.452972   0.30937114\n",
      " 0.16865002 0.67161926 0.26640426 0.10091893 0.65579787 0.56622064\n",
      " 0.41124439 0.58562257 0.18579863 0.49566004 0.6017067  0.72881124\n",
      " 0.31665162 0.40750208 0.8695375  0.40147623 0.10343971 0.11937101\n",
      " 0.13053288 0.32839552 0.52836951 0.07159544 0.57294951 0.22566847\n",
      " 0.67955475 0.90207401 0.39958843 0.71978939 0.05357077 0.34472278\n",
      " 0.56854745 0.26854715 0.33872736 0.64714101 0.29913708 0.68812933\n",
      " 0.78243293 0.66452873 0.56994887 0.49805618 0.29234655 0.11453917\n",
      " 0.74194069 0.89895718 0.35070769 0.23081949]\n"
     ]
    }
   ],
   "source": [
    "import numpy.random as npr\n",
    "\n",
    "nombres = npr.rand(100)\n",
    "\n",
    "print(nombres)"
   ]
  },
  {
   "cell_type": "code",
   "execution_count": 7,
   "metadata": {
    "colab": {
     "base_uri": "https://localhost:8080/",
     "height": 196
    },
    "executionInfo": {
     "elapsed": 191,
     "status": "error",
     "timestamp": 1705031258390,
     "user": {
      "displayName": "Olivier Rousseau",
      "userId": "13667766751933395199"
     },
     "user_tz": 300
    },
    "id": "89DC-qXYlf52",
    "outputId": "8619050c-4514-43f8-aa1c-3c71b8fda38a"
   },
   "outputs": [
    {
     "ename": "NameError",
     "evalue": "name 'nombres' is not defined",
     "output_type": "error",
     "traceback": [
      "\u001b[0;31m---------------------------------------------------------------------------\u001b[0m",
      "\u001b[0;31mNameError\u001b[0m                                 Traceback (most recent call last)",
      "\u001b[0;32m<ipython-input-7-60ac6d19d92b>\u001b[0m in \u001b[0;36m<cell line: 1>\u001b[0;34m()\u001b[0m\n\u001b[0;32m----> 1\u001b[0;31m \u001b[0mplt\u001b[0m\u001b[0;34m.\u001b[0m\u001b[0mhist\u001b[0m\u001b[0;34m(\u001b[0m\u001b[0mnombres\u001b[0m\u001b[0;34m)\u001b[0m\u001b[0;34m\u001b[0m\u001b[0;34m\u001b[0m\u001b[0m\n\u001b[0m\u001b[1;32m      2\u001b[0m \u001b[0mplt\u001b[0m\u001b[0;34m.\u001b[0m\u001b[0mshow\u001b[0m\u001b[0;34m(\u001b[0m\u001b[0;34m)\u001b[0m\u001b[0;34m\u001b[0m\u001b[0;34m\u001b[0m\u001b[0m\n",
      "\u001b[0;31mNameError\u001b[0m: name 'nombres' is not defined"
     ]
    }
   ],
   "source": [
    "plt.hist(nombres)\n",
    "plt.show()"
   ]
  },
  {
   "cell_type": "code",
   "execution_count": null,
   "metadata": {
    "id": "uGJFeEvLlicY"
   },
   "outputs": [],
   "source": [
    "nombres = npr.normal(100, 15, 100)\n",
    "plt.hist(nombres)\n",
    "plt.show()"
   ]
  },
  {
   "cell_type": "code",
   "execution_count": 4,
   "metadata": {
    "executionInfo": {
     "elapsed": 202,
     "status": "ok",
     "timestamp": 1705031133327,
     "user": {
      "displayName": "Olivier Rousseau",
      "userId": "13667766751933395199"
     },
     "user_tz": 300
    },
    "id": "ywkMToD3xeVW"
   },
   "outputs": [],
   "source": [
    "\n"
   ]
  },
  {
   "cell_type": "markdown",
   "metadata": {
    "id": "GJZF3e2Glywi"
   },
   "source": [
    "On pourrait ajouter la courbe de la loi normale sur le graphique."
   ]
  },
  {
   "cell_type": "code",
   "execution_count": null,
   "metadata": {
    "id": "6v7-3CSwlqzc"
   },
   "outputs": [],
   "source": []
  },
  {
   "cell_type": "markdown",
   "metadata": {
    "id": "264OmwKpyOA1"
   },
   "source": [
    "Autre exemple, on lance des dés"
   ]
  },
  {
   "cell_type": "code",
   "execution_count": 14,
   "metadata": {
    "executionInfo": {
     "elapsed": 278,
     "status": "ok",
     "timestamp": 1705031515428,
     "user": {
      "displayName": "Olivier Rousseau",
      "userId": "13667766751933395199"
     },
     "user_tz": 300
    },
    "id": "nsyQ1urhyRKt"
   },
   "outputs": [],
   "source": [
    "des = npr.randint(1, 7, 100)  # Le dernier est exclu!\n",
    "valeur, nombre = np.unique(des, return_counts=True)\n"
   ]
  },
  {
   "cell_type": "code",
   "execution_count": null,
   "metadata": {
    "id": "j6oxK7IAyk28"
   },
   "outputs": [],
   "source": []
  }
 ],
 "metadata": {
  "colab": {
   "authorship_tag": "ABX9TyOL+53w1Isq9neE4A2XTofQ",
   "provenance": []
  },
  "kernelspec": {
   "display_name": "Python 3 (ipykernel)",
   "language": "python",
   "name": "python3"
  },
  "language_info": {
   "codemirror_mode": {
    "name": "ipython",
    "version": 3
   },
   "file_extension": ".py",
   "mimetype": "text/x-python",
   "name": "python",
   "nbconvert_exporter": "python",
   "pygments_lexer": "ipython3",
   "version": "3.11.7"
  }
 },
 "nbformat": 4,
 "nbformat_minor": 4
}
