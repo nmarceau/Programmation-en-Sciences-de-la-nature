{
 "cells": [
  {
   "cell_type": "markdown",
   "metadata": {},
   "source": [
    "## Le triplet pythagoricien\n",
    "\n",
    "Soit un tableau de 3 entiers positifs $n1, n2, n3$, déterminer s'il est possible de former un triangle rectangle en utilisant ces 3 entiers.\n",
    "\n",
    "Un triplet pythagoricien consiste à vérifier si 3 entiers satisfont cette équation :\n",
    "\n",
    "$$a^2 + b^2 = c^2$$\n",
    "\n",
    "Exemples :\n",
    "\n",
    "- [5, 3, 4] : il est possible de former un triplet pythagoricien en utilisant ces 3 entiers : $3^2 + 4^2 = 5^2$\n",
    "- [3, 4, 5] : il est possible de former un triplet pythagoricien en utilisant ces 3 entiers : $3^2 + 4^2 = 5^2$\n",
    "- [13, 12, 5] : il est possible de former un triplet pythagoricien en utilisant ces 3 entiers : $5^2 + 12^2 = 13^2$\n",
    "- [100, 3, 999] : il N'EST PAS possible de former un triplet pythagoricien en utilisant ces 3 entiers, car il est impossible de satisfaire l'équation a$^2 + b^2 = c^2$"
   ]
  },
  {
   "cell_type": "code",
   "execution_count": 11,
   "metadata": {},
   "outputs": [
    {
     "name": "stdout",
     "output_type": "stream",
     "text": [
      "Test 1: True  (== True)\n",
      "Test 2: True  (== True)\n",
      "Test 3: True  (== True)\n",
      "Test 4: True  (== True)\n",
      "Test 5: False (== False)\n",
      "Test 6: True  (== True)\n",
      "Test 7: False (== False)\n"
     ]
    }
   ],
   "source": [
    "def est_triplet_pythagore( tableau ):\n",
    "\n",
    "    tableau.sort()\n",
    "    A, B, C = tableau \n",
    "    if A**2 + B**2 == C**2:\n",
    "        return True\n",
    "    return False\n",
    "\n",
    "print(f\"Test 1: {est_triplet_pythagore([3, 4, 5])}  (== True)\")\n",
    "print(f\"Test 2: {est_triplet_pythagore([5, 4, 3])}  (== True)\")\n",
    "print(f\"Test 3: {est_triplet_pythagore([16, 30, 34])}  (== True)\")\n",
    "print(f\"Test 4: {est_triplet_pythagore([20, 21, 29])}  (== True)\")\n",
    "print(f\"Test 5: {est_triplet_pythagore([21, 28, 36])} (== False)\")\n",
    "print(f\"Test 6: {est_triplet_pythagore([24, 32, 40])}  (== True)\")\n",
    "print(f\"Test 7: {est_triplet_pythagore([70, 18, 8])} (== False)\")"
   ]
  }
 ],
 "metadata": {
  "kernelspec": {
   "display_name": "base",
   "language": "python",
   "name": "python3"
  },
  "language_info": {
   "codemirror_mode": {
    "name": "ipython",
    "version": 3
   },
   "file_extension": ".py",
   "mimetype": "text/x-python",
   "name": "python",
   "nbconvert_exporter": "python",
   "pygments_lexer": "ipython3",
   "version": "3.11.7"
  }
 },
 "nbformat": 4,
 "nbformat_minor": 2
}
