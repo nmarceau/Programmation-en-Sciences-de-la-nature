{
 "cells": [
  {
   "cell_type": "markdown",
   "metadata": {},
   "source": [
    "### Présentation des chaines de caractères\n",
    "\n",
    "Avec les nombres et les listes, les chaines de caractères sont les éléments informatiques qu'on utilise le plus couramment. Ce sont tout simplement des objets qui représentent du texte. Elles sont entre guillemets (ou apostrophes).\n",
    "\n",
    "`a=\"Ceci est une chaine de caractères\"`\n",
    "`b=\"1+1\"`\n",
    "`c=1+1 `\n",
    "\n",
    "Ainsi, $a$ et $b$ sont des chaines de caractères alors que $c$ est un entier qui vaut `2`."
   ]
  },
  {
   "cell_type": "code",
   "execution_count": 33,
   "metadata": {},
   "outputs": [
    {
     "name": "stdout",
     "output_type": "stream",
     "text": [
      "7\n",
      "A\n",
      "j\n",
      "t\n",
      "jacta\n",
      "Alea\n",
      "jacta est\n",
      "ViveLes Mathématiques\n",
      "La valeur de c est 2\n",
      "7\n",
      "Monsieur, j'ai pas compris ! Monsieur, j'ai pas compris ! Monsieur, j'ai pas compris ! Monsieur, j'ai pas compris ! Monsieur, j'ai pas compris ! \n",
      "True\n",
      "True\n",
      "False\n",
      "a est une voyelle\n",
      "2\n",
      "5\n",
      "1\n",
      "13\n",
      "6\n",
      "2\n",
      "3\n",
      "Une fonction très pratique si vous répétez trop les t\n",
      "97\n",
      "65\n",
      "35\n",
      "A\n",
      "a\n",
      "#\n",
      "f\n"
     ]
    }
   ],
   "source": [
    "print(len(\"abc def\"))\n",
    "\n",
    "print(\"Alea jacta est\"[0])\n",
    "print(\"Alea jacta est\"[5])\n",
    "print(\"Alea jacta est\"[-1])\n",
    "\n",
    "print(\"Alea jacta est\"[5:10])\n",
    "print(\"Alea jacta est\"[:4])\n",
    "print(\"Alea jacta est\"[5:])\n",
    "\n",
    "texte1=\"Vive\"\n",
    "texte2=\"Les Mathématiques\"\n",
    "print(texte1+texte2)\n",
    "\n",
    "c = 1 + 1\n",
    "print(\"La valeur de c est \"+str(c))\n",
    "\n",
    "# On récupère le chiffre d'indice 4 c'est à dire le cinquième :\n",
    "n = 133675184\n",
    "chiffre = str(n)[4] \n",
    "print(chiffre)\n",
    "\n",
    "texte = \"Monsieur, j'ai pas compris ! \"\n",
    "print(texte*5)\n",
    "\n",
    "texte = \"C'est un trou de verdure où chante une rivière\"\n",
    "print(\"chante\" in texte)\n",
    "print(\"dur\" in texte)\n",
    "print(\"eau\" in texte)\n",
    "\n",
    "lettre = \"a\"\n",
    "\n",
    "if lettre in \"aeiouy\":\n",
    "  print(lettre + \" est une voyelle\")\n",
    "else :\n",
    "  print(lettre + \" n'est pas une voyelle\")\n",
    "\n",
    "texte = \"Quatre bonbons à 25 cents chacun coûtent 1 dollar.\"\n",
    "for caractere in texte:\n",
    "    if caractere in \"0123456789\":\n",
    "        print(caractere)\n",
    "\n",
    "texte=\"J'ai posé ma brosse sur le bureau\"\n",
    "print(texte.find(\"brosse\"))\n",
    "print(texte.find(\"o\"))\n",
    "\n",
    "texte=\"J'ai posé ma brosse sur le bureau\"\n",
    "print(texte.count(\"os\"))\n",
    "print(texte.count(\"e\"))\n",
    "\n",
    "texte= \"Une foncttttion ttttrès prattttique si vous répéttttez ttttrop les tttt\"\n",
    "print(texte.replace(\"tttt\",\"t\"))\n",
    "\n",
    "print(ord(\"a\"))\n",
    "print(ord(\"A\"))\n",
    "print(ord(\"#\"))\n",
    "\n",
    "print(chr(65))\n",
    "print(chr(97))\n",
    "print(chr(35))\n",
    "\n",
    "car = \"e\"\n",
    "numero = ord(car)\n",
    "nouveau_car = chr(numero+1)\n",
    "print(nouveau_car)"
   ]
  },
  {
   "cell_type": "markdown",
   "metadata": {},
   "source": [
    "### Exercice 1\n",
    "Pour un nombre n donné, énumérez ses chiffres."
   ]
  },
  {
   "cell_type": "code",
   "execution_count": null,
   "metadata": {},
   "outputs": [],
   "source": [
    "n = 2**100\n",
    "\n",
    "for chiffre in str(n):\n",
    "    print(chiffre)"
   ]
  },
  {
   "cell_type": "markdown",
   "metadata": {},
   "source": [
    "### Exercice 2\n",
    "Pour un texte donné, créer un programme qui affiche le nombre de voyelles."
   ]
  },
  {
   "cell_type": "code",
   "execution_count": null,
   "metadata": {},
   "outputs": [],
   "source": [
    "texte = \"Lorem ipsum dolor sit amet, consectetur adipiscing elit...\"\n",
    "\n",
    "ctr = 0\n",
    "for lettre in texte:\n",
    "    if lettre.lower() in \"aeiouy\":\n",
    "        ctr += 1\n",
    "\n",
    "print(ctr)\n",
    "\n",
    "print(sum([texte.lower().count(v) for v in \"aeiouy\"]))"
   ]
  },
  {
   "cell_type": "markdown",
   "metadata": {},
   "source": [
    "### Exercice 3\n",
    "Pour un texte donné, créer un programme qui affiche l'indice de tous les \"e\" dans ce texte."
   ]
  },
  {
   "cell_type": "code",
   "execution_count": null,
   "metadata": {},
   "outputs": [],
   "source": [
    "texte = \"Lorem ipsum dolor sit amet, consectetur adipiscing elit. Aenean at accumsan nisl, ac aliquet tellus. Sed maximus leo lacus, nec pulvinar purus maximus vel. Morbi sagittis suscipit risus, sed luctus metus bibendum vitae. Sed ac odio dignissim, efficitur ipsum eu, imperdiet ante. Sed eu lobortis nulla, placerat fermentum purus. Cras sollicitudin metus et imperdiet condimentum. Nulla a sapien sollicitudin nunc tincidunt interdum. Praesent elementum dolor id lacus lacinia, eu viverra arcu molestie. In nec neque ac ligula posuere gravida. Nulla maximus augue in consequat viverra. Integer euismod nibh a elit ullamcorper venenatis. In egestas, urna quis congue aliquam, risus lacus mollis nibh, sed venenatis dui lorem sed eros. Aliquam erat volutpat. Sed sagittis quam sed vestibulum ultricies. Cras sit amet efficitur nunc. Pellentesque mattis fermentum dui, finibus sagittis lacus sollicitudin quis. Praesent luctus pharetra nunc, vitae commodo ante laoreet sed. Sed eu lectus lectus. Nam luctus nisi quis porta fringilla. Quisque a tempus lectus. Cras at mauris tincidunt, volutpat eros vel, venenatis urna. Integer et tellus ut dui vulputate interdum ut id nunc.\"\n",
    "\n",
    "indice = 0\n",
    "for caractere in texte:\n",
    "    if caractere == \"e\":\n",
    "        print(indice)\n",
    "    indice += 1 "
   ]
  }
 ],
 "metadata": {
  "kernelspec": {
   "display_name": "base",
   "language": "python",
   "name": "python3"
  },
  "language_info": {
   "codemirror_mode": {
    "name": "ipython",
    "version": 3
   },
   "file_extension": ".py",
   "mimetype": "text/x-python",
   "name": "python",
   "nbconvert_exporter": "python",
   "pygments_lexer": "ipython3",
   "version": "3.11.7"
  }
 },
 "nbformat": 4,
 "nbformat_minor": 2
}
