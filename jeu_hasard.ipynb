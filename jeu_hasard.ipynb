{
 "cells": [
  {
   "cell_type": "markdown",
   "metadata": {},
   "source": [
    "Écrire un jeu dans lequel votre programme choisit aléatoirement un nombre entre 1 et 100, et essayer de trouver ce nombre en 10 étapes (avec la fonction input). Appuyer sur Ok pour retourner une valeur."
   ]
  },
  {
   "cell_type": "code",
   "execution_count": 2,
   "metadata": {},
   "outputs": [],
   "source": [
    "import random\n",
    "\n",
    "hasard = random.randint(1, 101) # nombre aléatoire entre 1 et 100\n",
    "nombre = int(input(\"Entrez un nombre\"))\n",
    "\n",
    "ctr = 0\n",
    "while nombre != hasard and ctr < 10:\n",
    "    if nombre < hasard:\n",
    "        print(\"Trop petit\")\n",
    "    else:\n",
    "        print(\"Trop grand\")\n",
    "    nombre = int(input(\"Entrez un nombre\"))\n",
    "\n",
    "if ctr < 10:\n",
    "    print(\"Bravo, vous avez trouvé le nombre\")\n",
    "else:\n",
    "    print(\"Perdu, le nombre était\", hasard)"
   ]
  }
 ],
 "metadata": {
  "kernelspec": {
   "display_name": "base",
   "language": "python",
   "name": "python3"
  },
  "language_info": {
   "codemirror_mode": {
    "name": "ipython",
    "version": 3
   },
   "file_extension": ".py",
   "mimetype": "text/x-python",
   "name": "python",
   "nbconvert_exporter": "python",
   "pygments_lexer": "ipython3",
   "version": "3.11.7"
  }
 },
 "nbformat": 4,
 "nbformat_minor": 2
}
