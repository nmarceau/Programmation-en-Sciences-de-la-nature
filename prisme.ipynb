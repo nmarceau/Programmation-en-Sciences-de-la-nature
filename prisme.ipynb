{
 "cells": [
  {
   "cell_type": "markdown",
   "metadata": {},
   "source": [
    "Le volume d'un prisme droit à base rectngulaire est de $30 cm^3$ et sa hauteur de 5 cm.\n",
    "\n",
    "Quels sont les valeurs de la profondeur P en cm pour les longueurs L suivantes; 0.25, 0.5, 1, 2, 3, 4, 5, 6, 10, 15"
   ]
  },
  {
   "cell_type": "code",
   "execution_count": 2,
   "metadata": {},
   "outputs": [
    {
     "name": "stdout",
     "output_type": "stream",
     "text": [
      "[24.0, 12.0, 6.0, 3.0, 2.0, 1.5, 1.2, 1.0, 0.6, 0.4]\n"
     ]
    }
   ],
   "source": [
    "def caluler_profondeur( longueur ):\n",
    "    return 30 / 5 / longueur\n",
    "\n",
    "longueur = [0.25, 0.5, 1, 2, 3, 4, 5, 6, 10, 15]\n",
    "profondeur = []\n",
    "for l in longueur:\n",
    "    profondeur.append(caluler_profondeur(l))\n",
    "\n",
    "print(profondeur)"
   ]
  }
 ],
 "metadata": {
  "kernelspec": {
   "display_name": "base",
   "language": "python",
   "name": "python3"
  },
  "language_info": {
   "codemirror_mode": {
    "name": "ipython",
    "version": 3
   },
   "file_extension": ".py",
   "mimetype": "text/x-python",
   "name": "python",
   "nbconvert_exporter": "python",
   "pygments_lexer": "ipython3",
   "version": "3.11.7"
  }
 },
 "nbformat": 4,
 "nbformat_minor": 2
}
