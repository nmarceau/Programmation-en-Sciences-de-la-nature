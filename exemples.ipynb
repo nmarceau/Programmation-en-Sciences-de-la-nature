{
 "cells": [
  {
   "cell_type": "code",
   "execution_count": 4,
   "metadata": {
    "collapsed": false
   },
   "outputs": [
    {
     "data": {
      "text/plain": [
       "2.0"
      ]
     },
     "execution_count": 4,
     "metadata": {},
     "output_type": "execute_result"
    }
   ],
   "source": [
    "import math\n",
    "nombre = int(input(\"Entrez un nombre : \"))\n",
    "math.sqrt(nombre)\n"
   ]
  },
  {
   "cell_type": "markdown",
   "metadata": {},
   "source": [
    "Effectuer les calculs suivants\n",
    "$$\\sqrt{(2.3^2)(4.5^2)}$$\n",
    "$$   $$\n",
    "$$11.3^4 + 5.1^6$$\n",
    "$$  $$\n",
    "$$\\sqrt[3]{21.6}$$\n"
   ]
  },
  {
   "cell_type": "code",
   "execution_count": 8,
   "metadata": {
    "collapsed": false
   },
   "outputs": [
    {
     "name": "stdout",
     "output_type": "stream",
     "text": [
      "10.35\n",
      "10.35\n",
      "33901.02390099999\n",
      "2.7849533001676674\n"
     ]
    }
   ],
   "source": [
    "import math\n",
    "\n",
    "print((2.3**2*4.5**2)**.5) \n",
    "\n",
    "print(math.sqrt(2.3**2 * 4.5**2)) \n",
    "\n",
    "print(11.3**4 + 5.1**6) \n",
    "\n",
    "print(21.6**(1/3)) \n",
    "\n"
   ]
  },
  {
   "cell_type": "markdown",
   "metadata": {},
   "source": [
    "We will primarily be interested in matrix algebra.  So it will be useful to know how to define matrices and how to treat them as objects that can be used in computations.\n",
    "\n",
    "Let's say you want to define the following 3x3 matrix:\n",
    "$$A=\\left( \\begin{array}{ccc}\n",
    "1.25 & 2 & .5 \\\\\n",
    "5 & 13 & .4 \\\\\n",
    "6 & .9 & .4 \\end{array} \\right).\n",
    "$$"
   ]
  },
  {
   "cell_type": "code",
   "execution_count": 10,
   "metadata": {
    "collapsed": false
   },
   "outputs": [
    {
     "data": {
      "text/latex": [
       "$\\displaystyle \\left[\\begin{matrix}1.25 & 2 & 0.5\\\\5 & 13 & 0.4\\\\6 & 0.9 & 0.4\\end{matrix}\\right]$"
      ],
      "text/plain": [
       "Matrix([\n",
       "[1.25,   2, 0.5],\n",
       "[   5,  13, 0.4],\n",
       "[   6, 0.9, 0.4]])"
      ]
     },
     "execution_count": 10,
     "metadata": {},
     "output_type": "execute_result"
    }
   ],
   "source": [
    "import sympy\n",
    "A = sympy.Matrix([[1.25,2,.5],[5,13,.4],[6,.9,.4]])\n",
    "A                                                   "
   ]
  },
  {
   "cell_type": "markdown",
   "metadata": {},
   "source": [
    "Calculer $A^2, A^{5}$ "
   ]
  },
  {
   "cell_type": "code",
   "execution_count": 14,
   "metadata": {
    "collapsed": false
   },
   "outputs": [
    {
     "data": {
      "text/latex": [
       "$\\displaystyle \\left[\\begin{matrix}14.5625 & 28.95 & 1.625\\\\73.65 & 179.36 & 7.86\\\\14.4 & 24.06 & 3.52\\end{matrix}\\right]$"
      ],
      "text/plain": [
       "Matrix([\n",
       "[14.5625,  28.95, 1.625],\n",
       "[  73.65, 179.36,  7.86],\n",
       "[   14.4,  24.06,  3.52]])"
      ]
     },
     "execution_count": 14,
     "metadata": {},
     "output_type": "execute_result"
    }
   ],
   "source": [
    "A**2"
   ]
  },
  {
   "cell_type": "code",
   "execution_count": 15,
   "metadata": {
    "collapsed": false
   },
   "outputs": [
    {
     "data": {
      "text/latex": [
       "$\\displaystyle \\left[\\begin{matrix}32766.8981328125 & 78457.50614375 & 3547.850928125\\\\199793.62195625 & 478579.311595 & 21617.1507625\\\\27974.78475 & 66887.8722 & 3032.95342\\end{matrix}\\right]$"
      ],
      "text/plain": [
       "Matrix([\n",
       "[32766.8981328125, 78457.50614375, 3547.850928125],\n",
       "[ 199793.62195625,  478579.311595,  21617.1507625],\n",
       "[     27974.78475,     66887.8722,     3032.95342]])"
      ]
     },
     "execution_count": 15,
     "metadata": {},
     "output_type": "execute_result"
    }
   ],
   "source": [
    "A**5"
   ]
  }
 ],
 "metadata": {
  "kernelspec": {
   "display_name": "Python 3",
   "language": "python",
   "name": "python3"
  },
  "language_info": {
   "codemirror_mode": {
    "name": "ipython",
    "version": 3
   },
   "file_extension": ".py",
   "mimetype": "text/x-python",
   "name": "python",
   "nbconvert_exporter": "python",
   "pygments_lexer": "ipython3",
   "version": "3.11.7"
  },
  "name": "Math 224 Intro to IPython.ipynb"
 },
 "nbformat": 4,
 "nbformat_minor": 0
}
