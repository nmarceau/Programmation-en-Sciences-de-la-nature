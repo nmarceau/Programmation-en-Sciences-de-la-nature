{
 "cells": [
  {
   "cell_type": "markdown",
   "metadata": {},
   "source": [
    "# Découverte des fonctions"
   ]
  },
  {
   "cell_type": "markdown",
   "metadata": {},
   "source": [
    "## Analogie avec les mathématiques"
   ]
  },
  {
   "cell_type": "markdown",
   "metadata": {},
   "source": [
    "Pour créer une fonction sous Python, au sens mathématique ou pas, on utilise le mot clé `def` pour définir notre fonction. Regardez l'exemple qui suit."
   ]
  },
  {
   "cell_type": "code",
   "execution_count": null,
   "metadata": {
    "collapsed": false
   },
   "outputs": [],
   "source": [
    "def f(x):\n",
    "    y=3*x-2\n",
    "    return y\n",
    "\n",
    "print(f(2))"
   ]
  },
  {
   "cell_type": "markdown",
   "metadata": {},
   "source": [
    "Arrêtons-nous un moment sur ce code : \n",
    "- On reconnaît le mot clé `def` dont on vient de parler. On le fait suivre du nom de la fonction - ici **f** - suivi par les arguments que cette fonction prend en entrée entre parenthèse - ici un seul argument est passé : `x`.\n",
    "- Pour savoir ou commence et ou finit la fonction, python utilise la notion de bloc. Un bloc\n",
    "  - commence par `:`\n",
    "  - est décalé par rapport au début de la marge\n",
    "  Ainsi notre fonction commence à la ligne `y=`et se finit après le `return`.\n",
    "  \n",
    "  On retrouve encore les fameux blocs qui commencent par `:` et qui sont **décalés par rapport à la marge** que nous avons déjà rencontré dans les tests, les boucles for, while etc... \n",
    "  \n",
    "- La ligne `y=3*x-2` est assez explicite...\n",
    "- La ligne `return y` est importante : c'est elle qui indique ce que doit renvoyer la fonction."
   ]
  },
  {
   "cell_type": "markdown",
   "metadata": {},
   "source": [
    "Il est très facile, une fois une fonction définie d'afficher des valeurs. On tape simplement sur la ligne de saisie ce que l'on écrirait sur notre cahier de maths :"
   ]
  },
  {
   "cell_type": "code",
   "execution_count": null,
   "metadata": {
    "collapsed": false
   },
   "outputs": [],
   "source": [
    "f(5)"
   ]
  },
  {
   "cell_type": "markdown",
   "metadata": {},
   "source": [
    "La fonction *f* est ici un moyen rapide d'exécuter le calcul `y=3*x-2` sans avoir à retaper la formule"
   ]
  },
  {
   "cell_type": "markdown",
   "metadata": {},
   "source": [
    "## Généralisation de la notion de fonction"
   ]
  },
  {
   "cell_type": "markdown",
   "metadata": {},
   "source": [
    "Une fonction au sens Python généralise l'exemple que nous avons vu ci-dessus au sens ou une fonction en programmation est un morceau de code auquel on peut faire appel par un nom.\n",
    "- Une fonction peut prendre un ou plusieurs arguments en entrée (paramètres passés à la fonction)\n",
    "- Une fonction, contrairement à ce qu'on voit en maths, ne retourne pas forcément de valeur. Elle effectue une tâche précise.\n",
    "- Une fonction permet de rendre le code plus facile à lire en séparant un problème complexe en plusieurs taches plus simples pouvant être traitées séparément."
   ]
  },
  {
   "cell_type": "markdown",
   "metadata": {},
   "source": [
    "Observez l'exemple ci-dessous et répondez aux questions posées ensuite :"
   ]
  },
  {
   "cell_type": "code",
   "execution_count": null,
   "metadata": {
    "collapsed": false
   },
   "outputs": [],
   "source": [
    "def table(n,limite):\n",
    "    print(\"Table de multiplication de \",n)\n",
    "    for i in range(1,limite+1):\n",
    "        print(i,\"x\",n,\"=\",i*n)"
   ]
  },
  {
   "cell_type": "markdown",
   "metadata": {},
   "source": [
    "Comment s'appelle la fonction ?\n",
    "\n",
    "Votre réponse ...\n",
    "\n",
    "Quel(s) arguments prend-elle ?\n",
    "\n",
    "...\n",
    "\n",
    "\n",
    "Que retourne t-elle ?\n",
    "\n",
    "...\n",
    "\n",
    "Que fait-elle ?\n",
    "\n",
    "...\n",
    "\n",
    "Appelez cette fonction pour sortir la table de 7 pour des facteurs allant de 1 à 9."
   ]
  },
  {
   "cell_type": "code",
   "execution_count": null,
   "metadata": {
    "collapsed": false
   },
   "outputs": [],
   "source": []
  },
  {
   "cell_type": "markdown",
   "metadata": {},
   "source": [
    "## A vous de jouer"
   ]
  },
  {
   "cell_type": "markdown",
   "metadata": {},
   "source": [
    "En mathématiques, on utilise la fonction ***factorielle*** d'un nombre pour calculer le produit de tous les entiers non nuls entre 1 et ce nombre. Par exemple :\n",
    "\n",
    "Factorielle 5 (que l'on note 5!) se calcule par la formule : $5!=1\\times 2\\times 3\\times 4\\times 5=120$\n",
    "\n",
    "Ecrire une fonction ***factorielle*** prenant en argument un entier et retournant la factorielle de ce nombre."
   ]
  },
  {
   "cell_type": "code",
   "execution_count": null,
   "metadata": {
    "collapsed": false
   },
   "outputs": [],
   "source": []
  },
  {
   "cell_type": "markdown",
   "metadata": {},
   "source": [
    "Vous avez vu en première l'opérateur ***k parmi n*** noté  ${n} \\choose {k}$ permettant de comptabiliser le nombre de chemins menant à **k** succès dans une répétition de **n** expériences Succès/Echec.\n",
    "\n",
    "On peut montrer que ce nombre de chemins peut se calculer facilement au moyen de la fonction factorielle vu plus haut :\n",
    "${n \\choose k }=\\dfrac{n!}{k!(n-k)!}$\n",
    "\n",
    "Ecrire une fonction ***coefbinom*** prenant en argument deux entiers **k** et **n** et retournant la valeur de $n \\choose k$.\n",
    "\n",
    "On pourra faire appel à la fonction ***factorielle*** vue ci-dessus."
   ]
  },
  {
   "cell_type": "code",
   "execution_count": null,
   "metadata": {
    "collapsed": false
   },
   "outputs": [],
   "source": []
  },
  {
   "cell_type": "markdown",
   "metadata": {},
   "source": [
    "Vous voyez que des fonctions peuvent s'appeler enre elles. Le code est ainsi plus concis et plus limpide. On évite les répétitions et on limite les erreurs.\n",
    "\n",
    "Il est donc **fortement** conseillé de les utiliser le plus possible dans vos programmes et votre projet.\n",
    "\n",
    "D'une manière générale, quand vous allez chercher à écrire un programme pour réaliser une tache, **avant d'écrire la moindre ligne de code**, vous allez réfléchir au découpage de votre tache en sous taches qui seront éxécutées chacune par une ou plusieurs fonctions. Une fois la spécification précise de ces fonctions réalisées, alors vous pourrez commencer à écrire ces fonctions, puis votre programme."
   ]
  },
  {
   "cell_type": "markdown",
   "metadata": {},
   "source": [
    "## Conclusion"
   ]
  },
  {
   "cell_type": "markdown",
   "metadata": {},
   "source": [
    "Les fonctions jouent un rôle fondamental en informatique. Aucun programme n'est écrit d'un bloc. Imaginez un programme comme OpenOffice qui contient plusieurs centaines de milliers de lignes de codes écrites bout à bout sans structure... \n",
    "\n",
    "Vous devrez prendre l'habitude de concevoir vos propres fonctions pour répondre à un problème donné.\n",
    "\n",
    "Plus tard, nous allons voir la notion d'objet qui est apparu au début des années 80 et qui vient encore enrichir ce concept de fonction. Aujourd'hui tous les langages modernes sont orientés Objet. La programmation par objet a permis l'émergence de systèmes d'exploitation offrant des interfaces graphiques évoluées (Linux, MacOs...). \n",
    "\n",
    "Vous allez vous-même manipuler des objets quand vous allez découvrir la programmation d'interfaces graphiques pour vos projets."
   ]
  }
 ],
 "metadata": {
  "kernelspec": {
   "display_name": "Python 3",
   "language": "python",
   "name": "python3"
  },
  "language_info": {
   "codemirror_mode": {
    "name": "ipython",
    "version": 3
   },
   "file_extension": ".py",
   "mimetype": "text/x-python",
   "name": "python",
   "nbconvert_exporter": "python",
   "pygments_lexer": "ipython3",
   "version": "3.4.3"
  }
 },
 "nbformat": 4,
 "nbformat_minor": 0
}
