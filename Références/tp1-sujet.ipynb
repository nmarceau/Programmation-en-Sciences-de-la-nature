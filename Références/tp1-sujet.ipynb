{
 "cells": [
  {
   "cell_type": "markdown",
   "metadata": {},
   "source": [
    "# TP1 : utilisation du notebook Jupyter sous python\n",
    "\n",
    "Ce TP a pour but de se familiariser avec l'environnement de travail Jupyter, ainsi que d'effectuer des rappels sur le langage de programmation python."
   ]
  },
  {
   "cell_type": "markdown",
   "metadata": {},
   "source": [
    "## Exercice 1 : premières manipulations"
   ]
  },
  {
   "cell_type": "markdown",
   "metadata": {},
   "source": [
    "**Question 1 :** Afficher les valeurs de sortie pour les calculs suivants :\n",
    "\n",
    "- le produit de $12345$ par $6789$\n",
    "- le nombre flottant associé à $\\frac{2}{3}$\n",
    "- la quotient et le reste de la division euclidienne de $10^{10}$ par $2022$\n",
    "- la liste des entiers compris entre $-7$ et $42$ (ces deux entiers sont inclus dans la liste) \n",
    "- la somme des $100$ premiers nombres impairs\n",
    "- la concaténation des mots ``Hello`` et ``world`` avec un espace entre ces deux mots \n",
    "- une valeur aléatoire entre $0$ et $999$ (importer la bibliothèque ``random`` de python)\n",
    "\n",
    "On crééra une cellule pour chaque calcul."
   ]
  },
  {
   "cell_type": "code",
   "execution_count": null,
   "metadata": {},
   "outputs": [],
   "source": []
  },
  {
   "cell_type": "code",
   "execution_count": null,
   "metadata": {},
   "outputs": [],
   "source": []
  },
  {
   "cell_type": "code",
   "execution_count": null,
   "metadata": {},
   "outputs": [],
   "source": []
  },
  {
   "cell_type": "markdown",
   "metadata": {},
   "source": [
    "**Question 2 :** Écrivez une fonction itérative ``factorielle(n)`` qui calcule la factorielle d'un entier ``n`` passé en paramètre. Pour cela, vous remplacerez l'instruction ``pass`` ci-dessous, par vos propres lignes de code. Testez ensuite votre fonction avec $n = 0$, $n = 1$, $n = 10$ et $n = 2022$."
   ]
  },
  {
   "cell_type": "code",
   "execution_count": 1,
   "metadata": {},
   "outputs": [],
   "source": [
    "def factorielle(n):\n",
    "    pass"
   ]
  },
  {
   "cell_type": "markdown",
   "metadata": {},
   "source": [
    "**Question 3 :** Écrivez une version récursive de la fonction factorielle, que vous appellerez ``factorielle_rec``. Testez ensuite votre fonction avec les mêmes valeurs que précédemment."
   ]
  },
  {
   "cell_type": "code",
   "execution_count": null,
   "metadata": {},
   "outputs": [],
   "source": []
  },
  {
   "cell_type": "markdown",
   "metadata": {},
   "source": [
    "**Question 4:** Dans la cellule suivante, une fonction est écrite pour calculer le maximum d'une liste.\n",
    "Décommentez la dernière ligne, exécutez la cellule, puis observez ce qui est affiché. Essayez ensuite de corriger l'erreur pour obtenir le bon résultat."
   ]
  },
  {
   "cell_type": "code",
   "execution_count": 2,
   "metadata": {},
   "outputs": [],
   "source": [
    "def ma_fonction(L):\n",
    "    m = 0\n",
    "    i = 0\n",
    "    n = len(L)\n",
    "    while i <= n:\n",
    "        if L[i] > m:\n",
    "            m = L[i]\n",
    "        i += 1\n",
    "    return m\n",
    "\n",
    "# ma_fonction([13, 12, 42, -37])"
   ]
  }
 ],
 "metadata": {
  "kernelspec": {
   "display_name": "Python 3 (ipykernel)",
   "language": "python",
   "name": "python3"
  },
  "language_info": {
   "codemirror_mode": {
    "name": "ipython",
    "version": 3
   },
   "file_extension": ".py",
   "mimetype": "text/x-python",
   "name": "python",
   "nbconvert_exporter": "python",
   "pygments_lexer": "ipython3",
   "version": "3.9.2"
  }
 },
 "nbformat": 4,
 "nbformat_minor": 4
}
