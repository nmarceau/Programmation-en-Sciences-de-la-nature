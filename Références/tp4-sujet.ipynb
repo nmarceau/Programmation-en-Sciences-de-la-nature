{
 "cells": [
  {
   "cell_type": "markdown",
   "metadata": {},
   "source": [
    "# TP 4\n",
    "\n",
    "Lundi 14 février 2022"
   ]
  },
  {
   "cell_type": "markdown",
   "metadata": {},
   "source": [
    "## Exercice 1 : palindrome\n",
    "\n",
    "Un *palidrome* est un mot, ou une phrase, qui se lit indentiquement dans les deux sens. Par exemple, les mots \"radar\", \"kayak\" ou \"naan\" sont des palindromes."
   ]
  },
  {
   "cell_type": "markdown",
   "metadata": {},
   "source": [
    "**Question 1 :** Écrire une fonction ``est_palindrome(mot)``  qui teste si la chaîne de caractère ``mot`` est (ou non) un palindrome. Pour cela, on pourra utiliser le mot-clef ``all``."
   ]
  },
  {
   "cell_type": "code",
   "execution_count": null,
   "metadata": {},
   "outputs": [],
   "source": []
  },
  {
   "cell_type": "markdown",
   "metadata": {},
   "source": [
    "**Question 2 :** Écrire une version récursive ``est_palindrome_rec(mot)``  de la fonction précédente. "
   ]
  },
  {
   "cell_type": "code",
   "execution_count": null,
   "metadata": {},
   "outputs": [],
   "source": []
  },
  {
   "cell_type": "markdown",
   "metadata": {},
   "source": [
    "## Exercice 2 : pgcd et ppcm\n",
    "\n",
    "L'algorithme d'Euclide permet de calculer le plus grand commun diviseur (pgcd) de deux entiers $a$ et $b$."
   ]
  },
  {
   "cell_type": "markdown",
   "metadata": {},
   "source": [
    "**Question 1 :** Implanter une fonction ``pgcd(a, b)`` qui calcule le pgcd de deux entiers ``a`` et  ``b`` grâce à l'algorithme d'Euclide."
   ]
  },
  {
   "cell_type": "code",
   "execution_count": null,
   "metadata": {},
   "outputs": [],
   "source": []
  },
  {
   "cell_type": "markdown",
   "metadata": {},
   "source": [
    "Vérifiez la validité de votre fonction en comparant le résultat avec la fonction ``gcd`` de SageMath (décommentez le code suivant).\n",
    "\n",
    "On rappelle que pour utiliser des fonctions spécifiques de SageMath, il faut que ce logiciel soit bien lancé (vérifiez que, sur la barre de menu en haut à droite, SageMath est bien indiqué, en non Python3). Si ce n'est pas le cas, allez dans le menu Noyau (Kernel en anglais), puis changez de noyau en SageMath."
   ]
  },
  {
   "cell_type": "code",
   "execution_count": 126,
   "metadata": {},
   "outputs": [],
   "source": [
    "# a, b = randint(2, 1000), randint(2, 1000)\n",
    "# print(pgcd(a, b) == gcd(a, b))"
   ]
  },
  {
   "cell_type": "markdown",
   "metadata": {},
   "source": [
    "**Question 2 :** Implanter une fonction récursive ``pgcd_rec(a, b)`` qui calcule **de manière récursive** le pgcd de deux entiers ``a`` et  ``b``. "
   ]
  },
  {
   "cell_type": "code",
   "execution_count": null,
   "metadata": {},
   "outputs": [],
   "source": []
  },
  {
   "cell_type": "markdown",
   "metadata": {},
   "source": [
    "Vérifiez la validité de votre fonction en comparant le résultat avec la fonction ``gcd`` de SageMath."
   ]
  },
  {
   "cell_type": "code",
   "execution_count": 127,
   "metadata": {},
   "outputs": [],
   "source": [
    "# a, b = randint(2, 1000), randint(2, 1000)\n",
    "# print(pgcd_rec(a, b) == gcd(a, b))"
   ]
  },
  {
   "cell_type": "markdown",
   "metadata": {},
   "source": [
    "**Question 3 :** Implanter une fonction ``bezout(a, b)`` qui calcule les coefficients de Bezout de deux entiers ``a`` et  ``b``. On rappelle que ce sont les entiers $u$ et $v$ tels que $ua +vb = \\mathrm{pgcd}(a, b)$, et qu'on peut les obtenir grâce à l'algorithme d'Euclide étendu."
   ]
  },
  {
   "cell_type": "code",
   "execution_count": null,
   "metadata": {},
   "outputs": [],
   "source": []
  },
  {
   "cell_type": "markdown",
   "metadata": {},
   "source": [
    "Validez votre fonction en la comparant à la fonction ``xgcd`` de SageMath. Attention, la fonction ``xgcd`` retourne trois valeurs : le pgcd suivi des deux coefficients de Bezout."
   ]
  },
  {
   "cell_type": "code",
   "execution_count": 128,
   "metadata": {},
   "outputs": [],
   "source": [
    "# a, b = randint(2, 1000), randint(2, 1000)\n",
    "# coeffs = bezout(a, b)\n",
    "# coeffs_sage = xgcd(a, b)\n",
    "# print(coeffs_sage)\n",
    "# print(coeffs == coeffs[1:])"
   ]
  },
  {
   "cell_type": "markdown",
   "metadata": {},
   "source": [
    "**Question 4 :** Écrire une fonction ``ppcm(a, b)`` qui calcule le ppcm de deux entiers $a$ et $b$."
   ]
  },
  {
   "cell_type": "code",
   "execution_count": null,
   "metadata": {},
   "outputs": [],
   "source": []
  },
  {
   "cell_type": "markdown",
   "metadata": {},
   "source": [
    "Validez votre fonction en la comparant avec la fonction ``lcm`` de SageMath."
   ]
  },
  {
   "cell_type": "code",
   "execution_count": 129,
   "metadata": {},
   "outputs": [],
   "source": [
    "# a, b = randint(2, 1000), randint(2, 1000)\n",
    "# print(ppcm(a, b) == lcm(a, b))"
   ]
  },
  {
   "cell_type": "markdown",
   "metadata": {},
   "source": [
    "## Exercice 3 : divisibilité dans les entiers"
   ]
  },
  {
   "cell_type": "markdown",
   "metadata": {},
   "source": [
    "**Question 1 :** Écrire une fonction ``diviseurs(n)`` qui retourne la liste des diviseurs  de ``n``."
   ]
  },
  {
   "cell_type": "code",
   "execution_count": null,
   "metadata": {},
   "outputs": [],
   "source": []
  },
  {
   "cell_type": "markdown",
   "metadata": {},
   "source": [
    "**Question 2 :** En déduire une fonction ``est_premier(n)`` qui teste si un entier naturel non-nul ``n`` est premier."
   ]
  },
  {
   "cell_type": "code",
   "execution_count": null,
   "metadata": {},
   "outputs": [],
   "source": []
  },
  {
   "cell_type": "markdown",
   "metadata": {},
   "source": [
    "**Question 3 :** Écrire une fonction ``est_parfait(n)`` qui teste si un entier naturel non-nul ``n`` est parfait. On pourra utiliser la fonction ``sum()`` de python."
   ]
  },
  {
   "cell_type": "code",
   "execution_count": null,
   "metadata": {},
   "outputs": [],
   "source": []
  },
  {
   "cell_type": "markdown",
   "metadata": {},
   "source": [
    "**Question 4 (plus difficile) :** Écrire une fonction ``factorise(n)`` qui retourne la factorisation d'un entier sous la forme d'une liste de listes ``L``, telle que si $n = p_0^{e_0} p_1^{e_1} \\dots p_k^{e_k}$, alors ``L[i] = [pi, ei]``.\n",
    "\n",
    "Par exemple, pour $n = 84 = 2^2 \\times 3 \\times 7$, la fonction doit retourner la liste \n",
    "```\n",
    "L = [ [2, 2], [3, 1], [7, 1] ]\n",
    "```"
   ]
  },
  {
   "cell_type": "code",
   "execution_count": null,
   "metadata": {},
   "outputs": [],
   "source": []
  },
  {
   "cell_type": "markdown",
   "metadata": {},
   "source": [
    "## Exercice 4 : décomposition en base 2"
   ]
  },
  {
   "cell_type": "markdown",
   "metadata": {},
   "source": [
    "**Question 1 :** Écrire une fonction ``decomposition(n)`` qui calcule la décomposition en base $2$ d'un entier ``n``. La fonction retournera la liste $[n_0, n_1, \\dots, n_k]$ telle que $n = \\sum_{i=0}^k n_i 2^k$. Si $n = 0$, la fonction retournera $[0]$."
   ]
  },
  {
   "cell_type": "code",
   "execution_count": null,
   "metadata": {},
   "outputs": [],
   "source": []
  },
  {
   "cell_type": "markdown",
   "metadata": {},
   "source": [
    "**Question 2 :** Écrire une version récursive de la fonction précédente, qu'on appellera ``decomposition_rec(n)``."
   ]
  },
  {
   "cell_type": "code",
   "execution_count": null,
   "metadata": {},
   "outputs": [],
   "source": []
  }
 ],
 "metadata": {
  "kernelspec": {
   "display_name": "SageMath 9.3.rc4",
   "language": "sage",
   "name": "sagemath"
  },
  "language_info": {
   "codemirror_mode": {
    "name": "ipython",
    "version": 3
   },
   "file_extension": ".py",
   "mimetype": "text/x-python",
   "name": "python",
   "nbconvert_exporter": "python",
   "pygments_lexer": "ipython3",
   "version": "3.9.2"
  }
 },
 "nbformat": 4,
 "nbformat_minor": 4
}
