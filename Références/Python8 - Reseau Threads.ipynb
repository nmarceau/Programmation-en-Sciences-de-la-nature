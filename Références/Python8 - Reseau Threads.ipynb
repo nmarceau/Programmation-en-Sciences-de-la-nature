{
 "cells": [
  {
   "cell_type": "markdown",
   "metadata": {},
   "source": [
    "# Utilisation de threads avec le réseau\n",
    "\n",
    "Pour ce classeur, il faudra recopier chaque partie (client et serveur) dans un fichier python distinct et les exécuter, le cas échéant sur des machines différentes. Les programmes sont régroupés ici par commodité mais ne doivent pas être exécutés depuis l'environnement ***iPython*** car ce dernier s'accomode mal des threads.\n",
    "\n",
    "## Le serveur"
   ]
  },
  {
   "cell_type": "code",
   "execution_count": null,
   "metadata": {
    "collapsed": false
   },
   "outputs": [],
   "source": [
    "import socket\n",
    "# en plus de socket, on utilise les threads\n",
    "from threading import Thread\n",
    "\n",
    "# fonction qui va gérer un client (boucle avec sortie si 'exit' reçu)\n",
    "# cette fonction sera appelée dans un nouveau thread à chaque connexion\n",
    "\n",
    "def gereClient(sockclient,addr):\n",
    "    sock=sockclient\n",
    "    while True:\n",
    "        data = sock.recv(BUFSIZ).decode(\"Utf8\")\n",
    "        if data == 'exit':\n",
    "            break\n",
    "        else:\n",
    "            msg = 'echo : ' + data # notre serveur est tjs le même\n",
    "        sock.send(msg.encode(\"Utf8\"))\n",
    "        \n",
    "    sock.send(\"FIN\".encode(\"Utf8\"))\n",
    "    sock.close()\n",
    "\n",
    "BUFSIZ = 1024\n",
    "#HOST = socket.gethostname()\n",
    "HOST='0.0.0.0' # Toutes les addresses de la machine à l'écoute\n",
    "PORT = 4567\n",
    "ADDR = (HOST, PORT)\n",
    "sockserveur = socket.socket()\n",
    "sockserveur.bind(ADDR)\n",
    "# on peut éventuellement mettre un paramètre plus grand à listen\n",
    "# si on veut que le serveur ne refuse pas une connexion\n",
    "# alors qu'il est en train d'en traiter une autre\n",
    "# (temps de passage de la connexion à un nouveau thread)\n",
    "sockserveur.listen(1)\n",
    "# boucle pour les connexions des clients, sans fin\n",
    "while True:\n",
    "    print (\"Serveur à l'écoute…\")\n",
    "    sockclient, addr = sockserveur.accept()\n",
    "    print ('...connexion de : ', addr)\n",
    "    # quand un client se connecte, on crée un thread \"pour lui\" \n",
    "    # contenant la fonction de gestion de client\n",
    "    th=Thread(target=gereClient,args=(sockclient,addr))\n",
    "    th.start()"
   ]
  },
  {
   "cell_type": "markdown",
   "metadata": {},
   "source": [
    "## Explications\n",
    "\n",
    "La commande de reception de donnée depuis le réseau est\n",
    "<PRE>sock.recv(BUFSIZ).decode(\"Utf8\")</PRE>\n",
    "Cette commande est ***bloquante***, ce qui signifie que lorsque le serveur est en attente d'un message en provenance d'un client, il ne peut rien faire d'autre, en particulier, il ne peut pas traiter les demandes d'autres clients éventuels.\n",
    "\n",
    "Cette situation est bien sûr intenable dans le cadre d'un usage classique. Pour contourner cette difficulté, nous intégrons cette commande bloquante dans une fonction qui sera exécutée en ***parallèle*** du programme principal qui restera disponible pour traiter les autres connexions clients. \n",
    "\n",
    "Pour exécuter une fonction en parallèle, on fait appel à la librairie ***Threading*** de Python : Un thread étant un morceau de programme s'éxécutant en parallèle du programme qui l'appelle. Nous créons donc grâce à la commande \n",
    "<PRE>Thread(target=gereClient,args=(sockclient,addr))</PRE>\n",
    "un appel non bloquant à la fonction gereClient, et ce pour chaque client qui se connecte.\n",
    "\n",
    "Nous pouvons donc traiter simultanément la connexion de plusieurs clients au même serveur."
   ]
  },
  {
   "cell_type": "markdown",
   "metadata": {
    "collapsed": true
   },
   "source": [
    "## Le client"
   ]
  },
  {
   "cell_type": "code",
   "execution_count": 8,
   "metadata": {
    "collapsed": false
   },
   "outputs": [],
   "source": [
    "from tkinter import *\n",
    "from socket import *\n",
    "from threading import Thread\n",
    "\n",
    "liaison = socket(AF_INET, SOCK_STREAM) # socket client\n",
    "\n",
    "def gestionClient():\n",
    "    # Communication client exécuté en parallèle dans un thread\n",
    "    message=\"\" \n",
    "    while message.upper() != \"FIN\" :\n",
    "        message = liaison.recv(1024).decode(\"utf8\") # Commande bloquante\n",
    "        listeMsg.insert(END, message) # On affiche le message reçu\n",
    "        \n",
    "    etatStr.set(\"Connexion terminée.\" )\n",
    "    liaison.close()\n",
    "\n",
    "def connect():\n",
    "    SERVEUR=ipAddr.get()\n",
    "    PORT=eval(ipPort.get())\n",
    "    try:\n",
    "        liaison.connect((SERVEUR, PORT))\n",
    "        etatStr.set(\"Connexion établie\")\n",
    "        th=Thread(target=gestionClient)\n",
    "        th.start()\n",
    "    except error:\n",
    "        etatStr.set(\"La connexion a échoué.\")\n",
    "        liaison.close()\n",
    "\n",
    "def envoi():\n",
    "    liaison.send(msgStr.get().encode(\"utf8\"))\n",
    "    msgStr.set(\"\")\n",
    "    \n",
    "fenetre=Tk()\n",
    "fenetre.title=\"Client réseau\"\n",
    "\n",
    "## textes variables\n",
    "ipAddr=StringVar()\n",
    "ipAddr.set('127.0.0.1')\n",
    "ipPort=StringVar()\n",
    "ipPort.set(\"4567\")\n",
    "etatStr=StringVar()\n",
    "etatStr.set(\"Etat de la connection...\")\n",
    "msgStr=StringVar()\n",
    "\n",
    "## Interface graphique\n",
    "connFrame=Frame(fenetre,bd=1, relief=SUNKEN) # Cadre de connection\n",
    "msgFrame=Frame(fenetre,bd=1, relief=SUNKEN) # Cadre d'envoi\n",
    "ipEntry=Entry(connFrame,textvariable=ipAddr)\n",
    "portEntry=Entry(connFrame,textvariable=ipPort)\n",
    "btnConnect=Button(connFrame,text=\"Connexion\",command=connect)\n",
    "etatLbl=Label(fenetre,textvariable=etatStr)\n",
    "listeMsg = Listbox(fenetre)\n",
    "msgLbl=Label(msgFrame,text=\"Message\")\n",
    "msgEntry=Entry(msgFrame,textvariable=msgStr)\n",
    "msgSend=Button(msgFrame,text=\"Envoyer\",command=envoi)\n",
    "\n",
    "## positionnement des widgets\n",
    "connFrame.pack(padx=5,pady=5)\n",
    "ipEntry.pack(side=LEFT,padx=5,pady=5)\n",
    "portEntry.pack(side=LEFT,padx=5,pady=5)\n",
    "btnConnect.pack(side=LEFT,padx=5,pady=5)\n",
    "etatLbl.pack(padx=5,pady=5)\n",
    "listeMsg.pack(fill=BOTH, expand=1,padx=5,pady=5)\n",
    "msgFrame.pack(fill=BOTH, expand=1,padx=5,pady=5)\n",
    "msgLbl.pack(side=LEFT,padx=5,pady=5)\n",
    "msgEntry.pack(fill=BOTH, expand=1,side=LEFT,padx=5,pady=5)\n",
    "msgSend.pack(side=LEFT,padx=5,pady=5)\n",
    "\n",
    "fenetre.mainloop()"
   ]
  },
  {
   "cell_type": "markdown",
   "metadata": {
    "collapsed": true
   },
   "source": [
    "## Explications\n",
    "\n",
    "Dans ce programme client, la majeure partie correspond au design de l'interface graphique. Nous utilisons ici le widget ***Frame*** de TKinter permettant de créer des zones dans l'interface dans laquelle la mise en page sera différente : \n",
    "<PRE>pack(side=LEFT,padx=5,pady=5)</PRE>\n",
    "permet de placer les composants les un à coté des autres dans les différents cadres. Les cadres eux même sont disposés avec la disposition par défaut c'est à dire verticalement.\n",
    "\n",
    "La problématique principale de ce programme est de gérer à la fois l'écoute de messages en provenance du serveur et la réactivité de l'interface graphique. En effet, la commande \n",
    "<PRE>message = liaison.recv(1024).decode(\"utf8\")</PRE>\n",
    "est bloquante, ce qui signifie que quand le client est en attente d'un message du serveur, il ne peut rien faire d'autre. En particulier, il ne peut pas réagir aux événements en provenance de l'utilisateur sur l'interface graphique. L'application est alors figée.\n",
    "\n",
    "Pour se prémunir de ce problème, comme pour le serveur, nous devrons intégrer la commande de reception de message dans un ***Thread*** dédié qui tournera en parallèle de notre programme qui sera alors en capacité de gérer l'interface graphique.\n",
    "\n",
    "Pour ce faire, dès que le client se connecte au serveur on crée un ***thread*** par la commande\n",
    "<PRE>Thread(target=gestionClient)</PRE>\n",
    "qui sera en charge de receotionner les messages du serveur et de les afficher dans la zone de texte (***Listbox***)"
   ]
  },
  {
   "cell_type": "code",
   "execution_count": null,
   "metadata": {
    "collapsed": true
   },
   "outputs": [],
   "source": []
  }
 ],
 "metadata": {
  "kernelspec": {
   "display_name": "Python 3",
   "language": "python",
   "name": "python3"
  },
  "language_info": {
   "codemirror_mode": {
    "name": "ipython",
    "version": 3
   },
   "file_extension": ".py",
   "mimetype": "text/x-python",
   "name": "python",
   "nbconvert_exporter": "python",
   "pygments_lexer": "ipython3",
   "version": "3.4.3"
  }
 },
 "nbformat": 4,
 "nbformat_minor": 0
}
