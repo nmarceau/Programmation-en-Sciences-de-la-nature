{
 "cells": [
  {
   "cell_type": "markdown",
   "metadata": {},
   "source": [
    "# TP5 : premières utilisations de Sagemath"
   ]
  },
  {
   "cell_type": "markdown",
   "metadata": {},
   "source": [
    "## Exercice 1 : nombre premier suivant"
   ]
  },
  {
   "cell_type": "markdown",
   "metadata": {},
   "source": [
    "**Question 1 :** En utilisant la fonction ``is_prime()``, écrire une fonction ``prochain_nombre_premier(n)`` qui calcule le plus petit nombre premier strictement supérieur à ``n``."
   ]
  },
  {
   "cell_type": "code",
   "execution_count": null,
   "metadata": {},
   "outputs": [],
   "source": []
  },
  {
   "cell_type": "markdown",
   "metadata": {},
   "source": [
    "**Question 2 :** Vérifier la validité de la fonction  ``prochain_nombre_premier`` en la comparant avec ``next_prime(n)``"
   ]
  },
  {
   "cell_type": "code",
   "execution_count": null,
   "metadata": {},
   "outputs": [],
   "source": []
  },
  {
   "cell_type": "markdown",
   "metadata": {},
   "source": [
    "## Exercice 2 : tracer des fonctions"
   ]
  },
  {
   "cell_type": "markdown",
   "metadata": {},
   "source": [
    "**Question 1 :** Tracer sur un même graphique les fonctions cosinus (en bleu) et sinus (en rouge), entre $0$ et $4\\pi$."
   ]
  },
  {
   "cell_type": "code",
   "execution_count": null,
   "metadata": {},
   "outputs": [],
   "source": []
  },
  {
   "cell_type": "markdown",
   "metadata": {},
   "source": [
    "**Question 2 :** \n",
    "- Tracer la fonction tangente entre $-\\pi$ et $\\pi$.\n",
    "- Puis, essayer de rendre le tracé plus \"représentatif\" en imposant une valeur maximale et minimale à l'ordonnée.\n",
    "- Pourquoi pensez-vosu qu'il y a des droites verticales ? Les retirer en ajoutant l'argument ``detect_poles=True`` dans la fonction ``plot()``. "
   ]
  },
  {
   "cell_type": "code",
   "execution_count": null,
   "metadata": {},
   "outputs": [],
   "source": []
  },
  {
   "cell_type": "markdown",
   "metadata": {},
   "source": [
    "La fonction mathématique $\\Gamma$ (\"gamma\") est un prolongement de la factorielle sur les nombres complexes. Elle est définie formellement comme :\n",
    "\\\\[\n",
    "    \\Gamma(z) = \\int_0^{+\\infty} t^{z-1} z^{-t} dt\n",
    "\\\\]\n",
    "Elle est représentée par ``gamma`` dans SageMath.\n",
    "\n",
    "**Question 3 :** Tracer $\\Gamma$ pour des nombres réels entre $0.1$ et $5$."
   ]
  },
  {
   "cell_type": "code",
   "execution_count": null,
   "metadata": {},
   "outputs": [],
   "source": []
  },
  {
   "cell_type": "markdown",
   "metadata": {},
   "source": [
    "**Question 4 :** Vérifier que $\\Gamma(n) = (n-1)!$ pour tout $n \\in [1, 100]$."
   ]
  },
  {
   "cell_type": "code",
   "execution_count": null,
   "metadata": {},
   "outputs": [],
   "source": []
  },
  {
   "cell_type": "markdown",
   "metadata": {},
   "source": [
    "**Question 5 (plus difficile) :** Tracer $|\\Gamma(z)|$ pour des nombres complexes $z$ de partie imaginaires et réelles comprises entre $-4$ et $4$. On utilisera la fonction ``plot3d``."
   ]
  },
  {
   "cell_type": "code",
   "execution_count": null,
   "metadata": {},
   "outputs": [],
   "source": []
  },
  {
   "cell_type": "markdown",
   "metadata": {},
   "source": [
    "La fonction mathématique $\\zeta$ (\"zeta\") est définie sur réels $>1$ comme :\n",
    "\\\\[\n",
    "    \\zeta(x) = \\sum_{n=1}^{+\\infty} \\frac{1}{n^x}\n",
    "\\\\]\n",
    "Elle est implantée dans SageMath avec le nom ``zeta``.\n",
    "\n",
    "**Question 6 :** Calculer $\\zeta(2)$ et $\\zeta(4)$."
   ]
  },
  {
   "cell_type": "code",
   "execution_count": null,
   "metadata": {},
   "outputs": [],
   "source": []
  },
  {
   "cell_type": "markdown",
   "metadata": {},
   "source": [
    "**Question 7 :** Tracer la fonction $\\zeta$ entre $1.1$ et $10$."
   ]
  },
  {
   "cell_type": "code",
   "execution_count": null,
   "metadata": {},
   "outputs": [],
   "source": []
  },
  {
   "cell_type": "markdown",
   "metadata": {},
   "source": [
    "**Question 8 :** Estimer la limite de $\\zeta(x)$ lorsque $x \\to +\\infty$."
   ]
  },
  {
   "cell_type": "code",
   "execution_count": null,
   "metadata": {},
   "outputs": [],
   "source": []
  },
  {
   "cell_type": "markdown",
   "metadata": {},
   "source": [
    "## Exercice 3 : transformations complexes"
   ]
  },
  {
   "cell_type": "markdown",
   "metadata": {},
   "source": [
    "**Question 1 :** Étant donnée une liste de nombres complexes ``L``, tracer le polygone reliant les points du plan associés à ces nombres complexes. On pourra utiliser la fonction ``polygon`` de SageMath. Cette fonction peut prendre en entrée une liste de nombres complexes et les afficher dans le plan."
   ]
  },
  {
   "cell_type": "code",
   "execution_count": null,
   "metadata": {},
   "outputs": [],
   "source": []
  },
  {
   "cell_type": "markdown",
   "metadata": {},
   "source": [
    "**Question 2 :** Tracer un triangle équilatéral de côté $1$, dont la base est horizontale, et dont le point \"en bas à gauche\" a pour coordonnées complexes $z = 1$. "
   ]
  },
  {
   "cell_type": "code",
   "execution_count": null,
   "metadata": {},
   "outputs": [],
   "source": []
  },
  {
   "cell_type": "markdown",
   "metadata": {},
   "source": [
    "**Question 3 :** Appliquer la transformation complexe $z \\mapsto -2z$ à tous les points qui forment ce triangle, puis tracer la figure correspondante. Quelle transformation géométrique a-t-on opéré ? "
   ]
  },
  {
   "cell_type": "code",
   "execution_count": null,
   "metadata": {},
   "outputs": [],
   "source": []
  },
  {
   "cell_type": "markdown",
   "metadata": {},
   "source": [
    "**Question 4 :** Appliquer successivement (11 fois) la transformation complexe $z \\mapsto e^{-i\\pi/6} z$ à tous les points qui forment le triangle de la question 2, puis tracer la figure qui contient ces 11 transformations. Quelle transformation géométrique a-t-on opéré ?"
   ]
  },
  {
   "cell_type": "code",
   "execution_count": null,
   "metadata": {},
   "outputs": [],
   "source": []
  },
  {
   "cell_type": "code",
   "execution_count": null,
   "metadata": {},
   "outputs": [],
   "source": []
  },
  {
   "cell_type": "markdown",
   "metadata": {},
   "source": [
    "## Exercice 4 : série harmonique\n",
    "\n",
    "On considère la suite $(H_n)_{n \\ge 1}$ définie comme : $H_n = \\sum_{i=1}^n \\frac{1}{n}$. Cette suite est appelée \"série harmonique\"."
   ]
  },
  {
   "cell_type": "markdown",
   "metadata": {},
   "source": [
    "**Question 1 :** Écrire une fonction ``H(n)`` qui calcule le terme $H_n$. "
   ]
  },
  {
   "cell_type": "code",
   "execution_count": null,
   "metadata": {},
   "outputs": [],
   "source": []
  },
  {
   "cell_type": "markdown",
   "metadata": {},
   "source": [
    "**Question 2 :** Tracer sur un même graphique :\n",
    "- les $100$ premiers termes de la suite $H_n$,\n",
    "- la fonction $\\ln(x)$ pour $x \\in [1, 100]$.\n",
    "\n",
    "Pour tracer les termes de la série harmonique, on pourra utiliser la fonction ``points(L)`` qui prend en entrée la liste de points ``L``."
   ]
  },
  {
   "cell_type": "code",
   "execution_count": null,
   "metadata": {},
   "outputs": [],
   "source": []
  },
  {
   "cell_type": "markdown",
   "metadata": {},
   "source": [
    "**Question 3 (plus difficile) :** La différence $S_n - \\ln(n)$ semble converger vers une constante. La calculer approximativement. Pour cela, on pourra calculer des termes de $u_n := S_n - \\ln(n)$ jusqu'à ce que deux termes consécutifs de la suite $(u_n)$ soit distants de moins de $10^{-6}$."
   ]
  },
  {
   "cell_type": "code",
   "execution_count": null,
   "metadata": {
    "scrolled": true
   },
   "outputs": [],
   "source": []
  }
 ],
 "metadata": {
  "kernelspec": {
   "display_name": "SageMath 9.3.rc4",
   "language": "sage",
   "name": "sagemath"
  },
  "language_info": {
   "codemirror_mode": {
    "name": "ipython",
    "version": 3
   },
   "file_extension": ".py",
   "mimetype": "text/x-python",
   "name": "python",
   "nbconvert_exporter": "python",
   "pygments_lexer": "ipython3",
   "version": "3.9.2"
  }
 },
 "nbformat": 4,
 "nbformat_minor": 4
}
