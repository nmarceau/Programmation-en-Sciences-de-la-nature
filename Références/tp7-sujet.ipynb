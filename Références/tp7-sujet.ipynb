{
 "cells": [
  {
   "cell_type": "markdown",
   "metadata": {},
   "source": [
    "# TP 7 : matrices et algèbre linéaire"
   ]
  },
  {
   "cell_type": "markdown",
   "metadata": {},
   "source": [
    "## Exercice 1 : construction et manipulation de matrices"
   ]
  },
  {
   "cell_type": "markdown",
   "metadata": {},
   "source": [
    "**Question 1 :** Construire la matrice \n",
    "\\\\[\n",
    "    M = \\begin{pmatrix} 1 & 1 & 1 & 1 \\\\ 1 & 2 & 3 & 4 \\\\ 1 & 4 & 9 & 16 \\\\ 1 & 8 & 27 & 64 \\end{pmatrix}\n",
    "\\\\]"
   ]
  },
  {
   "cell_type": "code",
   "execution_count": null,
   "metadata": {},
   "outputs": [],
   "source": []
  },
  {
   "cell_type": "markdown",
   "metadata": {},
   "source": [
    "**Question 2 :** Calculer et afficher :\n",
    "- le rang de $M$\n",
    "- l'inverse de $M$\n",
    "- la transposée de $M$\n",
    "- le déterminant de $M$"
   ]
  },
  {
   "cell_type": "code",
   "execution_count": null,
   "metadata": {},
   "outputs": [],
   "source": []
  },
  {
   "cell_type": "markdown",
   "metadata": {},
   "source": [
    "**Question 3 :** Soit\n",
    "\\\\[\n",
    "    P = \\begin{pmatrix} 0 & 0 & 1 & 0 \\\\ 0 & 1 & 0 & 0 \\\\ 1 & 0 & 0 & 0 \\\\ 0 & 0 & 0 & 1 \\end{pmatrix}\n",
    "\\\\]\n",
    "- Construire la matrice $P$.\n",
    "- Calculer $P^2$ ; qu'obtenez-vous ?\n",
    "- Appliquez $P$ à droite de la matrice $M$ définie précédemment. Quelle transformation la matrice $M$ a-t-elle subi ?\n",
    "- Appliquez $P$ à gauche de la matrice $M$ définie précédemment. Quelle transformation la matrice $M$ a-t-elle subi ?"
   ]
  },
  {
   "cell_type": "code",
   "execution_count": null,
   "metadata": {},
   "outputs": [],
   "source": []
  },
  {
   "cell_type": "markdown",
   "metadata": {},
   "source": [
    "## Exercice 2 : matrices symétriques et valeurs propres"
   ]
  },
  {
   "cell_type": "markdown",
   "metadata": {},
   "source": [
    "**Question 1 :** Créez une matrice $M$ carrée de taille $8$, dont les coefficients sont des entiers tirés aléatoirement entre $-5$ et $5$. Pour le tirage aléatoire, on pourra utiliser la fonction ``randrange()``."
   ]
  },
  {
   "cell_type": "code",
   "execution_count": null,
   "metadata": {},
   "outputs": [],
   "source": []
  },
  {
   "cell_type": "markdown",
   "metadata": {},
   "source": [
    "**Question 2 :**  Calculez $A$, le produit de la matrice $M$ et de sa transposée $M^\\top$. Vérifiez que $A$ est symétrique. Pour cela, on utilisera la fonction ``.is_symmetric()``."
   ]
  },
  {
   "cell_type": "code",
   "execution_count": null,
   "metadata": {},
   "outputs": [],
   "source": []
  },
  {
   "cell_type": "markdown",
   "metadata": {},
   "source": [
    "**Question 3 :** Vérifiez que toutes les valeurs propres de $A$ sont réelles et positives."
   ]
  },
  {
   "cell_type": "code",
   "execution_count": null,
   "metadata": {},
   "outputs": [],
   "source": []
  },
  {
   "cell_type": "markdown",
   "metadata": {},
   "source": [
    "## Exercice 3 : résolution de systèmes linéaires"
   ]
  },
  {
   "cell_type": "markdown",
   "metadata": {},
   "source": [
    "**Question 1 :** Résoudre le système linéaire :\n",
    "\\\\[\n",
    "    \\left\\{\n",
    "    \\begin{array}{cccccccc}\n",
    "        - &x &  &    & + &2 z & = & 1 \\\\\n",
    "          & &  &y    & + &z   & = & 2 \\\\\n",
    "         &x & - &2 y & - &5z   & = & 3\n",
    "    \\end{array}\n",
    "    \\right.\n",
    "\\\\]\n",
    "On vérifiera que la solution donnée par sagemath est correcte."
   ]
  },
  {
   "cell_type": "code",
   "execution_count": null,
   "metadata": {},
   "outputs": [],
   "source": []
  },
  {
   "cell_type": "markdown",
   "metadata": {},
   "source": [
    "**Question 2 :** Décrire l'ensemble des solutions du système :\n",
    "\\\\[\n",
    "    \\left\\{\n",
    "    \\begin{array}{cccccccccc}\n",
    "        - &x &  &    & + &2 z & - & t & = & 1 \\\\\n",
    "          &3x & + &2y    & + &z & +  & 2t & = & 2 \\\\\n",
    "         &x & - &2 y & - &5z  && & = & 3\n",
    "    \\end{array}\n",
    "    \\right.\n",
    "\\\\]"
   ]
  },
  {
   "cell_type": "code",
   "execution_count": null,
   "metadata": {
    "scrolled": true
   },
   "outputs": [],
   "source": []
  },
  {
   "cell_type": "markdown",
   "metadata": {},
   "source": [
    "## Exercice 4 : interprétation géométrique de certaines applications linéaires\n",
    "\n",
    "Le code suivant permet de déclarer dans ``T`` un triangle de couleur bleue, sont les sommets sont les vecteurs de coordonnées $(1, 1), (1, 2), (3, 1)$ présents dans la liste ``L``.\n",
    "\n",
    "```\n",
    "L = [vector([1,1]), vector([1, 2]), vector([3, 1])]\n",
    "T = polygon(L, color=\"blue\")\n",
    "```\n",
    "\n",
    "**Question 1 :** Afficher ce triangle dans une figure pour laquelle les abscisses et les ordonnées varient entre $-4$ et $4$."
   ]
  },
  {
   "cell_type": "code",
   "execution_count": null,
   "metadata": {},
   "outputs": [],
   "source": []
  },
  {
   "cell_type": "markdown",
   "metadata": {},
   "source": [
    "**Question 2 :** On considère la matrice \n",
    "\\\\[\n",
    "  R = \\begin{pmatrix} \\cos(\\theta) & -\\sin(\\theta) \\\\ \\sin(\\theta) & \\cos(\\theta) \\end{pmatrix}        \n",
    "\\\\]\n",
    "- Déclarer la matrice $R$ pour $\\theta = 2\\pi/3$\n",
    "- Appliquer la matrice $R$ à chacun des vecteur de la liste ``L`` et former ainsi une liste ``L2`` puis un triangle ``T2``\n",
    "- Afficher le triangle ``T2`` en rouge sur la même figure que ``T``\n",
    "- Quelle transformation géométrique a été opérée sur le triangle ?"
   ]
  },
  {
   "cell_type": "code",
   "execution_count": null,
   "metadata": {},
   "outputs": [],
   "source": []
  },
  {
   "cell_type": "markdown",
   "metadata": {},
   "source": [
    "**Question 3 :** On considère la matrice \n",
    "\\\\[\n",
    "  S = \\begin{pmatrix} 0 & -1 \\\\ -1 & 0 \\end{pmatrix}        \n",
    "\\\\]\n",
    "- Déclarer la matrice $S$\n",
    "- Appliquer la matrice $S$ à chacun des vecteur de la liste ``L`` et former ainsi une liste ``L3`` puis un triangle ``T3``\n",
    "- Afficher le triangle ``T3`` en vert sur la même figure que ``T``\n",
    "- Quelle transformation géométrique a été opérée sur le triangle ?"
   ]
  },
  {
   "cell_type": "code",
   "execution_count": null,
   "metadata": {},
   "outputs": [],
   "source": []
  },
  {
   "cell_type": "markdown",
   "metadata": {},
   "source": [
    "**Question 4 :** On considère la matrice \n",
    "\\\\[\n",
    "  A = \\begin{pmatrix} 1/2 & 0 \\\\ 0 & 1/2 \\end{pmatrix}        \n",
    "\\\\]\n",
    "- Déclarer la matrice $A$\n",
    "- Appliquer la matrice $A$ à chacun des vecteur de la liste ``L`` et former ainsi une liste ``L4`` puis un triangle ``T4``\n",
    "- Afficher le triangle ``T4`` en jaune sur la même figure que ``T``\n",
    "- Quelle transformation géométrique a été opérée sur le triangle ?"
   ]
  },
  {
   "cell_type": "code",
   "execution_count": null,
   "metadata": {},
   "outputs": [],
   "source": []
  }
 ],
 "metadata": {
  "kernelspec": {
   "display_name": "SageMath 9.3.rc4",
   "language": "sage",
   "name": "sagemath"
  },
  "language_info": {
   "codemirror_mode": {
    "name": "ipython",
    "version": 3
   },
   "file_extension": ".py",
   "mimetype": "text/x-python",
   "name": "python",
   "nbconvert_exporter": "python",
   "pygments_lexer": "ipython3",
   "version": "3.9.2"
  }
 },
 "nbformat": 4,
 "nbformat_minor": 4
}
