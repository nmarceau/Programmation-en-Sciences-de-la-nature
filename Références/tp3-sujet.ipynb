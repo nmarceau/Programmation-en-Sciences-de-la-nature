{
 "cells": [
  {
   "cell_type": "markdown",
   "id": "6a8afb31",
   "metadata": {},
   "source": [
    "## Exercice 1 : Logique"
   ]
  },
  {
   "cell_type": "markdown",
   "id": "c6ec6609",
   "metadata": {},
   "source": [
    "**Question 1 :** Écrire une fonction ``implique(a, b)`` qui prend en entrée deux valeurs booléennes ``a`` et  ``b`` et qui retourne la valeur de logique de \"$a$ implique $b$\" ($a \\implies b$)."
   ]
  },
  {
   "cell_type": "code",
   "execution_count": null,
   "id": "f2edd9eb",
   "metadata": {},
   "outputs": [],
   "source": []
  },
  {
   "cell_type": "markdown",
   "id": "157e99df",
   "metadata": {},
   "source": [
    "## Exercice 2 : Portée des variables"
   ]
  },
  {
   "cell_type": "markdown",
   "id": "aca1df5b",
   "metadata": {},
   "source": [
    "**Question 1 :** Créez deux variables ``A`` et ``B`` initalisées avec la liste vide. Puis, exécutez les deux fonctions suivantes sur ``A`` et  ``B`` et affichez les valeurs de ``A`` et ``B`` après exécution.\n",
    "\n",
    "Commentez ce que vous obtenez."
   ]
  },
  {
   "cell_type": "code",
   "execution_count": 1,
   "id": "febd727f",
   "metadata": {},
   "outputs": [],
   "source": [
    "def fonction_1(L):\n",
    "    L.append(0)\n",
    "    return L\n",
    "\n",
    "def fonction_2(L):\n",
    "    L = L + [0]\n",
    "    return L"
   ]
  },
  {
   "cell_type": "markdown",
   "id": "fa374836",
   "metadata": {},
   "source": [
    "## Exercice 3 : Suite récurrente"
   ]
  },
  {
   "cell_type": "markdown",
   "id": "7a2df4d3",
   "metadata": {},
   "source": [
    "**Question 1 :** Écrire une fonction ``suite(n)`` qui retourne la liste des ``n`` premiers termes de la suite récurrente :\n",
    "\\\\[\n",
    "    u_0 = 1, \\quad u_1 = -0.5, \\quad u_{n+2} = u_{n+1} - \\frac{1}{2} u_n\n",
    "\\\\]\n"
   ]
  },
  {
   "cell_type": "code",
   "execution_count": null,
   "id": "64a11688",
   "metadata": {},
   "outputs": [],
   "source": []
  },
  {
   "cell_type": "markdown",
   "id": "5927a311",
   "metadata": {},
   "source": [
    "**Question 2 :** Afficher sous forme de points les valeurs des $20$ premiers termes de la suite, en fonction de $n$."
   ]
  },
  {
   "cell_type": "code",
   "execution_count": null,
   "id": "19fbb22b",
   "metadata": {},
   "outputs": [],
   "source": []
  },
  {
   "cell_type": "markdown",
   "id": "187e4fdf",
   "metadata": {},
   "source": [
    "## Exercice 4 : Affichage graphique"
   ]
  },
  {
   "cell_type": "markdown",
   "id": "2f0f7f7e",
   "metadata": {},
   "source": [
    "**Question 1 :** En utilisant ``matplotlib.pyplot``, tracez le graphe de la fonction $\\sin(x)$ pour $x$ entre $0$ et $4 \\pi$. Pour trace la fonction, on utilisera un pas de $0.01$."
   ]
  },
  {
   "cell_type": "code",
   "execution_count": null,
   "id": "47ca1453",
   "metadata": {},
   "outputs": [],
   "source": []
  },
  {
   "cell_type": "markdown",
   "id": "87f041cf",
   "metadata": {},
   "source": [
    "**Question 2 :** Écrire une fonction ``cercle(x, y, r)`` qui trace un cercle dont le centre est le point de coordonnées $(x,y)$ et dont le rayon est $r$. On pourra utiliser les fonctions ``sin`` et ``cos`` ainsi que le nombre ``pi`` présents dans la bibliothèque ``math``.\n",
    "\n",
    "*Indication : pour que les axes de la figure soient à la même échelle (et ne pas observer une ellipse), il faut utiliser l'instruction ``plt.axis('equal')`` avant d'afficher le graphique.*"
   ]
  },
  {
   "cell_type": "code",
   "execution_count": null,
   "id": "960c8f7d",
   "metadata": {},
   "outputs": [],
   "source": []
  },
  {
   "cell_type": "markdown",
   "id": "29c19aa1",
   "metadata": {},
   "source": [
    "## Exercice 5 : Moyenne et écart-type"
   ]
  },
  {
   "cell_type": "markdown",
   "id": "7d9cc1e9",
   "metadata": {},
   "source": [
    "**Question 1 :** Écrire une fonction ``moyenne(L)`` qui calcule la moyenne des éléments d'une liste ``L``."
   ]
  },
  {
   "cell_type": "code",
   "execution_count": null,
   "id": "4b334b1d",
   "metadata": {},
   "outputs": [],
   "source": []
  },
  {
   "cell_type": "markdown",
   "id": "d537d5a1",
   "metadata": {},
   "source": [
    "**Question 2 :** Écrire une fonction ``ecart_type(L)`` qui calcule l'écart-type des éléments d'une liste ``L``."
   ]
  },
  {
   "cell_type": "code",
   "execution_count": null,
   "id": "069fae5e",
   "metadata": {},
   "outputs": [],
   "source": []
  },
  {
   "cell_type": "markdown",
   "id": "094033d8",
   "metadata": {},
   "source": [
    "**Question 3 :** Afficher l'évolution de la valeur moyenne et de l'écart-type d'une liste de $n$ entiers tirés aléatoirement entre $0$ et $1000$, pour $n$ entre $0$ et $1000$."
   ]
  },
  {
   "cell_type": "code",
   "execution_count": null,
   "id": "dc79ca36",
   "metadata": {},
   "outputs": [],
   "source": []
  },
  {
   "cell_type": "markdown",
   "id": "a51473ff",
   "metadata": {},
   "source": [
    "## Exercice 6 : La suite de Syracuse\n",
    "\n",
    "La suite de Syracuse est une suite récursive de nombres naturels définie par un premier terme $s_0 \\ge 1$, et par la relation de récurrence suivante (pour $n \\ge 0$) :\n",
    "- si $s_n$ est pair, alors $s_{n+1} = s_n/2$,\n",
    "- si $s_n$ est impair, alors $s_{n+1} = 3 s_n + 1$.\n",
    "\n",
    "Par exemple, les $15$ premiers termes de la suite de terme initial $s_0 = 6$ sont :\n",
    "\n",
    "\\\\[\n",
    "    (6, 3, 10, 5, 16, 8, 4, 2, 1, 4, 2, 1, 4, 2, 1).\n",
    "\\\\]\n",
    "\n",
    "On observe alors que lorsque la suite atteint le nombre $1$, la suite devient périodique : le motif $(4, 2, 1)$ se répète indéfiniment.\n",
    "\n",
    "On appelle *prépériode* les termes $(s_0, s_1, \\dots, s_m)$ de la suite de Syracuse, où $s_m$ est la première occurence de la valeur $1$. "
   ]
  },
  {
   "cell_type": "markdown",
   "id": "a5788c8e",
   "metadata": {},
   "source": [
    "**Question 1 :** Implanter une fonction ̀``syracuse`` qui prend en entrée un entier $s \\ge 1$, et qui retourne la liste des termes de prépériode de la suite de Syracuse de terme initial $s$."
   ]
  },
  {
   "cell_type": "code",
   "execution_count": null,
   "id": "57614f32",
   "metadata": {},
   "outputs": [],
   "source": []
  },
  {
   "cell_type": "markdown",
   "id": "898d5bb5",
   "metadata": {},
   "source": [
    "**Question 2 :** Parmi les entiers entre $1$ et $1000$, pour lequel la suite de Syracuse admet-elle la plus grande prépériode ?"
   ]
  },
  {
   "cell_type": "code",
   "execution_count": null,
   "id": "a3483fe5",
   "metadata": {},
   "outputs": [],
   "source": []
  },
  {
   "cell_type": "markdown",
   "id": "2da0afa3",
   "metadata": {},
   "source": [
    "**Question 3 :** À l'aide de la bibliothèque ``matplotlib``, tracer le graphe de la prépériode de la suite de Syracuse (c'est-à-dire, $s_n$ en fonction de $n$) pour $s_0 = 7$.  "
   ]
  },
  {
   "cell_type": "code",
   "execution_count": null,
   "id": "cb2c6859",
   "metadata": {},
   "outputs": [],
   "source": []
  },
  {
   "cell_type": "markdown",
   "id": "882e70a3",
   "metadata": {},
   "source": [
    "**Question 4 :** Tracer sur un même graphe les prépériodes des suites de Syracuse de termes initiaux $s_0 = 8192$ et $s_0 = 1234$."
   ]
  },
  {
   "cell_type": "code",
   "execution_count": null,
   "id": "6dfd2479",
   "metadata": {},
   "outputs": [],
   "source": []
  },
  {
   "cell_type": "markdown",
   "id": "8e0f8c89",
   "metadata": {},
   "source": [
    "**Question 5 :** Tracer le nuage de points de toutes les prépériodes des suites de Syracuse de terme initial $i \\in [1, 1000]$. Pour cela, on pourra utiliser la fonction ``plt.scatter(liste_x, liste_y)``."
   ]
  },
  {
   "cell_type": "code",
   "execution_count": null,
   "id": "3d444063",
   "metadata": {
    "scrolled": true
   },
   "outputs": [],
   "source": []
  }
 ],
 "metadata": {
  "kernelspec": {
   "display_name": "Python 3 (ipykernel)",
   "language": "python",
   "name": "python3"
  },
  "language_info": {
   "codemirror_mode": {
    "name": "ipython",
    "version": 3
   },
   "file_extension": ".py",
   "mimetype": "text/x-python",
   "name": "python",
   "nbconvert_exporter": "python",
   "pygments_lexer": "ipython3",
   "version": "3.9.2"
  }
 },
 "nbformat": 4,
 "nbformat_minor": 5
}
