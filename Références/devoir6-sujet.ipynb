{
 "cells": [
  {
   "cell_type": "markdown",
   "metadata": {},
   "source": [
    "# Devoir semaine 6\n",
    "\n",
    "à rendre pour le 21 mars 2022, 15h00"
   ]
  },
  {
   "cell_type": "markdown",
   "metadata": {},
   "source": [
    "## Exercice : polynômes de Tchebychev\n",
    "\n",
    "\n",
    "Les polynômes de Tchebychev $(T_n(X))_{n \\in \\mathbb{N}}$ forment une suite de polynômes, définie par la relation de récurrence suivante :\n",
    "\n",
    "\\\\[\n",
    "    T_0(X) = 1, \\quad T_1(X) = X, \\quad \\quad T_n(X) = 2  X  T_{n-1}(X) - T_{n-2}(X), \\quad \\forall n \\ge 2\\,. \n",
    "\\\\]\n",
    "\n",
    "Au vu de la relation de récurrence qui les définit, on remarque que les polynômes de Tchebychev sont à coefficients dans $\\mathbb{Z}$."
   ]
  },
  {
   "cell_type": "markdown",
   "metadata": {},
   "source": [
    "**Question 1 :** \n",
    "- Définir l'anneau de polynômes ``R`` à coefficients dans $\\mathbb{Z}$.\n",
    "- Définir également ``X`` la variable de cet anneau de polynômes. \n",
    "\n",
    "Ces variables seront définies pour l'ensemble de l'exercice."
   ]
  },
  {
   "cell_type": "code",
   "execution_count": null,
   "metadata": {},
   "outputs": [],
   "source": []
  },
  {
   "cell_type": "markdown",
   "metadata": {},
   "source": [
    "**Question 2 :** Écrire une fonction ``Tchebychev(n)`` qui calcule $T_n(X)$ pour un entier ``n`` donné en entrée. On écrira une fonction itérative."
   ]
  },
  {
   "cell_type": "code",
   "execution_count": null,
   "metadata": {},
   "outputs": [],
   "source": []
  },
  {
   "cell_type": "markdown",
   "metadata": {},
   "source": [
    "**Question 3 :** \n",
    "- Calculez les $20$ premiers polynômes de Tchebychev et les stocker dans une liste.\n",
    "- Formulez (en commentaire dans la cellule) une hypothèse sur le degré de $T_n(X)$ (en fonction de $n$).\n",
    "- Vérifiez cette hypothèse sur les $200$ premiers polynômes de Tchebychev. Pour cela, vous n'afficherez pas tous les polynômes, mais vous testerez (par exemple avec le mot-clef ``all`` ou avec une boucle ``for``) que les degrés des polynômes construits concordent avec votre hypothèse."
   ]
  },
  {
   "cell_type": "code",
   "execution_count": null,
   "metadata": {},
   "outputs": [],
   "source": []
  },
  {
   "cell_type": "markdown",
   "metadata": {},
   "source": [
    "**Question 4 :** Les polynômes de Tchebychev vérifient également la relation :\n",
    "\\\\[\n",
    "    (1-X^2) \\cdot T_n''(X) \\; - \\; X \\cdot T_n'(X) \\; + \\; n^2 \\cdot T_n(X) = 0\n",
    "\\\\]\n",
    "\n",
    "Vérifiez cette formule sur les $200$ premiers polynômes de Tchebychev. Pour la méthode de vérification, suivez la même remarque que celle de la question précédente."
   ]
  },
  {
   "cell_type": "code",
   "execution_count": null,
   "metadata": {},
   "outputs": [],
   "source": []
  },
  {
   "cell_type": "markdown",
   "metadata": {},
   "source": [
    "La fonction ``.trig_reduce()`` est une fonction de Sagemath, qui s'applique sur une expression triginométrique, et qui essaie de la \"réduire\". Par exemple :"
   ]
  },
  {
   "cell_type": "code",
   "execution_count": 13,
   "metadata": {},
   "outputs": [
    {
     "name": "stdout",
     "output_type": "stream",
     "text": [
      "cos(x)^2 + sin(x)^2\n",
      "1\n"
     ]
    }
   ],
   "source": [
    "x = var('x')\n",
    "A = sin(x)**2 + cos(x)**2\n",
    "print(A)\n",
    "print(A.trig_reduce())"
   ]
  },
  {
   "cell_type": "markdown",
   "metadata": {},
   "source": [
    "**Question 5 :** En utilisant ``.trig_reduce()``, vérifiez sur les $20$ premières valeurs de $n$ que \n",
    "\\\\[\n",
    "    T_n(cos(x)) = cos(nx)\n",
    "\\\\]"
   ]
  },
  {
   "cell_type": "code",
   "execution_count": null,
   "metadata": {},
   "outputs": [],
   "source": []
  },
  {
   "cell_type": "markdown",
   "metadata": {},
   "source": [
    "**Question 6 :** Vérifier sur les $100$ premières valeurs strictement positives de $n$ que :\n",
    "\\\\[\n",
    "    T_n(X) = \\frac{n}{2} \\sum_{k=0}^{\\lfloor n/2 \\rfloor} (-1)^k \\frac{(n-k-1)!}{k!(n-2k)!} (2X)^{n - 2k}\n",
    "\\\\]"
   ]
  },
  {
   "cell_type": "code",
   "execution_count": null,
   "metadata": {},
   "outputs": [],
   "source": []
  },
  {
   "cell_type": "markdown",
   "metadata": {},
   "source": [
    "**Question 7 (plus difficile) :**\n",
    "- Calculez les pgcd (dans $\\mathbb{Z}[X]$) des polynômes $T_n(X)$ et $T_m(X)$ pour différentes valeurs de $n$ et $m$.\n",
    "- Puis, essayez d'y reconnaître des polynômes connus, et émettre une hypothèse sur la valeur de $\\mathrm{pgcd}(T_n(X), T_m(X))$ dans le cas général (on donnera cette hypothèse en commentaire).\n",
    "- Enfin, écrire une fonction qui valide votre hypothèse pour toutes les valeurs de $n$ et $m$ entre $1$ et $40$.\n",
    "\n",
    "*Indication : il faut expérimenter, et reconnaître les cas pour lesquels le pgcd vaut 1. Pour les autres cas, on s'intéressera au plus grand entier $v$ tel que $2^v$ divise $n$...* "
   ]
  },
  {
   "cell_type": "code",
   "execution_count": null,
   "metadata": {},
   "outputs": [],
   "source": []
  },
  {
   "cell_type": "code",
   "execution_count": null,
   "metadata": {},
   "outputs": [],
   "source": []
  }
 ],
 "metadata": {
  "kernelspec": {
   "display_name": "SageMath 9.3.rc4",
   "language": "sage",
   "name": "sagemath"
  },
  "language_info": {
   "codemirror_mode": {
    "name": "ipython",
    "version": 3
   },
   "file_extension": ".py",
   "mimetype": "text/x-python",
   "name": "python",
   "nbconvert_exporter": "python",
   "pygments_lexer": "ipython3",
   "version": "3.9.2"
  }
 },
 "nbformat": 4,
 "nbformat_minor": 4
}
