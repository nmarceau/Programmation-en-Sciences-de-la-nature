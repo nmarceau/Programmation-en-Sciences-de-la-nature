{
 "cells": [
  {
   "cell_type": "markdown",
   "metadata": {},
   "source": [
    "# Devoir 5 : approximation de $\\sqrt{2}$\n",
    "\n",
    "Dans ce devoir, le but est d'étudier différentes méthodes d'approximation de $\\sqrt{2}$.\n",
    "\n",
    "Le devoir est à rendre avant le lundi 07/03/2022, 15h, sur la page Moodle du cours."
   ]
  },
  {
   "cell_type": "markdown",
   "metadata": {},
   "source": [
    "## Valeur approchée de $\\sqrt{2}$ dans sagemath"
   ]
  },
  {
   "cell_type": "markdown",
   "metadata": {},
   "source": [
    "**Question 1 :** Stocker dans une variable ``S`` la valeur approchée de $\\sqrt{2}$ avec une précision de $10000$ bits. Pour cela, on créera l'objet ``RealField(10000)`` qui permet de calculer des réels avec $10000$ bits de précision."
   ]
  },
  {
   "cell_type": "code",
   "execution_count": null,
   "metadata": {},
   "outputs": [],
   "source": []
  },
  {
   "cell_type": "markdown",
   "metadata": {},
   "source": [
    "## Méthode de Théon de Smyrne\n",
    "\n",
    "Théon de Smyrne (I$^{er}$ et II$^{ème}$ siècle après JC) a défini deux suites entières $(p_n)$ et $(q_n)$ qui permettent de calculer une valeur approchée $\\frac{p_n}{q_n}$ de $\\sqrt{2}$.\n",
    "\n",
    "Les suites sont définies de la sorte. Les termes initiaux sont $p_0 = q_0 = 1$, et la relation de récurrence est :\n",
    "\\\\[\n",
    "    p_{n+1} = p_n + 2q_n \\quad \\text{ et } \\quad q_{n+1} = p_n + q_n \n",
    "\\\\]"
   ]
  },
  {
   "cell_type": "markdown",
   "metadata": {},
   "source": [
    "**Question 2 :** Écrire une fonction ``theon(n)`` qui calcule la valeur de $p_n/q_n$ à l'ordre ``n``."
   ]
  },
  {
   "cell_type": "code",
   "execution_count": null,
   "metadata": {},
   "outputs": [],
   "source": []
  },
  {
   "cell_type": "markdown",
   "metadata": {},
   "source": [
    "**Question 3 :** Déterminer le plus petit entier $n$ tel que $|\\frac{p_n}{q_n} - \\sqrt{2}| < 10^{-1000}$. Pour cela, on utilisera la grandeur ``S`` calculée à la question 1."
   ]
  },
  {
   "cell_type": "code",
   "execution_count": null,
   "metadata": {},
   "outputs": [],
   "source": []
  },
  {
   "cell_type": "markdown",
   "metadata": {},
   "source": [
    "## Méthode de Héron"
   ]
  },
  {
   "cell_type": "markdown",
   "metadata": {},
   "source": [
    "La méthode de Héron s'apparente à une méthode générale dit \"méthode de Newton\". L'idée est de chercher une solution de l'équation $x^2 - 2 = 0$, en suivant les tangentes à la courbe $y = x^2 - 2$. Pour plus de précisions (non nécessaires pour cet exercice), voir :\n",
    "\n",
    "https://fr.wikipedia.org/wiki/M%C3%A9thode_de_Newton\n",
    "\n",
    "Dans notre cas, on définit une suite la suite $(u_n)$ de premier terme $u_0 = 1$, et définie par récurrence par :\n",
    "\n",
    "\\\\[\n",
    "    u_{n+1} = u_n/2 + 1/u_n\n",
    "\\\\]"
   ]
  },
  {
   "cell_type": "markdown",
   "metadata": {},
   "source": [
    "**Question 4 :** Écrire une fonction ``heron(n)`` qui calcule la valeur de $u_n$ à l'ordre ``n``."
   ]
  },
  {
   "cell_type": "code",
   "execution_count": null,
   "metadata": {},
   "outputs": [],
   "source": []
  },
  {
   "cell_type": "markdown",
   "metadata": {},
   "source": [
    "**Question 5 :** Déterminer le plus petit entier $n$ tel que $|u_n - \\sqrt{2}| < 10^{-1000}$."
   ]
  },
  {
   "cell_type": "code",
   "execution_count": null,
   "metadata": {},
   "outputs": [],
   "source": []
  },
  {
   "cell_type": "markdown",
   "metadata": {},
   "source": [
    "## Méthode de Halley"
   ]
  },
  {
   "cell_type": "markdown",
   "metadata": {},
   "source": [
    "La méthode de Halley permet une approximation encore plus rapide de $\\sqrt{2}$.\n",
    "\n",
    "Si l'on cherche une approximation rationnelle sous la forme $p_n/q_n$, alors les suites $(p_n)$ et $(q_n)$ peuvent définies par les termes initiaux $p_0 = q_0 = 1$, et par la relation de récurrence :\n",
    "\\\\[\n",
    "    p_{n+1} = p_n \\cdot (p_n^2 + 6 q_n^2) \\quad \\text{ et } \\quad q_{n+1} = q_n \\cdot (3 p_n^2 + 2 q_n^2)\n",
    "\\\\]"
   ]
  },
  {
   "cell_type": "markdown",
   "metadata": {},
   "source": [
    "**Question 6 :** Écrire une fonction ``halley(n)`` qui calcule la valeur de $p_n/q_n$ à l'ordre ``n``."
   ]
  },
  {
   "cell_type": "code",
   "execution_count": null,
   "metadata": {},
   "outputs": [],
   "source": []
  },
  {
   "cell_type": "markdown",
   "metadata": {},
   "source": [
    "**Question 7 :** Déterminer le plus petit entier $n$ tel que $|\\frac{p_n}{q_n} - \\sqrt{2}| < 10^{-1000}$."
   ]
  },
  {
   "cell_type": "code",
   "execution_count": null,
   "metadata": {},
   "outputs": [],
   "source": []
  },
  {
   "cell_type": "markdown",
   "metadata": {},
   "source": [
    "## Comparaison des méthodes\n",
    "\n",
    "La **vitesse de convergence** d'une méthode mesure le nombre de chiffres décimaux exacts apportés par chaque nouvelle itération de la méthode. On dit que la vitesse est **linéaire** si ce nombre de chiffres est linéaire en $n$, qu'elle est quadratique s'il est une fonction quadratique en $n$, etc.\n",
    "\n",
    "**Question 8 (cette question est \"ouverte\") :** Estimer la vitesse de convergence des trois méthodes ci-dessus. On pourra utiliser un outil graphique pour illustrer sa réponse, et on l'argumentera (par des commentaires, un bloc \"Markdown\", ou un fichier .txt joint par exemple)."
   ]
  },
  {
   "cell_type": "code",
   "execution_count": null,
   "metadata": {},
   "outputs": [],
   "source": []
  }
 ],
 "metadata": {
  "kernelspec": {
   "display_name": "SageMath 9.3.rc4",
   "language": "sage",
   "name": "sagemath"
  },
  "language_info": {
   "codemirror_mode": {
    "name": "ipython",
    "version": 3
   },
   "file_extension": ".py",
   "mimetype": "text/x-python",
   "name": "python",
   "nbconvert_exporter": "python",
   "pygments_lexer": "ipython3",
   "version": "3.9.2"
  }
 },
 "nbformat": 4,
 "nbformat_minor": 4
}
