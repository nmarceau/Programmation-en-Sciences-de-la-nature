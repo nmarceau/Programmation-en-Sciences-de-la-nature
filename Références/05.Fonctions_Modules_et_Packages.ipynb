{
 "cells": [
  {
   "cell_type": "markdown",
   "metadata": {},
   "source": [
    "****\n",
    "\n",
    "# <center> <b> <span style=\"color:orange;\"> Programmation en Python </span> </b></center>\n",
    "\n",
    "## <center> <b> <span style=\"color:green;\">Des applications en Calcul Scientifique -  Statistiques -  Science des Données</span> </b></center>\n",
    "\n",
    "****\n",
    "\n",
    "# <center> <b> <span style=\"color:blue;\">Fonctions, Modules et Packages </span> </b></center>\n",
    "\n",
    "<!--NAVIGATION-->\n",
    "< [4. Contrôle du flux d'instructions](04.Contrôle_du_flux_d_instructions.ipynb)| [Sommaire](Index.ipynb) | [6. Classes et POO](06.Classes_et_POO.ipynb) >\n",
    "\n",
    "\n",
    "\n",
    "****\n",
    "\n",
    "\n",
    "\n",
    "\n",
    "### <left> <b> <span style=\"color:brown;\">Instructeur : </span> </b></left>[Yaé Ulrich Gaba](https://github.com/gabayae)\n",
    "\n",
    "\n",
    "> **Résumé:** Dans cette section, nous allons étudier\n",
    "comment élaborer et appliquer une fonction sous python. Nous menons une discussion générale sur comment creré et utiliser un\n",
    "module python. Les fonctions sont la base des modules et des packages dont nous parlerons également. \n",
    "****\n"
   ]
  },
  {
   "cell_type": "markdown",
   "metadata": {},
   "source": [
    "## Fonctions\n",
    "Simplement définie, une fonction est un bout de programme, un ensemble d’instructions\n",
    "agencées dans le but de réaliser une ou plusieurs tâches bien définies. On distingue deux\n",
    "catégories de fonctions sous python, les fonctions prédéfinies et les fonctions écrites par les\n",
    "utilisateurs.\n",
    "\n",
    "- Les fonctions prédéfinies sont des fonctions directement intégrées dans la bibliothèque standard du système python.\n",
    "- Les fonctions-utilisateurs sont écrites soit par l’utilisateur actuel ou par d’autres utilisateurs."
   ]
  },
  {
   "cell_type": "markdown",
   "metadata": {},
   "source": [
    "### Quelques fonctions prédéfinies sous python\n",
    "\n",
    " - La fonction `print()`: Comme on le sait déjà, la fonction **print()** a pour rôle d'afficher à l’écran les valeurs des objets spécifiés comme arguments:\n",
    " ```python\n",
    "print(\"Bonjour\", \"à\", \"tous\")\n",
    "x=12\n",
    "print(x)\n",
    "y=[1, \"lundi\",\"12\", 5, 3, \"valeur test\"]\n",
    "print(y)\n",
    "```\n",
    "On peut remplacer le séparateur par défaut (l’espace) par un autre caractère quelconque (ou\n",
    "même par aucun caractère), grâce à l’argument `sep`:\n",
    "```python\n",
    "    print(\"Bonjour\", \"à\", \"tous\", sep= \"****\")\n",
    "    print(\"Bonjour\", \"à\", \"tous\", sep= \"\")\n",
    "```    \n",
    "\n",
    "\n",
    " - La fonction `input()` : La fonction **input()** permet de donner la main à l'utilisateur afin qu'il saisisse la valeur d'un argument donné:\n",
    " ```python\n",
    "    prenom = input(\"Entrez votre prénom : \")\n",
    "    print(\"Bonjour,\", prenom)\n",
    " ```\n",
    " \n",
    " ```python\n",
    "    print(\"Veuillez entrer un nombre positif quelconque : \", end=\" \"  )\n",
    "    ch = input()\n",
    "    num = int(ch) # conversion de la chaîne en un nombre entier\n",
    "    print(\"Le carré de\", num, \"vaut\", num**2)\n",
    " ```   "
   ]
  },
  {
   "cell_type": "markdown",
   "metadata": {},
   "source": [
    "**NB** : Soulignons que la fonction `input()` renvoie toujours une chaîne de caractères. Si vous\n",
    "souhaitez que l’utilisateur entre une valeur numérique, vous devrez donc convertir la valeur\n",
    "entrée (qui sera donc de toute façon de type string) en une valeur numérique du type qui vous\n",
    "convient, par l’intermédiaire des fonctions intégrées `int()` (si vous attendez un entier) ou `float()`\n",
    "(si vous attendez un réel)."
   ]
  },
  {
   "cell_type": "markdown",
   "metadata": {},
   "source": [
    "### Les fonctions définies par l’utilisateur\n",
    "\n",
    "Pour définir une fonction sous Python, on utilise le mot clé `def ` pour déclarer le nom de la\n",
    "fonction. La syntaxe générale de définition d’une fonction est la suivante :\n",
    "\n",
    "\n",
    "        def nomDeLaFonction([paramètre1,paramètre2,...,paramètreN]):\n",
    "        \n",
    "            \"\"\"Documentation de la fonction.\"\"\"\n",
    "            \n",
    "            <bloc_instructions>\n",
    "            \n",
    " Dans la définition d’une fonction, la première chaîne de charactères (appelé docstring) servira de docu-\n",
    "mentation pour la fonction, accessible de l’interpréteur via p.ex. `help(temp_f2c)`, ou `temp_f2c?` sous\n",
    "*jupyter*. Elle se doit d’être tout à la fois pertinente, concise et complète. Elle peut également inclure\n",
    "des exemples d’utilisation.           "
   ]
  },
  {
   "cell_type": "markdown",
   "metadata": {},
   "source": [
    "#### Définition d'une fonction simple sans argument\n",
    "L’exemple ci-dessous illustre la définition d’une fonction simple sans argument. Le but de la\n",
    "fonction est d’afficher les 20 premières valeurs de la table de multiplication par 8."
   ]
  },
  {
   "cell_type": "code",
   "execution_count": 1,
   "metadata": {},
   "outputs": [],
   "source": [
    "def tableMultiplication8():\n",
    "    \"\"\"\n",
    "    Le but de la fonction est d’afficher les 20 premières \n",
    "    valeurs de la table de multiplication par 8.\n",
    "    Entree : Aucune\n",
    "    Sortie : La table de multiplication par 8\n",
    "    \"\"\"\n",
    "    n = 1\n",
    "    while n <=20 :\n",
    "        v = n*8\n",
    "        print(n, 'x', 8, '=', v, sep =' ')\n",
    "        n = n +1"
   ]
  },
  {
   "cell_type": "markdown",
   "metadata": {},
   "source": [
    "Pour exécuter la fonction `tableMultiplication8()` que nous venons de définir, il suffit de le référencer en indiquant son nom comme suit (n’importe où dans le programme principal).        "
   ]
  },
  {
   "cell_type": "code",
   "execution_count": 2,
   "metadata": {},
   "outputs": [
    {
     "name": "stdout",
     "output_type": "stream",
     "text": [
      "1 x 8 = 8\n",
      "2 x 8 = 16\n",
      "3 x 8 = 24\n",
      "4 x 8 = 32\n",
      "5 x 8 = 40\n",
      "6 x 8 = 48\n",
      "7 x 8 = 56\n",
      "8 x 8 = 64\n",
      "9 x 8 = 72\n",
      "10 x 8 = 80\n",
      "11 x 8 = 88\n",
      "12 x 8 = 96\n",
      "13 x 8 = 104\n",
      "14 x 8 = 112\n",
      "15 x 8 = 120\n",
      "16 x 8 = 128\n",
      "17 x 8 = 136\n",
      "18 x 8 = 144\n",
      "19 x 8 = 152\n",
      "20 x 8 = 160\n"
     ]
    }
   ],
   "source": [
    "tableMultiplication8() # appelle la fonction tableMultiplication8()"
   ]
  },
  {
   "cell_type": "markdown",
   "metadata": {},
   "source": [
    "**** \n",
    "<left> <b> <span style=\"color:brown;\">Exercice: </span> </b></left>\n",
    "\n",
    "Proposer une version de la fonction `tableMultiplication8()` à partir d’une\n",
    "boucle « for ».\n",
    "****"
   ]
  },
  {
   "cell_type": "markdown",
   "metadata": {},
   "source": [
    "#### Définition d'une fonction dont les arguments sont des paramètres\n",
    "Un paramètre est une variable qui prend une valeur constante. Dans l'exemple précédent, nous\n",
    "avons élaboré une table de multiplication par 8. Nous pouvons généraliser cette fonction de\n",
    "sorte que qu’elle puisse renvoyée la table de multiplication de n’importe quel nombre spécifié\n",
    "comme argument. Ces nombres étant des paramètres, il s’agit alors de définir une fonction\n",
    "dont les arguments sont les paramètres. Voir l’exemple ci-dessous"
   ]
  },
  {
   "cell_type": "code",
   "execution_count": 3,
   "metadata": {},
   "outputs": [],
   "source": [
    "def tableMultiplication(base):\n",
    "    n = 1\n",
    "    while n <=20 :\n",
    "        v=n*base\n",
    "        print(n, 'x', base, '=', v, sep =' ')\n",
    "        n = n +1"
   ]
  },
  {
   "cell_type": "code",
   "execution_count": 4,
   "metadata": {},
   "outputs": [
    {
     "name": "stdout",
     "output_type": "stream",
     "text": [
      "1 x 2 = 2\n",
      "2 x 2 = 4\n",
      "3 x 2 = 6\n",
      "4 x 2 = 8\n",
      "5 x 2 = 10\n",
      "6 x 2 = 12\n",
      "7 x 2 = 14\n",
      "8 x 2 = 16\n",
      "9 x 2 = 18\n",
      "10 x 2 = 20\n",
      "11 x 2 = 22\n",
      "12 x 2 = 24\n",
      "13 x 2 = 26\n",
      "14 x 2 = 28\n",
      "15 x 2 = 30\n",
      "16 x 2 = 32\n",
      "17 x 2 = 34\n",
      "18 x 2 = 36\n",
      "19 x 2 = 38\n",
      "20 x 2 = 40\n",
      "1 x 8 = 8\n",
      "2 x 8 = 16\n",
      "3 x 8 = 24\n",
      "4 x 8 = 32\n",
      "5 x 8 = 40\n",
      "6 x 8 = 48\n",
      "7 x 8 = 56\n",
      "8 x 8 = 64\n",
      "9 x 8 = 72\n",
      "10 x 8 = 80\n",
      "11 x 8 = 88\n",
      "12 x 8 = 96\n",
      "13 x 8 = 104\n",
      "14 x 8 = 112\n",
      "15 x 8 = 120\n",
      "16 x 8 = 128\n",
      "17 x 8 = 136\n",
      "18 x 8 = 144\n",
      "19 x 8 = 152\n",
      "20 x 8 = 160\n",
      "1 x 11 = 11\n",
      "2 x 11 = 22\n",
      "3 x 11 = 33\n",
      "4 x 11 = 44\n",
      "5 x 11 = 55\n",
      "6 x 11 = 66\n",
      "7 x 11 = 77\n",
      "8 x 11 = 88\n",
      "9 x 11 = 99\n",
      "10 x 11 = 110\n",
      "11 x 11 = 121\n",
      "12 x 11 = 132\n",
      "13 x 11 = 143\n",
      "14 x 11 = 154\n",
      "15 x 11 = 165\n",
      "16 x 11 = 176\n",
      "17 x 11 = 187\n",
      "18 x 11 = 198\n",
      "19 x 11 = 209\n",
      "20 x 11 = 220\n"
     ]
    }
   ],
   "source": [
    "tableMultiplication(2) # renvoie la table de multiplication par 2\n",
    "tableMultiplication(8) # renvoie la table de multiplication par 8\n",
    "tableMultiplication(11) # renvoie la table de multiplication par 11"
   ]
  },
  {
   "cell_type": "markdown",
   "metadata": {},
   "source": [
    "#### Un ou plusieurs paramètres, pas de retour\n",
    "Exemple sans l’instruction `return`, ce qu’on appelle souvent une **procédure**. Dans\n",
    "ce cas la fonction renvoie implicitement la valeur `None` :\n",
    "    \n",
    "```python    \n",
    "def table(base, debut, fin):\n",
    "\"\"\"Affiche la table des <base> de <debut> à <fin>.\"\"\"\n",
    "    n = debut\n",
    "    while n <= fin:\n",
    "        print(n, ’x’, base, ’=’, n * base, end=” ”)\n",
    "        n += 1\n",
    "```\n",
    "\n",
    "```python\n",
    "# exemple d’appel :\n",
    "table(7, 2, 11)\n",
    "# 2 x 7 = 14 3 x 7 = 21 4 x 7 = 28 5 x 7 = 35 6 x 7 = 42\n",
    "# 7 x 7 = 49 8 x 7 = 56 9 x 7 = 63 10 x 7 = 70 11 x 7 = 77\n",
    "```"
   ]
  },
  {
   "cell_type": "markdown",
   "metadata": {},
   "source": [
    "#### Un ou plusieurs paramètres, utilisation du retour\n",
    "\n",
    "**Exemple avec utilisation d’un `return` unique :**\n",
    "\n",
    "\n",
    "```python\n",
    "\n",
    "def carre(x):\n",
    "    return x**2\n",
    "\n",
    "def aireCarre(r):\n",
    "    return carre(x)\n",
    "\n",
    "# Saisie du cote et affichage de l'aire\n",
    "cote = float(input('Cote : ''))\n",
    "print(”Aire du carre =”, aireCarre(cote))\n",
    "```\n",
    "\n",
    "\n",
    "**Exemple avec utilisation d’un return multiple :**\n",
    "```python\n",
    "PI = 3.14\n",
    "def surfaceVolumeSphere(r):\n",
    "        surf = 4.0 *PI* r**2\n",
    "        vol = surf * r/3\n",
    "    return surf, vol\n",
    "```\n",
    "```python\n",
    "# programme principal\n",
    "rayon = float(input(’Rayon : ’))\n",
    "s, v = surfaceVolumeSphere(rayon)\n",
    "print(”Sphère de surface {:g} et de volume {:g}”.format(s, v))\n",
    "```"
   ]
  },
  {
   "cell_type": "markdown",
   "metadata": {},
   "source": [
    "### Passage d’une fonction en paramètre\n",
    "\n",
    "```python\n",
    "def tabuler(fonction, borneInf, borneSup, nbPas):\n",
    "    \"\"\"Affichage des valeurs de <fonction>. On doit avoir (borneInf < borneSup) et (nbPas > 0)\"\"\"\n",
    "    h, x = (borneSup - borneInf) / float(nbPas), borneInf\n",
    "    while x <= borneSup:\n",
    "        y = fonction(x)\n",
    "        print(”f({:.2f}) = {:.2f}”.format(x, y))\n",
    "        x += h\n",
    "```\n",
    "\n",
    "```python\n",
    "def maFonction(x):\n",
    "    return 2*x**3 + x - 5\n",
    "```\n",
    "```python\n",
    "tabuler(maFonction, -5, 5, 10)\n",
    "# f(-5.00) = -260.00\n",
    "# f(-4.00) = -137.00\n",
    "# ...\n",
    "# f(5.00) = 250.00\n",
    "```"
   ]
  },
  {
   "cell_type": "markdown",
   "metadata": {},
   "source": [
    "### Définition des valeurs par défaut pour les arguments d’une fonction\n",
    "Lors de la définition d’une fonction, il est souvent conseillé de définir des valeurs par défaut\n",
    "pour certain arguments (notamment les arguments optionnels). En définissant les valeurs par défaut pour les arguments d’une fonction, il est possible\n",
    "d’appeler le programme avec une partie seulement des arguments attendus. Exemples :\n",
    "\n",
    "```python\n",
    "   def salutation(nom, titre ='Monsieur'):\n",
    "        print(\"Bonjour\", titre, nom)\n",
    "```\n",
    "\n",
    "La fonction salutation ainsi définie a deux arguments : nom et titre. Une valeur par défaut a été\n",
    "définie pour l’argument. Ainsi lorsque la fonction salutation est appelée avec seulement\n",
    "l’argument nom (omettant l’argument), la fonction renvoie la valeur par défaut Monsieur.\n",
    "Exemple :\n",
    "\n",
    "```python\n",
    "   salutation('Dupont') # renvoie Bonjour Monsieur Dupont\n",
    "```    \n",
    "\n",
    "Mais lorsque la fonction est appelée avec les deux arguments, la valeur par défaut est ignorée.\n",
    "Exemple :\n",
    "En définissant les valeurs par défaut pour les arguments d’une fonction, il est possible\n",
    "d’appeler le programme avec une partie seulement des arguments attendus. Exemple:\n",
    "```python\n",
    "   salutation('Dupont', 'Mademoiselle')\n",
    "```"
   ]
  },
  {
   "cell_type": "markdown",
   "metadata": {},
   "source": [
    "<left> <b> <span style=\"color:brown;\"> NB : Les arguments sans valeur par défaut doivent être spécifiés avant les arguments avec les\n",
    "valeurs par défaut. Par exemple, la définition ci-dessous est incorrecte et renvoie une erreur\n",
    "lors de l’exécution.</span> </b></left>\n",
    "```python\n",
    "   def salutation(titre='Monsieur', nom):\n",
    "```    "
   ]
  },
  {
   "cell_type": "code",
   "execution_count": 5,
   "metadata": {},
   "outputs": [
    {
     "ename": "SyntaxError",
     "evalue": "unexpected EOF while parsing (<ipython-input-5-1e68b03a2ef7>, line 1)",
     "output_type": "error",
     "traceback": [
      "\u001b[0;36m  File \u001b[0;32m\"<ipython-input-5-1e68b03a2ef7>\"\u001b[0;36m, line \u001b[0;32m1\u001b[0m\n\u001b[0;31m    def salutation(titre='Monsieur', nom):\u001b[0m\n\u001b[0m                                          ^\u001b[0m\n\u001b[0;31mSyntaxError\u001b[0m\u001b[0;31m:\u001b[0m unexpected EOF while parsing\n"
     ]
    }
   ],
   "source": [
    "def salutation(titre='Monsieur', nom):"
   ]
  },
  {
   "cell_type": "markdown",
   "metadata": {},
   "source": [
    "### Les fonctions lambda\n",
    "Une fonction lambda est une fonction anonyme c'est-à-dire une fonction constituée d’un bloc\n",
    "d’instructions appelable et réutilisable comme une fonction, mais sans nom. Une fonction\n",
    "lambda est généralement utilisée pour des fonctions très courtes avec peu d’instructions\n",
    "(nécessitant pas alors d’écrire une fonction classique avec le mot clé def et un appel).\n",
    "\n",
    "La syntaxe générale de définition d'une fonction lamda est la suivante:\n",
    "\n",
    "```python\n",
    "   lambda arg1, arg2,..., argN : bloc instructions(ou formules)\n",
    "```\n",
    "\n",
    "L’exemple ci-dessus illustre la défintion d’une fonction lambda.\n",
    "```python\n",
    "   lambda x, y : x * y\n",
    "```    "
   ]
  },
  {
   "cell_type": "markdown",
   "metadata": {},
   "source": [
    "Notons toutefois que même si la fonction lambda n’est pas définie avec un nom, pour\n",
    "récupérer la valeur renvoyée, lors de l’appel de la fonction, il faut l’assigner à une nouvelle\n",
    "variable. L’exemple ci-dessous illustre l’appel de la fonction lambda précédente en prenant x=2\n",
    "et y=3.\n",
    "```python\n",
    "   x = lambda x, y : x * y\n",
    "   x(2,3)\n",
    "```"
   ]
  },
  {
   "cell_type": "code",
   "execution_count": 6,
   "metadata": {},
   "outputs": [
    {
     "data": {
      "text/plain": [
       "6"
      ]
     },
     "execution_count": 6,
     "metadata": {},
     "output_type": "execute_result"
    }
   ],
   "source": [
    "x = lambda x, y : x * y\n",
    "x(2,3)"
   ]
  },
  {
   "cell_type": "markdown",
   "metadata": {},
   "source": [
    "<left> <b> <span style=\"color:red;\">\n",
    "Note : Lorsque nous définissons des variables à l’intérieur d’une fonction, ces variables ne sont\n",
    "accessibles que pour cette fonction elle-même. On dit que ces variables sont des variables\n",
    "`« locales » ` à la fonction. Mais lorsque les variables sont définies à l’extérieur de la fonction dans\n",
    "le corps du programme principal. Ces variables sont appelées variables `« globales »`. Le contenu d’une variable globale est visible et accessible à partir de l’intérieur d’une fonction,\n",
    "mais cette fonction ne peut pas modifier la valeur de la variable.</span> </b></left>"
   ]
  },
  {
   "cell_type": "code",
   "execution_count": 7,
   "metadata": {},
   "outputs": [
    {
     "name": "stdout",
     "output_type": "stream",
     "text": [
      "15 38\n",
      "20 38\n",
      "15 38\n"
     ]
    }
   ],
   "source": [
    "def myFunction():\n",
    "    p = 20\n",
    "    print(p, q)\n",
    "p=15\n",
    "q=38\n",
    "\n",
    "print(p, q) # renvoie 15 38\n",
    "myFunction() # appelle la fonction, renvoie 20 38\n",
    "print(p, q) # renvoie 15 38"
   ]
  },
  {
   "cell_type": "code",
   "execution_count": 8,
   "metadata": {},
   "outputs": [
    {
     "ename": "SyntaxError",
     "evalue": "invalid syntax (<ipython-input-8-cfdc69ce00ba>, line 1)",
     "output_type": "error",
     "traceback": [
      "\u001b[0;36m  File \u001b[0;32m\"<ipython-input-8-cfdc69ce00ba>\"\u001b[0;36m, line \u001b[0;32m1\u001b[0m\n\u001b[0;31m    Cependant, on peut modifier ce comportement par défaut en permettant à la fonction de\u001b[0m\n\u001b[0m                     ^\u001b[0m\n\u001b[0;31mSyntaxError\u001b[0m\u001b[0;31m:\u001b[0m invalid syntax\n"
     ]
    }
   ],
   "source": [
    "Cependant, on peut modifier ce comportement par défaut en permettant à la fonction de\n",
    "modifier la valeur de la variable globale. Dans ce cas, il faut explicitement définir la variable\n",
    "comme global à l’intérieur de la fonction. Exemple:"
   ]
  },
  {
   "cell_type": "code",
   "execution_count": 9,
   "metadata": {},
   "outputs": [
    {
     "name": "stdout",
     "output_type": "stream",
     "text": [
      "15 38\n",
      "20 38\n",
      "20 38\n"
     ]
    }
   ],
   "source": [
    "def myFunction():\n",
    "    global p\n",
    "    p = 20\n",
    "    print(p, q)\n",
    "p=15\n",
    "q=38\n",
    "print(p, q) # renvoie 15 38\n",
    "myFunction() # appelle la fonction, renvoie 20 38\n",
    "print(p, q) # renvoie 20 38"
   ]
  },
  {
   "cell_type": "markdown",
   "metadata": {},
   "source": [
    "### Nombre d’arguments arbitraire : passage d’un tuple"
   ]
  },
  {
   "cell_type": "code",
   "execution_count": 10,
   "metadata": {},
   "outputs": [
    {
     "name": "stdout",
     "output_type": "stream",
     "text": [
      "23\n",
      "78\n"
     ]
    }
   ],
   "source": [
    "def somme(*args):\n",
    "    \"\"\"\" Renvoie la somme de <tuple>.\"\"\"\n",
    "    resultat = 0\n",
    "    for nombre in args:\n",
    "        resultat += nombre\n",
    "    return resultat\n",
    "\n",
    "# Exemples d’appel :\n",
    "print(somme(23)) # 23\n",
    "print(somme(23, 42, 13)) # 78"
   ]
  },
  {
   "cell_type": "markdown",
   "metadata": {},
   "source": [
    "Si la fonction possède plusieurs arguments, le *tuple* est en dernière position. Il est aussi possible de passer un tuple (en fait une séquence) à l’appel qui sera décompressé\n",
    "en une liste de paramètres d’une fonction « classique » :\n",
    "\n",
    "```python\n",
    "   def somme(a, b, c):\n",
    "        return a+b+c\n",
    "    \n",
    "   # Exemple d’appel :\n",
    "   elements = (2, 4, 6)\n",
    "   print(somme(*elements)) # 12\n",
    "\n",
    "```"
   ]
  },
  {
   "cell_type": "markdown",
   "metadata": {},
   "source": [
    "### Nombre d’arguments arbitraire : passage d’un dictionnaire"
   ]
  },
  {
   "cell_type": "code",
   "execution_count": 11,
   "metadata": {},
   "outputs": [
    {
     "name": "stdout",
     "output_type": "stream",
     "text": [
      "{'a': 23, 'b': 42}\n",
      "{'d': 85, 'e': 14, 'f': 9}\n"
     ]
    }
   ],
   "source": [
    "def unDict(**kargs):\n",
    "    return kargs\n",
    "\n",
    "# Exemples d’appels\n",
    "## par des paramètres nommés :\n",
    "print(unDict(a=23, b=42)) # {’a’: 23, ’b’: 42}\n",
    "\n",
    "## en fournissant un dictionnaire :\n",
    "mots = {'d': 85, 'e': 14, 'f':9}\n",
    "print(unDict(**mots)) # {’e’: 14, ’d’: 85, ’f’: 9}"
   ]
  },
  {
   "cell_type": "markdown",
   "metadata": {},
   "source": [
    "### Documenter une fonction\n",
    "Après avoir élaboré une fonction (surtout une fonction relativement long et complexe), il et\n",
    "fortement de la documenter afin de permettre à d’autres utilisateurs de se l’approprier\n",
    "rapidement. La documentation d’une fonction est généralement une chaîne de caractères qui\n",
    "fournit une générale de la fonction ainsi que les aides utiles. Cette description est\n",
    "généralement spécifiée après la déclaration du nom de la fonction avant la définition des\n",
    "autres blocs d’instructions. L’exemple ci-dessous illustre comment documenter une fonction et\n",
    "comment accéder à cette document en cas de besoin."
   ]
  },
  {
   "cell_type": "code",
   "execution_count": 12,
   "metadata": {},
   "outputs": [],
   "source": [
    "def volumeSphere():\n",
    "    \"\"\" Ce programme calcule le volume d'un cube.\\n La fonction est définie avec un seul argument obligatoire r\n",
    "    qui représente le rayon du cercle.\n",
    "    Celui-ci peut prendre n'importe quelle valeur positive\"\"\"\n",
    "    r=float(input(\"Saisir le rayon de la sphère\"))\n",
    "    PI = 3.14\n",
    "    return (4 * PI * r**3)/3"
   ]
  },
  {
   "cell_type": "markdown",
   "metadata": {},
   "source": [
    "Dans la définition de la fonction volumeSphere, la chaine de caractères ne joue aucun rôle\n",
    "fonctionnel dans le script : elle est traitée par Python comme un simple commentaire, mais qui\n",
    "est mémorisé comme une documentation interne sur la fonction. Cette document est stockée\n",
    "dans un attribut appelé `__doc__`. Pour afficher cette attribut, on fait:"
   ]
  },
  {
   "cell_type": "code",
   "execution_count": 13,
   "metadata": {},
   "outputs": [
    {
     "name": "stdout",
     "output_type": "stream",
     "text": [
      " Ce programme calcule le volume d'un cube.\n",
      " La fonction est définie avec un seul argument obligatoire r\n",
      "    qui représente le rayon du cercle.\n",
      "    Celui-ci peut prendre n'importe quelle valeur positive\n"
     ]
    }
   ],
   "source": [
    "print(volumeSphere.__doc__)"
   ]
  },
  {
   "cell_type": "markdown",
   "metadata": {},
   "source": [
    "## Modules\n",
    "\n",
    "\n",
    "Un programme Python est généralement composé de plusieurs fichiers sources,\n",
    "appelés *modules*. Leur nom est suffixé `.py`. S’ils sont correctement codés les modules doivent être indépendants les uns des\n",
    "autres pour être réutilisés à la demande dans d’autres programmes.\n",
    "\n",
    "`Les modules sont des fichiers qui regroupent des ensembles de fonctions`.\n",
    "Un **module** est un fichier indépendant permettant de scinder un programme en plusieurs scripts.\n",
    "Ce mécanisme permet d’élaborer efficacement des bibliothèques de fonctions ou de classes.\n",
    "Avantages des modules :\n",
    "- réutilisation du code ;\n",
    "- la documentation et les tests peuvent être intégrés au module ;\n",
    "- réalisation de services ou de données partagés ;\n",
    "- partition de l’espace de noms du système.\n",
    "\n",
    "Tout comme les dictionnaires sont des collections d’objets (listes, tuples, set, etc..), les\n",
    "modules sont des collections de fonctions qui permettent de réalisées des tâches apparentées.\n",
    "Par exemple, le module math, contient un certain nombre de fonctions mathématiques telles\n",
    "que sinus, cosinus, tangente, racine carrée, etc. De nombreux modules sont déjà pré-installés dans la bibliothèque standard de python.\n",
    "Toutefois, pour réaliser certaines tâches spécifiques, on est souvent amené à installer des\n",
    "modules supplémentaires (ex : numpy, scipy, matplotlib, pandas, etc..)"
   ]
  },
  {
   "cell_type": "markdown",
   "metadata": {},
   "source": [
    "### Import d’un module\n",
    "\n",
    "Deux syntaxes possibles :\n",
    "    \n",
    "- la commande `import nom_module` importe la totalité des objets du module :  \n",
    "  ```python\n",
    "     import tkinter\n",
    "  ```\n",
    "- la commande `from <nom_module> import obj1, obj2`... n’importe\n",
    "que les objets `obj1, obj2...` du module : \n",
    "  ```python\n",
    "     from math import pi, sin, log\n",
    "  ```\n",
    "  \n",
    "Il est conseillé d’importer dans l’ordre :\n",
    "- les modules de la bibliothèque standard ;\n",
    "- les modules des bibliothèques tierces ;\n",
    "- les modules personnels.  "
   ]
  },
  {
   "cell_type": "markdown",
   "metadata": {},
   "source": [
    "### La bibliothèque standard\n",
    "On dit souvent que Python est livré « piles comprises » (batteries included) tant sa biblio-\n",
    "thèque standard, riche de plus de 200 packages et modules, répond aux problèmes courants\n",
    "les plus variés."
   ]
  },
  {
   "cell_type": "code",
   "execution_count": 14,
   "metadata": {},
   "outputs": [
    {
     "data": {
      "text/plain": [
       "['__doc__',\n",
       " '__loader__',\n",
       " '__name__',\n",
       " '__package__',\n",
       " '__spec__',\n",
       " 'acos',\n",
       " 'acosh',\n",
       " 'asin',\n",
       " 'asinh',\n",
       " 'atan',\n",
       " 'atan2',\n",
       " 'atanh',\n",
       " 'ceil',\n",
       " 'copysign',\n",
       " 'cos',\n",
       " 'cosh',\n",
       " 'degrees',\n",
       " 'e',\n",
       " 'erf',\n",
       " 'erfc',\n",
       " 'exp',\n",
       " 'expm1',\n",
       " 'fabs',\n",
       " 'factorial',\n",
       " 'floor',\n",
       " 'fmod',\n",
       " 'frexp',\n",
       " 'fsum',\n",
       " 'gamma',\n",
       " 'gcd',\n",
       " 'hypot',\n",
       " 'inf',\n",
       " 'isclose',\n",
       " 'isfinite',\n",
       " 'isinf',\n",
       " 'isnan',\n",
       " 'ldexp',\n",
       " 'lgamma',\n",
       " 'log',\n",
       " 'log10',\n",
       " 'log1p',\n",
       " 'log2',\n",
       " 'modf',\n",
       " 'nan',\n",
       " 'pi',\n",
       " 'pow',\n",
       " 'radians',\n",
       " 'remainder',\n",
       " 'sin',\n",
       " 'sinh',\n",
       " 'sqrt',\n",
       " 'tan',\n",
       " 'tanh',\n",
       " 'tau',\n",
       " 'trunc']"
      ]
     },
     "execution_count": 14,
     "metadata": {},
     "output_type": "execute_result"
    }
   ],
   "source": [
    "import math\n",
    "dir(math)  # Pour voir l’ensemble des fonction qui forment le module."
   ]
  },
  {
   "cell_type": "code",
   "execution_count": 15,
   "metadata": {},
   "outputs": [
    {
     "name": "stdout",
     "output_type": "stream",
     "text": [
      "Help on built-in function gamma in module math:\n",
      "\n",
      "gamma(x, /)\n",
      "    Gamma function at x.\n",
      "\n"
     ]
    }
   ],
   "source": [
    "help(math.gamma) # renvoie l’aide sur la fonction gamma du module math"
   ]
  },
  {
   "cell_type": "code",
   "execution_count": 16,
   "metadata": {},
   "outputs": [],
   "source": [
    "from math import sin # Importe la fonction sinus\n",
    "from math import cos, sin, tan, pi # Importe respectivement les fonction cosinus, sinus, tangente et la valeur pi (3.14)."
   ]
  },
  {
   "cell_type": "code",
   "execution_count": 17,
   "metadata": {},
   "outputs": [],
   "source": [
    "from math import * # Importe toutes les fonction associées à math (équivalent à import math)"
   ]
  },
  {
   "cell_type": "markdown",
   "metadata": {},
   "source": [
    "<left> <b> <span style=\"color:brown;\">Quelques utilisations de la fonction math : </span> </b></left>\n",
    "```python\n",
    "   from math import *\n",
    "    v=16 # définit une variable v\n",
    "    x = math.sqrt (v) # Renvoie la racine carrée de v\n",
    "    y = math.e(v) # Renvoie l’exponentiel de v\n",
    "    z = math.log(v) # Renvoie le logarithme népérien de v\n",
    "\n",
    "```"
   ]
  },
  {
   "cell_type": "markdown",
   "metadata": {},
   "source": [
    "<left> <b> <span style=\"color:brown;\">Quelques exemples d’utilisation du module random: </span> </b></left>\n",
    "\n",
    "```python\n",
    "   from random import random, randint, seed, uniform, randrange,sample, shuffle # Importe quelques fonctions utiles de random\n",
    " \n",
    "```"
   ]
  },
  {
   "cell_type": "code",
   "execution_count": 18,
   "metadata": {},
   "outputs": [
    {
     "name": "stdout",
     "output_type": "stream",
     "text": [
      "0.915582187055394\n"
     ]
    }
   ],
   "source": [
    "import random\n",
    "x=random.random() # Renvoie un nombre aléatoire.\n",
    "print(x)"
   ]
  },
  {
   "cell_type": "code",
   "execution_count": 19,
   "metadata": {},
   "outputs": [
    {
     "name": "stdout",
     "output_type": "stream",
     "text": [
      "7\n"
     ]
    }
   ],
   "source": [
    "import random\n",
    "x=random.randint(5,17) # Renvoie un nombre aléatoire entier entre 5 et 17.\n",
    "print(x)"
   ]
  },
  {
   "cell_type": "code",
   "execution_count": 20,
   "metadata": {},
   "outputs": [
    {
     "name": "stdout",
     "output_type": "stream",
     "text": [
      "5.931311049856437\n"
     ]
    }
   ],
   "source": [
    "import random\n",
    "x=random.uniform(5,17) # Renvoie un nombre aléatoire uniforme réel entre 5 et 17.\n",
    "print(x)"
   ]
  },
  {
   "cell_type": "markdown",
   "metadata": {},
   "source": [
    "## Amusez a regarder les modules `turtle`, `time`, `decimal`, `fractions`, `cmath`."
   ]
  },
  {
   "cell_type": "markdown",
   "metadata": {},
   "source": [
    "### Bibliothèques tierces\n",
    "Outre les modules intégrés à la distribution standard de Python, on trouve des biblio-\n",
    "thèques dans tous les domaines :\n",
    "- scientifique ;\n",
    "- bases de données ;\n",
    "- tests fonctionnels et contrôle de qualité ;\n",
    "- 3D ;\n",
    "- ...\n",
    "\n",
    "Le site [PYPI](pypi.python.org/pypi) (The Python Package Index) recense des milliers de modules\n",
    "et de packages !"
   ]
  },
  {
   "cell_type": "markdown",
   "metadata": {},
   "source": [
    "### Définir et utiliser son propre module\n",
    "On peut créer son propre module en rassemblant plusieurs fonctions dans un seul script et en\n",
    "l’enregistrant dans le répertoire courant avec l’extension `.py`. Le nom doit être un nom simple\n",
    "ne créant pas d’ambiguïté avec d’autres objets python. On peut choisir par exemple :\n",
    "`myprogram.py`.\n",
    "Une fois que le programme est enregistré dans le répertoire courant, il suffit d’importer le\n",
    "module comme un module classique et toutes ses fonctions (et variables) deviennent toute\n",
    "accessibles. L’appel du module se\n",
    "fait avec la commande:\n",
    "```python\n",
    "   import myprogram\n",
    "```\n",
    "Ensuite on peut utiliser les fonctions du module comme avec un module classique. Example:"
   ]
  },
  {
   "cell_type": "markdown",
   "metadata": {},
   "source": [
    "Ouvrez votre editeur de texte prefere et ecrivez-y le code ci-dessous que vous enregistrerez\n",
    "sous le nom de `cube_m.py`\n",
    "```python\n",
    "# Un module appele cube_m.py\n",
    "    def cube(y):\n",
    "        \"\"\"Calcule le cube du paramètre <y>.\"\"\"\n",
    "        return y**3\n",
    "\n",
    "\n",
    "    # Auto-test ----------------------------------------------------\n",
    "    if __name__ == \"__main__\": # False lors d’un import ==> ignoré\n",
    "    help(cube)\n",
    "    # affiche le docstring de la fonction\n",
    "    print(\"cube de 9 :\", cube(9)) # cube de 9 : 729\n",
    "```    "
   ]
  },
  {
   "cell_type": "code",
   "execution_count": 21,
   "metadata": {},
   "outputs": [
    {
     "ename": "ModuleNotFoundError",
     "evalue": "No module named 'cube_m'",
     "output_type": "error",
     "traceback": [
      "\u001b[0;31m---------------------------------------------------------------------------\u001b[0m",
      "\u001b[0;31mModuleNotFoundError\u001b[0m                       Traceback (most recent call last)",
      "\u001b[0;32m<ipython-input-21-5e385847003b>\u001b[0m in \u001b[0;36m<module>\u001b[0;34m()\u001b[0m\n\u001b[1;32m      1\u001b[0m \u001b[0;31m# Utilisation de ce module. On importe la fonction cube() incluse dans le fichier cube_m.py :\u001b[0m\u001b[0;34m\u001b[0m\u001b[0;34m\u001b[0m\u001b[0;34m\u001b[0m\u001b[0m\n\u001b[0;32m----> 2\u001b[0;31m \u001b[0;32mfrom\u001b[0m \u001b[0mcube_m\u001b[0m \u001b[0;32mimport\u001b[0m \u001b[0mcube\u001b[0m\u001b[0;34m\u001b[0m\u001b[0;34m\u001b[0m\u001b[0m\n\u001b[0m\u001b[1;32m      3\u001b[0m \u001b[0;32mfor\u001b[0m \u001b[0mi\u001b[0m \u001b[0;32min\u001b[0m \u001b[0mrange\u001b[0m\u001b[0;34m(\u001b[0m\u001b[0;36m1\u001b[0m\u001b[0;34m,\u001b[0m \u001b[0;36m4\u001b[0m\u001b[0;34m)\u001b[0m\u001b[0;34m:\u001b[0m\u001b[0;34m\u001b[0m\u001b[0;34m\u001b[0m\u001b[0m\n\u001b[1;32m      4\u001b[0m     \u001b[0mprint\u001b[0m\u001b[0;34m(\u001b[0m\u001b[0;34m\"cube de\"\u001b[0m\u001b[0;34m,\u001b[0m \u001b[0mi\u001b[0m\u001b[0;34m,\u001b[0m \u001b[0;34m\"=\"\u001b[0m\u001b[0;34m,\u001b[0m \u001b[0mcube\u001b[0m\u001b[0;34m(\u001b[0m\u001b[0mi\u001b[0m\u001b[0;34m)\u001b[0m\u001b[0;34m,\u001b[0m \u001b[0mend\u001b[0m\u001b[0;34m=\u001b[0m\u001b[0;34m\" \"\u001b[0m\u001b[0;34m)\u001b[0m\u001b[0;34m\u001b[0m\u001b[0;34m\u001b[0m\u001b[0m\n\u001b[1;32m      5\u001b[0m \u001b[0;31m# cube de 1 = 1 cube de 2 = 8 cube de 3 = 27\u001b[0m\u001b[0;34m\u001b[0m\u001b[0;34m\u001b[0m\u001b[0;34m\u001b[0m\u001b[0m\n",
      "\u001b[0;31mModuleNotFoundError\u001b[0m: No module named 'cube_m'"
     ]
    }
   ],
   "source": [
    "# Utilisation de ce module. On importe la fonction cube() incluse dans le fichier cube_m.py :\n",
    "from cube_m import cube\n",
    "for i in range(1, 4):\n",
    "    print(\"cube de\", i, \"=\", cube(i), end=\" \")\n",
    "# cube de 1 = 1 cube de 2 = 8 cube de 3 = 27"
   ]
  },
  {
   "cell_type": "markdown",
   "metadata": {},
   "source": [
    "## Paquet\n",
    "\n",
    "Un deuxième niveau d'organisation permet de structurer le code : les fichiers Python\n",
    "peuvent être organisés dans une arborescence de répertoires que l'on appelle `package` ou `paquet`.\n",
    "\n",
    "Plus simplement, un *package* ou _paquet_ est un module contenant d’autres modules. Les modules d'un package\n",
    "peuvent être des *sous-packages*, ce qui donne une structure arborescente. En résumé, un package est simplement un répertoire qui contient des modules et un fichier `__init__.py` décrivant l’arborescence du package. Example:"
   ]
  },
  {
   "cell_type": "markdown",
   "metadata": {},
   "source": [
    "## Dans un terminal, faites:\n",
    "\n",
    "- mkdir monpackage;\n",
    "- cd monpackage;\n",
    "- touch `__init__.py`;\n",
    "- touch mesfonctions.py\n",
    "  - ce fichier contient deuc fonctions python:\n",
    "  \n",
    "     ```python\n",
    "        def additionner(a,b):\n",
    "            return a + b\n",
    " \n",
    "        def soustraire(a,b):\n",
    "            retunr a - b\n",
    "\n",
    "     ```\n",
    "- touch mesattributs.py\n",
    "    - ce fichier contient deux constantes\n",
    "   ```python\n",
    "      x = 100\n",
    "      y = 95\n",
    "\n",
    "   ```"
   ]
  },
  {
   "cell_type": "code",
   "execution_count": 22,
   "metadata": {},
   "outputs": [
    {
     "ename": "ModuleNotFoundError",
     "evalue": "No module named 'monpackage'",
     "output_type": "error",
     "traceback": [
      "\u001b[0;31m---------------------------------------------------------------------------\u001b[0m",
      "\u001b[0;31mModuleNotFoundError\u001b[0m                       Traceback (most recent call last)",
      "\u001b[0;32m<ipython-input-22-7079c55c8ceb>\u001b[0m in \u001b[0;36m<module>\u001b[0;34m()\u001b[0m\n\u001b[0;32m----> 1\u001b[0;31m \u001b[0;32mfrom\u001b[0m \u001b[0mmonpackage\u001b[0m \u001b[0;32mimport\u001b[0m \u001b[0mmesfonctions\u001b[0m\u001b[0;34m\u001b[0m\u001b[0;34m\u001b[0m\u001b[0m\n\u001b[0m",
      "\u001b[0;31mModuleNotFoundError\u001b[0m: No module named 'monpackage'"
     ]
    }
   ],
   "source": [
    "from monpackage import mesfonctions"
   ]
  },
  {
   "cell_type": "code",
   "execution_count": 23,
   "metadata": {},
   "outputs": [
    {
     "ename": "NameError",
     "evalue": "name 'mesfonctions' is not defined",
     "output_type": "error",
     "traceback": [
      "\u001b[0;31m---------------------------------------------------------------------------\u001b[0m",
      "\u001b[0;31mNameError\u001b[0m                                 Traceback (most recent call last)",
      "\u001b[0;32m<ipython-input-23-03c9abfed936>\u001b[0m in \u001b[0;36m<module>\u001b[0;34m()\u001b[0m\n\u001b[0;32m----> 1\u001b[0;31m \u001b[0mmesfonctions\u001b[0m\u001b[0;34m.\u001b[0m\u001b[0madditionner\u001b[0m\u001b[0;34m(\u001b[0m\u001b[0;36m23\u001b[0m\u001b[0;34m,\u001b[0m\u001b[0;36m89\u001b[0m\u001b[0;34m)\u001b[0m \u001b[0;34m==\u001b[0m \u001b[0;36m112\u001b[0m  \u001b[0;31m# Retourne True\u001b[0m\u001b[0;34m\u001b[0m\u001b[0;34m\u001b[0m\u001b[0m\n\u001b[0m",
      "\u001b[0;31mNameError\u001b[0m: name 'mesfonctions' is not defined"
     ]
    }
   ],
   "source": [
    "mesfonctions.additionner(23,89) == 112  # Retourne True"
   ]
  },
  {
   "cell_type": "code",
   "execution_count": 24,
   "metadata": {},
   "outputs": [
    {
     "ename": "ModuleNotFoundError",
     "evalue": "No module named 'monpackage'",
     "output_type": "error",
     "traceback": [
      "\u001b[0;31m---------------------------------------------------------------------------\u001b[0m",
      "\u001b[0;31mModuleNotFoundError\u001b[0m                       Traceback (most recent call last)",
      "\u001b[0;32m<ipython-input-24-7db0897245a5>\u001b[0m in \u001b[0;36m<module>\u001b[0;34m()\u001b[0m\n\u001b[0;32m----> 1\u001b[0;31m \u001b[0;32mfrom\u001b[0m \u001b[0mmonpackage\u001b[0m \u001b[0;32mimport\u001b[0m \u001b[0mmesattributs\u001b[0m\u001b[0;34m\u001b[0m\u001b[0;34m\u001b[0m\u001b[0m\n\u001b[0m",
      "\u001b[0;31mModuleNotFoundError\u001b[0m: No module named 'monpackage'"
     ]
    }
   ],
   "source": [
    "from monpackage import mesattributs"
   ]
  },
  {
   "cell_type": "code",
   "execution_count": 25,
   "metadata": {},
   "outputs": [
    {
     "ename": "NameError",
     "evalue": "name 'mesattributs' is not defined",
     "output_type": "error",
     "traceback": [
      "\u001b[0;31m---------------------------------------------------------------------------\u001b[0m",
      "\u001b[0;31mNameError\u001b[0m                                 Traceback (most recent call last)",
      "\u001b[0;32m<ipython-input-25-ebb90509da6f>\u001b[0m in \u001b[0;36m<module>\u001b[0;34m()\u001b[0m\n\u001b[1;32m      1\u001b[0m \u001b[0;34m\u001b[0m\u001b[0m\n\u001b[0;32m----> 2\u001b[0;31m \u001b[0mmesattributs\u001b[0m\u001b[0;34m.\u001b[0m\u001b[0mx\u001b[0m \u001b[0;34m==\u001b[0m \u001b[0;36m100\u001b[0m \u001b[0;31m# Retourne True\u001b[0m\u001b[0;34m\u001b[0m\u001b[0;34m\u001b[0m\u001b[0m\n\u001b[0m",
      "\u001b[0;31mNameError\u001b[0m: name 'mesattributs' is not defined"
     ]
    }
   ],
   "source": [
    "\n",
    "mesattributs.x == 100 # Retourne True"
   ]
  },
  {
   "cell_type": "code",
   "execution_count": 26,
   "metadata": {},
   "outputs": [
    {
     "ename": "ModuleNotFoundError",
     "evalue": "No module named 'poly'",
     "output_type": "error",
     "traceback": [
      "\u001b[0;31m---------------------------------------------------------------------------\u001b[0m",
      "\u001b[0;31mModuleNotFoundError\u001b[0m                       Traceback (most recent call last)",
      "\u001b[0;32m<ipython-input-26-9ba1382ff1bd>\u001b[0m in \u001b[0;36m<module>\u001b[0;34m()\u001b[0m\n\u001b[0;32m----> 1\u001b[0;31m \u001b[0;32mfrom\u001b[0m \u001b[0mpoly\u001b[0m \u001b[0;32mimport\u001b[0m \u001b[0mPolynome\u001b[0m\u001b[0;34m\u001b[0m\u001b[0;34m\u001b[0m\u001b[0m\n\u001b[0m",
      "\u001b[0;31mModuleNotFoundError\u001b[0m: No module named 'poly'"
     ]
    }
   ],
   "source": [
    "from poly import Polynome"
   ]
  },
  {
   "cell_type": "markdown",
   "metadata": {},
   "source": [
    "<!--NAVIGATION-->\n",
    "< [4. Contrôle du flux d'instructions](04.Contrôle_du_flux_d_instructions.ipynb)| [Sommaire](Index.ipynb) | [6. Classes et POO](06.Classes_et_POO.ipynb) >\n"
   ]
  }
 ],
 "metadata": {
  "kernelspec": {
   "display_name": "Python 3",
   "language": "python",
   "name": "python3"
  },
  "language_info": {
   "codemirror_mode": {
    "name": "ipython",
    "version": 3
   },
   "file_extension": ".py",
   "mimetype": "text/x-python",
   "name": "python",
   "nbconvert_exporter": "python",
   "pygments_lexer": "ipython3",
   "version": "3.7.3"
  },
  "varInspector": {
   "cols": {
    "lenName": 16,
    "lenType": 16,
    "lenVar": 40
   },
   "kernels_config": {
    "python": {
     "delete_cmd_postfix": "",
     "delete_cmd_prefix": "del ",
     "library": "var_list.py",
     "varRefreshCmd": "print(var_dic_list())"
    },
    "r": {
     "delete_cmd_postfix": ") ",
     "delete_cmd_prefix": "rm(",
     "library": "var_list.r",
     "varRefreshCmd": "cat(var_dic_list()) "
    }
   },
   "types_to_exclude": [
    "module",
    "function",
    "builtin_function_or_method",
    "instance",
    "_Feature"
   ],
   "window_display": false
  }
 },
 "nbformat": 4,
 "nbformat_minor": 2
}
