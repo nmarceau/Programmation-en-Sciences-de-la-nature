{
 "cells": [
  {
   "cell_type": "markdown",
   "metadata": {},
   "source": [
    "# Introduction à Python avec iPython"
   ]
  },
  {
   "cell_type": "markdown",
   "metadata": {},
   "source": [
    "## Python ? iPython ? kézako ??"
   ]
  },
  {
   "cell_type": "markdown",
   "metadata": {},
   "source": [
    "Python est un langage de programmation très utilisé dans l'industrie ainsi que dans le domaine de la recherche. Il est étudié à l'université et en classe préparatoires. Il se développe également de plus en plus en lycée - plusieurs manuels scolaires de lycée y font maintenant référence. ![Python logo](https://respawner.fr/blog/public/Divers/.python_t.jpg)"
   ]
  },
  {
   "cell_type": "markdown",
   "metadata": {},
   "source": [
    "iPython est un environnement interactif permettant l'exécution de python. Vous en avez l'illustration sous les yeux puisque c'est iPython qui vous amène le langage Python dans votre navigateur internet !\n",
    "\n",
    "C'est un outil très riche car il permet de mélanger en un seul lieu des explications et des morceaux de programme. iPython est en quelque sorte un cahier de recherche interactif ! Nous allons l'utiliser tout au long de cette année."
   ]
  },
  {
   "cell_type": "markdown",
   "metadata": {},
   "source": [
    "## Concrêtement, comment ça marche ?"
   ]
  },
  {
   "cell_type": "markdown",
   "metadata": {},
   "source": [
    "Vous pouvez à tout moment changer le type d'une cellule grâce à la liste déroulante sur la barre d'outils. Vous pouvez choisir entre :\n",
    "- code : la cellule contient alors des instructions Python qui seront interprétées\n",
    "- Markdown : la cellule contient alors du texte qui sera juste affiché\n",
    "- Heading x : la cellule s'affichera comme un titre de section.\n",
    "\n",
    "Pour valider une cellule, appuyez sur la touche `shift-enter` ou bien cliquez sur le bouton <button><i class=\"icon-play\"></i></button> de la barre d'icônes.\n",
    "\n",
    "Regardez ci-dessous votre première ligne de code Python : Simple n'est-ce pas ?"
   ]
  },
  {
   "cell_type": "code",
   "execution_count": 1,
   "metadata": {
    "collapsed": false
   },
   "outputs": [
    {
     "data": {
      "text/plain": [
       "4"
      ]
     },
     "execution_count": 1,
     "metadata": {},
     "output_type": "execute_result"
    }
   ],
   "source": [
    "2+2"
   ]
  },
  {
   "cell_type": "markdown",
   "metadata": {},
   "source": [
    "Pour insérer une nouvelle cellule à un emplacement du texte, cliquez sur la cellule où vous voulez faire des modifications puis cliquez sur le bouton <button><i class=\"icon-plus-sign\"></i></button> de la barre d'icônes.\n",
    "\n",
    "Pour modifier une cellule, double-cliquez dessus tout simplement."
   ]
  },
  {
   "cell_type": "markdown",
   "metadata": {},
   "source": [
    "## Et même du HTML !!"
   ]
  },
  {
   "cell_type": "markdown",
   "metadata": {},
   "source": [
    "On peut, dans une cellule markdown taper directement du <B>code HTML</B> !!!\n",
    "<H1>Insérer du code HTML</H1>\n",
    "<P>On peut insérer du code HTML directement dans une Cellule\n",
    "<P>Et même une image :\n",
    "    <IMG SRC=\"http://www.silicon.fr/wp-content/uploads/2011/12/Python-serpent-92x92.jpg\">\n",
    "<P>Et même un tableau\n",
    "<TABLE><TR><TD>colonne 1</TD><TD>Colonne 2</TD></TR>\n",
    "<TR><TD></TD><TD>Truc</TD></TR>\n",
    "</TABLE>"
   ]
  },
  {
   "cell_type": "markdown",
   "metadata": {},
   "source": [
    "## A vous de jouer !"
   ]
  },
  {
   "cell_type": "markdown",
   "metadata": {},
   "source": [
    "Dans ce paragraphe, vous allez créer\n",
    "- une cellule contenant du texte - ce que vous voulez :) \n",
    "- une cellule contenant du code HTML\n",
    "- et une cellule contenant du code qui sera exécuté par Python. \n",
    "Pas de panique, si vous ne savez pas encore parler au python, une petite opération mathématique suffira à ce stade :)"
   ]
  },
  {
   "cell_type": "code",
   "execution_count": null,
   "metadata": {
    "collapsed": false
   },
   "outputs": [],
   "source": []
  }
 ],
 "metadata": {
  "kernelspec": {
   "display_name": "Python 3",
   "language": "python",
   "name": "python3"
  },
  "language_info": {
   "codemirror_mode": {
    "name": "ipython",
    "version": 3
   },
   "file_extension": ".py",
   "mimetype": "text/x-python",
   "name": "python",
   "nbconvert_exporter": "python",
   "pygments_lexer": "ipython3",
   "version": "3.4.3"
  }
 },
 "nbformat": 4,
 "nbformat_minor": 0
}
