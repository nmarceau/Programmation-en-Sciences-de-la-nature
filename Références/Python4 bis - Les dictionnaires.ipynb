{
 "cells": [
  {
   "cell_type": "markdown",
   "metadata": {},
   "source": [
    "# Les dictionnaires"
   ]
  },
  {
   "cell_type": "markdown",
   "metadata": {},
   "source": [
    "Les dictionnaires sont des objets pouvant en contenir d'autres, un peu comme des listes.\n",
    "\n",
    "Cependant, au lieu d'héberger des informations dans un ordre précis, ils associent chaque ***valeur*** contenue à une ***clé*** (qui peut être une chaîne de caractère ou simplement un nombre).\n",
    "\n",
    "Voyons tout de suite un exemple :"
   ]
  },
  {
   "cell_type": "code",
   "execution_count": null,
   "metadata": {
    "collapsed": false
   },
   "outputs": [],
   "source": [
    "coeffBacS={\"ISN\":2,\"Maths\":7}"
   ]
  },
  {
   "cell_type": "markdown",
   "metadata": {},
   "source": [
    "Dans l'exemple ci-dessus, nous avons créé un dictionnaire ***coeffBacS***. Nous voyons tout de suite que :\n",
    "- le caractère servant à délimiter le dictionnaire est l'accolade { }, ce qui le distingue des listes délimitées par des crochets.\n",
    "- Il contient deux valeurs : 2 et 7\n",
    "- Il contient deux clés : \"ISN\" et \"Maths\""
   ]
  },
  {
   "cell_type": "markdown",
   "metadata": {},
   "source": [
    "## Accéder à une valeur du dictionnaire"
   ]
  },
  {
   "cell_type": "markdown",
   "metadata": {},
   "source": [
    "Contrairement aux listes ou on accède aux valeurs par la position dans la liste, on accède aux valeurs du dictionnaire par l'intermédiaire des ***clés***. Regardez l'exemple ci-dessous :"
   ]
  },
  {
   "cell_type": "code",
   "execution_count": null,
   "metadata": {
    "collapsed": false
   },
   "outputs": [],
   "source": [
    "print(coeffBacS[\"ISN\"])\n",
    "print(coeffBacS[\"Maths\"])"
   ]
  },
  {
   "cell_type": "markdown",
   "metadata": {},
   "source": [
    "La ressemblance avec les listes pour accéder aux données est assez frappante.\n",
    "\n",
    "Attention cependant à bien utiliser une clé qui a été définie, sinon..."
   ]
  },
  {
   "cell_type": "code",
   "execution_count": null,
   "metadata": {
    "collapsed": false
   },
   "outputs": [],
   "source": [
    "print(coeffBacS[\"MATHS\"])"
   ]
  },
  {
   "cell_type": "markdown",
   "metadata": {},
   "source": [
    "Ici la clé ***MATHS*** n'existe pas. En effet le système est sensible aux majuscules !"
   ]
  },
  {
   "cell_type": "markdown",
   "metadata": {},
   "source": [
    "## Savoir si une clé existe dans un dictionnaire"
   ]
  },
  {
   "cell_type": "markdown",
   "metadata": {},
   "source": [
    "Pour éviter ce type d'erreur, on peut tester l'existance d'une clé par le mot clé Python ***in***"
   ]
  },
  {
   "cell_type": "code",
   "execution_count": null,
   "metadata": {
    "collapsed": false
   },
   "outputs": [],
   "source": [
    "print(\"MATHS\" in coeffBacS)\n",
    "print(\"ISN\" in coeffBacS)"
   ]
  },
  {
   "cell_type": "markdown",
   "metadata": {},
   "source": [
    "## Ajouter des données à un dictionnaire"
   ]
  },
  {
   "cell_type": "markdown",
   "metadata": {},
   "source": [
    "L'ajout de données se fait très simplement :"
   ]
  },
  {
   "cell_type": "code",
   "execution_count": null,
   "metadata": {
    "collapsed": false
   },
   "outputs": [],
   "source": [
    "coeffBacS[\"Philo\"]=3"
   ]
  },
  {
   "cell_type": "markdown",
   "metadata": {},
   "source": [
    "Les clés peuvent être de type différents, ainsi que les données :"
   ]
  },
  {
   "cell_type": "code",
   "execution_count": null,
   "metadata": {
    "collapsed": false
   },
   "outputs": [],
   "source": [
    "coeffBacS[2]=[\"Français\", \"LV2\",\"SPE\",\"EPS\"]"
   ]
  },
  {
   "cell_type": "code",
   "execution_count": null,
   "metadata": {
    "collapsed": false
   },
   "outputs": [],
   "source": [
    "print(coeffBacS[2])\n",
    "print(coeffBacS[\"Philo\"])"
   ]
  },
  {
   "cell_type": "markdown",
   "metadata": {},
   "source": [
    "## Parcourir un dictionnaire"
   ]
  },
  {
   "cell_type": "markdown",
   "metadata": {},
   "source": [
    "Pour parcourir un dictiionnaire, on va utiliser les méthodes\n",
    "- ***keys()*** pour récupérer la liste des clés\n",
    "- ***values()*** pour récupérer la liste des valeurs\n",
    "\n",
    "Par exemple, affichons toutes les valeurs contenues dans notre dictionnaire"
   ]
  },
  {
   "cell_type": "code",
   "execution_count": null,
   "metadata": {
    "collapsed": false
   },
   "outputs": [],
   "source": [
    "print (\"Il y a \",len(coeffBacS), \" valeurs dans le dictionnaire\")\n",
    "for valeur in coeffBacS.values():\n",
    "    print (valeur)"
   ]
  },
  {
   "cell_type": "markdown",
   "metadata": {},
   "source": [
    "et de même pour les clés :"
   ]
  },
  {
   "cell_type": "code",
   "execution_count": null,
   "metadata": {
    "collapsed": false
   },
   "outputs": [],
   "source": [
    "for cle in coeffBacS.keys():\n",
    "    print (cle)"
   ]
  },
  {
   "cell_type": "markdown",
   "metadata": {},
   "source": [
    "Complétons notre dictionnaire ...."
   ]
  },
  {
   "cell_type": "code",
   "execution_count": null,
   "metadata": {
    "collapsed": false
   },
   "outputs": [],
   "source": [
    "coeffBacS[\"Francais Oral\"]=2\n",
    "coeffBacS[\"Physique Chimie\"]=6\n",
    "coeffBacS[\"SVT\"]=6\n",
    "coeffBacS[\"HGéo\"]=3\n",
    "coeffBacS[\"LV1\"]=3\n",
    "coeffBacS[\"TPE\"]=2"
   ]
  },
  {
   "cell_type": "markdown",
   "metadata": {},
   "source": [
    "# A vous de jouer..."
   ]
  },
  {
   "cell_type": "markdown",
   "metadata": {},
   "source": [
    "Ecrire un programme calculant la somme des coefficients des matières du bac.\n",
    "\n",
    "Attention, il y a une *valeur parasite* sur la clé 2 qui est du type liste. Elle ne s'ajoutera pas bien aux reste des valeurs !\n",
    "\n",
    "Voici un moyen de détecter si une valeur est de type entier ou non ..."
   ]
  },
  {
   "cell_type": "code",
   "execution_count": null,
   "metadata": {
    "collapsed": false
   },
   "outputs": [],
   "source": [
    "type(coeffBacS[\"ISN\"])==int"
   ]
  },
  {
   "cell_type": "code",
   "execution_count": null,
   "metadata": {
    "collapsed": false
   },
   "outputs": [],
   "source": [
    "type(coeffBacS[2])==int"
   ]
  },
  {
   "cell_type": "code",
   "execution_count": null,
   "metadata": {
    "collapsed": false
   },
   "outputs": [],
   "source": [
    "# Ecrivez votre programme ici"
   ]
  },
  {
   "cell_type": "markdown",
   "metadata": {},
   "source": [
    "# Pour aller plus loin : Défi Turing N° 29"
   ]
  },
  {
   "cell_type": "markdown",
   "metadata": {},
   "source": [
    "Considérons $a^b$ pour 2 ≤ a ≤ 5 et 2 ≤ b ≤ 5 : \n",
    "\n",
    " $2^2=4, 2^3=8, 2^4=16, 2^5=32$\n",
    "\n",
    " $3^2=9, 3^3=27, 3^4=81, 3^5=243$  \n",
    "\n",
    " $4^2=16, 4^3=64, 4^4=256, 4^5=1024$\n",
    "\n",
    " $5^2=25, 5^3=125, 5^4=625, 5^5=3125$ \n",
    "\n",
    "Si l'on trie ces nombres dans l'ordre croissant, en supprimant les répétitions, on obtient une suite de 15 termes distincts : \n",
    "\n",
    " 4, 8, 9, 16, 25, 27, 32, 64, 81, 125, 243, 256, 625, 1024, 3125 \n",
    "\n",
    "***Combien y a-t-il de termes distincts dans la suite obtenue comme ci-dessus pour 2 ≤ a ≤ 1000 et 2 ≤ b ≤ 1000 ?***"
   ]
  },
  {
   "cell_type": "markdown",
   "metadata": {},
   "source": [
    "### Quelques indices...\n",
    "\n",
    "- On pourra faire deux boucles ***pour*** gérant les valeurs de *a* et *b*.\n",
    "- Pour savoir si une puissance $a^b$ a déjà été prise en comple, on pourra utiliser un dictionnaire dont les clés seraient les puissances déjà calculées et les valeurs seraient True ou False. Exemple "
   ]
  },
  {
   "cell_type": "code",
   "execution_count": null,
   "metadata": {
    "collapsed": false
   },
   "outputs": [],
   "source": [
    "dico={}\n",
    "a=2\n",
    "b=3\n",
    "dico[a**b]=True\n",
    "print(\"La valeur a^b a été calculée ? \",a**b in dico)\n",
    "print (\"La valeur b^a a été calculée ? \",b**a in dico)"
   ]
  },
  {
   "cell_type": "code",
   "execution_count": null,
   "metadata": {
    "collapsed": false
   },
   "outputs": [],
   "source": [
    "# Ecrivez votre programme ici"
   ]
  },
  {
   "cell_type": "markdown",
   "metadata": {},
   "source": [
    "# En conclusion"
   ]
  },
  {
   "cell_type": "markdown",
   "metadata": {},
   "source": [
    "Les dictionnaires sont un type de donnée structuré très puissant qui vous rendront probablement sevice dans vos projets. Ils sont particulièrement puissants quand il s'agit de mémoriser des données se présentant sous la forme d'un couple ***clé - valeur***"
   ]
  },
  {
   "cell_type": "code",
   "execution_count": null,
   "metadata": {
    "collapsed": false
   },
   "outputs": [],
   "source": []
  }
 ],
 "metadata": {
  "kernelspec": {
   "display_name": "Python 3",
   "language": "python",
   "name": "python3"
  },
  "language_info": {
   "codemirror_mode": {
    "name": "ipython",
    "version": 3
   },
   "file_extension": ".py",
   "mimetype": "text/x-python",
   "name": "python",
   "nbconvert_exporter": "python",
   "pygments_lexer": "ipython3",
   "version": "3.4.3"
  }
 },
 "nbformat": 4,
 "nbformat_minor": 0
}
