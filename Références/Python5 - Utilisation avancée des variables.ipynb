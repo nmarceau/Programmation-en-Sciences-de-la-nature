{
 "cells": [
  {
   "cell_type": "markdown",
   "metadata": {},
   "source": [
    "# Utilisation avancée des variables"
   ]
  },
  {
   "cell_type": "markdown",
   "metadata": {},
   "source": [
    "En Python, les variables sont crées automatiquement à leur première utilisation. Pour créer une variable, il\n",
    "suffit donc de l’utiliser en l’affectant une première fois, c’est à dire d’écrire *nom_variable=valeur_de_la_variable*.\n",
    "Une variable peut prendre n’importe quel nom, tant qu’elle respecte les règles suivantes :\n",
    "- Son nom commence de préférence par une lettre minuscule (a à z) ou majuscule (A à Z), ou bien par le\n",
    "caractère souligné (_)\n",
    "- Pour la suite de son nom, on peut utiliser les lettres minuscules et majuscule, le souligné et un chiffre (0\n",
    "à 9)\n",
    "- Il faut éviter de préférence d’utiliser un mot réservé (commande Python)"
   ]
  },
  {
   "cell_type": "markdown",
   "metadata": {},
   "source": [
    "## Affectations - rappels"
   ]
  },
  {
   "cell_type": "code",
   "execution_count": null,
   "metadata": {
    "collapsed": false
   },
   "outputs": [],
   "source": [
    "a=7 # Affectation simple\n",
    "x=y=7 # Affectation multiple\n",
    "z,t=\"toto\",8 # Affectation en parallèle"
   ]
  },
  {
   "cell_type": "code",
   "execution_count": null,
   "metadata": {
    "collapsed": false
   },
   "outputs": [],
   "source": [
    "print(a)\n",
    "print(x,y)\n",
    "print(z,t)"
   ]
  },
  {
   "cell_type": "markdown",
   "metadata": {},
   "source": [
    "## Variables locales - Variables globales"
   ]
  },
  {
   "cell_type": "markdown",
   "metadata": {},
   "source": [
    "### Variables locales"
   ]
  },
  {
   "cell_type": "markdown",
   "metadata": {},
   "source": [
    "Une *variable locale* est une variable définie à l’**intérieur d’une fonction**. Elle n’est utilisable qu’à l’intérieur\n",
    "de celle-ci, le reste du programme **ignorant totalement** son existence."
   ]
  },
  {
   "cell_type": "markdown",
   "metadata": {},
   "source": [
    "Cet exemple illustre le mécanisme de variable locale et de passage de paramètre. La variable locale **varLoc** est\n",
    "utilisable à l’intérieur de la fonction *maFonction* et remplit son rôle."
   ]
  },
  {
   "cell_type": "code",
   "execution_count": null,
   "metadata": {
    "collapsed": false
   },
   "outputs": [],
   "source": [
    "def maFonction(param):\n",
    "    varLoc=4\n",
    "    varLoc=varLoc+param\n",
    "    print(varLoc)\n",
    "\n",
    "maFonction(5)"
   ]
  },
  {
   "cell_type": "markdown",
   "metadata": {},
   "source": [
    "Néanmoins, cette variable n'a plus d'existance à l'extérieur de la fonction.\n",
    "Exécutez le code suivant et trouver dans le message d'erreur ce qui prouve que la variable locale est détruite en sortant de la fonction."
   ]
  },
  {
   "cell_type": "code",
   "execution_count": null,
   "metadata": {
    "collapsed": false
   },
   "outputs": [],
   "source": [
    "maFonction(3)\n",
    "print(varLoc)"
   ]
  },
  {
   "cell_type": "markdown",
   "metadata": {},
   "source": [
    "## Variables globales"
   ]
  },
  {
   "cell_type": "markdown",
   "metadata": {},
   "source": [
    "Il existe des cas ou on souhaite qu'une variable soit persistante tout au long de la vie du programme, quelque soit la fonction qui l'utilise. C'est ce qu'on appelle une *variable globale*.\n",
    "\n",
    "Il faut être assez prudent dans l'utilisation de ces variables : une trop grande quantité de variables globales rend le programme difficile à lire et à maintenir. C'est une technique de programmation peu élégante. \n",
    "\n",
    "On préfère en général avoir recours à des **objets** (voir le classeur sur la programmation orientée objet)."
   ]
  },
  {
   "cell_type": "markdown",
   "metadata": {},
   "source": [
    "Une *variable globale* est définie dans le programme principal (souvent au début dans la section d’initialisa-\n",
    "tion). Elle est par défaut **accessible en lecture seule dans l’ensemble des fonctions** définies dans le programme :"
   ]
  },
  {
   "cell_type": "code",
   "execution_count": null,
   "metadata": {
    "collapsed": false
   },
   "outputs": [],
   "source": [
    "varGlo=5\n",
    "def maFonction1():\n",
    "    print (\"varGlo dans fonction1\",varGlo)\n",
    "\n",
    "def maFonction2():\n",
    "    varGlo=4\n",
    "    print (\"varGlo dans fonction2\",varGlo)\n",
    "\n",
    "print(\"Debut programme principal\",varGlo)\n",
    "maFonction1()\n",
    "maFonction2()\n",
    "print(\"Fin programme principal\",varGlo)"
   ]
  },
  {
   "cell_type": "markdown",
   "metadata": {},
   "source": [
    "Vous constaterez dans l'exemple ci-dessus que\n",
    "-*varGlo* est **accessible en lecture** dans *maFonction1*\n",
    "-*varGlo* **a pu être modifiée** dans *maFonction2*\n",
    "-les modifications de *varGlo* dans *maFonction2* n'ont **pas été répercutées** dans le programme principal !\n",
    "\n",
    "On peut avoir l'impression en lisant le code que *varGlo* prend la valeur 4 dès que *maFonction2* est exécutée. En réalité, maFonction2 va créer une variable locale de même nom que varGlo qui n'aura d'existance qu'à l'intérieur de la fonction. La variable globale varGlo créée au début du programme, elle, est **inchangée**.\n",
    "\n",
    "Voila pourquoi il faut être prudent quant à l'utilisation des variables globales."
   ]
  },
  {
   "cell_type": "markdown",
   "metadata": {},
   "source": [
    "### Modifier une variable globale dans une fonction"
   ]
  },
  {
   "cell_type": "markdown",
   "metadata": {},
   "source": [
    "Il est bien sûr possible de modifier le contenu d'une variable globale à l'intérieur d'une fonction. Pour ce faire, on utilisera la commande python **global** pour indiquer à la fonction  les variables globales accessibles en modification.\n",
    "\n",
    "Etudiez l'exemple suivant :"
   ]
  },
  {
   "cell_type": "code",
   "execution_count": null,
   "metadata": {
    "collapsed": false
   },
   "outputs": [],
   "source": [
    "varGlo=5\n",
    "\n",
    "def maFonction3():\n",
    "    global varGlo\n",
    "    varGlo=4\n",
    "\n",
    "maFonction3()\n",
    "interro (\"Quelle est la valeur de varGlo après appel de maFonction3 ?\",varGlo)"
   ]
  },
  {
   "cell_type": "markdown",
   "metadata": {},
   "source": [
    "## Les références partagées : le cas des listes"
   ]
  },
  {
   "cell_type": "markdown",
   "metadata": {},
   "source": [
    "Les listes Python sont des **références**, c’est à dire que écrire a = [(1,0,0),(0,1,0),(0,0,1)] ne\n",
    "signifie pas que a *vaut* [(1,0,0),(0,1,0),(0,0,1)] mais que a *référence* la liste [(1,0,0),(0,1,0),(0,0,1)], c'est à dire contient un *pointeur vers la zone mémoire qui contient cette liste*.\n",
    "\n",
    "La subtilité est que la commande *b = a* ne va pas duppliquer le contenu de la liste mais **recopier une référence sur cette même liste**. Si on modifie b, alors a **sera également modifié**. \n",
    "\n",
    "L’examen des deux exemples suivant illustre ce concept."
   ]
  },
  {
   "cell_type": "code",
   "execution_count": null,
   "metadata": {
    "collapsed": false
   },
   "outputs": [],
   "source": [
    "a = [(1,0,0), (0,1,0), (0,0,1)]\n",
    "print (\"a=\",a)\n",
    "\n",
    "b = a # On copie la référence, pas la liste\n",
    "\n",
    "b[0] = (1,1,0) # On modifie b\n",
    "print(\"b=\",b)\n",
    "\n",
    "print(\"a=\",a) # Ouuups !!!"
   ]
  },
  {
   "cell_type": "markdown",
   "metadata": {},
   "source": [
    "Dans l'exemple ci-dessus, la modification de *b* entraîne sans qu'on s'y attende la modification de *a* !!\n",
    "\n",
    "Ce n'est pas un bug de Python, c'est normal quand on sait comment Python gère la mémoire."
   ]
  },
  {
   "cell_type": "markdown",
   "metadata": {},
   "source": [
    "Pour s'en convaincre, on va utiliser la commande **id** qui permet d'obtenir l'adresse mémoire de l'objet référencé par une variable :"
   ]
  },
  {
   "cell_type": "code",
   "execution_count": null,
   "metadata": {
    "collapsed": false
   },
   "outputs": [],
   "source": [
    "print(\"adresse de a\",id(a))\n",
    "print(\"adresse de b\",id(b))"
   ]
  },
  {
   "cell_type": "markdown",
   "metadata": {},
   "source": [
    "Tout s'explique !! *a* et *b* son un seul et même objet !\n",
    "\n",
    "Mais comment faire pour obtenir dans *b* une liste identique mais indépendante de *a* ?"
   ]
  },
  {
   "cell_type": "code",
   "execution_count": null,
   "metadata": {
    "collapsed": false
   },
   "outputs": [],
   "source": [
    "a = [(1,0,0), (0,1,0),(0,0,1)]\n",
    "b = [(1,0,0), (0,1,0),(0,0,1)]\n",
    "print(\"adresse de a\",id(a))\n",
    "print(\"adresse de b\",id(b))"
   ]
  },
  {
   "cell_type": "markdown",
   "metadata": {},
   "source": [
    "ah ! les adresses de *a* et de *b* sont différentes. Si je modifie *b*, *a* ne devrait pas être impacté. Vérifions le de suite !"
   ]
  },
  {
   "cell_type": "code",
   "execution_count": null,
   "metadata": {
    "collapsed": false
   },
   "outputs": [],
   "source": [
    "b[0] = (1,1,0) # On modifie b\n",
    "print(\"b=\",b)\n",
    "\n",
    "print(\"a=\",a) # Ouuuf !!!"
   ]
  },
  {
   "cell_type": "markdown",
   "metadata": {},
   "source": [
    "On devra donc être prudent sur l’utilisation d’une affectation du type b=a surtout lorsqu’on travaille avec des listes\n",
    "ou des chaîne de caractères, des effets inattendus peuvent alors se produire."
   ]
  },
  {
   "cell_type": "code",
   "execution_count": null,
   "metadata": {
    "collapsed": false
   },
   "outputs": [],
   "source": [
    "# une erreur classique\n",
    "liste_desordre=[3,2,5,6,3,1]\n",
    "liste_ordre=liste_desordre\n",
    "liste_ordre.sort()\n",
    "print (\"Liste en ordre\",liste_ordre)\n",
    "print (\"Liste de départ\",liste_desordre) # oups"
   ]
  },
  {
   "cell_type": "markdown",
   "metadata": {},
   "source": [
    "Et voici comment réaliser une véritable dupplication de notre liste : on utilise la méthode ***copy()***"
   ]
  },
  {
   "cell_type": "code",
   "execution_count": null,
   "metadata": {
    "collapsed": false
   },
   "outputs": [],
   "source": [
    "liste_desordre=[3,2,5,6,3,1]\n",
    "liste_ordre=liste_desordre.copy()\n",
    "liste_ordre.sort()\n",
    "print (\"Liste en ordre\",liste_ordre)\n",
    "print (\"Liste de départ\",liste_desordre) # ouf"
   ]
  },
  {
   "cell_type": "markdown",
   "metadata": {},
   "source": [
    "## A vous de jouer"
   ]
  },
  {
   "cell_type": "markdown",
   "metadata": {},
   "source": [
    "Lorsque l'on manipule des variables contenant des chaînes de caractères, manipule t-on les références vers ces chaînes ou bien les contenus des chaînes de caractères ?\n",
    "\n",
    "Le comportement des chaînes de caractères est-il identique à celui des listes ou non ?\n",
    "\n",
    "En vous inspirant des manipulations faites listes mais avec des chaînes de caractères, tentez d'apporter des réponses à ces questions."
   ]
  },
  {
   "cell_type": "code",
   "execution_count": null,
   "metadata": {
    "collapsed": false
   },
   "outputs": [],
   "source": [
    "# Faites vos tests ici"
   ]
  },
  {
   "cell_type": "markdown",
   "metadata": {},
   "source": [
    "# Conclusion"
   ]
  },
  {
   "cell_type": "markdown",
   "metadata": {},
   "source": [
    "Il y a deux grands types d'objets en python :\n",
    "- les objets mutables\n",
    "- les objets immuables\n",
    "\n",
    "Les objets mutables sont des objets qui acceptent d'être modifiés sans avoir besoin d'être recopiés - on parle alors de modification sur place. Exemples : les listes, les dictionnaires, les ensembles.\n",
    "\n",
    "Les objets immuables sont des objets qui nécessitent d'être recréés pour être modifiés. Exemple : les chaines de caractères ou les tuples.\n",
    "\n",
    "Il faut être très prudent lors de la manipulation d'objets mutables à cause du problème des **références partagées** qui peut occasionner des *effets de bords* non désirés : modification non prévue d'autres variables que celle sur laquelle on agit."
   ]
  },
  {
   "cell_type": "code",
   "execution_count": null,
   "metadata": {
    "collapsed": false
   },
   "outputs": [],
   "source": []
  }
 ],
 "metadata": {
  "kernelspec": {
   "display_name": "Python 3",
   "language": "python",
   "name": "python3"
  },
  "language_info": {
   "codemirror_mode": {
    "name": "ipython",
    "version": 3
   },
   "file_extension": ".py",
   "mimetype": "text/x-python",
   "name": "python",
   "nbconvert_exporter": "python",
   "pygments_lexer": "ipython3",
   "version": "3.4.3"
  }
 },
 "nbformat": 4,
 "nbformat_minor": 0
}
