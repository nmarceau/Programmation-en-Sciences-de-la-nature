{
 "cells": [
  {
   "cell_type": "markdown",
   "id": "cf0eba03",
   "metadata": {},
   "source": [
    "# Exercices à rendre : semaine 2\n",
    "\n",
    "Ces exercices sont à rendre jusqu'au dimanche 06/02/2022, sur la plateforme Moodle.\n",
    "\n",
    "Vous devez remplir ce notebook avec vos réponses aux questions.\n",
    "\n",
    "Avant de déposer vos exercices, veuillez renommer le fichier sous la forme ``<NOM>_<PRENOM>_semaine2.ipynb`` en remplaçant ``<NOM>`` et ``<PRENOM>`` par vos nom et prénom.\n"
   ]
  },
  {
   "cell_type": "markdown",
   "id": "06be5d5f",
   "metadata": {},
   "source": [
    "## Exercice 1 : somme de cubes (2 points)"
   ]
  },
  {
   "cell_type": "markdown",
   "id": "02a01de6",
   "metadata": {},
   "source": [
    "**Question 1 :** Créer une fonction ``liste_cubes(n)`` qui prend en entrée un paramètre ``n``, et qui retourne la liste des cubes des entiers compris entre $1$ et $n$. Par exemple, pour $n = 4$, on obtient la liste ``[1, 8, 27, 64]``."
   ]
  },
  {
   "cell_type": "code",
   "execution_count": null,
   "id": "01ac6c01",
   "metadata": {},
   "outputs": [],
   "source": []
  },
  {
   "cell_type": "markdown",
   "id": "139bdc59",
   "metadata": {},
   "source": [
    "**Question 2 :** Créer une fonction ``somme_liste(L)`` qui calcule la somme des éléments d'une liste, en employant une boucle ``while``, et en commençant par le dernier élément de la liste. Il est **interdit** d'utiliser la fonction ``sum()`` de python."
   ]
  },
  {
   "cell_type": "code",
   "execution_count": null,
   "id": "f5494069",
   "metadata": {},
   "outputs": [],
   "source": []
  },
  {
   "cell_type": "markdown",
   "id": "b9ecc5fc",
   "metadata": {},
   "source": [
    "## Exercice 2 :  longueurs de mots dans une liste (2 points)"
   ]
  },
  {
   "cell_type": "markdown",
   "id": "c157b2d2",
   "metadata": {},
   "source": [
    "**Question 1 :** Écrire une fonction ``mot_le_plus_long(L)``, qui cherche la chaîne de caractères la plus longue parmi une liste de chaînes de caractères ``L``. S'il y a deux mots de même longueur, la première chaîne de caractères (dans l'ordre de la liste) de longueur maximale devra être retournée. Si la liste est vide, la fonction devra retourner le mot-clef ``None``."
   ]
  },
  {
   "cell_type": "code",
   "execution_count": null,
   "id": "e81b7534",
   "metadata": {},
   "outputs": [],
   "source": []
  },
  {
   "cell_type": "markdown",
   "id": "c9de5181",
   "metadata": {},
   "source": [
    "**Question 2 :** Écrire une fonction ``mots_de_longueur_paire(L)``, qui prend en entrée une liste de chaînes de caractères ``L``, et qui retourne la sous-liste des chaînes de longueur paire. Votre fonction **devra** utiliser la syntaxe de déclaration de liste **par compréhension**."
   ]
  },
  {
   "cell_type": "code",
   "execution_count": null,
   "id": "763dbf35",
   "metadata": {},
   "outputs": [],
   "source": []
  },
  {
   "cell_type": "markdown",
   "id": "ddf8ec2b",
   "metadata": {},
   "source": [
    "## Exercice 3 : test résursif de liste triée (1 point)"
   ]
  },
  {
   "cell_type": "markdown",
   "id": "83108c3b",
   "metadata": {},
   "source": [
    "**Question 1 :** Écrire une fonction **récursive** ``est_triee_rec(L)``, qui prend en entrée une liste ``L``, et qui teste si cette liste est triée dans l'ordre croissant. Votre fonction **devra** être récursive."
   ]
  },
  {
   "cell_type": "code",
   "execution_count": null,
   "id": "ddc0506f",
   "metadata": {},
   "outputs": [],
   "source": []
  }
 ],
 "metadata": {
  "kernelspec": {
   "display_name": "Python 3 (ipykernel)",
   "language": "python",
   "name": "python3"
  },
  "language_info": {
   "codemirror_mode": {
    "name": "ipython",
    "version": 3
   },
   "file_extension": ".py",
   "mimetype": "text/x-python",
   "name": "python",
   "nbconvert_exporter": "python",
   "pygments_lexer": "ipython3",
   "version": "3.9.2"
  }
 },
 "nbformat": 4,
 "nbformat_minor": 5
}
