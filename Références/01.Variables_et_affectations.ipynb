{
 "cells": [
  {
   "cell_type": "markdown",
   "metadata": {},
   "source": [
    "****\n",
    "\n",
    "# <center> <b> <span style=\"color:orange;\"> Programmation en Python </span> </b></center>\n",
    "\n",
    "### <center> <b> <span style=\"color:green;\">Des applications en Calcul Scientifique -  Statistiques -  Science des Données</span> </b></center>\n",
    "\n",
    "\n",
    "****\n",
    "\n",
    "# <center> <b> <span style=\"color:blue;\">Variables et affectations</span> </b></center>\n",
    "\n",
    "\n",
    "\n",
    "<!--NAVIGATION-->\n",
    "<  [0. Introduction](00.Introduction_a_python.ipynb)| [Sommaire](Index.ipynb) | [2. Chaînes de caractères](02-Chaînes_de_caractères.ipynb) >\n",
    "\n",
    "\n",
    "\n",
    "****\n",
    "\n",
    "\n",
    "\n",
    "### <left> <b> <span style=\"color:brown;\">Instructeur : </span> </b></left>[Yaé Ulrich Gaba](https://github.com/gabayae)\n",
    "\n",
    "\n",
    "\n",
    "\n",
    ">    **Résumé:** Dès que l’on possède des *types de données*, on a besoin des *variables* pour stocker les\n",
    "    données.\n",
    "    En réalité, Python n’offre pas la notion de variable, mais plutôt celle de *référence d’objet*. Tant\n",
    "    que l’objet n’est pas modifiable (comme les entiers, les flottants, etc.), il n’y a pas de différence\n",
    "    notable. Dans le présent calepin, nous discutons les grandes lignes atour de l'utilisation des variables sous Python.\n",
    "****"
   ]
  },
  {
   "cell_type": "markdown",
   "metadata": {},
   "source": [
    "### Définir une variable\n",
    "\n",
    "Sous Python, une variable est un objet de programmation permettant de stocker une\n",
    "information en mémoire de la machine en attribuant un nom symbolique. Une variable est\n",
    "définie en utilisant l’opérateur mathématique `=` soit par assignation directe de sa valeur, ou par\n",
    "une assignation à partir de la valeur d’une autre variable. Exemples :"
   ]
  },
  {
   "cell_type": "code",
   "execution_count": 16,
   "metadata": {},
   "outputs": [],
   "source": [
    "x = 86 # définit la variable nommée x et lui assigne la valeur 86"
   ]
  },
  {
   "cell_type": "code",
   "execution_count": 17,
   "metadata": {},
   "outputs": [],
   "source": [
    "y = 4.8134 # définit la variable nommée y et lui assigne la valeur 4.8134\n",
    "salutation = \"Comment allez-vous ?\" # Définit la variable nommée salutation et lui assigne la valeur \" Comment allez-vous ?\""
   ]
  },
  {
   "cell_type": "markdown",
   "metadata": {},
   "source": [
    "Pour afficher les valeurs des trois variables définies, on utilise la fonction **print()**-sur laquelle nous reviendrons quand nous parlerons des *objets fonctions sous Python*."
   ]
  },
  {
   "cell_type": "code",
   "execution_count": 18,
   "metadata": {},
   "outputs": [
    {
     "name": "stdout",
     "output_type": "stream",
     "text": [
      "86\n",
      "4.8134\n",
      "Comment allez-vous ?\n"
     ]
    }
   ],
   "source": [
    "print(x)\n",
    "print(y)\n",
    "print(salutation)"
   ]
  },
  {
   "cell_type": "markdown",
   "metadata": {},
   "source": [
    "Pour afficher les trois valeurs sur la même ligne on utilise une seule fonction print() en séparant\n",
    "les variables par des virgules :"
   ]
  },
  {
   "cell_type": "code",
   "execution_count": 19,
   "metadata": {},
   "outputs": [
    {
     "name": "stdout",
     "output_type": "stream",
     "text": [
      "86 4.8134 Comment allez-vous ?\n"
     ]
    }
   ],
   "source": [
    "print(x,y,salutation)"
   ]
  },
  {
   "cell_type": "markdown",
   "metadata": {},
   "source": [
    "Les examples présentes entrent dans le cadre de ce qe nous appelons `assignation directe`. Une `assignation multiple` est un cas d'`assignation directe` qui consiste à attribuer une même valeur à plusieurs variables dans la\n",
    "même ligne de code. Exemple :"
   ]
  },
  {
   "cell_type": "code",
   "execution_count": 20,
   "metadata": {},
   "outputs": [],
   "source": [
    "x = y = 7 # x et y prennent la même valeur simultanément 7."
   ]
  },
  {
   "cell_type": "markdown",
   "metadata": {},
   "source": [
    "Une `assignation parallèle` consiste à définir plusieurs variables en utilisant un seul symbole\n",
    "d’égalité. Exemple :"
   ]
  },
  {
   "cell_type": "code",
   "execution_count": 21,
   "metadata": {},
   "outputs": [],
   "source": [
    "x, y = 4, 8.33 # On définit deux variables x et y dont les valeurs sont respectivement 4 et 8.33."
   ]
  },
  {
   "cell_type": "markdown",
   "metadata": {},
   "source": [
    "<left> <b> <span style=\"color:red;\">Affecter n’est pas comparer !</span> </b></left>\n",
    "Il faut bien prendre garde au fait que l’instruction d’affectation `« = »` n’a pas la même signification que le symbole d’égalité `« = »` en mathématiques. Par exemple, le premier n’est pas\n",
    "symétrique, alors que le second l’est : vouloir échanger l’ordre des éléments dans une instruction d’affectation produira immanquablement une erreur dans l’interpréteur :"
   ]
  },
  {
   "cell_type": "code",
   "execution_count": 22,
   "metadata": {},
   "outputs": [
    {
     "ename": "SyntaxError",
     "evalue": "can't assign to literal (<ipython-input-22-56112fb8b846>, line 2)",
     "output_type": "error",
     "traceback": [
      "\u001b[0;36m  File \u001b[0;32m\"<ipython-input-22-56112fb8b846>\"\u001b[0;36m, line \u001b[0;32m2\u001b[0m\n\u001b[0;31m    128 = a\u001b[0m\n\u001b[0m           ^\u001b[0m\n\u001b[0;31mSyntaxError\u001b[0m\u001b[0;31m:\u001b[0m can't assign to literal\n"
     ]
    }
   ],
   "source": [
    "# Erreur\n",
    "128 = a"
   ]
  },
  {
   "cell_type": "code",
   "execution_count": 23,
   "metadata": {},
   "outputs": [
    {
     "ename": "SyntaxError",
     "evalue": "invalid syntax (<ipython-input-23-857d56225df4>, line 1)",
     "output_type": "error",
     "traceback": [
      "\u001b[0;36m  File \u001b[0;32m\"<ipython-input-23-857d56225df4>\"\u001b[0;36m, line \u001b[0;32m1\u001b[0m\n\u001b[0;31m    Ceci nous appelle a parler brièvement des noms de variables admissibles sous Python.\u001b[0m\n\u001b[0m            ^\u001b[0m\n\u001b[0;31mSyntaxError\u001b[0m\u001b[0;31m:\u001b[0m invalid syntax\n"
     ]
    }
   ],
   "source": [
    "Ceci nous appelle a parler brièvement des noms de variables admissibles sous Python. "
   ]
  },
  {
   "cell_type": "markdown",
   "metadata": {},
   "source": [
    "####  <left> <b> <span style=\"color:brown;\">Conventions de nommage </span> </b></left>"
   ]
  },
  {
   "cell_type": "markdown",
   "metadata": {},
   "source": [
    "Les conventions de nommage des différents éléments de code sont importantes car elles donnent des informations supplé-\n",
    "mentaires aux développeurs quant à la nature de certains attributs ou certaines variables.\n",
    "La convention pour les noms de variable est la suivante:\n",
    "\n",
    "   - Les mots réservés tels que `if`, `else` , etc., ne peuvent être utilisés comme noms de variables;\n",
    "   - Les noms de variables peuvent debuter avec `_` , `$` , ou une lettre;\n",
    "   - Les noms de variables peuvent etre en miniscule ou en majuscule;\n",
    "   - Les noms de variables ne peuvent debuter avec un chiffre;\n",
    "   - Les espaces blancs ne sont pas autorisés dans les noms de variables.\n",
    "\n",
    "<left> <b> <span style=\"color:brown;\"> Le bon programmeur s’efforce bien entendu de choisir les noms de variables les plus pertinents possible. </span> </b></left>"
   ]
  },
  {
   "cell_type": "markdown",
   "metadata": {},
   "source": [
    "Sous Python, il existe **33** mots réservés dont la liste est fournie ci-dessous:"
   ]
  },
  {
   "cell_type": "markdown",
   "metadata": {},
   "source": [
    "|             |                  |                  |                  |                  | \n",
    "|-------------|------------------|------------------|------------------|------------------|\n",
    "|``and``      | ``elif``         | ``if``           | ``or``           | ``yield``        |\n",
    "|``as``       | ``else``         | ``import``       | ``pass``         |                  | \n",
    "|``assert``   | ``except``       | ``in``           | ``raise``        |                  |  \n",
    "|``break``    | ``False``        | ``is``           | ``return``       |                  |\n",
    "|``class``    | ``finally``      | ``lambda``       | ``True``         |                  |\n",
    "|``continue`` | ``for``          | ``None``         | ``try``          |                  |\n",
    "|``def``      | ``from``         | ``nonlocal``     | ``while``        |                  |\n",
    "|``del``      | ``global``       | ``not``          | ``with``         |                  |"
   ]
  },
  {
   "cell_type": "markdown",
   "metadata": {},
   "source": [
    "**Remarque**: Python est sensible à la casse, ainsi, les noms de variables `Age` et `age` sont distincts. Suivant le langage, il y a une [convention de nommage](https://en.wikipedia.org/wiki/Naming_convention_(programming)#Python_and_Ruby) pour les variables qui est recommandée. \n",
    "\n",
    "- `UpperCamelCase` pour les noms de classe;\n",
    "\n",
    "- `CAPITALIZED_WITH_UNDERSCORES` pour les constantes;\n",
    "\n",
    "- `lowercase_separated_by_underscores` ou `snake_case` pour les autres variables."
   ]
  },
  {
   "cell_type": "markdown",
   "metadata": {},
   "source": [
    "****\n",
    "**Un exercice fondamental : l’échange des contenus de deux variables**\n",
    "\n",
    "> On suppose que les variables `x` et `y` ont pour valeurs respectives des entiers $\\alpha$ et $\\beta$. On souhaite\n",
    "échanger le contenu de ces deux variables.\n",
    "\n",
    ">   - a. Première méthode : Proposer une méthode qui utilise une variable auxiliaire `tmp`.\n",
    "       ```python\n",
    "          tmp = x\n",
    "          x = y\n",
    "          y = tmp\n",
    "       ```\n",
    ">   - b. Deuxième méthode : On exécute la séquence d’instructions suivante :\n",
    "       ```python \n",
    "          x = x + y; y = x - y; x = x - y  \n",
    "       ```\n",
    "       \n",
    ">   - c. Troisième méthode (la plus « pythonique ») : Utiliser une affectation parallèle.\n",
    "      ```python\n",
    "         x, y = y, x\n",
    "      ```   \n",
    "**** \n",
    "\n",
    "Example: \n"
   ]
  },
  {
   "cell_type": "code",
   "execution_count": 24,
   "metadata": {},
   "outputs": [
    {
     "name": "stdout",
     "output_type": "stream",
     "text": [
      "5 4\n",
      "================================================\n",
      "\t\n",
      "4 5\n",
      "7 9\n",
      "================================================\n",
      "\t\n",
      "9 7\n",
      "90 15\n",
      "================================================\n",
      "\t\n",
      "15 90\n"
     ]
    }
   ],
   "source": [
    "# Première méthode\n",
    "\n",
    "x = 5\n",
    "y = 4  \n",
    "print(x,y)\n",
    "print(\"================================================\")\n",
    "print('\\t')\n",
    "\n",
    "tmp = x\n",
    "x = y\n",
    "y = tmp\n",
    "print(x,y)\n",
    "\n",
    "\n",
    "\n",
    "\n",
    "# Deuxième méthode\n",
    "\n",
    "x = 7\n",
    "y = 9 \n",
    "print(x,y)\n",
    "print(\"================================================\")\n",
    "print('\\t')\n",
    "\n",
    "\n",
    "x = x + y; y = x - y; x = x - y \n",
    "print(x,y)\n",
    "\n",
    "\n",
    "\n",
    "\n",
    "\n",
    "#Troisième méthode\n",
    "x = 90\n",
    "y = 15\n",
    "print(x,y)\n",
    "print(\"================================================\")\n",
    "print('\\t')\n",
    "\n",
    "\n",
    "x, y = y, x\n",
    "print(x,y)\n",
    "\n"
   ]
  },
  {
   "cell_type": "markdown",
   "metadata": {},
   "source": [
    "Signalons rapidement que pour supprimer une variable, on dispose de la fonction `del`."
   ]
  },
  {
   "cell_type": "markdown",
   "metadata": {},
   "source": [
    "### Type d’une variable\n",
    "\n",
    "Le type d’une variable correspond à la nature de celle-ci. Il existe de nombreux autres types de\n",
    "variables (nombre entier, nombre réel, chaînes de caractères, etc). Les types de variables les\n",
    "plus couramment rencontrés sont les entier (int) , les nombres réels (float), les chaînes de\n",
    "caractères (str).\n",
    "\n",
    "Les types de base sont:\n",
    "\n",
    "   - None (rien)\n",
    "   - Chaînes de caractères : `str`\n",
    "      - Entre (simples, doubles ou triples) apostrophes `'` ou guillemets `\"` : `'Calvin'`, `\"Calvin'n'Hobbes\"`,\n",
    "       `'''Deux\\nlignes'''`, `\"\"\"'Pourquoi?' demanda-t-il.\"\"\"`\n",
    "      - Conversion : `str(3.2)`\n",
    "   - Types numériques :\n",
    "      - Booléens `bool`, (vrai/faux) : `True`, `False`,\n",
    "      - Entiers `int` (pas de valeur limite explicite, correspond au moins au long du C) : `-2`, `int(2.1)`, `int(\"4\")`\n",
    "      - Réels `float`\n",
    "      - Complexes`complex`:`1+2j`, `5.1j`, `complex(-3.14)`, `complex('j')`\n",
    "   - Objets itérables :\n",
    "      - Listes `list` : ['a', 3, [1, 2], 'a']\n",
    "      - Listes immuables `tuple` : (2, 3.1, 'a', []) (selon les conditions d’utilisation, les parenthèses ne sont pas toujours nécessaires)\n",
    "      - Listes à clés `dict` : {'a':1, 'b':[1, 2], 3:'c'}\n",
    "      - Ensembles non ordonnés d’éléments uniques `set` : {1, 2, 3, 2}"
   ]
  },
  {
   "cell_type": "markdown",
   "metadata": {},
   "source": [
    "Python est un langage au typage dynamique, c’est-à-dire qu’il reconnaît directement le type\n",
    "des variables lorsque sa valeur est indiquée. Ainsi, contrairement à d'autres langages comme le\n",
    "langage C, il n'y a pas de déclaration de type obligatoire lors de la création d'une variable.\n",
    "Exemples :"
   ]
  },
  {
   "cell_type": "code",
   "execution_count": 25,
   "metadata": {},
   "outputs": [],
   "source": [
    "x = 2 # type entier (int)\n",
    "x = 2. # type réel (float avec décimaux)\n",
    "x = '2' # type caractère (string)"
   ]
  },
  {
   "cell_type": "markdown",
   "metadata": {},
   "source": [
    "Pour connaitre le type d’une variable, on utilise la fonction `type()`."
   ]
  },
  {
   "cell_type": "code",
   "execution_count": 26,
   "metadata": {},
   "outputs": [
    {
     "data": {
      "text/plain": [
       "int"
      ]
     },
     "execution_count": 26,
     "metadata": {},
     "output_type": "execute_result"
    }
   ],
   "source": [
    "i = 123\n",
    "type(i) # renvoie <type 'int'>"
   ]
  },
  {
   "cell_type": "code",
   "execution_count": 27,
   "metadata": {},
   "outputs": [
    {
     "data": {
      "text/plain": [
       "True"
      ]
     },
     "execution_count": 27,
     "metadata": {},
     "output_type": "execute_result"
    }
   ],
   "source": [
    "type(i) is int # renvoie True"
   ]
  },
  {
   "cell_type": "code",
   "execution_count": 28,
   "metadata": {},
   "outputs": [],
   "source": [
    "#j = 123456789L\n",
    "#type(j) # renvoie <type 'long'>"
   ]
  },
  {
   "cell_type": "code",
   "execution_count": 29,
   "metadata": {},
   "outputs": [],
   "source": [
    "#type(j) is long # renvoie True"
   ]
  },
  {
   "cell_type": "code",
   "execution_count": 30,
   "metadata": {},
   "outputs": [
    {
     "data": {
      "text/plain": [
       "float"
      ]
     },
     "execution_count": 30,
     "metadata": {},
     "output_type": "execute_result"
    }
   ],
   "source": [
    "k = 123.456\n",
    "type(k) # renvoie <type 'float'>"
   ]
  },
  {
   "cell_type": "code",
   "execution_count": 31,
   "metadata": {},
   "outputs": [
    {
     "data": {
      "text/plain": [
       "True"
      ]
     },
     "execution_count": 31,
     "metadata": {},
     "output_type": "execute_result"
    }
   ],
   "source": [
    "type(k) is float # renvoie True"
   ]
  },
  {
   "cell_type": "code",
   "execution_count": 32,
   "metadata": {},
   "outputs": [
    {
     "data": {
      "text/plain": [
       "str"
      ]
     },
     "execution_count": 32,
     "metadata": {},
     "output_type": "execute_result"
    }
   ],
   "source": [
    "m = 'ABCD'\n",
    "type(m) # renvoie <type 'str'>"
   ]
  },
  {
   "cell_type": "code",
   "execution_count": 33,
   "metadata": {},
   "outputs": [
    {
     "data": {
      "text/plain": [
       "True"
      ]
     },
     "execution_count": 33,
     "metadata": {},
     "output_type": "execute_result"
    }
   ],
   "source": [
    "type(m) is str # renvoie True"
   ]
  },
  {
   "cell_type": "markdown",
   "metadata": {},
   "source": [
    "Il faut remarquer que les variables en chaînes de caractères sont toujours définies avec des\n",
    "guillemets. Avec des guillemets\n",
    "simples, on a des chaines de types char alors qu’avec des guillemets doubles, on obtient des\n",
    "chaînes de type string. Noter aussi que même si une variable est définie avec des nombres,\n",
    "lorsque ces nombres sont indiqués avec des guillemets, python traite cette variable comme\n",
    "une chaine de caractères. Néanmoins, il existe des fonctions pour convertir une variable d’un\n",
    "type à un autre lorsque cette conversion est autorisée. Voir les exemples suivants."
   ]
  },
  {
   "cell_type": "code",
   "execution_count": 34,
   "metadata": {},
   "outputs": [
    {
     "name": "stdout",
     "output_type": "stream",
     "text": [
      "2\n",
      "================================================\n",
      "\t\n",
      "2\n",
      "================================================\n",
      "\t\n",
      "2.0\n"
     ]
    }
   ],
   "source": [
    "#Conversion d’une variable de type caractère en variable de type entier ou réel.\n",
    "\n",
    "x='2'\n",
    "print(x)\n",
    "print(\"================================================\")\n",
    "print('\\t')\n",
    "\n",
    "\n",
    "x = int(x)\n",
    "print(x)\n",
    "print(\"================================================\")\n",
    "print('\\t')\n",
    "\n",
    "\n",
    "\n",
    "x=float(x)\n",
    "print(x)\n"
   ]
  },
  {
   "cell_type": "code",
   "execution_count": 35,
   "metadata": {},
   "outputs": [
    {
     "name": "stdout",
     "output_type": "stream",
     "text": [
      "2.4756\n"
     ]
    }
   ],
   "source": [
    "#Conversion d’une variable de type numérique (entier ou réel) en variable de type caractère.\n",
    "y=2.4756\n",
    "y=str(y)\n",
    "print(y)"
   ]
  },
  {
   "cell_type": "markdown",
   "metadata": {},
   "source": [
    "En conclusion, on peut noter que toutes les variables numériques sont convertible en type\n",
    "caractère mais une variable n’est convertible en type numérique que lorsque la valeur de celle-\n",
    "ci est constituée uniquement de chiffres."
   ]
  },
  {
   "cell_type": "code",
   "execution_count": 36,
   "metadata": {},
   "outputs": [
    {
     "ename": "ValueError",
     "evalue": "invalid literal for int() with base 10: 'On essaie'",
     "output_type": "error",
     "traceback": [
      "\u001b[0;31m---------------------------------------------------------------------------\u001b[0m",
      "\u001b[0;31mValueError\u001b[0m                                Traceback (most recent call last)",
      "\u001b[0;32m<ipython-input-36-5f6b01452aec>\u001b[0m in \u001b[0;36m<module>\u001b[0;34m()\u001b[0m\n\u001b[1;32m      1\u001b[0m \u001b[0mA\u001b[0m \u001b[0;34m=\u001b[0m \u001b[0;34m\"On essaie\"\u001b[0m\u001b[0;34m\u001b[0m\u001b[0;34m\u001b[0m\u001b[0m\n\u001b[0;32m----> 2\u001b[0;31m \u001b[0mA\u001b[0m \u001b[0;34m=\u001b[0m \u001b[0mint\u001b[0m\u001b[0;34m(\u001b[0m\u001b[0mA\u001b[0m\u001b[0;34m)\u001b[0m\u001b[0;34m\u001b[0m\u001b[0;34m\u001b[0m\u001b[0m\n\u001b[0m\u001b[1;32m      3\u001b[0m \u001b[0mA\u001b[0m\u001b[0;34m\u001b[0m\u001b[0;34m\u001b[0m\u001b[0m\n",
      "\u001b[0;31mValueError\u001b[0m: invalid literal for int() with base 10: 'On essaie'"
     ]
    }
   ],
   "source": [
    "A = \"On essaie\"\n",
    "A = int(A)\n",
    "A"
   ]
  },
  {
   "cell_type": "markdown",
   "metadata": {},
   "source": [
    "### Méthodes associées aux variables\n",
    "\n",
    "A chaque variable créée dans python, est associé un ensemble d’attributs (ex : type) mais aussi\n",
    "un ensemble de méthodes, c'est à dire un ensemble d’opérations de traitement et\n",
    "d’exploitation réalisable avec cette variable. Pour afficher l'ensemble des méthodes d'une\n",
    "variable, on utilise la commande `dir()`. Exemple :"
   ]
  },
  {
   "cell_type": "code",
   "execution_count": 37,
   "metadata": {},
   "outputs": [],
   "source": [
    "x=2.5 # Définit une variable numérique x\n",
    "y='mon texte' # Définit une variable en chaîne de caractères y."
   ]
  },
  {
   "cell_type": "markdown",
   "metadata": {},
   "source": [
    "Pour afficher l’ensemble des méthodes associées à chacune de ces variables, on fait :\n"
   ]
  },
  {
   "cell_type": "code",
   "execution_count": 38,
   "metadata": {},
   "outputs": [
    {
     "name": "stdout",
     "output_type": "stream",
     "text": [
      "['__abs__', '__add__', '__bool__', '__class__', '__delattr__', '__dir__', '__divmod__', '__doc__', '__eq__', '__float__', '__floordiv__', '__format__', '__ge__', '__getattribute__', '__getformat__', '__getnewargs__', '__gt__', '__hash__', '__init__', '__init_subclass__', '__int__', '__le__', '__lt__', '__mod__', '__mul__', '__ne__', '__neg__', '__new__', '__pos__', '__pow__', '__radd__', '__rdivmod__', '__reduce__', '__reduce_ex__', '__repr__', '__rfloordiv__', '__rmod__', '__rmul__', '__round__', '__rpow__', '__rsub__', '__rtruediv__', '__set_format__', '__setattr__', '__sizeof__', '__str__', '__sub__', '__subclasshook__', '__truediv__', '__trunc__', 'as_integer_ratio', 'conjugate', 'fromhex', 'hex', 'imag', 'is_integer', 'real']\n"
     ]
    }
   ],
   "source": [
    "print(dir(x))\n"
   ]
  },
  {
   "cell_type": "code",
   "execution_count": 39,
   "metadata": {},
   "outputs": [
    {
     "name": "stdout",
     "output_type": "stream",
     "text": [
      "['__add__', '__class__', '__contains__', '__delattr__', '__dir__', '__doc__', '__eq__', '__format__', '__ge__', '__getattribute__', '__getitem__', '__getnewargs__', '__gt__', '__hash__', '__init__', '__init_subclass__', '__iter__', '__le__', '__len__', '__lt__', '__mod__', '__mul__', '__ne__', '__new__', '__reduce__', '__reduce_ex__', '__repr__', '__rmod__', '__rmul__', '__setattr__', '__sizeof__', '__str__', '__subclasshook__', 'capitalize', 'casefold', 'center', 'count', 'encode', 'endswith', 'expandtabs', 'find', 'format', 'format_map', 'index', 'isalnum', 'isalpha', 'isascii', 'isdecimal', 'isdigit', 'isidentifier', 'islower', 'isnumeric', 'isprintable', 'isspace', 'istitle', 'isupper', 'join', 'ljust', 'lower', 'lstrip', 'maketrans', 'partition', 'replace', 'rfind', 'rindex', 'rjust', 'rpartition', 'rsplit', 'rstrip', 'split', 'splitlines', 'startswith', 'strip', 'swapcase', 'title', 'translate', 'upper', 'zfill']\n"
     ]
    }
   ],
   "source": [
    "print(dir(y))"
   ]
  },
  {
   "cell_type": "markdown",
   "metadata": {},
   "source": [
    "On peut aussi faire `nom_de_la_variable.` suivi de `TAB`."
   ]
  },
  {
   "cell_type": "markdown",
   "metadata": {},
   "source": [
    "Ainsi, pour obtenir de l’aide sur une méthode spécifique, on utilise la fonction `help()` comme\n",
    "suit : `help(x.nomMethode)` où nomMethode est le nom de la méthode considérée. Par exemple, pour une variable numérique de type `float`, il existe une méthode nommé `conjugate`.\n",
    "Pour obtenir de l’aide sur cette fonction, on fait :\n",
    "`print(help(x.conjugate))`"
   ]
  },
  {
   "cell_type": "code",
   "execution_count": 40,
   "metadata": {},
   "outputs": [
    {
     "name": "stdout",
     "output_type": "stream",
     "text": [
      "Help on built-in function conjugate:\n",
      "\n",
      "conjugate() method of builtins.float instance\n",
      "    Return self, the complex conjugate of any float.\n",
      "\n",
      "None\n"
     ]
    }
   ],
   "source": [
    "print(help(x.conjugate))"
   ]
  },
  {
   "cell_type": "markdown",
   "metadata": {},
   "source": [
    "Pour afficher l’aide sur toutes les fonctions associées à la variable x, on fait simplement :\n"
   ]
  },
  {
   "cell_type": "code",
   "execution_count": 41,
   "metadata": {},
   "outputs": [
    {
     "name": "stdout",
     "output_type": "stream",
     "text": [
      "Help on float object:\n",
      "\n",
      "class float(object)\n",
      " |  float(x=0, /)\n",
      " |  \n",
      " |  Convert a string or number to a floating point number, if possible.\n",
      " |  \n",
      " |  Methods defined here:\n",
      " |  \n",
      " |  __abs__(self, /)\n",
      " |      abs(self)\n",
      " |  \n",
      " |  __add__(self, value, /)\n",
      " |      Return self+value.\n",
      " |  \n",
      " |  __bool__(self, /)\n",
      " |      self != 0\n",
      " |  \n",
      " |  __divmod__(self, value, /)\n",
      " |      Return divmod(self, value).\n",
      " |  \n",
      " |  __eq__(self, value, /)\n",
      " |      Return self==value.\n",
      " |  \n",
      " |  __float__(self, /)\n",
      " |      float(self)\n",
      " |  \n",
      " |  __floordiv__(self, value, /)\n",
      " |      Return self//value.\n",
      " |  \n",
      " |  __format__(self, format_spec, /)\n",
      " |      Formats the float according to format_spec.\n",
      " |  \n",
      " |  __ge__(self, value, /)\n",
      " |      Return self>=value.\n",
      " |  \n",
      " |  __getattribute__(self, name, /)\n",
      " |      Return getattr(self, name).\n",
      " |  \n",
      " |  __getnewargs__(self, /)\n",
      " |  \n",
      " |  __gt__(self, value, /)\n",
      " |      Return self>value.\n",
      " |  \n",
      " |  __hash__(self, /)\n",
      " |      Return hash(self).\n",
      " |  \n",
      " |  __int__(self, /)\n",
      " |      int(self)\n",
      " |  \n",
      " |  __le__(self, value, /)\n",
      " |      Return self<=value.\n",
      " |  \n",
      " |  __lt__(self, value, /)\n",
      " |      Return self<value.\n",
      " |  \n",
      " |  __mod__(self, value, /)\n",
      " |      Return self%value.\n",
      " |  \n",
      " |  __mul__(self, value, /)\n",
      " |      Return self*value.\n",
      " |  \n",
      " |  __ne__(self, value, /)\n",
      " |      Return self!=value.\n",
      " |  \n",
      " |  __neg__(self, /)\n",
      " |      -self\n",
      " |  \n",
      " |  __pos__(self, /)\n",
      " |      +self\n",
      " |  \n",
      " |  __pow__(self, value, mod=None, /)\n",
      " |      Return pow(self, value, mod).\n",
      " |  \n",
      " |  __radd__(self, value, /)\n",
      " |      Return value+self.\n",
      " |  \n",
      " |  __rdivmod__(self, value, /)\n",
      " |      Return divmod(value, self).\n",
      " |  \n",
      " |  __repr__(self, /)\n",
      " |      Return repr(self).\n",
      " |  \n",
      " |  __rfloordiv__(self, value, /)\n",
      " |      Return value//self.\n",
      " |  \n",
      " |  __rmod__(self, value, /)\n",
      " |      Return value%self.\n",
      " |  \n",
      " |  __rmul__(self, value, /)\n",
      " |      Return value*self.\n",
      " |  \n",
      " |  __round__(self, ndigits=None, /)\n",
      " |      Return the Integral closest to x, rounding half toward even.\n",
      " |      \n",
      " |      When an argument is passed, work like built-in round(x, ndigits).\n",
      " |  \n",
      " |  __rpow__(self, value, mod=None, /)\n",
      " |      Return pow(value, self, mod).\n",
      " |  \n",
      " |  __rsub__(self, value, /)\n",
      " |      Return value-self.\n",
      " |  \n",
      " |  __rtruediv__(self, value, /)\n",
      " |      Return value/self.\n",
      " |  \n",
      " |  __str__(self, /)\n",
      " |      Return str(self).\n",
      " |  \n",
      " |  __sub__(self, value, /)\n",
      " |      Return self-value.\n",
      " |  \n",
      " |  __truediv__(self, value, /)\n",
      " |      Return self/value.\n",
      " |  \n",
      " |  __trunc__(self, /)\n",
      " |      Return the Integral closest to x between 0 and x.\n",
      " |  \n",
      " |  as_integer_ratio(self, /)\n",
      " |      Return integer ratio.\n",
      " |      \n",
      " |      Return a pair of integers, whose ratio is exactly equal to the original float\n",
      " |      and with a positive denominator.\n",
      " |      \n",
      " |      Raise OverflowError on infinities and a ValueError on NaNs.\n",
      " |      \n",
      " |      >>> (10.0).as_integer_ratio()\n",
      " |      (10, 1)\n",
      " |      >>> (0.0).as_integer_ratio()\n",
      " |      (0, 1)\n",
      " |      >>> (-.25).as_integer_ratio()\n",
      " |      (-1, 4)\n",
      " |  \n",
      " |  conjugate(self, /)\n",
      " |      Return self, the complex conjugate of any float.\n",
      " |  \n",
      " |  hex(self, /)\n",
      " |      Return a hexadecimal representation of a floating-point number.\n",
      " |      \n",
      " |      >>> (-0.1).hex()\n",
      " |      '-0x1.999999999999ap-4'\n",
      " |      >>> 3.14159.hex()\n",
      " |      '0x1.921f9f01b866ep+1'\n",
      " |  \n",
      " |  is_integer(self, /)\n",
      " |      Return True if the float is an integer.\n",
      " |  \n",
      " |  ----------------------------------------------------------------------\n",
      " |  Class methods defined here:\n",
      " |  \n",
      " |  __getformat__(typestr, /) from builtins.type\n",
      " |      You probably don't want to use this function.\n",
      " |      \n",
      " |        typestr\n",
      " |          Must be 'double' or 'float'.\n",
      " |      \n",
      " |      It exists mainly to be used in Python's test suite.\n",
      " |      \n",
      " |      This function returns whichever of 'unknown', 'IEEE, big-endian' or 'IEEE,\n",
      " |      little-endian' best describes the format of floating point numbers used by the\n",
      " |      C type named by typestr.\n",
      " |  \n",
      " |  __set_format__(typestr, fmt, /) from builtins.type\n",
      " |      You probably don't want to use this function.\n",
      " |      \n",
      " |        typestr\n",
      " |          Must be 'double' or 'float'.\n",
      " |        fmt\n",
      " |          Must be one of 'unknown', 'IEEE, big-endian' or 'IEEE, little-endian',\n",
      " |          and in addition can only be one of the latter two if it appears to\n",
      " |          match the underlying C reality.\n",
      " |      \n",
      " |      It exists mainly to be used in Python's test suite.\n",
      " |      \n",
      " |      Override the automatic determination of C-level floating point type.\n",
      " |      This affects how floats are converted to and from binary strings.\n",
      " |  \n",
      " |  fromhex(string, /) from builtins.type\n",
      " |      Create a floating-point number from a hexadecimal string.\n",
      " |      \n",
      " |      >>> float.fromhex('0x1.ffffp10')\n",
      " |      2047.984375\n",
      " |      >>> float.fromhex('-0x1p-1074')\n",
      " |      -5e-324\n",
      " |  \n",
      " |  ----------------------------------------------------------------------\n",
      " |  Static methods defined here:\n",
      " |  \n",
      " |  __new__(*args, **kwargs) from builtins.type\n",
      " |      Create and return a new object.  See help(type) for accurate signature.\n",
      " |  \n",
      " |  ----------------------------------------------------------------------\n",
      " |  Data descriptors defined here:\n",
      " |  \n",
      " |  imag\n",
      " |      the imaginary part of a complex number\n",
      " |  \n",
      " |  real\n",
      " |      the real part of a complex number\n",
      "\n",
      "None\n"
     ]
    }
   ],
   "source": [
    "print(help(x))"
   ]
  },
  {
   "cell_type": "markdown",
   "metadata": {},
   "source": [
    "### Les opérateurs arithmétiques et logiques (booléens)\n",
    "\n",
    "Deux grandes catégories d’opérateurs sont utilisées en Python pour définir les variables et les\n",
    "instructions. Il s’agit des opérateurs arithmétiques et algébriques et les opérateurs logiques.\n",
    "Les premiers permettent de réaliser les opérations mathématiques courantes tandis que les\n",
    "seconds permettent de réaliser des comparaisons de valeurs. Une valeur booléenne est une\n",
    "évaluation logique représentant l’une des deux possibilités suivantes : vrai ou faux. Les valeurs\n",
    "booléennes sont le résultat de l’évaluation d’expressions logiques et elles servent à faire des\n",
    "choix dans un programme (effectuer telle action quand telle condition est réalisée)."
   ]
  },
  {
   "cell_type": "markdown",
   "metadata": {},
   "source": [
    "## <left> <b> <span style=\"color:brown;\"> 3.0 Les opérateurs arithmétiques </span> </b></left>\n",
    "\n",
    "\n",
    "   \n",
    "|  Opérations    $\\quad \\qquad$        | Symboles  $\\qquad$          | Exemples          |\n",
    "|-------------:|:------------------:|------------------:|\n",
    "| Addition $ \\qquad \\qquad$     |       $+ \\quad \\qquad$            |  $x = 2 + 3$          | \n",
    "| Soustraction $\\qquad \\quad$     |    $- \\quad \\qquad$      |   $z = x -y$      |                 \n",
    "| Multiplication $\\qquad \\quad$  |  $* \\quad \\qquad$      |   $y=3*x$         | \n",
    "| Division (quotient réel)  $\\qquad \\quad$        | $/\\quad \\qquad$  | $5/2=2.5 $ |\n",
    "| Division (quotient entier)  $\\qquad \\quad$         |$//\\quad \\qquad$  | $5//2=2$|\n",
    "| Puissance $\\qquad \\quad$          | $**\\quad \\qquad$ | $x^{**}2=x*x$ |\n",
    "| Reste de la division modulo $\\qquad \\quad$          | $\\% \\quad \\qquad$  |$17\\%3 =2$  |\n",
    "| Addition incrémentée    $\\qquad \\quad$       | $+$$=\\quad \\qquad$ | ($x$$+$$=$$4$ ) $\\iff$ $x=x+4$|\n",
    "| Soustraction incrémentée    $\\qquad \\quad$       | $-$$=\\quad \\qquad$ | ($x$$-$$=$$4$ ) $\\iff$ $x=x-4$|"
   ]
  },
  {
   "cell_type": "markdown",
   "metadata": {},
   "source": [
    "## <left> <b> <span style=\"color:brown;\"> 3.1 Les opérateurs logiques </span> </b></left>\n",
    "\n",
    "\n",
    "|  Opérations    $\\quad \\qquad$        | Opérateur en Python \t  $\\qquad$          | Description          |\n",
    "|-------------:|:------------------:|------------------:|\n",
    "| Égalité $ \\qquad \\qquad$     |       $== \\quad \\qquad$            |    Égal à        | \n",
    "| Inégalité $\\qquad \\quad$     |    $!=$ (ou $<>$) $\\quad \\qquad$      |   Différent de      |                 \n",
    "| Infériorité stricte $\\qquad \\quad$  |  $< \\quad \\qquad$      |   Inférieur à         | \n",
    "| Supériorité stricte  $\\qquad \\quad$        | $>\\quad \\qquad$  | Supérieur à |\n",
    "| Infériorité large  $\\qquad \\quad$         |$<=\\quad \\qquad$  | Inférieur ou égal à|\n",
    "| Supériorité large $\\qquad \\quad$          | $>=\\quad \\qquad$ | Supérieur ou égal à |\n",
    "| Inclusion(appartenance) $\\qquad \\quad$          | `in`  $ \\quad \\qquad $  |Appartient à (`dans`) |\n",
    "| Exclusion (non appartenance)  $\\qquad \\quad$       | `not in`$\\quad \\qquad$ |N'appartient pas à (`exclu`) |\n",
    "| `Et` logique   $\\qquad \\quad$       | `and` $\\quad \\qquad$ | Comparaisons `ET` logiques|\n",
    "| `Ou` logique   $\\qquad \\quad$       | `or` $\\quad \\qquad$ | Comparaisons `OU` logique|\n",
    "| `Non` logique   $\\qquad \\quad$       | `not`$\\quad \\qquad$ | Évalue la valeur opposée|"
   ]
  },
  {
   "cell_type": "markdown",
   "metadata": {},
   "source": [
    "Pour accéder à la liste complète des opérateurs standards de python et leurs équivalents fonctions, voir [cette page](https://docs.python.org/2/library/operator.html). L'on pourra aussi consulter [cette page](http://www.tutorialspoint.com/python/python_basic_operators.htm) pour quelques exemples\n",
    "d’utilisations des opérateurs standards."
   ]
  },
  {
   "cell_type": "markdown",
   "metadata": {},
   "source": [
    "<!--NAVIGATION-->\n",
    "<  [0. Introduction](00.Introduction_a_python.ipynb)| [Sommaire](Index.ipynb) | [2. Chaînes de caractères](02-Chaînes_de_caractères.ipynb) >\n"
   ]
  }
 ],
 "metadata": {
  "kernelspec": {
   "display_name": "Python 3",
   "language": "python",
   "name": "python3"
  },
  "language_info": {
   "codemirror_mode": {
    "name": "ipython",
    "version": 3
   },
   "file_extension": ".py",
   "mimetype": "text/x-python",
   "name": "python",
   "nbconvert_exporter": "python",
   "pygments_lexer": "ipython3",
   "version": "3.7.3"
  },
  "varInspector": {
   "cols": {
    "lenName": 16,
    "lenType": 16,
    "lenVar": 40
   },
   "kernels_config": {
    "python": {
     "delete_cmd_postfix": "",
     "delete_cmd_prefix": "del ",
     "library": "var_list.py",
     "varRefreshCmd": "print(var_dic_list())"
    },
    "r": {
     "delete_cmd_postfix": ") ",
     "delete_cmd_prefix": "rm(",
     "library": "var_list.r",
     "varRefreshCmd": "cat(var_dic_list()) "
    }
   },
   "types_to_exclude": [
    "module",
    "function",
    "builtin_function_or_method",
    "instance",
    "_Feature"
   ],
   "window_display": false
  }
 },
 "nbformat": 4,
 "nbformat_minor": 2
}
