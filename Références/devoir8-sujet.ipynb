{
 "cells": [
  {
   "cell_type": "markdown",
   "metadata": {},
   "source": [
    "# Devoir de la semaine 8\n",
    "\n",
    "À rendre avant le 04 avril 2022, 15h00"
   ]
  },
  {
   "cell_type": "markdown",
   "metadata": {},
   "source": [
    "## Exercice 1 : marche aléatoire sur $\\mathbb{Z}$\n",
    "\n",
    "On considère un pion qui se déplace sur l'ensemble des entiers relatifs de la manière suivante :\n",
    "- À l'instant $t=0$, sa position initiale est l'entier $x_0 = 0$.\n",
    "- À tout instant $t$, il se déplace ou bien en avant, ou bien en arrière, avec probabilité $1/2$. Autrement dit, sa position $x_{t+1}$ à l'instant $t+1$ vaut :\n",
    "\\\\[\n",
    "    x_{t+1} = \\left\\{\\begin{array}{ll}\n",
    "    x_t + 1 & \\text{ avec probabilité } 1/2 \\\\\n",
    "    x_t - 1 & \\text{ avec probabilité } 1/2 \\\\\n",
    "    \\end{array}\\right.\n",
    "\\\\]\n",
    "\n",
    "La suite des positions du pion est appelée une **marche aléatoire**."
   ]
  },
  {
   "cell_type": "markdown",
   "metadata": {},
   "source": [
    "**Question 1 :** Écrire une fonction ``deplacement(N)`` qui calcule le déplacement aléatoire d'un pion jusqu'à l'instant $N$. La fonction retournera la liste des $N+1$ positions du pion au cours du temps."
   ]
  },
  {
   "cell_type": "code",
   "execution_count": null,
   "metadata": {},
   "outputs": [],
   "source": []
  },
  {
   "cell_type": "markdown",
   "metadata": {},
   "source": [
    "**Question 2 :** Afficher une marche aléatoire comme une liste de points de coordonnées $(t, x_t)$, où $t$ parcourt $[0, 1000]$."
   ]
  },
  {
   "cell_type": "code",
   "execution_count": null,
   "metadata": {},
   "outputs": [],
   "source": []
  },
  {
   "cell_type": "markdown",
   "metadata": {},
   "source": [
    "Pour une marche aléatoire jusqu'à un instant $N$, on cherche à estimer la valeur de **l'éloignement final** du pion par rapport à son emplacement d'origine. Autrement dit, si ${\\bf x} = (x_0, \\dots, x_N)$ représente la marche aléatoire jusqu'à l'instant $N$, cherche à estimer le comportement \"moyen\" de $|x_N|$ en fonction de $N$.\n",
    "\n",
    "La première manière de comprendre ce comportement moyen consiste à exécuter $M$ marches aléatoires (avec $M$ assez grand), puis à retourner la valeur moyenne des $|x_N|$ obtenus. Autrement dit, on calcule\n",
    "\\\\[\n",
    "    A_N = \\frac{1}{M} \\sum_{i=1}^M |x^{(i)}_N|\n",
    "\\\\]\n",
    "où ${\\bf x}^{(1)}, \\dots, {\\bf x}^{(M)}$ représentent $M$ marches aléatoires tirées indépendamment.\n",
    "\n",
    "**Question 3 :** Écrire une fonction ``moyenne_1_distance(N, M)`` qui retourne la valeur de $A_N$ après le tirage de $M$ marches aléatoires."
   ]
  },
  {
   "cell_type": "code",
   "execution_count": null,
   "metadata": {},
   "outputs": [],
   "source": []
  },
  {
   "cell_type": "markdown",
   "metadata": {},
   "source": [
    "**Question 4 :** Pour une valeur de $M = 400$ fixée, tracer la courbe de la valeur de $A_N$ en fonction de $N$. On choisira, par exemple, des valeurs de $N$ variant de $10$ en $10$, entre $10$ et $500$.\n",
    "\n",
    "Puis, superposer ce tracé avec celui de la fonction $t \\mapsto \\sqrt{2t/\\pi}$. Commenter sur la valeur moyenne de l'éloignement final du pion en fonction de $N$. "
   ]
  },
  {
   "cell_type": "code",
   "execution_count": null,
   "metadata": {},
   "outputs": [],
   "source": []
  },
  {
   "cell_type": "markdown",
   "metadata": {},
   "source": [
    "Une seconde manière de comprendre ce comportement moyen consiste à exécuter $M$ marches aléatoires (avec $M$ assez grand), puis à retourner\n",
    "\\\\[\n",
    "    B_N = \\sqrt{\\frac{1}{M} \\sum_{i=1}^M |x^{(i)}_N|^2}\n",
    "\\\\]\n",
    "où ${\\bf x}^{(1)}, \\dots, {\\bf x}^{(M)}$ représentent $M$ marches aléatoires tirées indépendamment.\n",
    "\n",
    "**Question 5 :** Écrire une fonction ``moyenne_2_distance(N, M)`` qui retourne la valeur de $B_N$ après le tirage de $M$ marches aléatoires."
   ]
  },
  {
   "cell_type": "code",
   "execution_count": null,
   "metadata": {},
   "outputs": [],
   "source": []
  },
  {
   "cell_type": "markdown",
   "metadata": {},
   "source": [
    "**Question 6 :** Pour une valeur de $M = 400$ fixée, tracer la courbe de la valeur de $B_N$ en fonction de $N$. On choisira, par exemple, des valeurs de $N$ variant de $10$ en $10$, entre $10$ et $500$.\n",
    "\n",
    "Puis, superposer ce tracé avec celui de la fonction $t \\mapsto \\sqrt{t}$. Commenter."
   ]
  },
  {
   "cell_type": "code",
   "execution_count": null,
   "metadata": {},
   "outputs": [],
   "source": []
  },
  {
   "cell_type": "markdown",
   "metadata": {},
   "source": [
    "## Exercice 2 : marche aléatoire dans $\\mathbb{Z}^2$.\n",
    "\n",
    "Le pion effectue cette fois une marche aléatoire dans la grille infinie $\\mathbb{Z}^2$ (la grille du plan). L'emplacement initial du pion est le point $P_0 = (0, 0)$. Puis, si le pion est à l'emplacement $P_t$ à l'instant $t$, alors à l'instant $t+1$, son emplacement est :\n",
    "- $P_{t+1} = P_t + (1, 0)$ avec probabilité $1/4$,\n",
    "- $P_{t+1} = P_t + (0, 1)$ avec probabilité $1/4$,\n",
    "- $P_{t+1} = P_t + (-1, 0)$ avec probabilité $1/4$,\n",
    "- $P_{t+1} = P_t + (0, -1)$ avec probabilité $1/4$."
   ]
  },
  {
   "cell_type": "markdown",
   "metadata": {},
   "source": [
    "**Question 1 :** Écrire une fonction ``deplacement_2D(N)`` qui calcule le déplacement aléatoire d'un pion dans $\\mathbb{Z}^2$, jusqu'à l'instant $N$. La fonction retournera la liste des $N+1$ positions du pion au cours du temps."
   ]
  },
  {
   "cell_type": "code",
   "execution_count": null,
   "metadata": {},
   "outputs": [],
   "source": []
  },
  {
   "cell_type": "markdown",
   "metadata": {},
   "source": [
    "**Question 2 :** Afficher dans le plan les points de passage du pion lors de sa marche aléatoire sur $N = 10000$ temps."
   ]
  },
  {
   "cell_type": "code",
   "execution_count": null,
   "metadata": {},
   "outputs": [],
   "source": []
  }
 ],
 "metadata": {
  "kernelspec": {
   "display_name": "SageMath 9.3.rc4",
   "language": "sage",
   "name": "sagemath"
  },
  "language_info": {
   "codemirror_mode": {
    "name": "ipython",
    "version": 3
   },
   "file_extension": ".py",
   "mimetype": "text/x-python",
   "name": "python",
   "nbconvert_exporter": "python",
   "pygments_lexer": "ipython3",
   "version": "3.9.2"
  }
 },
 "nbformat": 4,
 "nbformat_minor": 4
}
