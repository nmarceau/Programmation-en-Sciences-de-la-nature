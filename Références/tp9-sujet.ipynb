{
 "cells": [
  {
   "cell_type": "markdown",
   "metadata": {},
   "source": [
    "# TP9 : analyse réelle, équations différentielles"
   ]
  },
  {
   "cell_type": "markdown",
   "metadata": {},
   "source": [
    "## Exercice 1 : quelques limites\n",
    "\n",
    "**Question 1 :** Soit $f(x) = \\frac{x^3+x}{x-1}$.\n",
    "- Définir l'expression symbolique associée à $f$.\n",
    "- Évaluer cette expression en $x=1$, que se passe-t-il ?\n",
    "- Calculer la limite de $f(x)$ en $x=1$, à gauche et à droite."
   ]
  },
  {
   "cell_type": "code",
   "execution_count": null,
   "metadata": {},
   "outputs": [],
   "source": []
  },
  {
   "cell_type": "code",
   "execution_count": null,
   "metadata": {},
   "outputs": [],
   "source": []
  },
  {
   "cell_type": "code",
   "execution_count": null,
   "metadata": {},
   "outputs": [],
   "source": []
  },
  {
   "cell_type": "markdown",
   "metadata": {},
   "source": [
    "**Question 2 :** Soit $g(x) = \\frac{\\sin(x)}{x}$.\n",
    "- Tracer $g$ entre $-3\\pi$ et $3\\pi$. \n",
    "- La fonction $g$ peut-elle être évaluée en $0$ ?\n",
    "- Calculer la limite de $g$ en $0$ et en $+\\infty$."
   ]
  },
  {
   "cell_type": "code",
   "execution_count": null,
   "metadata": {},
   "outputs": [],
   "source": []
  },
  {
   "cell_type": "code",
   "execution_count": null,
   "metadata": {},
   "outputs": [],
   "source": []
  },
  {
   "cell_type": "code",
   "execution_count": null,
   "metadata": {},
   "outputs": [],
   "source": []
  },
  {
   "cell_type": "markdown",
   "metadata": {},
   "source": [
    "**Question 3 :** Pour $x$ fixé, calculer la limite de $h_n(x) = (1 +x/n)^n$ lorsque $n \\to \\infty$."
   ]
  },
  {
   "cell_type": "code",
   "execution_count": null,
   "metadata": {},
   "outputs": [],
   "source": []
  },
  {
   "cell_type": "markdown",
   "metadata": {},
   "source": [
    "**Question 4 :** Pour $x$ fixé, calculer la série\n",
    "\\\\[\n",
    "\\sum_{n=0}^{+\\infty} s_n(x) \n",
    "\\quad \\text{ où } \\quad s_n(x) = (-1)^n \\frac{x^{2n+1}}{(2n+1)!}\\,.\n",
    "\\\\]"
   ]
  },
  {
   "cell_type": "code",
   "execution_count": null,
   "metadata": {},
   "outputs": [],
   "source": []
  },
  {
   "cell_type": "markdown",
   "metadata": {},
   "source": [
    "**Question 5 :** Calculer $\\sum_{n=1}^\\infty \\frac{1}{n^k}$ pour les valeurs de $k=2, 4, 6, 8, 10$."
   ]
  },
  {
   "cell_type": "code",
   "execution_count": null,
   "metadata": {},
   "outputs": [],
   "source": []
  },
  {
   "cell_type": "markdown",
   "metadata": {},
   "source": [
    "## Exercice 2 : primitives et intégrales\n",
    "\n",
    "**Question 1 :** Calculer les primitives de :\n",
    "- $x \\mapsto \\frac{1}{1+x^2}$\n",
    "- $x \\mapsto \\sin(x)^2$\n",
    "- $x \\mapsto \\frac{1}{x\\ln(x)}$."
   ]
  },
  {
   "cell_type": "code",
   "execution_count": null,
   "metadata": {},
   "outputs": [],
   "source": []
  },
  {
   "cell_type": "markdown",
   "metadata": {},
   "source": [
    "**Question 2 :** Calculer les intégrales suivantes :\n",
    "- $\\int_{1}^{2} \\frac{1}{t} dt$\n",
    "- $\\int_{-\\infty}^{+\\infty} e^{-t^2} dt$"
   ]
  },
  {
   "cell_type": "code",
   "execution_count": null,
   "metadata": {},
   "outputs": [],
   "source": []
  },
  {
   "cell_type": "markdown",
   "metadata": {},
   "source": [
    "**Question 3 (plus difficile) :** Calculer l'intégrale triple :\n",
    "\\\\[\n",
    "    \\int_{r=0}^R \\int_{\\theta=0}^{2\\pi} \\int_{\\phi=-\\pi}^{\\pi} r cos(\\phi) dr d\\theta d\\phi\n",
    "\\\\]\n",
    "Qu'a t'on calculé ici ?"
   ]
  },
  {
   "cell_type": "code",
   "execution_count": null,
   "metadata": {},
   "outputs": [],
   "source": []
  },
  {
   "cell_type": "markdown",
   "metadata": {},
   "source": [
    "## Exercice 3 : équations différentielles\n",
    "\n",
    "**Question 1 :** Résoudre l'équation différentielle $y' = y$ avec comme condition initiale $y(0) = 1$."
   ]
  },
  {
   "cell_type": "code",
   "execution_count": null,
   "metadata": {},
   "outputs": [],
   "source": []
  },
  {
   "cell_type": "markdown",
   "metadata": {},
   "source": [
    "**Question 2 :** Trouver l'ensemble des solutions de l'équation différentielle $y''(t) + y(t) = t^2$."
   ]
  },
  {
   "cell_type": "code",
   "execution_count": null,
   "metadata": {},
   "outputs": [],
   "source": []
  },
  {
   "cell_type": "markdown",
   "metadata": {},
   "source": [
    "**Question 3 :** Trouver l'ensemble des solutions de l'équation différentielle (non-linéaire) $y'(t) = y(t)^2$."
   ]
  },
  {
   "cell_type": "code",
   "execution_count": null,
   "metadata": {},
   "outputs": [],
   "source": []
  },
  {
   "cell_type": "markdown",
   "metadata": {},
   "source": [
    "## Exercice 4 : méthode de Newton\n",
    "\n",
    "La méthode de Newton a pour but de trouver une valeur approchée d'un point d'annulation d'une fonction $f$ de classe $\\mathcal{C}^1$. Comme on cherche une valeur approchée, on doit se donner une condition d'arrêt correspondant à la précision désirée.\n",
    "\n",
    "L'algorithme est le suivant :\n",
    "1. prérequis : choisir une valeur de $x_0$ et une précision $\\varepsilon > 0$ proche de $0$ \n",
    "2. fixer $i = 1$\n",
    "3. calculer $x_i = x_{i-1} - \\frac{f'(x_{i-1})}{f(x_{i-1})}$\n",
    "4. tant que $|x_i - x_{i-1}| > \\epsilon$, incrémenter $i$ et revenir à l'étape 3\n",
    "5. retourner $x_i$."
   ]
  },
  {
   "cell_type": "markdown",
   "metadata": {},
   "source": [
    "**Question 1 :** Écrire une fonction ``methode_newton(f, x0, eps)`` qui exécute la méthode de Newton sur la fonction ``f``, avec la valeur initiale ``x0`` et la précision ``eps``"
   ]
  },
  {
   "cell_type": "code",
   "execution_count": null,
   "metadata": {},
   "outputs": [],
   "source": []
  },
  {
   "cell_type": "markdown",
   "metadata": {},
   "source": [
    "**Question 2 :** Utilisez votre fonction pour calculer une approximation de $\\ln(2)$ à $10^{-10}$ près."
   ]
  },
  {
   "cell_type": "code",
   "execution_count": null,
   "metadata": {},
   "outputs": [],
   "source": []
  },
  {
   "cell_type": "markdown",
   "metadata": {},
   "source": [
    "**Question 3 :** Testez votre fonction avec $f(x) = \\sin(x)$, $\\varepsilon = 10^{-10}$ et\n",
    "- $x_0 = 1.0$ d'une part\n",
    "- $x_0 = 2.0$ d'autre part.\n",
    "Que se passe-t-il ? Tenter d'expliquer pourquoi."
   ]
  },
  {
   "cell_type": "code",
   "execution_count": null,
   "metadata": {},
   "outputs": [],
   "source": []
  },
  {
   "cell_type": "code",
   "execution_count": null,
   "metadata": {},
   "outputs": [],
   "source": []
  },
  {
   "cell_type": "markdown",
   "metadata": {},
   "source": [
    "**Question 4 :** Testez votre fonction avec $f(x) = \\sin(x)$, $x_0 = \\pi/2$ et $\\varepsilon = 0.001$. Que se passe-t-il ? Tenter d'expliquer pourquoi."
   ]
  },
  {
   "cell_type": "code",
   "execution_count": null,
   "metadata": {},
   "outputs": [],
   "source": []
  }
 ],
 "metadata": {
  "kernelspec": {
   "display_name": "SageMath 9.3.rc4",
   "language": "sage",
   "name": "sagemath"
  },
  "language_info": {
   "codemirror_mode": {
    "name": "ipython",
    "version": 3
   },
   "file_extension": ".py",
   "mimetype": "text/x-python",
   "name": "python",
   "nbconvert_exporter": "python",
   "pygments_lexer": "ipython3",
   "version": "3.9.2"
  }
 },
 "nbformat": 4,
 "nbformat_minor": 4
}
