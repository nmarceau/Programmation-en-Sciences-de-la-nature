{
  "cells": [
    {
      "cell_type": "markdown",
      "metadata": {
        "id": "xiwUTkq0V7cm"
      },
      "source": [
        "# Une introduction à Numpy\n",
        "\n",
        "![](https://github.com/boileaum/cours-python/blob/master/fig/python-logo.png?raw=1)\n",
        "\n",
        "- Tableaux Numpy\n",
        "- Création de tableaux\n",
        "- Opérations basiques\n",
        "- Indexation et slicing\n",
        "- Algèbre linéaire\n",
        "- Méthodes sur les tableaux\n",
        "\n",
        "***\n",
        "\n",
        "*Contenu sous licence [CC BY-SA 4.0](https://creativecommons.org/licenses/by-sa/4.0), largement inspiré de <https://github.com/pnavaro/python-notebooks>*"
      ]
    },
    {
      "cell_type": "markdown",
      "metadata": {
        "id": "2X7uMBUVV7cn"
      },
      "source": [
        "## Numpy\n",
        "\n",
        "Le Python pur est peu performant pour le calcul. Les listes ne sont pas des objets efficaces pour représenter les tableaux numériques de grande taille. [Numpy](http://www.numpy.org/) a été créé à l'initiative de développeurs qui souhaitaient combiner la souplesse du langage python et des outils de calcul algébrique performants."
      ]
    },
    {
      "cell_type": "markdown",
      "metadata": {
        "id": "lvDu7i48V7cn"
      },
      "source": [
        "Numpy se base sur :\n",
        "\n",
        "- le `ndarray` : tableau multidimensionnel\n",
        "- des objets dérivés comme les *masked arrays* et les matrices\n",
        "- les `ufunc`s : opérations mathématiques optimisées pour les tableaux\n",
        "- des méthodes pour réaliser des opération rapides sur les tableaux :\n",
        "    - manipulation des *shapes*\n",
        "    - tri\n",
        "    - entrées/sorties\n",
        "    - FFT\n",
        "    - algébre linéaire\n",
        "    - statistiques\n",
        "    - calcul aléatoire\n",
        "    - et bien plus !\n",
        "  \n",
        "Numpy permet de calculer *à la Matlab* en Python. Il est un élément de base de l'écosystème [SciPy](https://www.scipy.org/)"
      ]
    },
    {
      "cell_type": "markdown",
      "metadata": {
        "id": "fG58DXarV7cn"
      },
      "source": [
        "## Démarrer avec Numpy\n"
      ]
    },
    {
      "cell_type": "code",
      "execution_count": null,
      "metadata": {
        "id": "nsnnp3NDV7co"
      },
      "outputs": [],
      "source": [
        "import numpy as np\n",
        "print(np.__version__)"
      ]
    },
    {
      "cell_type": "markdown",
      "metadata": {
        "id": "jjwdiBaVV7co"
      },
      "source": [
        "Utilisez l'auto-complétion pour lister les objets numpy :"
      ]
    },
    {
      "cell_type": "code",
      "execution_count": null,
      "metadata": {
        "id": "ycaMz9IWV7co"
      },
      "outputs": [],
      "source": [
        "#np.nd<TAB>"
      ]
    },
    {
      "cell_type": "markdown",
      "metadata": {
        "id": "fluO8Nm2V7co"
      },
      "source": [
        "La rubrique d'aide est également précieuse"
      ]
    },
    {
      "cell_type": "code",
      "execution_count": null,
      "metadata": {
        "id": "IdliIdQRV7co"
      },
      "outputs": [],
      "source": [
        "?np.ndarray"
      ]
    },
    {
      "cell_type": "markdown",
      "metadata": {
        "id": "rKtv5GnzV7co"
      },
      "source": [
        "## Tableaux Numpy\n",
        "\n",
        "### Une question de performance"
      ]
    },
    {
      "cell_type": "markdown",
      "metadata": {
        "id": "9krlqCgLV7co"
      },
      "source": [
        "- Les listes Python sont trop lentes pour le calcul et utilisent beaucoup de mémoire\n",
        "- Représenter des tableaux multidimensionnels avec des listes de listes devient vite brouillon à programmer"
      ]
    },
    {
      "cell_type": "code",
      "execution_count": null,
      "metadata": {
        "id": "wIzSKIrnV7cp"
      },
      "outputs": [],
      "source": [
        "from random import random\n",
        "from operator import truediv"
      ]
    },
    {
      "cell_type": "code",
      "execution_count": null,
      "metadata": {
        "id": "MFbtnxNkV7cp"
      },
      "outputs": [],
      "source": [
        "l1 = [random() for i in range(1000)]\n",
        "l2 = [random() for i in range(1000)]\n",
        "%timeit s = sum(map(truediv, l1, l2))"
      ]
    },
    {
      "cell_type": "code",
      "execution_count": null,
      "metadata": {
        "id": "qz06cQtZV7cp"
      },
      "outputs": [],
      "source": [
        "a1 = np.array(l1)\n",
        "a2 = np.array(l2)\n",
        "%timeit s = np.sum(a1/a2)"
      ]
    },
    {
      "cell_type": "markdown",
      "metadata": {
        "id": "PaGPxGAjV7cp"
      },
      "source": [
        "### La différence avec les listes\n",
        "\n",
        "Les différences entre tableaux Numpy et listes Python :\n",
        "- un `ndarray` a une taille fixée à la création\n",
        "- un `ndarray` est composé d'éléments du même type\n",
        "- les opérations sur les tableaux sont réalisées par des routines C pré-compilées et optimisées (éventuellement parallèles)"
      ]
    },
    {
      "cell_type": "code",
      "execution_count": null,
      "metadata": {
        "id": "exalUu99V7cp"
      },
      "outputs": [],
      "source": [
        "a = np.array([0, 1, 2, 3])  # list\n",
        "b = np.array((4, 5, 6, 7))  # tuple\n",
        "c = np.matrix('8 9 0 1')    # string (syntaxe matlab)"
      ]
    },
    {
      "cell_type": "code",
      "execution_count": null,
      "metadata": {
        "id": "FI8V88uxV7cp"
      },
      "outputs": [],
      "source": [
        "print(a, b, c)"
      ]
    },
    {
      "cell_type": "markdown",
      "metadata": {
        "id": "MXNKQ1vuV7cp"
      },
      "source": [
        "### Propriétés"
      ]
    },
    {
      "cell_type": "code",
      "execution_count": null,
      "metadata": {
        "id": "QU0xtF1RV7cp"
      },
      "outputs": [],
      "source": [
        "a = np.array([1, 2, 3, 4, 5])  # On crée un tableau"
      ]
    },
    {
      "cell_type": "code",
      "execution_count": null,
      "metadata": {
        "id": "vwMl_AK4V7cq"
      },
      "outputs": [],
      "source": [
        "type(a)  # On vérifie son type"
      ]
    },
    {
      "cell_type": "code",
      "execution_count": null,
      "metadata": {
        "id": "Hxy-C0ZNV7cq"
      },
      "outputs": [],
      "source": [
        "a.dtype  # On affiche le type de ses éléments"
      ]
    },
    {
      "cell_type": "code",
      "execution_count": null,
      "metadata": {
        "id": "KC9BIxIsV7cq"
      },
      "outputs": [],
      "source": [
        "a.itemsize  # On affiche la taille mémoire (en octets) de chaque élément"
      ]
    },
    {
      "cell_type": "code",
      "execution_count": null,
      "metadata": {
        "id": "Pd8ngCVbV7cq"
      },
      "outputs": [],
      "source": [
        "a.shape  # On retourne un tuple indiquant la longueur de chaque dimension"
      ]
    },
    {
      "cell_type": "code",
      "execution_count": null,
      "metadata": {
        "id": "zh-wMAaGV7cq"
      },
      "outputs": [],
      "source": [
        "a.size  #  On retourne le nombre total d'éléments"
      ]
    },
    {
      "cell_type": "code",
      "execution_count": null,
      "metadata": {
        "id": "xEaqhlZkV7cr"
      },
      "outputs": [],
      "source": [
        "a.ndim   # On retourne le nombre de dimensions"
      ]
    },
    {
      "cell_type": "code",
      "execution_count": null,
      "metadata": {
        "id": "83mlFE6GV7cr"
      },
      "outputs": [],
      "source": [
        "a.nbytes  # On retourne l'occupation mémoire"
      ]
    },
    {
      "cell_type": "markdown",
      "metadata": {
        "id": "YOSBoc4dV7cr"
      },
      "source": [
        "> - Toujours utiliser `shape` ou `size` pour les tableaux numpy plutôt que `len`\n",
        "> - `len` est réservé aux tableaux 1D"
      ]
    },
    {
      "cell_type": "markdown",
      "metadata": {
        "id": "w4hgkvM3V7cr"
      },
      "source": [
        "## Création de tableaux Numpy\n",
        "\n",
        "### Avec des valeur constantes"
      ]
    },
    {
      "cell_type": "code",
      "execution_count": null,
      "metadata": {
        "id": "RkaYv-ELV7cr"
      },
      "outputs": [],
      "source": [
        "x = np.zeros((5, 3))  # On ne précise pas le type : on crée des flottants\n",
        "print(x)\n",
        "print(x.dtype)"
      ]
    },
    {
      "cell_type": "code",
      "execution_count": null,
      "metadata": {
        "id": "54-3l-xzV7cr"
      },
      "outputs": [],
      "source": [
        "x = np.zeros((5, 3), dtype=int)  # On explicite le type\n",
        "x"
      ]
    },
    {
      "cell_type": "markdown",
      "metadata": {
        "id": "s6sJsVKFV7cr"
      },
      "source": [
        "On dispose d'une panoplie de fonctions pour allouer des tableaux avec des valeurs constantes ou non initialisées (`empty`) :\n",
        "\n",
        "`empty, empty_like, ones, ones_like, zeros, zeros_like, full, full_like`"
      ]
    },
    {
      "cell_type": "markdown",
      "metadata": {
        "id": "qbkvb5xEV7cr"
      },
      "source": [
        "### Création à partir d'une séquence\n",
        "\n",
        "\n",
        "#### `arange`\n",
        "\n",
        "C'est l'équivalent de `range` pour les listes."
      ]
    },
    {
      "cell_type": "code",
      "execution_count": null,
      "metadata": {
        "id": "LQEeUTt2V7cs"
      },
      "outputs": [],
      "source": [
        "np.arange(5)  # entiers de 0 à 4"
      ]
    },
    {
      "cell_type": "code",
      "execution_count": null,
      "metadata": {
        "id": "D_2gqU56V7cs"
      },
      "outputs": [],
      "source": [
        "np.arange(5, dtype=np.double)  # flottants de 0. à 4."
      ]
    },
    {
      "cell_type": "code",
      "execution_count": null,
      "metadata": {
        "id": "JyY05L7nV7cs"
      },
      "outputs": [],
      "source": [
        "np.arange(2, 7)  # entiers de 2 à 6."
      ]
    },
    {
      "cell_type": "code",
      "execution_count": null,
      "metadata": {
        "id": "5jVlK1dmV7cs"
      },
      "outputs": [],
      "source": [
        "np.arange(2, 7, 0.5)  # flottants avec incrément de 0.5."
      ]
    },
    {
      "cell_type": "markdown",
      "metadata": {
        "id": "rlOTxr51V7cs"
      },
      "source": [
        "#### `linspace` et `logspace`"
      ]
    },
    {
      "cell_type": "code",
      "execution_count": null,
      "metadata": {
        "id": "WbxYpud8V7cs"
      },
      "outputs": [],
      "source": [
        "# 5 éléments régulièrement espacés entre 1 et 4, 1 et 4 inclus\n",
        "np.linspace(1, 4, 5)"
      ]
    },
    {
      "cell_type": "code",
      "execution_count": null,
      "metadata": {
        "id": "1MhNdnBhV7cs"
      },
      "outputs": [],
      "source": [
        "# 5 éléments régulièrement espacés selon une progression géométrique entre 10^1 et 10^4\n",
        "np.logspace(1, 4, 5)"
      ]
    },
    {
      "cell_type": "markdown",
      "metadata": {
        "id": "3o8VeqeBV7c0"
      },
      "source": [
        "Consulter l'aide contextuelle pour plus de fonctionnalités"
      ]
    },
    {
      "cell_type": "code",
      "execution_count": null,
      "metadata": {
        "id": "qwZLsU_HV7c0"
      },
      "outputs": [],
      "source": [
        "?np.logspace()"
      ]
    },
    {
      "cell_type": "markdown",
      "metadata": {
        "id": "R5hk-fccV7c0"
      },
      "source": [
        "### Exercice : créer les tableaux suivants"
      ]
    },
    {
      "cell_type": "markdown",
      "metadata": {
        "id": "bWacvlYaV7c0"
      },
      "source": [
        "```python\n",
        "[100 101 102 103 104 105 106 107 108 109]\n",
        "```\n",
        "> Astuce : `np.arange()`"
      ]
    },
    {
      "cell_type": "code",
      "execution_count": null,
      "metadata": {
        "solution2": "hidden",
        "solution2_first": true,
        "id": "T6z3fJlUV7c0"
      },
      "outputs": [],
      "source": [
        "# Votre code ici"
      ]
    },
    {
      "cell_type": "code",
      "execution_count": null,
      "metadata": {
        "solution2": "hidden",
        "id": "oV3TlonuV7c1"
      },
      "outputs": [],
      "source": [
        "# Solution\n",
        "np.arange(100, 110)"
      ]
    },
    {
      "cell_type": "markdown",
      "metadata": {
        "id": "L-GmJVafV7c1"
      },
      "source": [
        "```python\n",
        "[-2. -1.8 -1.6 -1.4 -1.2 -1. -0.8 -0.6 -0.4 -0.2 0.\n",
        "0.2 0.4 0.6 0.8 1. 1.2 1.4 1.6 1.8]\n",
        "```\n",
        "\n",
        "> Astuce : `np.linspace()`"
      ]
    },
    {
      "cell_type": "code",
      "execution_count": null,
      "metadata": {
        "solution2": "hidden",
        "solution2_first": true,
        "id": "9CNeZIrSV7c1"
      },
      "outputs": [],
      "source": [
        "# Votre code ici"
      ]
    },
    {
      "cell_type": "code",
      "execution_count": null,
      "metadata": {
        "solution2": "hidden",
        "id": "WCodLdDiV7c1"
      },
      "outputs": [],
      "source": [
        "# Solution\n",
        "np.linspace(-2., 2., num=20, endpoint=False)"
      ]
    },
    {
      "cell_type": "markdown",
      "metadata": {
        "id": "VnC9ZQGXV7c1"
      },
      "source": [
        "```python\n",
        "[ 0.001\t0.00129155 0.0016681 0.00215443 0.00278256\n",
        "     0.003593810.00464159 0.00599484 0.00774264 0.01]\n",
        "```\n",
        "\n",
        "> Astuce : `np.logspace()`"
      ]
    },
    {
      "cell_type": "code",
      "execution_count": null,
      "metadata": {
        "solution2": "hidden",
        "solution2_first": true,
        "id": "9i3u_IxAV7c1"
      },
      "outputs": [],
      "source": [
        "# Votre code ici"
      ]
    },
    {
      "cell_type": "code",
      "execution_count": null,
      "metadata": {
        "solution2": "hidden",
        "id": "vYt1D1VfV7c1"
      },
      "outputs": [],
      "source": [
        "# Solution\n",
        "np.logspace(-3, -2, num=10)"
      ]
    },
    {
      "cell_type": "markdown",
      "metadata": {
        "id": "lvZ0v594V7c1"
      },
      "source": [
        "```python\n",
        "[[ 0. 0. -1. -1. -1.]\n",
        " [ 0. 0.  0. -1. -1.]\n",
        " [ 0. 0.  0.  0. -1.]\n",
        " [ 0. 0.  0.  0.  0.]\n",
        " [ 0. 0.  0.  0.  0.]\n",
        " [ 0. 0.  0.  0.  0.]\n",
        " [ 0. 0.  0.  0.  0.]]\n",
        "```\n",
        "\n",
        "> Astuce : `np.tri()`, `np.ones()`"
      ]
    },
    {
      "cell_type": "code",
      "execution_count": null,
      "metadata": {
        "solution2": "hidden",
        "solution2_first": true,
        "id": "HAXo7pgzV7c1"
      },
      "outputs": [],
      "source": [
        "# Votre code ici"
      ]
    },
    {
      "cell_type": "code",
      "execution_count": null,
      "metadata": {
        "solution2": "hidden",
        "id": "N_eesiYuV7c2"
      },
      "outputs": [],
      "source": [
        "# Solution\n",
        "np.tri(7, 5, k=1) - np.ones((7, 5))"
      ]
    },
    {
      "cell_type": "markdown",
      "metadata": {
        "id": "luokkN9QV7c2"
      },
      "source": [
        "### Création de tableaux à partir de fichiers\n",
        "\n",
        "Afin d'illustrer la création d'un tableau numpy à partir de données lues dans un fichier texte, on commence par sauvegarder un tableau dans un fichier."
      ]
    },
    {
      "cell_type": "code",
      "execution_count": null,
      "metadata": {
        "id": "0YZ-tL6mV7c2"
      },
      "outputs": [],
      "source": [
        "x = np.arange(0.0, 5.0, 1.0)\n",
        "y = x*10.\n",
        "z = x*100."
      ]
    },
    {
      "cell_type": "code",
      "execution_count": null,
      "metadata": {
        "id": "DpsWGJ_5V7c2"
      },
      "outputs": [],
      "source": [
        "np.savetxt('test.out', (x, y, z))\n",
        "%cat test.out"
      ]
    },
    {
      "cell_type": "code",
      "execution_count": null,
      "metadata": {
        "id": "eS-aL37UV7c2"
      },
      "outputs": [],
      "source": [
        "np.savetxt('test.out', (x, y, z), fmt='%1.4e')   # Notation exponentielle\n",
        "%cat test.out"
      ]
    },
    {
      "cell_type": "code",
      "execution_count": null,
      "metadata": {
        "id": "1jPo5POSV7c2"
      },
      "outputs": [],
      "source": [
        "np.loadtxt('test.out')"
      ]
    },
    {
      "cell_type": "markdown",
      "metadata": {
        "id": "1XpPQ1coV7c2"
      },
      "source": [
        "`savetxt` et `loadtxt` ont leurs correspondants binaires :\n",
        "\n",
        "- [`save`](https://docs.scipy.org/doc/numpy-1.13.0/reference/generated/numpy.save.html#numpy.save) : enregistrer un tableau dans un fichier binaire au format `.npy`\n",
        "- [`load`](https://docs.scipy.org/doc/numpy-1.13.0/reference/generated/numpy.load.html#numpy.load): créer un tableau numpy à partir d'un fichier binaire numpy"
      ]
    },
    {
      "cell_type": "markdown",
      "metadata": {
        "id": "f_MSMs1hV7c2"
      },
      "source": [
        "### Format HDF5 avec H5py\n",
        "\n",
        "Le format `.npy` n'est lisible que par Numpy.\n",
        "À l'inverse, le format HDF5 est partagé par un grand nombre d'applications.\n",
        "De plus, il permet de structurer des données binaires :\n",
        "- en les nommants\n",
        "- en ajoutant des métadonnées\n",
        "- en assurant une portabilité indépendante de la plateforme\n",
        "\n",
        "> voir le [manuel utilisateur](http://docs.h5py.org)\n",
        "\n",
        "H5py est une interface Python pour HDF5."
      ]
    },
    {
      "cell_type": "markdown",
      "metadata": {
        "id": "s_rOgCgVV7c3"
      },
      "source": [
        "On écrit dans le fichier `test.h5`"
      ]
    },
    {
      "cell_type": "code",
      "execution_count": null,
      "metadata": {
        "id": "EqjjgnkMV7c3"
      },
      "outputs": [],
      "source": [
        "import h5py as h5\n",
        "\n",
        "with h5.File('test.h5', 'w') as f:\n",
        "    f['x'] = x\n",
        "    f['y'] = y\n",
        "    f['z'] = z"
      ]
    },
    {
      "cell_type": "markdown",
      "metadata": {
        "id": "lGw6w5grV7c3"
      },
      "source": [
        "On lit le fichier `test.h5` (qui pourrait provenir d'une autre application)"
      ]
    },
    {
      "cell_type": "code",
      "execution_count": null,
      "metadata": {
        "id": "7Wm8pbj_V7c3"
      },
      "outputs": [],
      "source": [
        "with h5.File('test.h5', 'r') as f:\n",
        "    for field in f.keys():\n",
        "        print(f\"{field}: {f[field].value}\")"
      ]
    },
    {
      "cell_type": "markdown",
      "metadata": {
        "id": "uJ-sNrO5V7c3"
      },
      "source": [
        "## Opérations basiques sur les tableaux\n",
        "\n",
        "Par défaut, Numpy réalise les opérations arithmétiques éléments par éléments"
      ]
    },
    {
      "cell_type": "code",
      "execution_count": null,
      "metadata": {
        "id": "wqQwbOg9V7c3"
      },
      "outputs": [],
      "source": [
        "a = np.array([0, 1, 2, 3])\n",
        "b = np.array((4, 5, 6, 7))\n",
        "\n",
        "print(a*b)  # Produit éléments par éléments : pas le produit matriciel !\n",
        "print(a + b)"
      ]
    },
    {
      "cell_type": "code",
      "execution_count": null,
      "metadata": {
        "id": "L7eRekBuV7c3"
      },
      "outputs": [],
      "source": [
        "print(a**2)"
      ]
    },
    {
      "cell_type": "code",
      "execution_count": null,
      "metadata": {
        "id": "2CWbYEMnV7c3"
      },
      "outputs": [],
      "source": [
        "print(5*a)\n",
        "print(5 + a)"
      ]
    },
    {
      "cell_type": "code",
      "execution_count": null,
      "metadata": {
        "id": "qbL_yJ3kV7c3"
      },
      "outputs": [],
      "source": [
        "print(a < 2)"
      ]
    },
    {
      "cell_type": "code",
      "execution_count": null,
      "metadata": {
        "id": "pyH40YaBV7c4"
      },
      "outputs": [],
      "source": [
        "print(np.cos(a*np.pi))  # Utilisation de ufunc"
      ]
    },
    {
      "cell_type": "markdown",
      "metadata": {
        "id": "gVjSox-CV7c4"
      },
      "source": [
        "De nombreuses ufunc dans la [doc officielle](https://docs.scipy.org/doc/numpy/user/quickstart.html#universal-functions)."
      ]
    },
    {
      "cell_type": "markdown",
      "metadata": {
        "id": "nJU7PyMdV7c4"
      },
      "source": [
        "##  Indexation et slicing\n",
        "\n",
        "### Indexation\n",
        "\n",
        "Les règles différent légèrement des listes pour les tableaux multi-dimensionnels"
      ]
    },
    {
      "cell_type": "code",
      "execution_count": null,
      "metadata": {
        "id": "uGvC8qHdV7c4"
      },
      "outputs": [],
      "source": [
        "# Indexation d'un tableau numpy\n",
        "a = np.arange(9).reshape(3, 3)  # Notez l'effet de la méthode reshape()\n",
        "print(a)\n",
        "print(a[1, 2])"
      ]
    },
    {
      "cell_type": "code",
      "execution_count": null,
      "metadata": {
        "id": "X_H4RDvBV7c4"
      },
      "outputs": [],
      "source": [
        "# Indexation de la liste équivalente\n",
        "liste = a.tolist()\n",
        "print(liste)\n",
        "print(liste[1][2])"
      ]
    },
    {
      "cell_type": "markdown",
      "metadata": {
        "id": "i4I6yO8jV7c4"
      },
      "source": [
        "### Slicing\n",
        "\n",
        "Pour les tableaux unidimensionnels, les règles de slicing sont les mêmes que pour les listes.\n",
        "Pour les tableaux multidimensionnels numpy, le slicing permet d'extraire des séquences dans n'importe quelle direction."
      ]
    },
    {
      "cell_type": "code",
      "execution_count": null,
      "metadata": {
        "id": "srG5TWLCV7c4"
      },
      "outputs": [],
      "source": [
        "print(a)\n",
        "print(a[2, :])  # Retourne la 3ème ligne\n",
        "print(a[:, 1])  # Retourne la deuxième colonne"
      ]
    },
    {
      "cell_type": "markdown",
      "metadata": {
        "id": "8uEhjLHVV7c4"
      },
      "source": [
        "**Attention :** contrairement aux listes, le slicing de tableaux ne renvoie pas une copie mais constitue une ***vue*** du tableau."
      ]
    },
    {
      "cell_type": "code",
      "execution_count": null,
      "metadata": {
        "id": "aH9_rB5sV7c5"
      },
      "outputs": [],
      "source": [
        "b = a[:, 1]\n",
        "b[0] = 100\n",
        "print(a)"
      ]
    },
    {
      "cell_type": "markdown",
      "metadata": {
        "id": "_3lzI-UkV7c5"
      },
      "source": [
        "`a` est aussi une vue du tableau `np.arange(9)` obtenue avec la méthode `reshape()` donc `a` et `b` sont deux vues différentes du même tableau :"
      ]
    },
    {
      "cell_type": "code",
      "execution_count": null,
      "metadata": {
        "id": "wIu4hONoV7c5"
      },
      "outputs": [],
      "source": [
        "b.base is a.base  # b.base retourne le tableau dont b est la vue"
      ]
    },
    {
      "cell_type": "markdown",
      "metadata": {
        "id": "6gWFv-VMV7c5"
      },
      "source": [
        "Si on veut réaliser une copie d'un tableau, il faut utiliser la fonction `copy()`"
      ]
    },
    {
      "cell_type": "code",
      "execution_count": null,
      "metadata": {
        "id": "OWLjybUEV7c5"
      },
      "outputs": [],
      "source": [
        "b = a[:, 1].copy()"
      ]
    },
    {
      "cell_type": "markdown",
      "metadata": {
        "id": "-j6F_oZJV7c5"
      },
      "source": [
        "ici `b` n'est pas une vue mais une copie donc `b.base` retourne `None` et `a` n'est pas modifié."
      ]
    },
    {
      "cell_type": "code",
      "execution_count": null,
      "metadata": {
        "id": "Z472x6wwV7c5"
      },
      "outputs": [],
      "source": [
        "print(b.base)\n",
        "b[0] = 200\n",
        "print(a)"
      ]
    },
    {
      "cell_type": "markdown",
      "metadata": {
        "id": "F8LARk9MV7c5"
      },
      "source": [
        "### Exercice\n",
        "\n",
        "Calculer la dérivée de $f(x) = \\sin(x)$ par la méthode des différences finies :\n",
        "\n",
        "$$\\frac{\\partial f}{\\partial x} \\approx \\frac{f(x+\\Delta x)-f(x)}{\\Delta x}$$\n",
        "\n",
        "Les valeurs seront calculées au milieu de deux abscisses discrètes successives."
      ]
    },
    {
      "cell_type": "code",
      "execution_count": null,
      "metadata": {
        "id": "SjW-Dl0yV7c5"
      },
      "outputs": [],
      "source": [
        "# On crée un tableau de 40 points d'abscisse\n",
        "x, dx = np.linspace(0., 4.*np.pi, 40, retstep=True)\n",
        "y = np.sin(x)"
      ]
    },
    {
      "cell_type": "code",
      "execution_count": null,
      "metadata": {
        "solution2": "hidden",
        "solution2_first": true,
        "id": "ldOxvZ7VV7c6"
      },
      "outputs": [],
      "source": [
        "%matplotlib inline\n",
        "%config InlineBackend.figure_format = 'retina'  # Pour augmenter la résolution\n",
        "import matplotlib.pyplot as plt\n",
        "plt.plot(x, np.cos(x));  # la dérivée analytique de sin() est cos()\n",
        "# Votre code ici\n",
        "\n",
        "# Décommentez la dernière ligne pour tracer la dérivée numérique dy_dx\n",
        "# en fonction du milieu de 2 abscisses x_mil\n",
        "#plt.plot(x_mil, dy_dx, 'rx');"
      ]
    },
    {
      "cell_type": "code",
      "execution_count": null,
      "metadata": {
        "solution2": "hidden",
        "id": "nlR2gVqaV7c6"
      },
      "outputs": [],
      "source": [
        "# Solution\n",
        "%matplotlib inline\n",
        "%config InlineBackend.figure_format = 'retina'  # Pour augmenter la résolution\n",
        "import matplotlib.pyplot as plt\n",
        "plt.plot(x, np.cos(x))  # la dérivée analytique de sin() est cos()\n",
        "\n",
        "x_mil = 0.5*(x[1:] + x[:-1])\n",
        "dy = y[1:] - y[:-1]\n",
        "dy_dx = dy/dx\n",
        "plt.plot(x_mil, dy_dx, 'rx')  # x_mil est le milieu de deux abscisses\n",
        "plt.title(r\"$\\rm{Derivative\\ of}\\ \\sin(x)$\");"
      ]
    },
    {
      "cell_type": "markdown",
      "metadata": {
        "id": "MnHhf7pMV7c6"
      },
      "source": [
        "## Quelques opérations d'algèbre linéaire"
      ]
    },
    {
      "cell_type": "code",
      "execution_count": null,
      "metadata": {
        "id": "40wENtCIV7c6"
      },
      "outputs": [],
      "source": [
        "A = np.array([[1, 1],\n",
        "              [0, 1]])\n",
        "B = np.array([[2, 0],\n",
        "              [3, 4]])\n",
        "print(A*B)           # produit élément par élément\n",
        "print(A.dot(B))      # produit matriciel\n",
        "print(np.dot(A, B))  # une autre syntaxe de produit matriciel\n",
        "print(A@B)           # encore un autre produit matriciel"
      ]
    },
    {
      "cell_type": "code",
      "execution_count": null,
      "metadata": {
        "id": "er1NCsGoV7c6"
      },
      "outputs": [],
      "source": [
        "a = np.array([[1.0, 2.0],\n",
        "              [3.0, 4.0]])\n",
        "print(a)"
      ]
    },
    {
      "cell_type": "code",
      "execution_count": null,
      "metadata": {
        "id": "_0OvzDsoV7c6"
      },
      "outputs": [],
      "source": [
        "# Deux syntaxes équivalentes pour la transposition\n",
        "print(a.transpose())\n",
        "print(a.T)"
      ]
    },
    {
      "cell_type": "code",
      "execution_count": null,
      "metadata": {
        "id": "tGjo55OzV7c6"
      },
      "outputs": [],
      "source": [
        "print(np.linalg.inv(a))  # inversion de matrice"
      ]
    },
    {
      "cell_type": "code",
      "execution_count": null,
      "metadata": {
        "id": "jlTyd5UWV7c6"
      },
      "outputs": [],
      "source": [
        "print(np.trace(a))  # trace"
      ]
    },
    {
      "cell_type": "code",
      "execution_count": null,
      "metadata": {
        "id": "V2iIqjmcV7c7"
      },
      "outputs": [],
      "source": [
        "print(np.eye(2))     # \"eye\" représente \"I\", la matrice identité"
      ]
    },
    {
      "cell_type": "code",
      "execution_count": null,
      "metadata": {
        "id": "cdp5gwuNV7c7"
      },
      "outputs": [],
      "source": [
        "y = np.array([[5.], [7.]])  # Résoudre A*x = y\n",
        "x = np.linalg.solve(a, y)\n",
        "print(np.linalg.solve(a, y))\n",
        "print(a@x == y)"
      ]
    },
    {
      "cell_type": "code",
      "execution_count": null,
      "metadata": {
        "id": "Nj1DXQoSV7c7"
      },
      "outputs": [],
      "source": [
        "j = np.array([[0.0, -1.0], [1.0, 0.0]])\n",
        "print(np.dot(j, j))     # produit matriciel\n",
        "print(np.linalg.eig(j))  # Extraction des valeurs propres"
      ]
    },
    {
      "cell_type": "markdown",
      "metadata": {
        "id": "0e17tJh5V7c7"
      },
      "source": [
        "## Les méthodes associées aux tableaux"
      ]
    },
    {
      "cell_type": "markdown",
      "metadata": {
        "id": "YQJTNCXuV7c7"
      },
      "source": [
        "Elles sont très nombreuses : impossible de toutes les lister dans le cadre de ce cours.\n",
        "Citons brièvement :\n",
        "\n",
        "- `min`, `max`, `sum`\n",
        "- `sort`, `argmin`, `argmax`\n",
        "- statistiques basiques : `cov`, `mean`, `std`, `var`\n",
        "\n",
        "À chercher dans la [doc officielle](https://docs.scipy.org/doc/numpy/user/quickstart.html#)."
      ]
    },
    {
      "cell_type": "markdown",
      "metadata": {
        "id": "v1ZBX3cnV7c7"
      },
      "source": [
        "## Programmation avec Numpy\n",
        "\n",
        "- Les opérations sur les tableaux sont rapides, les boucles python sont lentes => **Eviter les boucles !**\n",
        "- C'est une gymnastique qui nécessite de l'entraînement\n",
        "- Le résultat peut devenir difficile à lire et à débugguer, par exemple dans le cas de boucles contenant de multiples conditions\n",
        "- D'autres options sont alors envisageables (Cython, Pythran, etc.)"
      ]
    },
    {
      "cell_type": "markdown",
      "metadata": {
        "id": "T0RlVr-YV7c7"
      },
      "source": [
        "## Références\n",
        "- [NumPy reference](http://docs.scipy.org/doc/numpy/reference/)\n",
        "- [Numpy by Konrad Hinsen](http://calcul.math.cnrs.fr/Documents/Ecoles/2013/python/NumPy%20avance.pdf)\n",
        "- [Cours de Pierre Navaro](https://github.com/pnavaro/python-notebooks)\n",
        "- [Scipy Lecture notes](http://www.scipy-lectures.org/)"
      ]
    }
  ],
  "metadata": {
    "celltoolbar": "Slideshow",
    "kernelspec": {
      "display_name": "Python 3",
      "language": "python",
      "name": "python3"
    },
    "language_info": {
      "codemirror_mode": {
        "name": "ipython",
        "version": 3
      },
      "file_extension": ".py",
      "mimetype": "text/x-python",
      "name": "python",
      "nbconvert_exporter": "python",
      "pygments_lexer": "ipython3",
      "version": "3.6.2"
    },
    "colab": {
      "provenance": []
    }
  },
  "nbformat": 4,
  "nbformat_minor": 0
}