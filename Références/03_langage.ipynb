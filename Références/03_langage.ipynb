{
  "cells": [
    {
      "cell_type": "markdown",
      "metadata": {
        "id": "DW1pdapvV3eA"
      },
      "source": [
        "# Le langage [2/3]\n",
        "\n",
        "![](https://github.com/boileaum/cours-python/blob/master/fig/python-logo.png?raw=1)\n",
        "\n",
        "- Opérateurs\n",
        "- Structures de contrôle\n",
        "- Fonctions\n",
        "- Exceptions & gestionnaires de contexte\n",
        "- Compréhensions de listes & expressions génératrices\n",
        "- Modules\n",
        "- Bonnes pratiques\n",
        "\n",
        "***\n",
        "\n",
        "*Contenu sous licence [CC BY-SA 4.0](https://creativecommons.org/licenses/by-sa/4.0), fortement inspiré de <https://fitzinger.gitlab.io/formation-python>*"
      ]
    },
    {
      "cell_type": "markdown",
      "metadata": {
        "id": "Iwa1yLboV3eB"
      },
      "source": [
        "## Opérateurs\n",
        "\n",
        "### Arithmétiques\n",
        "\n",
        "```python\n",
        "+, -, *, /, //, %, **\n",
        "```\n",
        "Les classiques se comportent \"normalement\", pas besoin d'entrer dans les détails."
      ]
    },
    {
      "cell_type": "markdown",
      "metadata": {
        "id": "jEWFyozYV3eB"
      },
      "source": [
        "#### Particularités de la division :"
      ]
    },
    {
      "cell_type": "code",
      "execution_count": null,
      "metadata": {
        "id": "KAIcqhGuV3eB"
      },
      "outputs": [],
      "source": [
        "# Avec des nombres entiers\n",
        "print(16 / 3)  # Quotient de la division euclidienne (produit un réel)\n",
        "print(16 // 3) # Quotient de la division euclidienne (produit un entier)\n",
        "print(16 % 3)  # Reste de la division euclidienne (produit un entier)\n",
        "\n",
        "# Avec des nombres flottants\n",
        "print(16. / 3)  # Division (produit un réel)\n",
        "print(16. // 3) # Quotient de la division (produit un réel)\n",
        "print(16. % 3)  # Reste de la division ou modulo (produit un réel)"
      ]
    },
    {
      "cell_type": "markdown",
      "metadata": {
        "id": "O2W5OMqLV3eC"
      },
      "source": [
        "#### Puissance :"
      ]
    },
    {
      "cell_type": "code",
      "execution_count": null,
      "metadata": {
        "id": "zqyAUGoqV3eC"
      },
      "outputs": [],
      "source": [
        "print(2 ** 10)\n",
        "# On peut aussi utiliser la fonction pow() du module math, mais celle-ci renvoie un réel...\n",
        "import math\n",
        "print(math.pow(2, 10))"
      ]
    },
    {
      "cell_type": "markdown",
      "metadata": {
        "id": "ONXHLHFKV3eC"
      },
      "source": [
        "### Logiques\n",
        "\n",
        "```python\n",
        "and, or, not\n",
        "```\n",
        "\n",
        "retournent une valeur booléenne.\n"
      ]
    },
    {
      "cell_type": "code",
      "execution_count": null,
      "metadata": {
        "id": "Y17uZP89V3eC"
      },
      "outputs": [],
      "source": [
        "print(True or False)\n",
        "print(True and False)\n",
        "print(not True)\n",
        "print(not False)\n",
        "print(not [])\n",
        "print(not (1, 2, 3))"
      ]
    },
    {
      "cell_type": "markdown",
      "metadata": {
        "id": "412HggM6V3eC"
      },
      "source": [
        "Attention, ce sont des opérateurs \"court-circuit\" :"
      ]
    },
    {
      "cell_type": "code",
      "execution_count": null,
      "metadata": {
        "id": "1Q3CNlR2V3eC"
      },
      "outputs": [],
      "source": [
        "a = True\n",
        "b = False and a  # b vaut False sans que a soit évalué\n",
        "c = True or a    # c vaut True, sans que a soit évalué"
      ]
    },
    {
      "cell_type": "markdown",
      "metadata": {
        "id": "PLBz171fV3eD"
      },
      "source": [
        "Pour s'en convaincre :"
      ]
    },
    {
      "cell_type": "code",
      "execution_count": null,
      "metadata": {
        "id": "GKsAm7lNV3eD"
      },
      "outputs": [],
      "source": [
        "True or print(\"nicht a kurz schluss\")\n",
        "False and print(\"not a short circuit\")\n",
        "print('on a prouvé que ce sont des opérateurs \"court-circuit\"...')"
      ]
    },
    {
      "cell_type": "markdown",
      "metadata": {
        "id": "nmYngizIV3eD"
      },
      "source": [
        "> **Exercice :** Modifiez les valeurs True et False dans la cellule précédente, pour visualiser le fonctionnement de ces opérateurs."
      ]
    },
    {
      "cell_type": "markdown",
      "metadata": {
        "id": "6lWpIiS9V3eD"
      },
      "source": [
        "### Comparaison\n",
        "\n",
        "```python\n",
        "==, is, !=, is not, >, >=, <, <=\n",
        "```\n",
        "L'évaluation de ces opérateurs retourne une valeur booléenne."
      ]
    },
    {
      "cell_type": "code",
      "execution_count": null,
      "metadata": {
        "id": "PghpPjMFV3eD"
      },
      "outputs": [],
      "source": [
        "print(2 == 2)\n",
        "print(2 != 2)\n",
        "print(2 == 2.0)\n",
        "print(type(2) is int)"
      ]
    },
    {
      "cell_type": "markdown",
      "metadata": {
        "id": "he8qDPchV3eD"
      },
      "source": [
        "On peut utiliser ces opérateurs avec des variables et des appels à des fonctions."
      ]
    },
    {
      "cell_type": "code",
      "execution_count": null,
      "metadata": {
        "id": "2Ec7gG2kV3eE"
      },
      "outputs": [],
      "source": [
        "x = 3\n",
        "print(1 > x)\n",
        "y = [0, 1, 42, 0]\n",
        "print(x <= max(y))\n",
        "print(x <= min(y))"
      ]
    },
    {
      "cell_type": "markdown",
      "metadata": {
        "id": "C5JdAJIvV3eE"
      },
      "source": [
        "On peut chaîner ces opérateurs, mais ils fonctionnent en mode \"court-circuit\" et l'opérande centrale n'est évaluée qu'une seule fois."
      ]
    },
    {
      "cell_type": "code",
      "execution_count": null,
      "metadata": {
        "id": "r6MN2KYuV3eE"
      },
      "outputs": [],
      "source": [
        "x = 3\n",
        "print(2 < x <= 9) # équivalent à 2 < x and x <= 9"
      ]
    },
    {
      "cell_type": "markdown",
      "metadata": {
        "id": "Ji3XtHqZV3eE"
      },
      "source": [
        "Attention : comparer des types non numériques peut avoir des résultats surprenants."
      ]
    },
    {
      "cell_type": "code",
      "execution_count": null,
      "metadata": {
        "id": "I1eTqV6DV3eE"
      },
      "outputs": [],
      "source": [
        "# Chaînes de caractères\n",
        "print(\"aaa\" < \"abc\")\n",
        "print(\"aaa\" < \"aaaa\")\n",
        "print(\"22\" > \"3.0\")"
      ]
    },
    {
      "cell_type": "code",
      "execution_count": null,
      "metadata": {
        "id": "tVcSRBXPV3eF"
      },
      "outputs": [],
      "source": [
        "# Listes\n",
        "print([1, 2, 3, 4] > [42, 42])\n",
        "print([666] > [42, 42])"
      ]
    },
    {
      "cell_type": "markdown",
      "metadata": {
        "id": "KEwMN2WFV3eF"
      },
      "source": [
        "Attention : comparer des types incompatibles peut avoir des résultats surprenants."
      ]
    },
    {
      "cell_type": "code",
      "execution_count": null,
      "metadata": {
        "id": "QouZ6ONmV3eF"
      },
      "outputs": [],
      "source": [
        "# Cette cellule génère des erreurs\n",
        "print('chaîne:\\t', \"a\" < 2)\n",
        "print('liste:\\t', [\"zogzog\"] > 42)\n",
        "print('vide:\\t', [] > 1)\n",
        "print('tuple:\\t', [23, 24] >= (23, 24))\n",
        "print('dict:\\t', [23, 24] >= {23: True, 24: \"c'est pas faux\"})"
      ]
    },
    {
      "cell_type": "markdown",
      "metadata": {
        "id": "ZKVXc_WrV3eF"
      },
      "source": [
        "Attention, l'égalité de valeur n'implique pas forcément que l'identité des objets comparés est la même."
      ]
    },
    {
      "cell_type": "code",
      "execution_count": null,
      "metadata": {
        "id": "wMUm6oXqV3eF"
      },
      "outputs": [],
      "source": [
        "a = []  # a est une liste vide\n",
        "b = []  # b est une AUTRE liste vide\n",
        "\n",
        "print(a == b) # test de valeur\n",
        "print(a is b) # test d'identité\n",
        "print('id(a) =', id(a))\n",
        "print('id(b) =', id(b))"
      ]
    },
    {
      "cell_type": "markdown",
      "metadata": {
        "id": "UOi1Mi_oV3eF"
      },
      "source": [
        "Mais, comme vu précédemment, des variables différentes peuvent référencer le même objet."
      ]
    },
    {
      "cell_type": "code",
      "execution_count": null,
      "metadata": {
        "id": "9u-Ax2FgV3eF"
      },
      "outputs": [],
      "source": [
        "c = a\n",
        "print(a == c) # test de valeur\n",
        "print(a is c) # test d'identité"
      ]
    },
    {
      "cell_type": "markdown",
      "metadata": {
        "id": "JSkuXxMFV3eG"
      },
      "source": [
        "### bits à bits *(bitwise)*\n",
        "\n",
        "```python\n",
        "|, ^, &, <<, >>, ~\n",
        "```\n",
        "Ces opérateurs permettent de manipuler individuellement les bits d'un entier.\n",
        "\n",
        "Ce sont des opérations bas-niveau, souvent utilisées pour piloter directement du matériel, pour implémenter des protocoles de communication binaires (par exemple réseau ou disque).\n",
        "\n",
        "L'utilisation d'entiers comme ensemble de bits permet des encodages de données très compacts, un booléen (True, False) ne prendrait qu'un bit en mémoire, c'est a dire que l'on peut encoder 64 booléens dans un entier.\n",
        "\n",
        "Description complète [ici](https://wiki.python.org/moin/BitwiseOperators)."
      ]
    },
    {
      "cell_type": "code",
      "execution_count": null,
      "metadata": {
        "id": "btsBA3ohV3eG"
      },
      "outputs": [],
      "source": [
        "val = 67 # == 64 + 2 + 1 == 2**6 + 2**1 + 2**0 == 0b1000011\n",
        "print(bin(val))\n",
        "\n",
        "mask = 1 << 0 # On veut récupérer le 1er bit\n",
        "print('le 1er  bit vaut', (val & mask) >> 0)\n",
        "\n",
        "mask = 1 << 1 # On veut récupérer le 2ème bit\n",
        "print('le 2ème bit vaut', (val & mask) >> 1)\n",
        "\n",
        "mask = 1 << 2 # On veut récupérer le 3ème bit\n",
        "print('le 3ème bit vaut', (val & mask) >> 2)\n",
        "\n",
        "mask = 1 << 6 # On veut récupérer le 7ème bit\n",
        "print('le 7ème bit vaut', (val & mask) >> 6)\n",
        "\n",
        "# Si on positionne le 4ème bit a 1 (on rajoute 2**3 = 8)\n",
        "newval = val | (1 << 3)\n",
        "print(newval)\n",
        "\n",
        "# Si on positionne le 6ème bit a 0 (on soustrait 2**7 = 64)\n",
        "print(newval & ~(1 << 6))"
      ]
    },
    {
      "cell_type": "markdown",
      "metadata": {
        "id": "BwRtJN4DV3eG"
      },
      "source": [
        "> **Exercice :** Retournez une chaîne de caractères représentant le nombre contenu dans ``var`` écrit en notation binaire.\n",
        "> Par exemple:\n",
        ">\n",
        ">    5 -> '101'  \n",
        ">    6 -> '110'  \n",
        ">    7 -> '111'  "
      ]
    },
    {
      "cell_type": "code",
      "execution_count": null,
      "metadata": {
        "solution2": "hidden",
        "solution2_first": true,
        "id": "wkRKMsHUV3eG"
      },
      "outputs": [],
      "source": [
        "var = 7\n",
        "# votre code ici"
      ]
    },
    {
      "cell_type": "code",
      "execution_count": null,
      "metadata": {
        "solution2": "hidden",
        "id": "vD-kVwa6V3eH"
      },
      "outputs": [],
      "source": [
        "# Solution simple :\n",
        "\n",
        "var = 7\n",
        "print((var >> 0) & 1, (var >> 1) & 1, (var >> 2) & 1)\n",
        "\n",
        "# Solution réutilisable :\n",
        "\n",
        "def num2bin(num):\n",
        "    ret = []\n",
        "    while num > 0:\n",
        "        ret.append(str(num & 1))\n",
        "        num >>= 1\n",
        "    return ''.join(reversed(ret))\n",
        "\n",
        "print(num2bin(6))\n",
        "print(num2bin(7))\n",
        "print(num2bin(8))\n",
        "print(num2bin(42))"
      ]
    },
    {
      "cell_type": "markdown",
      "metadata": {
        "id": "I8rk1nLuV3eH"
      },
      "source": [
        "### Assignation augmentée\n",
        "\n",
        "\n",
        "```python\n",
        "+=, -=, /=\n",
        "```"
      ]
    },
    {
      "cell_type": "code",
      "execution_count": null,
      "metadata": {
        "id": "n2AwqxIQV3eH"
      },
      "outputs": [],
      "source": [
        "a = 4\n",
        "a += 1  # <=> a = a + 1\n",
        "print(a)\n",
        "a //= 2\n",
        "print(a)\n",
        "a **= 3\n",
        "print(a)\n",
        "a %= 2\n",
        "print(a)"
      ]
    },
    {
      "cell_type": "markdown",
      "metadata": {
        "id": "vHLzZl9XV3eH"
      },
      "source": [
        "### Compatibilité de type, coercition de type\n",
        "\n",
        "Python effectue certaines conversions implicites, quand cela ne perd pas d'information (par exemple d'entier vers flottant)."
      ]
    },
    {
      "cell_type": "code",
      "execution_count": null,
      "metadata": {
        "id": "YYULTpgMV3eH"
      },
      "outputs": [],
      "source": [
        "print(1 + 0b1)\n",
        "print(1 + 1.0)\n",
        "print(1.0 + 2 + 0b11 + 4j)"
      ]
    },
    {
      "cell_type": "markdown",
      "metadata": {
        "id": "usWRJTCLV3eH"
      },
      "source": [
        "Mais dans d'autres cas, la conversion doit être explicite."
      ]
    },
    {
      "cell_type": "code",
      "execution_count": null,
      "metadata": {
        "id": "zVre1zcbV3eH"
      },
      "outputs": [],
      "source": [
        "# Cette cellule génère une erreur\n",
        "print(1 + '1')"
      ]
    },
    {
      "cell_type": "markdown",
      "metadata": {
        "solution2": "hidden",
        "solution2_first": true,
        "id": "pFoasdVAV3eP"
      },
      "source": [
        "**Exercice** :\n",
        "\n",
        "Sans enlever le '+':\n",
        "\n",
        "1. Corrigez le code de la cellule ci dessus, afin d'afficher la chaine 11\n",
        "2. Corrigez le code de la cellule ci dessus, afin d'afficher le nombre 2\n",
        "3. Corrigez le code de la cellule ci dessus, afin d'afficher le nombre 11"
      ]
    },
    {
      "cell_type": "code",
      "execution_count": null,
      "metadata": {
        "solution2": "hidden",
        "id": "YN3yPmpLV3eP"
      },
      "outputs": [],
      "source": [
        "# Solutions\n",
        "# 1.\n",
        "print('1' + '1')    # On rajoute les apostrophes manquantes\n",
        "\n",
        "# 2.\n",
        "print(1 + 1)        # On enlève les apostrophes\n",
        "print(1 + int('1')) # On convertit en entier\n",
        "\n",
        "# 3.\n",
        "print(int('1' + '1')) # On fait les deux\n",
        "print(10 + 1)         # On improvise"
      ]
    },
    {
      "cell_type": "markdown",
      "metadata": {
        "id": "HrTzPsFBV3eP"
      },
      "source": [
        "### Priorité des opérateurs\n",
        "\n",
        "Les opérateurs ont en python des priorités classiques.\n",
        "\n",
        "Par exemple, dans l'ordre :\n",
        "\n",
        "1. puissance : ``**``\n",
        "- multiplication, division : ``*`` et ``/``\n",
        "- addition, soustraction : ``+`` et ``-``\n",
        "\n",
        "etc...\n",
        "\n",
        "Utilisez des parenthèses quand cela aide à la lisibilité et à la clarté.\n",
        "\n",
        "Une priorité explicitée avec des parenthèses est souvent plus facile à relire que s'il n'y en a pas et qu'il faut se remémorer les règles.\n",
        "\n",
        "Pour plus d'informations, voir [ici](https://docs.python.org/3/reference/expressions.html)"
      ]
    },
    {
      "cell_type": "markdown",
      "metadata": {
        "id": "SULQ-lxSV3eQ"
      },
      "source": [
        "## Structures de contrôle\n",
        "\n",
        "- La mise en page comme syntaxe\n",
        "- ``pass``\n",
        "- tests conditionels : ``if/elif/else``\n",
        "- boucles\n",
        "\t* ``for elt in liste``\n",
        "    * ``for idx in range(len(liste))``\n",
        "\t* ``while``\n",
        "\t* ``break``\n",
        "\t* ``continue``"
      ]
    },
    {
      "cell_type": "markdown",
      "metadata": {
        "id": "hdhL-CITV3eQ"
      },
      "source": [
        "### La mise en page comme syntaxe\n",
        "\n",
        "- La mise en page est importante en python, c'est une différence majeure avec les autres langages (Java, C++, etc.)\n",
        "- Python utilise l'indentation du code avec des caractères blancs plutôt que des mots clés (begin/end en pascal) ou des symboles (`{}` en java et C++). Cela permet de rendre le code plus compact.\n",
        "- Elle va servir a délimiter des blocs de code sur lesquels les structures de contrôle comme les boucles ou les tests de conditions vont s'appliquer.\n",
        "- De toute façon, dans les autres langages, on indente aussi le code pour l'aspect visuel et la lisibilité.\n",
        "- L'indentation faisant partie de la syntaxe du langage, il faut être rigoureux et suivre la règle suivante :\n",
        "    - 4 espaces pour passer au niveau suivant\n",
        "    - éviter les tabulations et préférer les espaces et surtout ne pas les mélanger !"
      ]
    },
    {
      "cell_type": "code",
      "execution_count": null,
      "metadata": {
        "id": "SnyejuVdV3eQ"
      },
      "outputs": [],
      "source": [
        "if True:\n",
        "    print(\"toutes\")\n",
        "    print(\"les\")\n",
        "    print(\"lignes\")\n",
        "    print(\"au même niveau d'indentation forment un bloc de code\")\n",
        "print('et quand on remonte, on \"termine\" un bloc de code')"
      ]
    },
    {
      "cell_type": "markdown",
      "metadata": {
        "id": "mrjstQAFV3eQ"
      },
      "source": [
        "> **Exercice** : changez le True en False, et observez quelles lignes de code ne sont plus exécutées."
      ]
    },
    {
      "cell_type": "markdown",
      "metadata": {
        "id": "Ay2c-5UAV3eQ"
      },
      "source": [
        "### ``Pass``\n",
        "\n",
        "En cas de besoin d'un bloc de code qui ne fait rien, on utilise le mot clé ``pass`` (équivalent à NOP ou NO-OP)"
      ]
    },
    {
      "cell_type": "markdown",
      "metadata": {
        "id": "DEnUMhCgV3eQ"
      },
      "source": [
        "#### Exemple : une boucle infinie\n",
        "\n",
        "```python\n",
        "condition = True\n",
        "while condition:\n",
        "    pass\n",
        "```\n",
        "> (à ne pas exécuter sous peine de bloquer le noyau de ce notebook)"
      ]
    },
    {
      "cell_type": "markdown",
      "metadata": {
        "id": "gGJyi33mV3eR"
      },
      "source": [
        "### Tests conditionnels\n",
        "\n",
        "Les instructions `if/elif/else` permettent d'exécuter des blocs d'instructions en fonction de conditions :\n",
        "\n",
        "```python\n",
        "if test1:\n",
        "    <bloc d instructions 1>\n",
        "elif test2:\n",
        "    <bloc d instructions 2>\n",
        "else:\n",
        "    <bloc d instructions 3>\n",
        "```\n",
        "`elif` est la contraction de \"`else if`\""
      ]
    },
    {
      "cell_type": "code",
      "execution_count": null,
      "metadata": {
        "id": "dyv5xl11V3eR"
      },
      "outputs": [],
      "source": [
        "if True:\n",
        "    print(\"c'est vrai!\")"
      ]
    },
    {
      "cell_type": "code",
      "execution_count": null,
      "metadata": {
        "id": "4mM64dh6V3eR"
      },
      "outputs": [],
      "source": [
        "if False:\n",
        "    print(\"je suis caché!\")\n",
        "else:\n",
        "    print(\"mais moi je suis en pleine lumière...\")"
      ]
    },
    {
      "cell_type": "code",
      "execution_count": null,
      "metadata": {
        "id": "B_bB_Ts9V3eR"
      },
      "outputs": [],
      "source": [
        "# Pour cet exemple, on itère sur les éléments d'un tuple (cf. boucle for plus loin)\n",
        "for position in 2, 9, 3, 1, 8:\n",
        "    if position == 1:\n",
        "        print(position, \"Or\")\n",
        "    elif position == 2:\n",
        "        print(position, \"Argent\")\n",
        "    elif position == 3:\n",
        "        print(position, \"Bronze\")\n",
        "    else:\n",
        "        print(position, \"Vestiaires\")"
      ]
    },
    {
      "cell_type": "code",
      "execution_count": null,
      "metadata": {
        "id": "JHSrwAc1V3eR"
      },
      "outputs": [],
      "source": [
        "taille = float(input(\"Votre taille ? \"))\n",
        "if taille >= 1.70: # La taille moyenne en France\n",
        "    print('grand')\n",
        "else:\n",
        "    print('petit')"
      ]
    },
    {
      "cell_type": "markdown",
      "metadata": {
        "solution2": "hidden",
        "solution2_first": true,
        "id": "i078EGQkV3eR"
      },
      "source": [
        "> **Exercices** :\n",
        ">\n",
        "> 1. Editez la cellule pour y mettre votre taille et exécutez-la pour savoir si vous êtes grand ou petit.\n",
        "> 2. Gérez le cas des gens de taille moyenne.\n",
        "> 3. Utilisez la fonction input() pour demander sa taille à l'utilisateur."
      ]
    },
    {
      "cell_type": "code",
      "execution_count": null,
      "metadata": {
        "solution2": "hidden",
        "id": "qgDUIFyoV3eR"
      },
      "outputs": [],
      "source": [
        "# Solution\n",
        "taille = float(input('Quelle est votre taille ? '))\n",
        "\n",
        "if taille >= 2.0:\n",
        "    print('grand')\n",
        "elif taille >= 1.70: # La taille moyenne en France\n",
        "    print('moyen')\n",
        "else:\n",
        "    print('petit')"
      ]
    },
    {
      "cell_type": "markdown",
      "metadata": {
        "id": "9SYLwEs6V3eS"
      },
      "source": [
        "## Boucles\n",
        "\n",
        "Les boucles sont les structures de contrôle permettant de répéter l'exécution d'un bloc de code plusieurs fois."
      ]
    },
    {
      "cell_type": "markdown",
      "metadata": {
        "id": "UsSBUx3rV3eS"
      },
      "source": [
        "### Boucle `while`\n",
        "\n",
        "La plus simple est la boucle de type `while` :\n",
        "\n",
        "```python\n",
        "while <condition>:\n",
        "    <bloc 1>\n",
        "<bloc 2>\n",
        "```\n",
        "Tant que `<condition>` est True, le `<bloc 1>` est exécuté, quand la condition passe à False, l'exécution continue au `<bloc 2>`."
      ]
    },
    {
      "cell_type": "code",
      "execution_count": null,
      "metadata": {
        "id": "V-fRveG2V3eS"
      },
      "outputs": [],
      "source": [
        "compteur = 3\n",
        "while compteur > 0:\n",
        "    print('le compteur vaut :', compteur)\n",
        "    compteur -= 1\n",
        "print('le compteur a été décrémenté 3 fois et vaut maintenant', compteur)"
      ]
    },
    {
      "cell_type": "markdown",
      "metadata": {
        "id": "OYft0fVtV3eS"
      },
      "source": [
        "> **Exercice** :  \n",
        "> C'est la soirée du réveillon. Ecrivez une boucle `while` qui décompte les secondes à partir de `5` pour souhaiter la bonne année.  \n",
        "> Allez voir [par ici](https://docs.python.org/3/library/time.html#time.sleep) pour passer le temps..."
      ]
    },
    {
      "cell_type": "code",
      "execution_count": null,
      "metadata": {
        "solution2": "hidden",
        "solution2_first": true,
        "id": "yNXU_u0zV3eS"
      },
      "outputs": [],
      "source": [
        "import time\n",
        "# Votre code ici"
      ]
    },
    {
      "cell_type": "code",
      "execution_count": null,
      "metadata": {
        "solution2": "hidden",
        "id": "7AO4nNomV3eS"
      },
      "outputs": [],
      "source": [
        "# Solution\n",
        "import time\n",
        "\n",
        "secs = 5\n",
        "\n",
        "while secs > 0:\n",
        "    print(secs)\n",
        "    secs -= 1\n",
        "    time.sleep(1)\n",
        "\n",
        "print('Happy new year !')"
      ]
    },
    {
      "cell_type": "markdown",
      "metadata": {
        "id": "bFqyZdHzV3eS"
      },
      "source": [
        "### Boucle `for`\n",
        "\n",
        "Une boucle plus complexe : `for/in`\n",
        "\n",
        "```python\n",
        "for <variable> in <iterable>:\n",
        "    <bloc 1>\n",
        "<bloc 2>\n",
        "```\n",
        "\n",
        "A chaque tour de boucle, la variable `<variable>` va référencer un des éléménts de l'`<iterable>`. La boucle s'arrête quand tous les éléménts de l'itérable ont été traités. Il est fortement déconseillé de modifier l'itérable en question dans le `<bloc 1>`."
      ]
    },
    {
      "cell_type": "code",
      "execution_count": null,
      "metadata": {
        "id": "ZhgitXgJV3eS"
      },
      "outputs": [],
      "source": [
        "invites = ('Aline', 'Bernard', 'Céline', 'Dédé')\n",
        "for invite in invites:\n",
        "    print('Bonjour {}, bienvenue à la soirée de gala !'.format(invite))\n",
        "print('Maintenant tout le monde à été bien accueilli...')"
      ]
    },
    {
      "cell_type": "markdown",
      "metadata": {
        "id": "Hqn_u_sdV3eT"
      },
      "source": [
        "> **Exercice** : Rajoutez des invités à la fête. Vérifiez que tout le monde est accueilli correctement."
      ]
    },
    {
      "cell_type": "code",
      "execution_count": null,
      "metadata": {
        "id": "_LiMXN9BV3eT"
      },
      "outputs": [],
      "source": [
        "# Maintenant, si nous avons reçu des réponses à notre invitation et stocké ceux qui ne peuvent pas venir\n",
        "invites = {'Aline': True, 'Bernard': False, 'Céline': True, 'Dédé': True}\n",
        "for (personne, presence) in invites.items():\n",
        "    if presence:\n",
        "        print('Bonjour {}, bienvenue à la soirée de gala !'.format(personne))\n",
        "    else:\n",
        "        print('Malheureusement, {} ne sera pas avec nous ce soir.'.format(personne))\n",
        "print('Maintenant tout le monde à été bien accueilli ou excusé...')"
      ]
    },
    {
      "cell_type": "markdown",
      "metadata": {
        "id": "XW_PkK4CV3eT"
      },
      "source": [
        "> **Exercice** : Rajoutez des invités à la fête. Certains ayant répondu qu'ils ne pourraient pas venir. Vérifiez que tout le monde est accueilli ou excusé correctement."
      ]
    },
    {
      "cell_type": "markdown",
      "metadata": {
        "id": "ydunmTFQV3eT"
      },
      "source": [
        "Si nous voulons itérer sur une liste mais avons besoin des indices liés a chaque élément, nous utilisons une combinaison de [`range()`](https://docs.python.org/3/library/functions.html#func-range) et [`len()`](https://docs.python.org/3/library/functions.html#len)."
      ]
    },
    {
      "cell_type": "code",
      "execution_count": null,
      "metadata": {
        "id": "_bZ7kBerV3eT"
      },
      "outputs": [],
      "source": [
        "nombres = [2, 4, 8, 6, 8, 1, 0, 1j]\n",
        "print(list(range(len(nombres))))\n",
        "for idx in range(len(nombres)):\n",
        "    nombres[idx] **= 2\n",
        "# Les carrés\n",
        "print(nombres)"
      ]
    },
    {
      "cell_type": "markdown",
      "metadata": {
        "id": "y2FyzeaIV3eT"
      },
      "source": [
        "Il existe une forme raccourcie pour faire ce genre de choses, la fonction interne [``enumerate()``](https://docs.python.org/3/library/functions.html#enumerate)"
      ]
    },
    {
      "cell_type": "code",
      "execution_count": null,
      "metadata": {
        "id": "Sx4VVpDRV3eT"
      },
      "outputs": [],
      "source": [
        "nombres = [2, 4, 8, 6, 8, 1, 0]\n",
        "for (idx, item) in enumerate(nombres):\n",
        "    nombres[idx] = bool(item % 2)\n",
        "# Les impairs\n",
        "print(nombres)"
      ]
    },
    {
      "cell_type": "markdown",
      "metadata": {
        "id": "K0g86WYiV3eU"
      },
      "source": [
        "#### Note :\n",
        "\n",
        "La fonction interne [``range()``](https://docs.python.org/3/library/functions.html#func-range) retourne un itérateur. C'est un objet qui se comporte comme une liste sans pour autant allouer la mémoire nécessaire au stockage de tous ses éléments. Le coût de création d'une vraie liste augmente avec sa taille (son empreinte mémoire aussi !).\n",
        "\n",
        "#### Note de la note :\n",
        "\n",
        "En Python version 2.x, Il existait deux versions de cette fonctionnalité: ``range()`` et ``xrange()``. La première retournait une vraie liste, allouée complètement, alors que ``xrange()`` retournait un itérateur."
      ]
    },
    {
      "cell_type": "code",
      "execution_count": null,
      "metadata": {
        "id": "8bl_VbXUV3eU"
      },
      "outputs": [],
      "source": [
        "print(type(range(3)))        # comme xrange() en python2\n",
        "print(repr(range(3)))        # comme xrange() en python2\n",
        "print(type(list(range(3))))  # comme range en python2"
      ]
    },
    {
      "cell_type": "markdown",
      "metadata": {
        "id": "E6lPSxxGV3eU"
      },
      "source": [
        "### Instruction ``break``\n",
        "\n",
        "Il est possible d'arrêter prématurément une boucle grâce a l'instruction ``break``.\n",
        "\n",
        "L'instruction ``break`` est utilisable indifférement dans les boucles ``for`` ou ``while``."
      ]
    },
    {
      "cell_type": "code",
      "execution_count": null,
      "metadata": {
        "id": "g6y3mR63V3eU"
      },
      "outputs": [],
      "source": [
        "compteur = 3\n",
        "while True:  # Notre boucle infinie\n",
        "    compteur -= 1\n",
        "    print('Dans la boucle infinie! compteur =', compteur)\n",
        "    if compteur <= 0:\n",
        "        break  # On sort de la boucle while immédiatement\n",
        "    print('on contine, compteur =', compteur)\n",
        "print(\"c'était pas vraiment une boucle infinie...\")"
      ]
    },
    {
      "cell_type": "markdown",
      "metadata": {
        "id": "pIIjeU61V3eU"
      },
      "source": [
        "En cas d'imbrication de plusieurs boucles, l'instruction ``break`` sort de la plus imbriquée (la plus proche)."
      ]
    },
    {
      "cell_type": "code",
      "execution_count": null,
      "metadata": {
        "id": "H43jqUT9V3eV"
      },
      "outputs": [],
      "source": [
        "for i in (1, 2, 3):\n",
        "    for j in (1, 2, 3, 4):\n",
        "        if i == 2:\n",
        "            break\n",
        "        print(\"i, j = {}, {}\".format(i, j))"
      ]
    },
    {
      "cell_type": "markdown",
      "metadata": {
        "id": "FA-uCtOoV3eV"
      },
      "source": [
        "### Instruction ``continue``\n",
        "\n",
        "Si, dans une boucle, on veut passer immédiatement à l'itération suivante, on utilise l'instruction ``continue``."
      ]
    },
    {
      "cell_type": "code",
      "execution_count": null,
      "metadata": {
        "id": "xvKai3upV3eV"
      },
      "outputs": [],
      "source": [
        "compteur = 9\n",
        "while compteur > 0:\n",
        "    compteur -= 1\n",
        "    if compteur % 2:\n",
        "        compteur /= 2\n",
        "        print('impair, on divise :', compteur)\n",
        "        continue # retourne immédiatement au début de la boucle\n",
        "    print(\"pair, RAS\")\n",
        "print(\"c'est fini...\")"
      ]
    },
    {
      "cell_type": "markdown",
      "metadata": {
        "id": "C7vOTP3JV3eV"
      },
      "source": [
        "## Fonctions\n",
        "\n",
        "Les fonctions permettent de réutiliser des blocs de code plusieurs endroits différents sans avoir à copier ce bloc.\n",
        "\n",
        "En python, il n'y a pas de notion de sous-routine. Les procédures sont gérées par les objets de type fonctions, avec ou sans valeur de retour.\n",
        "\n",
        "```python\n",
        "def <nom fonction>(arg1, arg2, ...):\n",
        "    <bloc d instructions>\n",
        "    return <valeur>  # Instruction optionnelle\n",
        "```\n",
        "On distingue :\n",
        "\n",
        "- les fonctions avec `return` des fonctions sans `return`\n",
        "- les fonctions sans arguments (pour lesquelles `()` est vide) des fonctions avec arguments `(arg1, arg2, ...)`\n",
        "\n",
        "`<nom fonction>(arg1, arg2, ...)` est appelé **signature** de la fonction."
      ]
    },
    {
      "cell_type": "markdown",
      "metadata": {
        "id": "-z70n_XcV3eV"
      },
      "source": [
        "### Fonctions sans arguments\n",
        "\n",
        "#### Fonction sans ``return``"
      ]
    },
    {
      "cell_type": "markdown",
      "metadata": {
        "id": "knGYcT9dV3eV"
      },
      "source": [
        "Pour définir une fonction :"
      ]
    },
    {
      "cell_type": "code",
      "execution_count": null,
      "metadata": {
        "id": "4wzS0yVFV3eV"
      },
      "outputs": [],
      "source": [
        "def func():  # Definition de la fonction\n",
        "    print('You know what?')\n",
        "    print(\"I'm happy!\")"
      ]
    },
    {
      "cell_type": "markdown",
      "metadata": {
        "id": "Grt6jR8DV3eW"
      },
      "source": [
        "Pour utiliser une fonction que l'on a défini :"
      ]
    },
    {
      "cell_type": "code",
      "execution_count": null,
      "metadata": {
        "id": "KsNT_-WwV3eW"
      },
      "outputs": [],
      "source": [
        "func()  # 1er Appel de la fonction\n",
        "func()  # 2eme appel\n",
        "func()  # 3eme appel, etc...\n",
        "print(func())  # On l'appelle et on affiche sa valeur de retour"
      ]
    },
    {
      "cell_type": "markdown",
      "metadata": {
        "id": "b1Qbf-8WV3eW"
      },
      "source": [
        "> **Exercice** : Ecrivez une fonction nommée `rien` qui ne fait rien et appelez là deux fois."
      ]
    },
    {
      "cell_type": "code",
      "execution_count": null,
      "metadata": {
        "solution2": "hidden",
        "solution2_first": true,
        "id": "PCIGM12rV3eW"
      },
      "outputs": [],
      "source": [
        "# Votre code ici"
      ]
    },
    {
      "cell_type": "code",
      "execution_count": null,
      "metadata": {
        "solution2": "hidden",
        "id": "twAOau-bV3eW"
      },
      "outputs": [],
      "source": [
        "# Solution\n",
        "def rien():\n",
        "    pass\n",
        "\n",
        "rien()\n",
        "rien()"
      ]
    },
    {
      "cell_type": "markdown",
      "metadata": {
        "id": "P13aHXawV3eW"
      },
      "source": [
        "#### Fonction avec ``return``"
      ]
    },
    {
      "cell_type": "code",
      "execution_count": null,
      "metadata": {
        "id": "4wgd1zoyV3eX"
      },
      "outputs": [],
      "source": [
        "def func():  # Definition de la fonction\n",
        "    return \"I'm happy\"  # La fonction retourne une chaine de caractère\n",
        "\n",
        "print(\"1er appel:\")\n",
        "func()  # 1er Appel de la fonction : la valeur retournée n'est pas utilisée\n",
        "print(\"2eme appel:\")\n",
        "ret_val = func()  # Le retour du 2eme appel est stocké\n",
        "print(\"La fonction func() nous a renvoyé la valeur:\", ret_val)"
      ]
    },
    {
      "cell_type": "markdown",
      "metadata": {
        "id": "tB4zXjpkV3eX"
      },
      "source": [
        "> **Exercice** : Ecrivez une fonction nommée `eloge_de_rien` qui retourne la chaine de caractères `rien`. Appelez-là et affichez sa valeur de retour."
      ]
    },
    {
      "cell_type": "code",
      "execution_count": null,
      "metadata": {
        "solution2": "hidden",
        "solution2_first": true,
        "id": "7oXvtnkYV3eX"
      },
      "outputs": [],
      "source": [
        "# Votre code ici"
      ]
    },
    {
      "cell_type": "code",
      "execution_count": null,
      "metadata": {
        "solution2": "hidden",
        "id": "R69DvpXjV3eX"
      },
      "outputs": [],
      "source": [
        "# Solution\n",
        "def eloge_de_rien():\n",
        "    \"\"\"Dédié à personne\"\"\"\n",
        "    return 'rien'\n",
        "\n",
        "print(eloge_de_rien())"
      ]
    },
    {
      "cell_type": "markdown",
      "metadata": {
        "id": "HfNMrYtgV3eX"
      },
      "source": [
        "### Fonctions avec arguments\n",
        "\n",
        "Pour définir une fonction qui prend des arguments, on nomme ces arguments entre les parenthèses de la ligne `def`. Ces paramètres seront définis comme des variables à l'intérieur de la fonction et recevrons les valeurs passées lors des appels de celle-ci."
      ]
    },
    {
      "cell_type": "code",
      "execution_count": null,
      "metadata": {
        "id": "qT0ir9YYV3eX"
      },
      "outputs": [],
      "source": [
        "def somme(x, y):\n",
        "    return x + y"
      ]
    },
    {
      "cell_type": "markdown",
      "metadata": {
        "id": "cRco1b1eV3eX"
      },
      "source": [
        "Pour utiliser cette fonction avec diverses valeurs, il suffit de l'appeler plusieurs fois :"
      ]
    },
    {
      "cell_type": "code",
      "execution_count": null,
      "metadata": {
        "id": "OF8-2-OLV3eY"
      },
      "outputs": [],
      "source": [
        "print(somme(1, 2))\n",
        "print(somme(4, 7))\n",
        "print(somme(2 + 2, 7))\n",
        "print(somme(somme(2, 2), 7))"
      ]
    },
    {
      "cell_type": "markdown",
      "metadata": {
        "id": "UTSryy4KV3eY"
      },
      "source": [
        "> **Exercice** :\n",
        "- Définissez une fonction nommée `chevalier`, qui prend un paramètre `n`, et qui répète `n` fois (affiche avec `print`) la chaîne de caractères `Ni!`\n",
        "- appelez cette fonction pour vérifier que `chevalier(3)` dit bien `Ni!` trois fois comme il convient !\n",
        "\n",
        "Voici quelques exemples montrant comment cette fonction doit se comporter:\n",
        "\n",
        "```python\n",
        "chevalier(1)\n",
        "Ni!\n",
        "chevalier(3)\n",
        "Ni!Ni!Ni!\n",
        "chevalier(6)\n",
        "Ni!Ni!Ni!Ni!Ni!Ni!\n",
        "```"
      ]
    },
    {
      "cell_type": "code",
      "execution_count": null,
      "metadata": {
        "id": "EQDqWG_4V3eY"
      },
      "outputs": [],
      "source": [
        "def chevalier(n):\n",
        "    # Votre code ici\n",
        "    pass"
      ]
    },
    {
      "cell_type": "code",
      "execution_count": null,
      "metadata": {
        "solution2": "hidden",
        "solution2_first": true,
        "id": "K1EfleMJV3eY"
      },
      "outputs": [],
      "source": [
        "# Vérifions que tout fonctionne bien:\n",
        "chevalier(1)\n",
        "chevalier(3)\n",
        "chevalier(6)"
      ]
    },
    {
      "cell_type": "code",
      "execution_count": null,
      "metadata": {
        "solution2": "hidden",
        "id": "1UbWjh0mV3eY"
      },
      "outputs": [],
      "source": [
        "# Solution\n",
        "def chevalier(n):\n",
        "    print('Ni!' * n)\n",
        "\n",
        "chevalier(3)"
      ]
    },
    {
      "cell_type": "markdown",
      "metadata": {
        "id": "CWPEP_sfV3eY"
      },
      "source": [
        "> **Exercice** : Ecrivez une autre fonction, nommée `chevalier_ret` :\n",
        ">- qui prend 2 paramètres : un entier `n` et un booléen\n",
        ">- qui retourne une chaine de caractères de la chaîne `ni!` ou `NI!` en fonction du paramètre booléen, chaîne répétée `n` fois.\n",
        ">\n",
        "> Appelez cette fonction et affichez sa valeur de retour.\n",
        ">\n",
        ">Voici quelques exemples montrant comment cette fonction doit se comporter:\n",
        ">\n",
        ">```python\n",
        ">a = chevalier(1, True)\n",
        ">print(a)\n",
        ">NI!\n",
        ">a = chevalier(3, False)\n",
        ">print(a)\n",
        ">ni!ni!ni!\n",
        ">a = chevalier(6, True)\n",
        ">print(a)\n",
        ">NI!NI!NI!NI!NI!NI!\n",
        ">```"
      ]
    },
    {
      "cell_type": "code",
      "execution_count": null,
      "metadata": {
        "id": "b1PPfiYyV3eY"
      },
      "outputs": [],
      "source": [
        "# Votre code ici\n",
        "def chevalier_ret():\n",
        "    pass"
      ]
    },
    {
      "cell_type": "code",
      "execution_count": null,
      "metadata": {
        "solution2": "hidden",
        "solution2_first": true,
        "id": "QNioHBeyV3eY"
      },
      "outputs": [],
      "source": [
        "# Vérifions que tout fonctionne bien:\n",
        "a = chevalier_ret(1, True)\n",
        "print(a)\n",
        "a = chevalier_ret(3, False)\n",
        "print(a)\n",
        "a = chevalier_ret(6, True)\n",
        "print(a)"
      ]
    },
    {
      "cell_type": "code",
      "execution_count": null,
      "metadata": {
        "solution2": "hidden",
        "id": "vAGzvse3V3eZ"
      },
      "outputs": [],
      "source": [
        "# Solution\n",
        "def chevalier_ret(n, cri):\n",
        "    if cri:\n",
        "        ret = 'NI!'\n",
        "    else:\n",
        "        ret = 'ni!'\n",
        "    return ret * n\n",
        "\n",
        "print(chevalier_ret(3, True))"
      ]
    },
    {
      "cell_type": "markdown",
      "metadata": {
        "id": "DzhHz7bQV3eZ"
      },
      "source": [
        "#### Utilisation de valeurs par défaut"
      ]
    },
    {
      "cell_type": "code",
      "execution_count": null,
      "metadata": {
        "id": "TRaZY_ROV3eZ"
      },
      "outputs": [],
      "source": [
        "def somme(x, y=1):\n",
        "    return x + y\n",
        "\n",
        "print(somme(1, 2))"
      ]
    },
    {
      "cell_type": "markdown",
      "metadata": {
        "id": "Lk7YPwotV3eZ"
      },
      "source": [
        " Si sa valeur n'est pas spécifiée lors de l'appel, le paramètre `y` prend la valeur par défaut (ici : `1`)"
      ]
    },
    {
      "cell_type": "code",
      "execution_count": null,
      "metadata": {
        "id": "K2-sAX8UV3eZ"
      },
      "outputs": [],
      "source": [
        "print(somme(4))"
      ]
    },
    {
      "cell_type": "markdown",
      "metadata": {
        "id": "KMCYtnerV3eZ"
      },
      "source": [
        "**Note :** Les arguments ayant une valeur par défaut doivent être placés **en dernier**."
      ]
    },
    {
      "cell_type": "markdown",
      "metadata": {
        "id": "RfQUzCwdV3eZ"
      },
      "source": [
        "#### Utilisation des arguments par leur nom"
      ]
    },
    {
      "cell_type": "markdown",
      "metadata": {
        "id": "37jFJpZ0V3eZ"
      },
      "source": [
        "Si les arguments sont explicitiment nommés lors de l'appel, leur ordre peut être changé :"
      ]
    },
    {
      "cell_type": "code",
      "execution_count": null,
      "metadata": {
        "id": "wwmzqnd6V3eZ"
      },
      "outputs": [],
      "source": [
        "print(somme(y=7, x=4))"
      ]
    },
    {
      "cell_type": "markdown",
      "metadata": {
        "id": "jIYpAn80V3eZ"
      },
      "source": [
        "#### Capture d'arguments non définis\n",
        "\n",
        "##### Dans un tuple"
      ]
    },
    {
      "cell_type": "code",
      "execution_count": null,
      "metadata": {
        "id": "dijkDVgQV3ea"
      },
      "outputs": [],
      "source": [
        "def fonc(*args):\n",
        "    # args est un tuple :\n",
        "    print(type(args))\n",
        "    # ses éléments sont les arguments passés lors de l'appel :\n",
        "    print(args)\n",
        "\n",
        "fonc(\"n'importe\", \"quel nombre et type de\", \"paramètres\", 5, [1, 'toto'], None)"
      ]
    },
    {
      "cell_type": "markdown",
      "metadata": {
        "id": "hf9pnj7_V3ea"
      },
      "source": [
        "##### Dans un dictionnaire"
      ]
    },
    {
      "cell_type": "code",
      "execution_count": null,
      "metadata": {
        "id": "_YHO_sa2V3ea"
      },
      "outputs": [],
      "source": [
        "def fonc(**kwargs):\n",
        "    # kwargs est un dictionnaire :\n",
        "    print(type(kwargs))\n",
        "    # ses éléments sont les arguments nommés passés lors de l'appel\n",
        "    print(kwargs)\n",
        "\n",
        "fonc(x=1, y=2, couleur='rouge', epaisseur=2)"
      ]
    },
    {
      "cell_type": "markdown",
      "metadata": {
        "id": "hWOJIbs-V3ea"
      },
      "source": [
        "On peut combiner ce type d'arguments pour une même fonction :"
      ]
    },
    {
      "cell_type": "code",
      "execution_count": null,
      "metadata": {
        "id": "Y3gUhtgTV3ea"
      },
      "outputs": [],
      "source": [
        "def fonc(n, *args, **kwargs):  # cet ordre est important\n",
        "    print(\"n =\", n)\n",
        "    print(\"args =\", args)\n",
        "    print(\"kwargs =\", kwargs)\n",
        "\n",
        "fonc(2, 'spam', 'egg', x=1, y=2, couleur='rouge', epaisseur=2)"
      ]
    },
    {
      "cell_type": "markdown",
      "metadata": {
        "id": "-VUHEZHKV3ea"
      },
      "source": [
        "**Notes** :\n",
        "\n",
        "- les noms `args` et `kwargs` ne sont que des conventions (à respecter, toutefois !), seul le caractère `*` est déterminant\n",
        "- l'ordre `(arg1, arg2, ..., *args, **kwargs)` doit être strictement respecté"
      ]
    },
    {
      "cell_type": "markdown",
      "metadata": {
        "id": "jWyTXZvaV3ea"
      },
      "source": [
        "#### *Packing/unpacking*\n",
        "\n",
        "- La syntaxe `*args` dans la définition de la fonction correspond à une opération de *packing* : Python transforme une séquence de variables en tuple.\n",
        "\n",
        "- L'inverse existe : ça s'appelle l'*unpacking*.\n",
        "\n",
        "- Le *packing/unpacking* se pratique déjà par la manipulation des tuples :"
      ]
    },
    {
      "cell_type": "code",
      "execution_count": null,
      "metadata": {
        "id": "7q-sawwVV3ea"
      },
      "outputs": [],
      "source": [
        "trio = \"sax\", \"drums\", \"bass\"  # packing\n",
        "you, her, him = trio           # unpacking\n",
        "print(you, her, him)"
      ]
    },
    {
      "cell_type": "markdown",
      "metadata": {
        "id": "eL7Cw_OJV3ea"
      },
      "source": [
        "Il peut également se pratiquer dans le passage d'arguments de fonction"
      ]
    },
    {
      "cell_type": "code",
      "execution_count": null,
      "metadata": {
        "id": "5ep631O6V3ea"
      },
      "outputs": [],
      "source": [
        "def fonc(*args):\n",
        "    print(args)\n",
        "\n",
        "fonc(you, her, him)  # ici on liste directement les arguments\n",
        "fonc(*trio)          # là on \"unpack\" un tuple"
      ]
    },
    {
      "cell_type": "markdown",
      "metadata": {
        "id": "mEh_WtS-V3eb"
      },
      "source": [
        "Et de la même façon pour un dictionnaire :"
      ]
    },
    {
      "cell_type": "code",
      "execution_count": null,
      "metadata": {
        "id": "4Z6SObldV3eb"
      },
      "outputs": [],
      "source": [
        "def fonc(**kwargs):\n",
        "    print(kwargs)\n",
        "\n",
        "trio_dict = {\"sax\": \"you\", \"drums\": \"her\", \"bass\": \"him\"}\n",
        "fonc(sax=\"you\", drums=\"her\", bass=\"him\")  # ici on liste directement les arguments nommés\n",
        "fonc(**trio_dict)                         # là on \"unpack\" un dictionnaire"
      ]
    },
    {
      "cell_type": "markdown",
      "metadata": {
        "id": "PH3di2AqV3eb"
      },
      "source": [
        "### Espace de nommage et portée des variables\n",
        "\n",
        "#### 1er exemple\n",
        "\n",
        "On veut illustrer le mécanisme de l'espace de nommage des variables :\n"
      ]
    },
    {
      "cell_type": "code",
      "execution_count": null,
      "metadata": {
        "id": "vJTth6VcV3eb"
      },
      "outputs": [],
      "source": [
        "def func1():\n",
        "    a = 1\n",
        "    print(\"Dans func1(), a =\", a)\n",
        "\n",
        "def func2():\n",
        "    print(\"Dans func2(), a =\", a)\n",
        "\n",
        "a = 2\n",
        "func1()\n",
        "func2()\n",
        "print(\"Dans l'espace englobant, a =\", a)"
      ]
    },
    {
      "cell_type": "markdown",
      "metadata": {
        "id": "2Cch6ifZV3eb"
      },
      "source": [
        "Cet exemple montre deux comportements :\n",
        "\n",
        "1. Une variable définie localement à l'intérieur d'une fonction cache une variable du même nom définie dans l'espace englobant (cas de `func1()`).\n",
        "2. Quand une variable n'est pas définie localement à l'intérieur d'une fonction, Python va chercher sa valeur dans l'espace englobant (cas de `func2()`)."
      ]
    },
    {
      "cell_type": "markdown",
      "metadata": {
        "id": "GXSiA6vOV3eb"
      },
      "source": [
        "#### 2ème exemple\n",
        "\n",
        "On veut illustrer le mécanisme de portée des variables au sein des fonctions :"
      ]
    },
    {
      "cell_type": "code",
      "execution_count": null,
      "metadata": {
        "id": "aH8I3DI3V3eb"
      },
      "outputs": [],
      "source": [
        "def func():\n",
        "    a = 1\n",
        "    bbb = 2\n",
        "    print('Dans  func() : a =', a)\n",
        "\n",
        "a = 2\n",
        "print(\"Avant func() : a =\", a)\n",
        "func()\n",
        "print(\"Après func() : a =\", a)"
      ]
    },
    {
      "cell_type": "markdown",
      "metadata": {
        "id": "iiDMrOflV3eb"
      },
      "source": [
        "Les variables définies localement à l'intérieur d'une fonction sont détruites à la sortie de cette fonction. Ici, la variable ``bbb`` n'existe pas hors de la fonction ``func()``, donc Python renvoie une erreur si on essaye d'utiliser ``bbb`` depuis l'espace englobant :"
      ]
    },
    {
      "cell_type": "code",
      "execution_count": null,
      "metadata": {
        "id": "-K1FUYOPV3eb"
      },
      "outputs": [],
      "source": [
        "# Cette cellule génère une erreur\n",
        "print(bbb)"
      ]
    },
    {
      "cell_type": "markdown",
      "metadata": {
        "id": "L3Sko-_VV3ec"
      },
      "source": [
        "### Fonctions *built-in*\n",
        "\n",
        "Ces fonctions sont disponibles dans tous les contextes. La liste complète est détaillée [ici](https://docs.python.org/3/library/functions.html#). En voici une sélection :\n",
        "\n",
        "- `dir(obj)` : retourne une liste des toutes les méthodes et attributs de l'objet `obj`\n",
        "- `dir()` : retourne une liste de tous les objets du contexte courant\n",
        "- `eval(expr)` : analyse et exécute la chaîne de caractère `expr`"
      ]
    },
    {
      "cell_type": "code",
      "execution_count": null,
      "metadata": {
        "id": "tBpHcCCgV3ec"
      },
      "outputs": [],
      "source": [
        "a = 1\n",
        "b = eval('a + 1')\n",
        "print(\"b est de type\", type(b), \"et vaut\", b)"
      ]
    },
    {
      "cell_type": "markdown",
      "metadata": {
        "id": "f7mHWB-kV3ec"
      },
      "source": [
        "- `globals()` : retourne un dictionnaire des variables présentes dans le contexte global\n",
        "- `locals()` : idem `globals()` mais avec le contexte local\n",
        "- `help(obj)` : affiche l’aide au sujet d’un objet\n",
        "- `help()` : affiche l’aide générale (s'appelle depuis l'interpréteur interactif)"
      ]
    },
    {
      "cell_type": "markdown",
      "metadata": {
        "id": "4ei_GVrDV3ec"
      },
      "source": [
        "- `input(prompt)` : retourne une chaîne de caractère lue dans la console après le message `prompt`"
      ]
    },
    {
      "cell_type": "code",
      "execution_count": null,
      "metadata": {
        "id": "6j43vGh6V3ec"
      },
      "outputs": [],
      "source": [
        "reponse = input('Ca va ? ')  # Seule la variante input() fonctionne dans un notebook\n",
        "if reponse.lower() in ('o', 'oui', 'yes', 'y', 'ok', 'da', 'jawohl', 'ja'):\n",
        "    print('Supercalifragilisticexpialidocious')\n",
        "else:\n",
        "    print('Faut prendre des vacances...')"
      ]
    },
    {
      "cell_type": "markdown",
      "metadata": {
        "id": "wMA2IjQSV3ec"
      },
      "source": [
        "- `len(seq)` : retourne la longueur de la séquence `seq`\n",
        "- `max(seq)` : retourne le maximum de la séquence `seq`\n",
        "- `min(seq)` : retourne le minimum de la séquence `seq`\n",
        "\n",
        "- `range([start=0], stop[, step=1])` : retourne un itérateur d'entiers allant de `start` à `stop - 1`, par pas de `step`."
      ]
    },
    {
      "cell_type": "code",
      "execution_count": null,
      "metadata": {
        "id": "h67GMwdiV3ec"
      },
      "outputs": [],
      "source": [
        "print(list(range(10)))\n",
        "print(list(range(5, 10, 2)))"
      ]
    },
    {
      "cell_type": "markdown",
      "metadata": {
        "id": "Dfy2dfCCV3ec"
      },
      "source": [
        "- `repr(obj)`: affiche la représentation de l'objet `obj`.\n",
        "- `reversed(seq)` : retourne l’inverse de la séquence `seq`\n",
        "- `sorted(seq)` : retourne une séquence triée à partir de la séquence `seq`\n",
        "- `sum(seq)` : retourne la somme des éléments de la séquence `seq`"
      ]
    },
    {
      "cell_type": "markdown",
      "metadata": {
        "id": "GJYg2v-oV3ed"
      },
      "source": [
        "### Exercices sur les fonctions"
      ]
    },
    {
      "cell_type": "markdown",
      "metadata": {
        "id": "EfhdgVHIV3ed"
      },
      "source": [
        "#### Exercice 1\n",
        "\n",
        "Ecrire une fonction ``stat()`` qui prend en argument une séquence d'entiers et retourne un tuple contenant :\n",
        "- la somme\n",
        "- le minimum\n",
        "- le maximum\n",
        "\n",
        "\n",
        "des éléments de la liste"
      ]
    },
    {
      "cell_type": "code",
      "execution_count": null,
      "metadata": {
        "solution2": "hidden",
        "solution2_first": true,
        "id": "YJ8KBkU2V3ed"
      },
      "outputs": [],
      "source": [
        "def stat(a_list):\n",
        "    # votre fonction\n",
        "    pass\n",
        "\n",
        "stat([1, 4, 6, 9])"
      ]
    },
    {
      "cell_type": "code",
      "execution_count": null,
      "metadata": {
        "solution2": "hidden",
        "id": "CmALubB9V3ed"
      },
      "outputs": [],
      "source": [
        "# Solution\n",
        "def stat(a_list):\n",
        "    \"\"\"return sum, min and max of a list as a tuple\"\"\"\n",
        "    return sum(a_list), min(a_list), max(a_list)\n",
        "\n",
        "print(stat([1, 4, 6, 9]))\n",
        "\n",
        "def stat(*args):\n",
        "    \"\"\"return sum, min and max of a sequence of arguments as a tuple\"\"\"\n",
        "    return sum(args), min(args), max(args)\n",
        "\n",
        "print(stat(1, 4, 6, 9))"
      ]
    },
    {
      "cell_type": "markdown",
      "metadata": {
        "id": "RRLc6ZUAV3ed"
      },
      "source": [
        "#### Exercice 2 : écriture d'un *wrapper* de fonction\n",
        "\n",
        "Noël arrive vite... Amusez-vous avec les boules de décoration !\n",
        "\n",
        "![sapin](https://github.com/boileaum/cours-python/blob/master/fig/sapin.jpg?raw=1)\n",
        "\n",
        "Soit une fonction ``boule()`` capable d'accrocher une boule de couleur à la position ``(x, y)`` d'un sapin.\n",
        "\n",
        "\n",
        "> <span style=\"font-size:0.7em;\">Exercice inspiré du Mooc de l'INRIA [Python : des fondamentaux à l'utilisation du langage](https://www.fun-mooc.fr/courses/course-v1:UCA+107001+session02/about)</span>\n"
      ]
    },
    {
      "cell_type": "code",
      "execution_count": null,
      "metadata": {
        "id": "_UWRzIGQV3ed"
      },
      "outputs": [],
      "source": [
        "def boule(x, y, couleur='bleue'):\n",
        "    print(\"J'accroche une boule en ({}, {}) de couleur {}\".format(x, y, couleur))\n",
        "\n",
        "# On place la première boule sur le sapin\n",
        "boule(1, 2)\n",
        "# Puis une autre, etc.\n",
        "boule(3, 4, couleur='rouge')"
      ]
    },
    {
      "cell_type": "markdown",
      "metadata": {
        "id": "1R_w7MKjV3ed"
      },
      "source": [
        "Ecrire une fonction *wrapper* `boule_or()` qui crée des boules dorées en appelant la fonction `boule()`. Dans le futur, on souhaite modifier la fonction `boule()` pour lui faire accepter un nouvel argument `rendu (brillant, mat, etc.)`.\n",
        "La fonction `boule_or()` devra continuer à fonctionner après cette modification de la fonction `boule()` et intégrer la nouvelle fonctionnalité `rendu` sans qu'il soit nécessaire de la modifier."
      ]
    },
    {
      "cell_type": "code",
      "execution_count": null,
      "metadata": {
        "id": "ZfHE7MVYV3ed"
      },
      "outputs": [],
      "source": [
        "# Cellule à modifier\n",
        "def boule_or(*args, **kwargs):\n",
        "    # Votre code ici\n",
        "    pass\n",
        "\n",
        "# On place une boule en or sur le sapin\n",
        "boule_or(1, 2)"
      ]
    },
    {
      "cell_type": "markdown",
      "metadata": {
        "id": "dEkh3TziV3ed"
      },
      "source": [
        "Maintenant, on met à jour la fonction ``boule()`` :"
      ]
    },
    {
      "cell_type": "code",
      "execution_count": null,
      "metadata": {
        "id": "325yfDaSV3ee"
      },
      "outputs": [],
      "source": [
        "def boule(x, y, couleur='bleue', rendu='mat'):\n",
        "    print(\"J'accroche une boule en ({}, {}) de couleur {} et de rendu {}.\".format(\n",
        "          x, y, couleur, rendu))\n",
        "boule(1, 3, couleur='jaune', rendu='brillant')"
      ]
    },
    {
      "cell_type": "markdown",
      "metadata": {
        "id": "0NDq9_VcV3ee"
      },
      "source": [
        "Vérifier que votre fonction ``boule_or()`` marche encore et gère la nouvelle fonctionnalité :"
      ]
    },
    {
      "cell_type": "code",
      "execution_count": null,
      "metadata": {
        "solution2": "hidden",
        "solution2_first": true,
        "id": "oK-sZKwSV3ee"
      },
      "outputs": [],
      "source": [
        "boule_or(3, 1, rendu='brillant') # doit retourner :\n",
        "# J'accroche une boule en (3, 1) de couleur or et de rendu brillant."
      ]
    },
    {
      "cell_type": "code",
      "execution_count": null,
      "metadata": {
        "solution2": "hidden",
        "id": "bL89Q65VV3ee"
      },
      "outputs": [],
      "source": [
        "# Solution\n",
        "def boule_or(*args, **kwargs):\n",
        "    # seule instruction qui fait une hypothèse\n",
        "    # sur la signature de la fonction boule() :\n",
        "    kwargs['couleur'] = \"or\"\n",
        "    return boule(*args, **kwargs)\n",
        "boule_or(1, 2, rendu='brillant')"
      ]
    },
    {
      "cell_type": "markdown",
      "metadata": {
        "id": "whtMTqIgV3ee"
      },
      "source": [
        "## Exceptions\n",
        "\n",
        "Pour signaler des conditions particulières (erreurs, évenements exceptionnels), Python utilise un mécanisme de levée d'exceptions."
      ]
    },
    {
      "cell_type": "code",
      "execution_count": null,
      "metadata": {
        "id": "VCSkWjCIV3ee"
      },
      "outputs": [],
      "source": [
        "# Cette cellule génère une erreur\n",
        "raise Exception"
      ]
    },
    {
      "cell_type": "markdown",
      "metadata": {
        "id": "Q7s8lkk1V3ee"
      },
      "source": [
        "Ces exceptions peuvent embarquer des données permettant d'identifier l'évenement producteur."
      ]
    },
    {
      "cell_type": "code",
      "execution_count": null,
      "metadata": {
        "id": "3RcKnKJFV3ee"
      },
      "outputs": [],
      "source": [
        "# Cette cellule génère une erreur\n",
        "raise Exception('Y a une erreur')"
      ]
    },
    {
      "cell_type": "markdown",
      "metadata": {
        "id": "mxQKqx6bV3ee"
      },
      "source": [
        "La levée d'une exception interrompt le cours normal de l'exécution du code et \"remonte\" jusqu'à l'endroit le plus proche gérant cette exception.\n",
        "\n",
        "Pour intercepter les exceptions, on écrit :\n",
        "\n",
        "```python\n",
        "try:\n",
        "    <bloc de code 1>\n",
        "except Exception:\n",
        "    <bloc de code 2>\n",
        "```"
      ]
    },
    {
      "cell_type": "code",
      "execution_count": null,
      "metadata": {
        "id": "FAIC-MJqV3ef"
      },
      "outputs": [],
      "source": [
        "try:\n",
        "    print('ici ca fonctionne')\n",
        "    # ici on détecte une condition exceptionnelle, on signale une exception\n",
        "    raise Exception('y a un bug')\n",
        "    print(\"on n'arrive jamais ici\")\n",
        "except Exception as e:\n",
        "    # L'excécution continue ici\n",
        "    print(\"ici on peut essayer de corriger le problème lié à l'exception : Exception({})\".format(e))\n",
        "print(\"et après, ça continue ici\")"
      ]
    },
    {
      "cell_type": "markdown",
      "metadata": {
        "id": "CCayzbqBV3ef"
      },
      "source": [
        "Exemple illustrant le mécanisme de remontée des exceptions d'un bloc à l'autre :"
      ]
    },
    {
      "cell_type": "code",
      "execution_count": null,
      "metadata": {
        "id": "y4H-WxTNV3ef"
      },
      "outputs": [],
      "source": [
        "def a():\n",
        "    raise Exception('coucou de a()')\n",
        "\n",
        "def b():\n",
        "    print('b() commence')\n",
        "    a()\n",
        "    print('b() finit')\n",
        "\n",
        "try:\n",
        "    b()\n",
        "except Exception as e:\n",
        "    print(\"l'exception vous envoie le message :\", e)"
      ]
    },
    {
      "cell_type": "markdown",
      "metadata": {
        "id": "3s-B0OPRV3ef"
      },
      "source": [
        "### Exercice\n",
        "\n",
        "Ecrivez une fonction `openfile()` :\n",
        "\n",
        "- qui demande à l'utilisateur un fichier a ouvrir\n",
        "- qui gère correctement les fichiers inexistants.\n",
        "- qui affiche la première ligne du fichier ouvert\n",
        "- qui retourne une valeur booléenne indiquant que le fichier a été ouvert ou non.\n",
        "\n",
        "> **Attention :** Python attend un nom de fichier complet. Sous Windows, les extensions de fichier sont cachées par défaut..."
      ]
    },
    {
      "cell_type": "code",
      "execution_count": null,
      "metadata": {
        "solution2": "hidden",
        "solution2_first": true,
        "id": "bnkzlycaV3ef"
      },
      "outputs": [],
      "source": [
        "# Votre code ici\n",
        "def openfile():\n",
        "    pass\n",
        "\n",
        "print(openfile())"
      ]
    },
    {
      "cell_type": "code",
      "execution_count": null,
      "metadata": {
        "solution2": "hidden",
        "id": "u6xISJOTV3ef"
      },
      "outputs": [],
      "source": [
        "# Solution\n",
        "def openfile():\n",
        "    filename = input('Donnez un chemin de fichier : ')\n",
        "    try:\n",
        "        f = open(filename, 'r')\n",
        "        print(f.readline())\n",
        "        f.close()\n",
        "        return True\n",
        "    except FileNotFoundError as err:\n",
        "        # Ignore les erreurs lorsqu'on essaie d'ouvrir le fichier\n",
        "        pass\n",
        "    return False\n",
        "\n",
        "print(openfile())"
      ]
    },
    {
      "cell_type": "markdown",
      "metadata": {
        "id": "Z2N5penYV3ef"
      },
      "source": [
        "Pour plus d'informations sur les exceptions, lire ce [tutoriel](https://docs.python.org/3/tutorial/errors.html)."
      ]
    },
    {
      "cell_type": "markdown",
      "metadata": {
        "id": "Rsk2uzByV3ef"
      },
      "source": [
        "## Les gestionnaires de contexte\n",
        "\n",
        "Pour faciliter la gestion des obligations liées à la libération de ressources, la fermeture de fichiers, etc... Python propose des gestionnaires de contexte introduits par le mot-clé `with`."
      ]
    },
    {
      "cell_type": "code",
      "execution_count": null,
      "metadata": {
        "id": "6O5gYctDV3ef"
      },
      "outputs": [],
      "source": [
        "from pathlib import Path  # Pour la compatibilité avec Windows\n",
        "with open(Path('exos/interessant.txt'), 'r') as fichier_ouvert:\n",
        "    # Dans ce bloc de code le fichier est ouvert en lecture, on peut l'utiliser normalement\n",
        "    print(fichier_ouvert.read())\n",
        "# Ici, on est sorti du bloc et du contexte, le fichier à été fermé automatiquement"
      ]
    },
    {
      "cell_type": "code",
      "execution_count": null,
      "metadata": {
        "id": "ZLs4lmmfV3eg"
      },
      "outputs": [],
      "source": [
        "# Cette cellule génère une erreur\n",
        "print(fichier_ouvert.read())"
      ]
    },
    {
      "cell_type": "markdown",
      "metadata": {
        "id": "Nup7OSGGV3eg"
      },
      "source": [
        "> **Exercice** : Reprenez le code de l'exercice précédent, et utilisez ``with`` pour ne pas avoir à utiliser la méthode ``close()``."
      ]
    },
    {
      "cell_type": "code",
      "execution_count": null,
      "metadata": {
        "solution2": "hidden",
        "solution2_first": true,
        "id": "cNox-sm8V3eg"
      },
      "outputs": [],
      "source": [
        "# Votre code ici"
      ]
    },
    {
      "cell_type": "code",
      "execution_count": null,
      "metadata": {
        "solution2": "hidden",
        "id": "goP5HlvNV3eg"
      },
      "outputs": [],
      "source": [
        "# Solution\n",
        "def openfile():\n",
        "    filename = input('Donnez un chemin de fichier : ')\n",
        "    try:\n",
        "        with open(filename, 'r') as f:\n",
        "            print(f.readline())\n",
        "            return True\n",
        "    except FileNotFoundError as err:\n",
        "        # Ignore errors while trying to open file\n",
        "        pass\n",
        "    return False\n",
        "\n",
        "print(openfile())"
      ]
    },
    {
      "cell_type": "markdown",
      "metadata": {
        "id": "mRwfk1QCV3eg"
      },
      "source": [
        "Il est possible de créer de nouveaux gestionnaires de contexte, pour que vos objets puissent être utilisés avec ``with`` et que les ressources associées soient correctement libérées.\n",
        "\n",
        "Pour plus d'informations sur la création de gestionnaires de contexte, voir [la documentation](https://docs.python.org/3/library/stdtypes.html#context-manager-types)."
      ]
    },
    {
      "cell_type": "markdown",
      "metadata": {
        "id": "6I_OfvJIV3eg"
      },
      "source": [
        "## Les compréhensions de listes\n",
        "\n",
        "Python a introduit une facilité d'écriture pour les listes qui permet de rendre le code plus lisible car plus concis."
      ]
    },
    {
      "cell_type": "code",
      "execution_count": null,
      "metadata": {
        "id": "mlh8s2d8V3eg"
      },
      "outputs": [],
      "source": [
        "# On construit une liste ne contenant que les éléments pairs de la liste Liste1\n",
        "Liste1 = list(range(10))\n",
        "print(Liste1)\n",
        "ListePaire = []\n",
        "for i in Liste1:\n",
        "    if (i % 2) == 0:\n",
        "        ListePaire.append(i)\n",
        "print(ListePaire)"
      ]
    },
    {
      "cell_type": "code",
      "execution_count": null,
      "metadata": {
        "id": "YvRmjqagV3eh"
      },
      "outputs": [],
      "source": [
        "# Ici, on fait la même chose en compréhension de liste\n",
        "ListePaire = [i for i in Liste1 if (i % 2) == 0]\n",
        "print(ListePaire)"
      ]
    },
    {
      "cell_type": "markdown",
      "metadata": {
        "id": "uAonFyZzV3eh"
      },
      "source": [
        "Cette concision peut être utile, mais n'en abusez pas, si vous commencez à avoir une compréhension de liste trop complexe à écrire en une simple ligne, utilisez plutôt des boucles et conditions explicites.  \n",
        "Plus d'informations dans [ce tutoriel](https://docs.python.org/3/tutorial/datastructures.html#list-comprehensions)."
      ]
    },
    {
      "cell_type": "markdown",
      "metadata": {
        "id": "1yGATN95V3eh"
      },
      "source": [
        "## Les expressions génératrices\n",
        "\n",
        "C'est une forme d'écriture, très proche des compréhensions de listes, mais qui ne crée pas de nouvel objet liste immédiatement. Les items sont produits à la demande."
      ]
    },
    {
      "cell_type": "code",
      "execution_count": null,
      "metadata": {
        "id": "YBRGTYPdV3eh"
      },
      "outputs": [],
      "source": [
        "tuplePairs = (i for i in Liste1 if (i % 2) == 0)\n",
        "print(tuplePairs)\n",
        "print(list(tuplePairs))"
      ]
    },
    {
      "cell_type": "markdown",
      "metadata": {
        "id": "Lbt57wkyV3eh"
      },
      "source": [
        "Plus d'informations dans [ce tutoriel](https://docs.python.org/3/tutorial/classes.html#generator-expressions)."
      ]
    },
    {
      "cell_type": "markdown",
      "metadata": {
        "id": "Tbc8j3NeV3eh"
      },
      "source": [
        "## Modules\n",
        "\n",
        "- Python fournit un système de modularisation du code qui permet d'organiser un projet contenant de grandes quantités de code et de réutiliser et de partager ce code entre plusieurs applications.\n",
        "\n",
        "- L'instruction `import` permet d'accéder à du code situé dans d'autres fichiers. Cela inclut les nombreux modules de la bibliothèque standard, tout comme vos propres fichiers contenant du code.\n",
        "\n",
        "- Les objets (variables, fonctions, classes, etc.) du module sont accessibles de la manière suivante :\n",
        "\n",
        "```python\n",
        "module.variable\n",
        "module.fonction(parametre1, parametre2, ...)\n",
        "```\n",
        "Ou plus généralement :\n",
        "```python\n",
        "module.attribut\n",
        "```"
      ]
    },
    {
      "cell_type": "code",
      "execution_count": null,
      "metadata": {
        "id": "wxjdgtouV3eh"
      },
      "outputs": [],
      "source": [
        "# Pour utiliser les fonctions mathématiques du module 'math'\n",
        "import math\n",
        "\n",
        "pi = math.pi\n",
        "print('{:.2f}'.format(pi))\n",
        "print('{:.2f}'.format(math.sin(pi)))"
      ]
    },
    {
      "cell_type": "markdown",
      "metadata": {
        "id": "737Z8A4VV3eh"
      },
      "source": [
        "### Créer ses propres modules\n",
        "\n",
        "Il suffit de placer votre code dans un fichier avec l'extension `.py` et vous pourrez l'importer comme module dans le reste de votre code :\n",
        "\n",
        "|Nom de fichier dans le sytème|Nom d'objet dans le code python|\n",
        "|---|---|\n",
        "| `mon_module.py`|`mon_module` |"
      ]
    },
    {
      "cell_type": "markdown",
      "metadata": {
        "id": "JUiuhH4BV3ei"
      },
      "source": [
        "#### Cas 1 : le fichier module est directement importable\n",
        "\n",
        "\n",
        "- **Cas 1.a :** le module est déjà installé dans l'environnement d'exécution\n",
        "    - il fait partie de la bibliothèque standard\n",
        "    - il a été installé (avec `conda`, avec `pip`, etc.)\n",
        "- **Cas 1.b :** le fichier module se trouve dans le même répertoire que le script qui l'importe\n",
        "\n",
        "Le fichier `exos/mon_module.py` contient du code définissant `ma_variable` et `ma_fonction()`.\n",
        "On copie ce fichier dans le répertoire courant.\n"
      ]
    },
    {
      "cell_type": "code",
      "execution_count": null,
      "metadata": {
        "id": "rQ4K8WcIV3ei"
      },
      "outputs": [],
      "source": [
        "import shutil  # shutil fait partie de la bibliothèque standard\n",
        "shutil.copy (\"exos/mon_module.py\", \".\")  # On copie le fichier dans le répertoire d'exécution du notebook\n",
        "%cat mon_module.py  # On affiche le contenu du fichier"
      ]
    },
    {
      "cell_type": "markdown",
      "metadata": {
        "id": "rG78l2hwV3ei"
      },
      "source": [
        "On peut maintenant importer `mon_module` depuis le notebook :"
      ]
    },
    {
      "cell_type": "code",
      "execution_count": null,
      "metadata": {
        "id": "a0IstgntV3ei"
      },
      "outputs": [],
      "source": [
        "import mon_module  # Notez la syntaxe: nom_du_fichier sans l'extension.\n",
        "print(mon_module.ma_variable)\n",
        "mon_module.ma_fonction()  # On accède ainsi à l'attribut ma_fonction() du module mon_module"
      ]
    },
    {
      "cell_type": "markdown",
      "metadata": {
        "id": "TAI7LpK3V3ei"
      },
      "source": [
        "On peut importer un module sous un autre nom (pour le raccourcir, en général) :"
      ]
    },
    {
      "cell_type": "code",
      "execution_count": null,
      "metadata": {
        "id": "mNADZT5iV3ei"
      },
      "outputs": [],
      "source": [
        "import mon_module as mm\n",
        "mm.ma_fonction()"
      ]
    },
    {
      "cell_type": "markdown",
      "metadata": {
        "id": "xgEu6ErjV3ei"
      },
      "source": [
        "On peut importer un objet particulier d'un module :"
      ]
    },
    {
      "cell_type": "code",
      "execution_count": null,
      "metadata": {
        "id": "1leXgxUmV3ei"
      },
      "outputs": [],
      "source": [
        "from mon_module import ma_fonction\n",
        "ma_fonction()"
      ]
    },
    {
      "cell_type": "markdown",
      "metadata": {
        "id": "h0OOQqbvV3ei"
      },
      "source": [
        "Ou encore"
      ]
    },
    {
      "cell_type": "code",
      "execution_count": null,
      "metadata": {
        "id": "06-nH1juV3ei"
      },
      "outputs": [],
      "source": [
        "from mon_module import ma_fonction as my_func\n",
        "my_func()"
      ]
    },
    {
      "cell_type": "markdown",
      "metadata": {
        "id": "qJL0I4SEV3ej"
      },
      "source": [
        "**Note** :\n",
        "\n",
        "Dans le code :\n",
        "```python\n",
        "import mon_module\n",
        "[...]\n",
        "import mon_module\n",
        "```\n",
        "Le deuxième `import` n'a pas d'effet car le module n'est importé qu'une seule fois au sein d'une même instance Python. Toutefois, il existe des moyens de le réimporter de force avec la bibliothèque [importlib](https://docs.python.org/3/library/importlib.html#importlib.reload)."
      ]
    },
    {
      "cell_type": "markdown",
      "metadata": {
        "id": "LOC8h6wtV3ej"
      },
      "source": [
        "> **Exercice** : Modifiez le code contenu dans le fichier [mon_module.py](mon_module.py), et reexécutez la cellule ci-dessus. Que remarquez-vous ?"
      ]
    },
    {
      "cell_type": "markdown",
      "metadata": {
        "id": "j55PMo-EV3ej"
      },
      "source": [
        "#### Cas 2 : le fichier module se trouve ailleurs\n",
        "\n",
        "On peut distinguer deux cas d'usage :\n",
        "\n",
        "- **Cas 2.a :** on veut aller chercher du code dans un autre projet python qui n'est pas installé dans l'environnement courant\n",
        "- **Cas 2.b :** on travaille sur un gros projet structuré en modules stockés dans une arborescence de sous-répertoires."
      ]
    },
    {
      "cell_type": "markdown",
      "metadata": {
        "id": "2zuhQyNoV3ej"
      },
      "source": [
        "##### Cas 2.a : exemple avec le fichier `exos/ext_dir/module_externe.py`\n",
        "\n",
        "On liste le contenu du sous-répertoire `exos/ext_dir/`"
      ]
    },
    {
      "cell_type": "code",
      "execution_count": null,
      "metadata": {
        "id": "nVITdd5uV3ej"
      },
      "outputs": [],
      "source": [
        "# Si tree est disponible sur votre système,\n",
        "# décommenter la ligne ci-dessous pour l'exécuter\n",
        "#!tree  exos/ext_dir -P \"*.py\" -I __pycache__"
      ]
    },
    {
      "cell_type": "markdown",
      "metadata": {
        "id": "6qj2zpfbV3ej"
      },
      "source": [
        "On a la sous-arborescence suivante\n",
        "\n",
        "```bash\n",
        "exos/ext_dir\n",
        "└── module_externe.py\n",
        "```\n",
        "\n",
        "On veut importer le fichier `module_externe.py` qui contient :"
      ]
    },
    {
      "cell_type": "code",
      "execution_count": null,
      "metadata": {
        "id": "o7dnwAXqV3ej"
      },
      "outputs": [],
      "source": [
        "!cat exos/ext_dir/module_externe.py"
      ]
    },
    {
      "cell_type": "markdown",
      "metadata": {
        "id": "aMAJnt-8V3ek"
      },
      "source": [
        "On ajoute le répertoire `exos/ext_dir` à la liste des répertoires scannés par Python :"
      ]
    },
    {
      "cell_type": "code",
      "execution_count": null,
      "metadata": {
        "id": "_ZZVGfy7V3ek"
      },
      "outputs": [],
      "source": [
        "import sys\n",
        "from pathlib import Path  # Pour la compatibilité avec Windows\n",
        "# il est nécessaire de convertir l'objet pathlib.Path en chaîne de caractères\n",
        "sys.path.append(str(Path(\"./exos/ext_dir\")))"
      ]
    },
    {
      "cell_type": "markdown",
      "metadata": {
        "id": "Y1kk29J9V3ek"
      },
      "source": [
        "Le module s'importe alors directement avec :"
      ]
    },
    {
      "cell_type": "code",
      "execution_count": null,
      "metadata": {
        "id": "pxoIuq5_V3ek"
      },
      "outputs": [],
      "source": [
        "import module_externe"
      ]
    },
    {
      "cell_type": "markdown",
      "metadata": {
        "id": "XoDphe6ZV3ek"
      },
      "source": [
        "##### Cas 2.b :  un projet structuré en sous-répertoires\n",
        "\n",
        "Dans ce cas, on parle de paquets (*packages*) et de sous-paquets :\n",
        "\n",
        "- n'importe quel répertoire est un **paquet python** s'il contient un fichier `__init__.py` (qui peut être vide)\n",
        "- chaque sous-répertoire est un sous-paquet du répertoire (ou paquet) parent\n",
        "- une arborescence de paquets permet d'organiser le code de manière hiérarchique.\n",
        "- On accède aux sous-paquets avec la notation :\n",
        "\n",
        "```python\n",
        "import paquet.sous_paquet.sous_sous_paquet...\n",
        "```"
      ]
    },
    {
      "cell_type": "markdown",
      "metadata": {
        "id": "CjuTx9mVV3ek"
      },
      "source": [
        "###### Exemple avec le répertoire `exos` :"
      ]
    },
    {
      "cell_type": "code",
      "execution_count": null,
      "metadata": {
        "id": "QtvmJMi4V3ek"
      },
      "outputs": [],
      "source": [
        "#!tree  exos -P \"*.py\" -I __pycache__"
      ]
    },
    {
      "cell_type": "markdown",
      "metadata": {
        "id": "H179XDc2V3el"
      },
      "source": [
        "```bash\n",
        "exos\n",
        "├── __init__.py\n",
        "[...]\n",
        "├── ext_dir\n",
        "│   └── module_externe.py\n",
        "[...]\n",
        "├── sous_paquet\n",
        "│   ├── __init__.py\n",
        "│   ├── module_a.py\n",
        "│   └── module_b.py\n",
        "├── sous_paquet2\n",
        "│   ├── __init__.py\n",
        "│   └── module_c.py\n",
        "[...]\n",
        "```"
      ]
    },
    {
      "cell_type": "markdown",
      "metadata": {
        "solution2": "hidden",
        "solution2_first": true,
        "id": "e0QQgzGkV3el"
      },
      "source": [
        "> **Exercice :** Parmi les répertoires ci-dessus, repérer :\n",
        ">\n",
        "> - les répertoires qui sont des paquets Python et ceux qui n'en sont pas\n",
        "> - les fichiers qui sont des modules Python"
      ]
    },
    {
      "cell_type": "markdown",
      "metadata": {
        "solution2": "hidden",
        "id": "mgBFt2GjV3el"
      },
      "source": [
        "- `exos`, `sous_paquet`, `sous_paquet2` sont tous des paquets Python car ils contiennent un fichier `__init__.py`\n",
        "- `ext_dir` n'est pas un paquet car il ne contient pas de `__init__.py`\n",
        "- tous les fichiers `.py` sont des modules sauf les fichiers `__init__.py` qui jouent un rôle particulier en Python"
      ]
    },
    {
      "cell_type": "markdown",
      "metadata": {
        "id": "daZwgur9V3el"
      },
      "source": [
        "Dans ce cas, le module `exos/sous_paquet/module_a.py` contenant :"
      ]
    },
    {
      "cell_type": "code",
      "execution_count": null,
      "metadata": {
        "id": "LOyfJdQmV3el"
      },
      "outputs": [],
      "source": [
        "!cat exos/sous_paquet/module_a.py"
      ]
    },
    {
      "cell_type": "markdown",
      "metadata": {
        "id": "kDIur3X4V3el"
      },
      "source": [
        "s'importe de la façon suivante :"
      ]
    },
    {
      "cell_type": "code",
      "execution_count": null,
      "metadata": {
        "id": "EnEhhbX9V3el"
      },
      "outputs": [],
      "source": [
        "import exos.sous_paquet.module_a\n",
        "# On appelle fonction()\n",
        "exos.sous_paquet.module_a.fonction()"
      ]
    },
    {
      "cell_type": "markdown",
      "metadata": {
        "id": "mKmkfj5JV3em"
      },
      "source": [
        "ou encore :"
      ]
    },
    {
      "cell_type": "code",
      "execution_count": null,
      "metadata": {
        "id": "vBGkPAjtV3em"
      },
      "outputs": [],
      "source": [
        "from exos.sous_paquet import module_a\n",
        "# On appelle fonction()\n",
        "module_a.fonction()"
      ]
    },
    {
      "cell_type": "markdown",
      "metadata": {
        "id": "Xalj-TIXV3em"
      },
      "source": [
        "> **Exercice :** Importer directement la fonction `fonction()` de `exos/sous_paquet/module_b.py` sous le nom `func()` et appelez-là."
      ]
    },
    {
      "cell_type": "code",
      "execution_count": null,
      "metadata": {
        "solution2": "hidden",
        "solution2_first": true,
        "id": "Xi9H769sV3em"
      },
      "outputs": [],
      "source": [
        "# Votre code ici"
      ]
    },
    {
      "cell_type": "code",
      "execution_count": null,
      "metadata": {
        "solution2": "hidden",
        "id": "aYmOwwqNV3em"
      },
      "outputs": [],
      "source": [
        "# Solution\n",
        "from exos.sous_paquet.module_b import fonction as func\n",
        "func()"
      ]
    },
    {
      "cell_type": "markdown",
      "metadata": {
        "id": "VCncwT5qV3em"
      },
      "source": [
        "#### Remarque\n",
        "\n",
        "`__init__.py` peut contenir du code d'initialisation qui est exécuté lors de l'import du paquet :"
      ]
    },
    {
      "cell_type": "code",
      "execution_count": null,
      "metadata": {
        "id": "bg59Y34xV3em"
      },
      "outputs": [],
      "source": [
        "!cat exos/sous_paquet/__init__.py"
      ]
    },
    {
      "cell_type": "markdown",
      "metadata": {
        "id": "tNwcGxKkV3em"
      },
      "source": [
        "Dans cas, on peut importer directement `module_a` et `module_b` :"
      ]
    },
    {
      "cell_type": "code",
      "execution_count": null,
      "metadata": {
        "id": "n4uPL7xHV3em"
      },
      "outputs": [],
      "source": [
        "from exos.sous_paquet import *\n",
        "module_b.fonction()"
      ]
    },
    {
      "cell_type": "markdown",
      "metadata": {
        "id": "iS07ggJ-V3en"
      },
      "source": [
        "### Imports relatifs\n",
        "\n",
        "Depuis le module\n",
        "```bash\n",
        "exos/sous_paquet2/module_c.py\n",
        "```\n",
        "on peut importer le module\n",
        "\n",
        "```bash\n",
        "exos/sous_paquet/module_b.py\n",
        "```\n",
        "en utilisant la syntaxe :\n",
        "\n",
        "```python\n",
        "from .. import sous_paquet\n",
        "from ..sous_paquet import module_b\n",
        "```"
      ]
    },
    {
      "cell_type": "code",
      "execution_count": null,
      "metadata": {
        "id": "8FBgtqsRV3en"
      },
      "outputs": [],
      "source": [
        "!cat exos/sous_paquet2/module_c.py"
      ]
    },
    {
      "cell_type": "markdown",
      "metadata": {
        "id": "ysiy2e7qV3en"
      },
      "source": [
        "On importe `module_c` et on appelle ses attributs :"
      ]
    },
    {
      "cell_type": "code",
      "execution_count": null,
      "metadata": {
        "id": "-r3PBFVVV3en"
      },
      "outputs": [],
      "source": [
        "from exos.sous_paquet2 import module_c\n",
        "module_c.fonction()\n",
        "module_c.module_b.fonction()"
      ]
    },
    {
      "cell_type": "markdown",
      "metadata": {
        "id": "6g-1aocbV3en"
      },
      "source": [
        "Pour plus d'informations sur les modules et paquets, voir [ce tutoriel](https://docs.python.org/3/tutorial/modules.html)."
      ]
    },
    {
      "cell_type": "markdown",
      "metadata": {
        "id": "lcH1-lfHV3en"
      },
      "source": [
        "> **Exercice :**\n",
        ">\n",
        "> 1. dans le répertoire [exos/sous_paquet2/](../tree/exos/sous_paquet2) copiez la définition de la fonction `boule()` (cf. exercice sur les fonctions ci-dessus) dans un fichier nommé `deco.py`\n",
        "> 2. dans le répertoire [exos/sous_paquet/](../tree/exos/sous_paquet) éditez un fichier nommé `noel.py` contenant :\n",
        "  - l'import de la fonction `boule()` depuis [exos/sous_paquet2/deco.py](../tree/exos/sous_paquet2/deco.py)\n",
        "  - la définition de la fonction `boule_or()` (voir corrigé ci-dessus)\n",
        "> 3. Décommentez la cellule ci-dessous, et exécutez-là pour vérifier que la fonction `boule_or()` est bien importée."
      ]
    },
    {
      "cell_type": "code",
      "execution_count": null,
      "metadata": {
        "solution2": "hidden",
        "solution2_first": true,
        "id": "kPfTSSqjV3en"
      },
      "outputs": [],
      "source": [
        "#from exos.sous_paquet.noel import boule_or\n",
        "#boule_or(1, 2)"
      ]
    },
    {
      "cell_type": "code",
      "execution_count": null,
      "metadata": {
        "solution2": "hidden",
        "id": "RZd9ivmdV3en"
      },
      "outputs": [],
      "source": [
        "%%writefile exos/sous_paquet2/deco.py\n",
        "def boule(x, y, couleur='bleue', rendu='mat'):\n",
        "    print(\"J'accroche une boule en ({}, {}) de couleur {} et de rendu {}.\".format(\n",
        "          x, y, couleur, rendu))"
      ]
    },
    {
      "cell_type": "code",
      "execution_count": null,
      "metadata": {
        "solution2": "hidden",
        "id": "DgA-YOg3V3en"
      },
      "outputs": [],
      "source": [
        "%%writefile exos/sous_paquet/noel.py\n",
        "from .. import sous_paquet2\n",
        "from ..sous_paquet2.deco import boule\n",
        "\n",
        "def boule_or(*args, **kwargs):\n",
        "    # seule instruction qui fait une hypothèse\n",
        "    # sur la signature de la fonction boule() :\n",
        "    kwargs['couleur'] = \"or\"\n",
        "    return boule(*args, **kwargs)"
      ]
    },
    {
      "cell_type": "code",
      "execution_count": null,
      "metadata": {
        "solution2": "hidden",
        "id": "Furg15MJV3en"
      },
      "outputs": [],
      "source": [
        "from exos.sous_paquet.noel import boule_or\n",
        "boule_or(1, 2)"
      ]
    },
    {
      "cell_type": "markdown",
      "metadata": {
        "id": "7U6tAIPEV3eo"
      },
      "source": [
        "### Quelques modules de la stdlib\n",
        "\n",
        "La bibliothèque standard de Python est incluse dans toute distribution de Python. Elle contient en particulier une panoplie de modules à la disposition du développeur.\n",
        "\n",
        "#### ``string``\n",
        "\n",
        "- ``find()``\n",
        "- ``count()``\n",
        "- ``split()``\n",
        "- ``join()``\n",
        "- ``strip()``\n",
        "- ``upper()``\n",
        "- ``replace()``"
      ]
    },
    {
      "cell_type": "markdown",
      "metadata": {
        "id": "T5heBFCkV3eo"
      },
      "source": [
        "#### ``math``\n",
        "\n",
        "- ``log()``\n",
        "- ``sqrt()``\n",
        "- ``cos()``\n",
        "- ``pi``\n",
        "- ``e``"
      ]
    },
    {
      "cell_type": "markdown",
      "metadata": {
        "id": "g80Qn4yXV3eo"
      },
      "source": [
        "#### ``os``\n",
        "\n",
        "- ``listdir()``\n",
        "- ``getcwd()``\n",
        "- ``getenv()``\n",
        "- ``chdir()``\n",
        "- ``environ()``\n",
        "- ``os.path : exists(), getsize(), isdir(), join()``"
      ]
    },
    {
      "cell_type": "markdown",
      "metadata": {
        "id": "YjFLdMbSV3eo"
      },
      "source": [
        "#### ``sys``\n",
        "- ``argv``\n",
        "- ``exit()``\n",
        "- ``path``"
      ]
    },
    {
      "cell_type": "markdown",
      "metadata": {
        "id": "B9wJ2_rBV3eo"
      },
      "source": [
        "Mais bien plus sur la [doc officielle de la stdlib](https://docs.python.org/3/library/) !"
      ]
    },
    {
      "cell_type": "markdown",
      "metadata": {
        "id": "dcV9eg8aV3eo"
      },
      "source": [
        "## Bonnes pratiques\n",
        "\n",
        "###  Commentez votre code\n",
        "- pour le rendre plus lisible\n",
        "- pour préciser l'utilité des fonctions, méthodes, classes, modules, etc...\n",
        "- pour expliquer les parties complexes"
      ]
    },
    {
      "cell_type": "markdown",
      "metadata": {
        "id": "P38CCxm_V3eo"
      },
      "source": [
        "### Documentez avec Docstring\n",
        "\n",
        "- Juste après la signature de la fonction, on utilise une chaîne de caractère appelée *docstring* délimitée par `\"\"\"   \"\"\"`\n",
        "- la *docstring* permet de documenter la fonction au plus près de sa définition\n",
        "- cette *docstring* est affichée par `help(fonction)`\n",
        "- la *docstring* est utilisée par les outils de documentation automatique comme [Sphinx](http://www.sphinx-doc.org)."
      ]
    },
    {
      "cell_type": "code",
      "execution_count": null,
      "metadata": {
        "id": "ZAB5CEB3V3eo"
      },
      "outputs": [],
      "source": [
        "def nrien(n):\n",
        "    \"\"\"Retourne n fois 'rien'\"\"\"\n",
        "    return 'rien' * n\n",
        "\n",
        "help(nrien)"
      ]
    },
    {
      "cell_type": "markdown",
      "metadata": {
        "id": "kMaWvce7V3eo"
      },
      "source": [
        "Plus d'information sur les Docstrings dans la [documentation officielle](https://www.python.org/dev/peps/pep-0257/) et l'extension [Napoleon](https://sphinxcontrib-napoleon.readthedocs.io/en/latest/index.html) pour [Sphinx](http://www.sphinx-doc.org)."
      ]
    },
    {
      "cell_type": "markdown",
      "metadata": {
        "id": "rHZD590iV3eo"
      },
      "source": [
        "### Conventions d'écriture\n",
        "\n",
        "Habituez-vous assez tôt aux conventions préconisées dans la communauté des utilisateurs de python.\n",
        "Cela vous aidera a relire plus facilement le code écrit par d'autres, et aidera les autres (et vous-même !) à relire votre propore code.\n",
        "\n",
        "Ces conventions sont décrites dans le document [PEP n°8](https://www.python.org/dev/peps/pep-0008/) (Python Enhancement Proposal).\n",
        "L'outil [pep8](https://pypi.python.org/pypi/pep8) permet d'automatiser la vérification du respect de ces règles."
      ]
    },
    {
      "cell_type": "markdown",
      "metadata": {
        "id": "54Ba86GKV3er"
      },
      "source": [
        "> **Exercice** :\n",
        ">\n",
        "> 1. Lisez le PEP8, et corrigez toutes les fautes commises dans ce notebook\n",
        "> 2. Envoyez le résultat à votre enseignant"
      ]
    },
    {
      "cell_type": "markdown",
      "metadata": {
        "id": "_cXixYTFV3es"
      },
      "source": [
        "###  Organisez votre code source\n",
        "\n",
        "Pour la lisibilité, la réutilisation et la maintenance, le principe à retenir est **d'évitez le copier-coller** de code :\n",
        "\n",
        "- placez dans une même fonction les portions de code exécutées plusieurs fois\n",
        "- lorsque c'est pertinent, définissez des classes pour manipuler des objets (cf. [Chapitre 6](06-langage.ipynb))\n",
        "- placez dans un même module les variables, fonctions et classes partagées entre plusieurs parties ou programmes\n",
        "- dans les projets importants, regrouper vos modules en packages\n"
      ]
    },
    {
      "cell_type": "markdown",
      "metadata": {
        "id": "KCeni56iV3es"
      },
      "source": [
        "## Utiliser les environnements de développement intégrés :\n",
        "\n",
        "* [pydev](http://pydev.org)\n",
        "* [eclipse](http://www.eclipse.org)\n",
        "* [spyder](http://pythonhosted.org/spyder)\n",
        "* [pycharm](https://www.jetbrains.com/pycharm)\n",
        "\n",
        "![](https://github.com/boileaum/cours-python/blob/master/fig/spyder.png?raw=1)"
      ]
    },
    {
      "cell_type": "markdown",
      "metadata": {
        "id": "09y5oGFnV3es"
      },
      "source": [
        "### Utilisez un gestionnaires de versions\n",
        "\n",
        "* [git](http://www.git-scm.com) : gestion distribuée, largement majoritaire aujourd'hui\n",
        "* [subversion](https://subversion.apache.org) : gestion centralisée, outil plus ancien\n",
        "\n",
        "Faire des enregistrements *(commits)* fréquents et cohérents.\n",
        "\n",
        "### Héberger vos dépôts de sources\n",
        "\n",
        "* [github](https://github.com) : des millions d'utilisateurs et de dépôts\n",
        "* [gitlab](https://gitlab.com) : un concurrent moins visibles mais aux fonctionnalités très intéressantes\n"
      ]
    },
    {
      "cell_type": "markdown",
      "metadata": {
        "id": "jtOL4E7RV3es"
      },
      "source": [
        "### Visualisation de différences :\n",
        "\n",
        "* [tkdiff](http://tkdiff.sourceforge.net)\n",
        "* [kdiff3](http://kdiff3.sourceforge.net)\n",
        "* [meld](http://meldmerge.org) - écrit en python !\n",
        "\n",
        "![](https://github.com/boileaum/cours-python/blob/master/fig/meld.png?raw=1)"
      ]
    },
    {
      "cell_type": "markdown",
      "metadata": {
        "id": "o7YUe9ZeV3es"
      },
      "source": [
        "### Vérificateurs de code source\n",
        "\n",
        "* [pep8](https://pypi.python.org/pypi/pep8) : pour normaliser la mise en page\n",
        "* [pylint](http://www.pylint.org) : pour vérifier que la syntaxe est correcte\n",
        "\n",
        "Ces modules sont embarqués dans les IDE avancées.\n"
      ]
    },
    {
      "cell_type": "markdown",
      "metadata": {
        "id": "lNeq9l5TV3es"
      },
      "source": [
        "### Tests en Python\n",
        "\n",
        "En programmation, on utilise des tests de non régression pour vérifier que les nouveaux développements et les corrections de bugs n'entraînent pas de pertes de fonctionalités et de nouveaux bugs.\n",
        "On distingue généralement :\n",
        "- les tests unitaires (comportement de fonctions prises séparément)\n",
        "- les tests d'intégration (interaction entre plusieurs parties de programme)\n",
        "- les tests du système complet\n",
        "\n",
        "Python dispose de nombreux modules dédiés aux deux premières catégories. Quelques exemples :\n",
        "\n",
        "* [`unittest`](https://docs.python.org/3/library/unittest.html) : fait partie de la bibliothèque standard\n",
        "* [`doctest`](https://docs.python.org/3/library/doctest.html) : le test est basé sur des sorties de sessions interactives stockées généralement dans la *docstring* de la fonction testée (alourdit le code...)\n",
        "* [`nose`](https://nose.readthedocs.io) : une extension de `unittest`\n",
        "* [`pytest`](http://pytest.org) : syntaxe simple et nombreuses fonctionnalités\n",
        "\n",
        "Une synthèse des outils existants sur [cette page](https://wiki.python.org/moin/PythonTestingToolsTaxonomy)."
      ]
    },
    {
      "cell_type": "markdown",
      "metadata": {
        "id": "ncOhokuxV3et"
      },
      "source": [
        "### Environnements virtuels\n",
        "\n",
        "Les environnements virtuels sont très utiles pour le développement car ils permettent d'isoler les installations et les exécutions.\n",
        "\n",
        "* [virtualenv](https://virtualenv.pypa.io)\n",
        "* [conda environments](https://conda.io/docs/user-guide/tasks/manage-environments.html)"
      ]
    },
    {
      "cell_type": "markdown",
      "metadata": {
        "id": "_T0cYpO9V3et"
      },
      "source": [
        "## Philosophie du langage : le zen de Python\n",
        "\n",
        "![](https://github.com/boileaum/cours-python/blob/master/fig/python-logo.png?raw=1)\n",
        "\n",
        "[PEP 20](https://www.python.org/dev/peps/pep-0020)"
      ]
    },
    {
      "cell_type": "code",
      "execution_count": null,
      "metadata": {
        "id": "GNqU41VqV3et"
      },
      "outputs": [],
      "source": [
        "import this"
      ]
    },
    {
      "cell_type": "markdown",
      "metadata": {
        "id": "Ud6Y2HsNV3et"
      },
      "source": [
        "## Python 3.x vs 2.x\n",
        "\n",
        "C'est le futur, et incidemment aussi le présent voire même le passé...\n",
        "\n",
        "- Quoi : une version qui casse la compatibilité ascendante\n",
        "- Pourquoi : nettoyage de parties bancales du langage accumulées au fil du temps\n",
        "- Python 3.0 est sorti en 2008\n",
        "- Python 2.7 est sorti en 2010 : EOL, fin de vie, (mal-)heureusement longue à venir\n",
        "- Un certain nombre de choses n'a pas encore été converti pour fonctionner avec\n",
        "- Les distributions linux majeures proposent encore la 2.X par défaut, mais la 3 est disponible en parallèle\n",
        "- Une partie, la moins disruptive, a quand même été portée vers 2.6 et 2.7 pour aider à la transition\n",
        "- Les tutoriels, et autres documentations disponibles sur internet ne sont pas forcément migrées\n",
        "- Pour un nouveau projet, recherchez un peu avant de vous lancer, pour vérifier les besoins en librairies externes\n",
        "- Les implémentations tierces d'interpréteurs python peuvent avoir des degrés variables de compatibilité avec les versions 3.x\n",
        "- Les modules comportant des extentions en C sont plus compliqués à porter."
      ]
    },
    {
      "cell_type": "markdown",
      "metadata": {
        "id": "l9wRVZQkV3eu"
      },
      "source": [
        "### Différences notables entre Python 2 et Python 3\n",
        "\n",
        "- Division entière\n",
        "- ``print()``\n",
        "- variable à durée de vie plus stricte (boucles, etc...)\n",
        "- toutes les classes sont du nouveau type\n",
        "- Les chaînes de caractères sont en UTF-8 par défaut & encoding(s) & byte() interface\n",
        "- stdlib changée\n",
        "- ``range()`` vs ``xrange()``\n",
        "- outils ``2to3.py, 3to2, python-modernize, futurize``\n",
        "- ``pylint --py3k``\n",
        "- module de compatibilité: six\n",
        "\n",
        "Plus d'informations sur le [wiki officiel](https://wiki.python.org/moin/Python2orPython3)."
      ]
    },
    {
      "cell_type": "markdown",
      "metadata": {
        "id": "SkO8WHUFV3eu"
      },
      "source": [
        "## Exercices complémentaires"
      ]
    },
    {
      "cell_type": "markdown",
      "metadata": {
        "id": "4ywNhJTQV3eu"
      },
      "source": [
        "### Chaines de caractères\n",
        "\n",
        "Ecrivez les fonctions suivantes, sans utiliser upper() / lower():\n",
        "\n",
        "- ``majuscule('azERtyUI')`` -> ``'AZERTYUI'``\n",
        "- ``minuscule('azERtyUI')`` -> ``'azertyui'``\n",
        "- ``inverse_casse('azERtyUI')`` -> ``'AZerTYui'``\n",
        "- ``nom_propre('azERtyUI')`` -> ``'Azertyui'``\n",
        "\n",
        "> **Indice:** cet exercice s'apparente à de la \"traduction\"..."
      ]
    },
    {
      "cell_type": "code",
      "execution_count": null,
      "metadata": {
        "solution2": "hidden",
        "solution2_first": true,
        "id": "PnX5y3OPV3eu"
      },
      "outputs": [],
      "source": [
        "def majuscule(chaine):\n",
        "    # Votre code ici\n",
        "    pass\n",
        "\n",
        "def minuscules(chaine):\n",
        "    # Votre code ici\n",
        "    pass\n",
        "\n",
        "def inverse_casse(chaine):\n",
        "    # Votre code ici\n",
        "    pass\n",
        "\n",
        "def nom_propre(chaine):\n",
        "    # Votre code ici\n",
        "    pass\n",
        "\n",
        "assert majuscule('azERtyUI') == 'AZERTYUI'\n",
        "assert minuscule('azERtyUI') == 'azertyui'\n",
        "assert inverse_casse('azERtyUI') == 'AZerTYui'\n",
        "assert nom_propre('azERtyUI') == 'Azertyui'"
      ]
    },
    {
      "cell_type": "code",
      "execution_count": null,
      "metadata": {
        "solution2": "hidden",
        "id": "nyzNM3TAV3eu"
      },
      "outputs": [],
      "source": [
        "# Solution\n",
        "\n",
        "lower = 'abcdefghijklmnopqrstuvwxyz'\n",
        "upper = 'ABCDEFGHIJKLMNOPQRSTUVWXYZ'\n",
        "\n",
        "toupper = dict(zip(lower, upper))\n",
        "tolower = dict(zip(upper, lower))\n",
        "\n",
        "inverse = dict(toupper)\n",
        "inverse.update(tolower)\n",
        "\n",
        "def to_case(chaine, dico):\n",
        "    ret = []\n",
        "    for c in chaine:\n",
        "        d = dico.get(c, None)\n",
        "        ret.append(d or c)\n",
        "    return ''.join(ret)\n",
        "\n",
        "def majuscules(chaine):\n",
        "    return to_case(chaine, toupper)\n",
        "\n",
        "def minuscules(chaine):\n",
        "    return to_case(chaine, tolower)\n",
        "\n",
        "def inverse_casse(chaine):\n",
        "    return to_case(chaine, inverse)\n",
        "\n",
        "def nom_propre(chaine):\n",
        "    return majuscules(chaine[0]) + minuscules(chaine[1:])\n",
        "\n",
        "print(majuscules('aTtEnTioN'))\n",
        "print(minuscules('aTtEnTioN'))\n",
        "\n",
        "print(inverse_casse('aTtEnTioN'))\n",
        "print(nom_propre('aTtEnTioN'))"
      ]
    },
    {
      "cell_type": "markdown",
      "metadata": {
        "id": "Oom2oC2xV3eu"
      },
      "source": [
        "### Récursion\n",
        "\n",
        "Les fonctions dites \"récursives\" sont des fonctions qui font appel à elles-même, en résolvant une partie plus petite du problème à chaque appel, jusqu'à avoir un cas trivial à résoudre.\n",
        "\n",
        "Par exemple pour calculer : \"la somme de tout les nombres de 0 jusqu'à x\", on peut utiliser une fonction récursive:\n",
        "\n",
        "La somme de tous les nombres de 0 à 10 est égale à 10 plus la somme de tous les nombres de 0 à 9, etc...\n"
      ]
    },
    {
      "cell_type": "code",
      "execution_count": null,
      "metadata": {
        "id": "zRUS3KYlV3eu"
      },
      "outputs": [],
      "source": [
        "def sum_to(x):\n",
        "    if x == 0:\n",
        "        return 0\n",
        "    return x + sum_to(x - 1)"
      ]
    },
    {
      "cell_type": "code",
      "execution_count": null,
      "metadata": {
        "id": "JuRheb3hV3ev"
      },
      "outputs": [],
      "source": [
        "print(sum_to(9))"
      ]
    },
    {
      "cell_type": "markdown",
      "metadata": {
        "id": "jRPOlCscV3ev"
      },
      "source": [
        "La fonction mathématique factorielle est similaire, mais calcule : \"le produit de tout les nombres de 1 jusqu'à x\"."
      ]
    },
    {
      "cell_type": "code",
      "execution_count": null,
      "metadata": {
        "id": "3RBAKQBEV3ev"
      },
      "outputs": [],
      "source": [
        "def fact(x):\n",
        "    if x == 1:\n",
        "        return 1\n",
        "    return x * fact(x - 1)"
      ]
    },
    {
      "cell_type": "code",
      "execution_count": null,
      "metadata": {
        "id": "GjhL3lSKV3ev"
      },
      "outputs": [],
      "source": [
        "print(fact(5), fact(9))"
      ]
    },
    {
      "cell_type": "markdown",
      "metadata": {
        "id": "HRCgtiFsV3ev"
      },
      "source": [
        "La fonction mathématique qui calcule [la suite des nombres de Fibonacci](https://fr.wikipedia.org/wiki/Suite_de_Fibonacci), peut être décrite de la façon suivante :\n",
        "\n",
        "- `fibo(0) = 0`\n",
        "- `fibo(1) = 1`\n",
        "\n",
        "Et pour toutes les autres valeurs :\n",
        "\n",
        "- `fibo(x) = fibo(x - 1) + fibo(x - 2)`\n",
        "\n",
        "> **Exercice** : écrivez une fonction récursive `fibo(x)` qui renvoie le x-ième nombre de la suite de Fibonnaci."
      ]
    },
    {
      "cell_type": "code",
      "execution_count": null,
      "metadata": {
        "id": "QDmgKXB-V3ev"
      },
      "outputs": [],
      "source": [
        "def fibo(x):\n",
        "    # Votre code ici\n",
        "    pass"
      ]
    },
    {
      "cell_type": "code",
      "execution_count": null,
      "metadata": {
        "solution2": "hidden",
        "solution2_first": true,
        "id": "64lz3l-ZV3ev"
      },
      "outputs": [],
      "source": [
        "print(fibo(9))"
      ]
    },
    {
      "cell_type": "code",
      "execution_count": null,
      "metadata": {
        "solution2": "hidden",
        "id": "nznbrDM-V3ev"
      },
      "outputs": [],
      "source": [
        "# Solution\n",
        "def fibo(x):\n",
        "    if x < 2:\n",
        "        return 1\n",
        "    return fibo(x - 1) + fibo(x - 2)\n",
        "\n",
        "print(fibo(8))"
      ]
    }
  ],
  "metadata": {
    "celltoolbar": "Slideshow",
    "kernelspec": {
      "display_name": "Python 3",
      "language": "python",
      "name": "python3"
    },
    "language_info": {
      "codemirror_mode": {
        "name": "ipython",
        "version": 3
      },
      "file_extension": ".py",
      "mimetype": "text/x-python",
      "name": "python",
      "nbconvert_exporter": "python",
      "pygments_lexer": "ipython3",
      "version": "3.6.2"
    },
    "colab": {
      "provenance": []
    }
  },
  "nbformat": 4,
  "nbformat_minor": 0
}