{
 "cells": [
  {
   "cell_type": "markdown",
   "id": "40c5fe1f",
   "metadata": {},
   "source": [
    "# TP 2 : Opérations élémentaires et listes en Python\n",
    "\n",
    "Ce second TP se concentre sur des opérations de base en python, notamment la manipulation de listes."
   ]
  },
  {
   "cell_type": "markdown",
   "id": "21425925",
   "metadata": {},
   "source": [
    "## Exercice 1 : Opérations arithmétiques"
   ]
  },
  {
   "cell_type": "markdown",
   "id": "98758f6b",
   "metadata": {},
   "source": [
    "**Question 1 :** Affecter à ``a`` et ``b`` les valeurs $5^6$ et $1234$."
   ]
  },
  {
   "cell_type": "code",
   "execution_count": null,
   "id": "44e3e968",
   "metadata": {},
   "outputs": [],
   "source": []
  },
  {
   "cell_type": "markdown",
   "id": "ca152406",
   "metadata": {},
   "source": [
    "**Question 2 :** Calculer le reste $r$ et le quotient $q$ de la division euclidienne de ``a`` par ``b``. On stockera les résultats dans des variables ``r`` et ``q``."
   ]
  },
  {
   "cell_type": "code",
   "execution_count": null,
   "id": "cabac0cb",
   "metadata": {},
   "outputs": [],
   "source": []
  },
  {
   "cell_type": "markdown",
   "id": "63dcfb44",
   "metadata": {},
   "source": [
    "**Question 3 :** Calculer la valeur de $x = b q + r$, stocker le résultat dans une variable ``x``, puis vérifier que $x = a$."
   ]
  },
  {
   "cell_type": "code",
   "execution_count": null,
   "id": "2f3f6def",
   "metadata": {},
   "outputs": [],
   "source": []
  },
  {
   "cell_type": "markdown",
   "id": "afefa81d",
   "metadata": {},
   "source": [
    "## Exercice 2 : Manipulation élémentaire de liste"
   ]
  },
  {
   "cell_type": "markdown",
   "id": "d8d3cc9b",
   "metadata": {},
   "source": [
    "**Question 1 :** Effectuer successivement les étapes suivantes :\n",
    "1. Affecter à la variable ``L`` une liste vide\n",
    "1. Ajouter l'entier $3$ à la fin de la liste\n",
    "1. Ajouter l'entier $-2$ au début de la liste\n",
    "1. Afficher la liste ``L``\n",
    "1. Si le second élément de la liste ``L`` est strictement positif, alors afficher \"Positif\""
   ]
  },
  {
   "cell_type": "code",
   "execution_count": null,
   "id": "06ef9299",
   "metadata": {},
   "outputs": [],
   "source": []
  },
  {
   "cell_type": "markdown",
   "id": "1e91867d",
   "metadata": {},
   "source": [
    "**Question 2 :** Créer, en les ajoutant un par un en fin de liste, grâce à une boucle ``for`` et au mot-clef ``range``, la liste ``M`` des entiers compris entre $3$ et $97$."
   ]
  },
  {
   "cell_type": "code",
   "execution_count": null,
   "id": "b8d8d6f3",
   "metadata": {},
   "outputs": [],
   "source": []
  },
  {
   "cell_type": "markdown",
   "id": "e098864a",
   "metadata": {},
   "source": [
    "**Question 3 :** Créer, par compréhension, la même liste ``N`` des entiers compris entre $3$ et $97$."
   ]
  },
  {
   "cell_type": "code",
   "execution_count": null,
   "id": "4cf0dc39",
   "metadata": {},
   "outputs": [],
   "source": []
  },
  {
   "cell_type": "markdown",
   "id": "4ed8aadc",
   "metadata": {},
   "source": [
    "**Question 4 :** Tester si ``M`` est égale à ``N``."
   ]
  },
  {
   "cell_type": "code",
   "execution_count": null,
   "id": "a790b0b2",
   "metadata": {},
   "outputs": [],
   "source": []
  },
  {
   "cell_type": "markdown",
   "id": "9713a842",
   "metadata": {},
   "source": [
    "## Exercice 3 : Factorielle"
   ]
  },
  {
   "cell_type": "markdown",
   "id": "c498eb64",
   "metadata": {},
   "source": [
    "**Question 1 :** Écrire une fonction **itérative** ``factorielle(n)`` qui calcule la factorielle d'un entier ``n`` passé en paramètre. Pour cela, vous remplacerez l'instruction ``pass`` ci-dessous, par vos propres lignes de code. Testez ensuite votre fonction avec $n = 0$, $n = 1$, $n = 10$ et $n = 2022$."
   ]
  },
  {
   "cell_type": "code",
   "execution_count": 59,
   "id": "7ab204d1",
   "metadata": {},
   "outputs": [],
   "source": [
    "def factorielle(n):\n",
    "    pass"
   ]
  },
  {
   "cell_type": "markdown",
   "id": "4df74cb2",
   "metadata": {},
   "source": [
    "**Question 2 :** Écrire une version **récursive** de la fonction factorielle, que vous appellerez ``factorielle_rec``. Testez ensuite votre fonction avec les mêmes valeurs que précédemment."
   ]
  },
  {
   "cell_type": "code",
   "execution_count": null,
   "id": "73af9c25",
   "metadata": {},
   "outputs": [],
   "source": []
  },
  {
   "cell_type": "markdown",
   "id": "b86b29f8",
   "metadata": {},
   "source": [
    "**Question 3 :** Dans la cellule suivante, une fonction est écrite pour calculer le maximum d'une liste.\n",
    "Décommentez la dernière ligne, exécutez la cellule, puis observez ce qui est affiché. Essayez ensuite de corriger l'erreur pour obtenir le bon résultat."
   ]
  },
  {
   "cell_type": "code",
   "execution_count": 60,
   "id": "e272f225",
   "metadata": {},
   "outputs": [],
   "source": [
    "def ma_fonction(L):\n",
    "    m = 0\n",
    "    i = 0\n",
    "    n = len(L)\n",
    "    while i <= n:\n",
    "        if L[i] > m:\n",
    "            m = L[i]\n",
    "        i += 1\n",
    "    return m\n",
    "\n",
    "# ma_fonction([13, 12, 42, -37])"
   ]
  },
  {
   "cell_type": "markdown",
   "id": "cab245e3",
   "metadata": {},
   "source": [
    "## Exercice 4 : Tri décroissant de listes"
   ]
  },
  {
   "cell_type": "markdown",
   "id": "206efe9c",
   "metadata": {},
   "source": [
    "**Question 1 :** Écrire une fonction ``liste_aleatoire(n, m)`` qui retourne une liste de $n$ entiers tirés aléatoirement entre $1$ et $m$ (inclus), où $m$ est un entier naturel. On pourra créer cette liste par compréhension.\n",
    "\n",
    "*Ne pas oublier d'importer la fonction ``randint`` de la bibliothèque ``random`` de python par :*\n",
    "```\n",
    "from random import randint\n",
    "```"
   ]
  },
  {
   "cell_type": "code",
   "execution_count": null,
   "id": "edec1e50",
   "metadata": {},
   "outputs": [],
   "source": []
  },
  {
   "cell_type": "markdown",
   "id": "b89cc3bb",
   "metadata": {},
   "source": [
    "**Question 2 :** Écrire une fonction ``est_decroissante(L)`` qui teste si une liste est triée dans l'ordre décroissant."
   ]
  },
  {
   "cell_type": "code",
   "execution_count": null,
   "id": "c94617a5",
   "metadata": {},
   "outputs": [],
   "source": []
  },
  {
   "cell_type": "markdown",
   "id": "15a0478b",
   "metadata": {},
   "source": [
    "**Question 3 :** Dans cette question, on suppose que ``L`` est une liste de nombres triée dans l'ordre décroissant. Écrire une fonction ``inserer(L, x)`` qui insère l'élément ``x`` dans ``L`` afin que la liste reste classée dans l'ordre décroissant."
   ]
  },
  {
   "cell_type": "code",
   "execution_count": null,
   "id": "ae09d41e",
   "metadata": {},
   "outputs": [],
   "source": []
  },
  {
   "cell_type": "markdown",
   "id": "18803827",
   "metadata": {},
   "source": [
    "**Question 4 :** Écrire une fonction ``tri_decroissant(L)`` qui trie une liste ``L`` dans l'ordre décroissant. "
   ]
  },
  {
   "cell_type": "code",
   "execution_count": null,
   "id": "09e516bd",
   "metadata": {},
   "outputs": [],
   "source": []
  },
  {
   "cell_type": "markdown",
   "id": "c4942bfa",
   "metadata": {},
   "source": [
    "## Exercice 5 : Multiplicités dans les listes"
   ]
  },
  {
   "cell_type": "markdown",
   "id": "9aa43b20",
   "metadata": {},
   "source": [
    "**Question 1 :** Écrire une fonction ``doublon(L)`` qui teste si la liste ``L`` contient au moins deux fois le même élément."
   ]
  },
  {
   "cell_type": "code",
   "execution_count": null,
   "id": "6d326650",
   "metadata": {},
   "outputs": [],
   "source": []
  },
  {
   "cell_type": "markdown",
   "id": "f15e64d9",
   "metadata": {},
   "source": [
    "**Question 2 :** Écrire une fonction ``simplifie_liste(L)`` qui retourne la liste de tous les éléments contenus ``L``, mais sans multiplicité. Autrement dit, si un élément apparaît deux fois (ou plus) dans la liste ``L``, il apparaîtra une seule fois dans la liste retournée par ``simplifie_liste(L)``. "
   ]
  },
  {
   "cell_type": "code",
   "execution_count": null,
   "id": "d8ae29b3",
   "metadata": {},
   "outputs": [],
   "source": []
  },
  {
   "cell_type": "markdown",
   "id": "afdae7c3",
   "metadata": {},
   "source": [
    "**Question 3 :** Écrire une fonction ``extraire_doublons(L)`` qui retourne la liste des éléments de ``L`` qui y apparaissent au moins deux fois."
   ]
  },
  {
   "cell_type": "code",
   "execution_count": null,
   "id": "0f5bafea",
   "metadata": {},
   "outputs": [],
   "source": []
  }
 ],
 "metadata": {
  "kernelspec": {
   "display_name": "Python 3 (ipykernel)",
   "language": "python",
   "name": "python3"
  },
  "language_info": {
   "codemirror_mode": {
    "name": "ipython",
    "version": 3
   },
   "file_extension": ".py",
   "mimetype": "text/x-python",
   "name": "python",
   "nbconvert_exporter": "python",
   "pygments_lexer": "ipython3",
   "version": "3.9.2"
  }
 },
 "nbformat": 4,
 "nbformat_minor": 5
}
