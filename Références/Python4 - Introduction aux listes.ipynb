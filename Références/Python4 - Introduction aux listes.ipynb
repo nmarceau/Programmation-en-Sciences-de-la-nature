{
 "cells": [
  {
   "cell_type": "markdown",
   "metadata": {},
   "source": [
    "# Découverte des objets listes"
   ]
  },
  {
   "cell_type": "markdown",
   "metadata": {},
   "source": [
    "Les listes sont des objets très importants en Python car elles permettent de stocker de multiples informations dans une seule variable.\n",
    "\n",
    "Ci dessous, voici un exemple montrant la liste des entiers de 0 à 9."
   ]
  },
  {
   "cell_type": "code",
   "execution_count": null,
   "metadata": {
    "collapsed": false
   },
   "outputs": [],
   "source": [
    "list(range(10))"
   ]
  },
  {
   "cell_type": "markdown",
   "metadata": {},
   "source": [
    "Nous allons dans ce chapitre détailler ce qu'est une liste, comment les manipuler et expliquer pourquoi elles sont si importantes en Informatique."
   ]
  },
  {
   "cell_type": "markdown",
   "metadata": {},
   "source": [
    "## Manipulation de listes"
   ]
  },
  {
   "cell_type": "markdown",
   "metadata": {},
   "source": [
    "### Présentation du type list"
   ]
  },
  {
   "cell_type": "markdown",
   "metadata": {},
   "source": [
    "Comme on peut le voir sur l'exemple précédent, une **liste** en Python est un objet délimité par deux crochets et qui renferme un nombre fini d'éléments de n'importe quel type, ces éléments étant séparés par des virgules.\n",
    "\n",
    "Voici quelques caractéristiques sur les listes\n",
    "\n",
    ">- les éléments d'une liste sont ordonnés : si on échange de place deux éléments différents d'une liste, la liste est modifiée.\n",
    ">- les éléments d'une liste sont numérotés **depuis 0**\n",
    ">- un même objet peut appparaître plusieurs fois dans une liste.\n",
    ">- une liste peut contenir des éléments de type différents (nombres, chaines...)"
   ]
  },
  {
   "cell_type": "code",
   "execution_count": null,
   "metadata": {
    "collapsed": false
   },
   "outputs": [],
   "source": [
    "Premier_Exemple=[21,\"Bonjour\",1+2,[1,2,3,1], 21 ] # deux fois la même occurrence\n",
    "print(Premier_Exemple)\n",
    "print(type(Premier_Exemple))"
   ]
  },
  {
   "cell_type": "markdown",
   "metadata": {},
   "source": [
    "### Premières manipulations sur les listes\n",
    "Créez une variable ***liste_carres*** contenant la liste les carrés des entiers de 1 à 10"
   ]
  },
  {
   "cell_type": "code",
   "execution_count": null,
   "metadata": {
    "collapsed": true
   },
   "outputs": [],
   "source": [
    "liste_carres = "
   ]
  },
  {
   "cell_type": "markdown",
   "metadata": {},
   "source": [
    "Les éléments d'une liste sont numérotés à partir de 0. On accède à un élément en utilisant une notation crochet : ***maListe[index]***. \n",
    "\n",
    "Observez l'exemple et modifiez le pour accéder aux différents éléments de la ***liste_carres***\n",
    "\n",
    "Que se passe t-il si l'index dépasse le nombre d'éléments dans la liste ?"
   ]
  },
  {
   "cell_type": "code",
   "execution_count": null,
   "metadata": {
    "collapsed": true
   },
   "outputs": [],
   "source": [
    "liste_carres[0]"
   ]
  },
  {
   "cell_type": "markdown",
   "metadata": {},
   "source": [
    "Il est possible de modifier un élément particulier d'une liste. Il suffit de faire une affectation au moyen du signe = comme pour une simple variable. Observez plutôt :"
   ]
  },
  {
   "cell_type": "code",
   "execution_count": null,
   "metadata": {
    "collapsed": true
   },
   "outputs": [],
   "source": [
    "liste_carres[1]=100\n",
    "print(liste_carres)"
   ]
  },
  {
   "cell_type": "markdown",
   "metadata": {},
   "source": [
    "On peut rechercher si un élément dans une liste. Par exemple pour savoir si 25 est un carré, on peut taper la ligne suivante.\n",
    "\n",
    "Manipulez cette fonction en testant des nombres qui sont dans la liste et d'autres qui n'y sont pas.\n",
    "\n",
    "On sera frappé par la similitude entre la syntaxe de python et le langage naturel. Cette simplicité est une des forces de Python."
   ]
  },
  {
   "cell_type": "code",
   "execution_count": null,
   "metadata": {
    "collapsed": true
   },
   "outputs": [],
   "source": [
    "25 in liste_carres"
   ]
  },
  {
   "cell_type": "markdown",
   "metadata": {},
   "source": [
    "On peut mettre deux listes bout à bout comme on le voit sur l'exemple suivant. On remarque l'utilisation naturelle du signe '+' pour ajouter deux listes bout à bout."
   ]
  },
  {
   "cell_type": "code",
   "execution_count": null,
   "metadata": {
    "collapsed": true
   },
   "outputs": [],
   "source": [
    "liste_carres=liste_carres + [121,144,169,196,225]\n",
    "print(liste_carres)"
   ]
  },
  {
   "cell_type": "markdown",
   "metadata": {},
   "source": [
    "De même qu'on possède l'opération +, il existe aussi l'opération * pour obtenir une liste formée de plusieurs fois la même liste. Je vous laisse découvrir le fonctionnement de cet opérateur dans la cellule ci-dessous :"
   ]
  },
  {
   "cell_type": "code",
   "execution_count": null,
   "metadata": {
    "collapsed": true
   },
   "outputs": [],
   "source": [
    "3*[1,2,4]"
   ]
  },
  {
   "cell_type": "markdown",
   "metadata": {},
   "source": [
    "Pour savoir combien d'éléments contient une liste, on peut utiliser la fonction ***len()***.\n",
    "\n",
    "Testez aussi les fonctions ***min()*** et ***max()*** sur la liste_carres. A quoi servent elles ?"
   ]
  },
  {
   "cell_type": "code",
   "execution_count": null,
   "metadata": {
    "collapsed": true
   },
   "outputs": [],
   "source": [
    "len(liste_carres)"
   ]
  },
  {
   "cell_type": "markdown",
   "metadata": {},
   "source": [
    "Pour connaître la position d'un objet dans une liste, on peut utiliser la méthode ***.index()**. Elle s'utilise comme suit. Que se passe t-il si l'objet recherché n'appartient pas à la liste ?"
   ]
  },
  {
   "cell_type": "code",
   "execution_count": null,
   "metadata": {
    "collapsed": true
   },
   "outputs": [],
   "source": [
    "liste_carres.index(81)"
   ]
  },
  {
   "cell_type": "markdown",
   "metadata": {},
   "source": [
    "De la même manière, on peut compter le nombre d'éléments dans une liste. Pour cela, on utilise la méthode ***.count()*** de manière similaire à ***.index()***. Pour vous exercer, ajouter à ***liste_carres*** la liste [121,81,169,81] et comptez le nombre d'occurences du nombre 81."
   ]
  },
  {
   "cell_type": "code",
   "execution_count": null,
   "metadata": {
    "collapsed": true
   },
   "outputs": [],
   "source": [
    "# A vous de jouer dans cette cellule"
   ]
  },
  {
   "cell_type": "markdown",
   "metadata": {},
   "source": [
    "### Modification d'une liste"
   ]
  },
  {
   "cell_type": "markdown",
   "metadata": {},
   "source": [
    "Pour modifier une liste, il suffit d'effectuer une affectation à l'un de ses éléments via son index. Observez les exemples ci-dessous. Que signifie l'index -1 dans une liste ?"
   ]
  },
  {
   "cell_type": "code",
   "execution_count": null,
   "metadata": {
    "collapsed": false
   },
   "outputs": [],
   "source": [
    "L=[[1,2,3],\"bonjour\",3]\n",
    "print(\"Liste initiale \",L)\n",
    "L[0]=[6,8]\n",
    "print(\"Premier index modifié :\",L)\n",
    "L[-1]=[\"au revoir\",3!=0]\n",
    "print(\"Dernier index modifié :\", L)\n",
    "L[0][-1]=\"8 remplacé par 9\"\n",
    "print(\"On modifie le premier index :\",L)"
   ]
  },
  {
   "cell_type": "markdown",
   "metadata": {},
   "source": [
    "Il y a d'autres indices *bizares* que l'on peut utiliser. Ceux-ci permettent de désigner une partie d'une liste, par exemple les éléments entre l'indice 2 et 4. C'est ce qu'on appelle une tranche de liste."
   ]
  },
  {
   "cell_type": "markdown",
   "metadata": {},
   "source": [
    "### Tranches de listes"
   ]
  },
  {
   "cell_type": "markdown",
   "metadata": {},
   "source": [
    "Etant donnée une liste $L$, la syntaxe $L[Indice$_$Debut:Indice$_$Fin:Pas]$ renvoie la sous-liste composée des termes $L[k]$, où l'indice $k$ vaut successivement $Indice$_$Debut$,$Indice$_$Debut$+$Pas$, $Indice$_$Debut$+2 $Pas$, etc. On s'arrête avant d'avoir atteint $Indice$_$Fin$. Le dernier indice n''est jamais inclus dans la sélection.\n",
    "\n",
    "Il est à noter que $Pas$ peut être strictement négatif. Regardez attentivement les exemples suivants. N'hésitez pas à les modifier pour observer l'influence de chaque indice."
   ]
  },
  {
   "cell_type": "code",
   "execution_count": null,
   "metadata": {
    "collapsed": false
   },
   "outputs": [],
   "source": [
    "L=list(range(30)) # list() trasnforme un objet en liste\n",
    "print(\"affichage de toute la liste : \",L)\n",
    "print(\"une liste du troisième au dixième terme :\",L[2:10])\n",
    "print(\"affichage de certains termes : \", L[3:28:6])\n",
    "print(\"affichage sans le premier terme :\", L[1:])\n",
    "print(\"affichage sans le dernier terme :\", L[:-1])\n",
    "print(\"affichage des trois derniers termes :\",L[-3:])\n",
    "print(\"affichage des cinq premiers termes :\",L[:5])\n",
    "print(\"affichage de certains termes à l'envers :\",L[-3:-18:-5])\n",
    "print(\"la liste vide :\",L[-3:6:4])\n",
    "print(\"une liste de pas -4 :\",L[-3:6:-4])\n",
    "print(\"la liste dans le sens inverse :\",L[::-1])"
   ]
  },
  {
   "cell_type": "markdown",
   "metadata": {},
   "source": [
    "### La somme des termes d'une liste"
   ]
  },
  {
   "cell_type": "markdown",
   "metadata": {},
   "source": [
    "On suppose ici qu'une liste ne contient que des valeurs numériques, par exemple la liste L ci-dessous :"
   ]
  },
  {
   "cell_type": "code",
   "execution_count": null,
   "metadata": {
    "collapsed": false
   },
   "outputs": [],
   "source": [
    "L=list(range(30))"
   ]
  },
  {
   "cell_type": "markdown",
   "metadata": {},
   "source": [
    "Ecrire une fonction ***somme*** prenant en argument une liste et retournant la somme de tous les termes de la liste"
   ]
  },
  {
   "cell_type": "code",
   "execution_count": null,
   "metadata": {
    "collapsed": false
   },
   "outputs": [],
   "source": [
    "# Ecrire votre fonction ici"
   ]
  },
  {
   "cell_type": "markdown",
   "metadata": {},
   "source": [
    "Tester votre fonction sur la liste des entiers de 1 à 29 fabriquée ci-dessus"
   ]
  },
  {
   "cell_type": "code",
   "execution_count": null,
   "metadata": {
    "collapsed": false
   },
   "outputs": [],
   "source": [
    "# Taper votre commande ici"
   ]
  },
  {
   "cell_type": "markdown",
   "metadata": {},
   "source": [
    "Le calcul d'une somme de termes d'une liste $L$ se fait par  $sum(L)$, à condition d'avoir uniquement des occurrences numériques. Vérifier le bon fonctionnement de votre fonction en calculant ce résultat à l'aide de la fonciton intégrée à Python"
   ]
  },
  {
   "cell_type": "code",
   "execution_count": null,
   "metadata": {
    "collapsed": false
   },
   "outputs": [],
   "source": [
    "# Taper votre commande ici"
   ]
  },
  {
   "cell_type": "markdown",
   "metadata": {},
   "source": [
    "## Les méthodes sur les listes"
   ]
  },
  {
   "cell_type": "markdown",
   "metadata": {},
   "source": [
    "Il existe encore d'autres moyens de manipulation de listes.\n",
    "\n",
    "Il existe en fait des fonctions déjà prédéfinies dans le logiciel Python pour modifier des listes. Ces moyens prédéfinis s'appellent des **méthodes** et leur syntaxe générale est, étant donnée une liste $L$ : \n",
    "\n",
    "$L.Methode()$, où $Methode()$ fait référence à l'une des méthodes détaillée ci-dessous.\n",
    "\n",
    "Il est à noter qu'une fois la ligne $L.Methode()$ executée, la liste $L$ est, en général, transformée en sa liste modifiée.\n",
    "\n",
    "Ces méthodes revoient à la programmation orientée objet de Python : les listes sont des objets qui sont manipulés, modifiés selon certains transformations et évoluent au grés de ces modifications.\n",
    "\n",
    "Voici un petit catalogue des méthodes utiles. Vous retrouverez des méthodes déjà vues ci-dessus."
   ]
  },
  {
   "cell_type": "markdown",
   "metadata": {},
   "source": [
    "### La méthode .append()"
   ]
  },
  {
   "cell_type": "markdown",
   "metadata": {},
   "source": [
    "La syntaxe  $L.append(objet)$ ajoute $objet$ à droite dans $L$ :"
   ]
  },
  {
   "cell_type": "code",
   "execution_count": null,
   "metadata": {
    "collapsed": false
   },
   "outputs": [],
   "source": [
    "L=list(range(5))\n",
    "print(L)\n",
    "L.append(\"on ajoute une chaîne à droite\")\n",
    "print(L)  # la liste initiale vient d'être modifiée !"
   ]
  },
  {
   "cell_type": "markdown",
   "metadata": {},
   "source": [
    "### La méthode .insert()"
   ]
  },
  {
   "cell_type": "markdown",
   "metadata": {},
   "source": [
    "La syntaxe $L.insert(Indice,objet)$ insère $objet$ en place $Indice$ dans la liste $L$ et décale le reste des occurrences de $L$ à droite :"
   ]
  },
  {
   "cell_type": "code",
   "execution_count": null,
   "metadata": {
    "collapsed": false
   },
   "outputs": [],
   "source": [
    "L=[\"Pomme\",\"Poire\",\"Banane\"]\n",
    "print(L)\n",
    "L.insert(1,\"Fraise\") # vient prendre la place de \"Poire\"\n",
    "print(L)\n",
    "L.insert(-1,\"Ananas\") # vient prendre la place de \"Banane\"\n",
    "print(L)\n",
    "L.insert(-4,\"Ananas\") # vient prendre la place de \"Fraise\"\n",
    "print(L)\n",
    "L.insert(56,\"Pamplemousse\")\n",
    "print(L)\n",
    "L.insert(-56,\"Pamplemousse\")\n",
    "print(L)"
   ]
  },
  {
   "cell_type": "markdown",
   "metadata": {},
   "source": [
    "### La méthode .remove()"
   ]
  },
  {
   "cell_type": "markdown",
   "metadata": {},
   "source": [
    "La syntaxe  $L.remove(objet)$ supprime de la liste la première occurrence égale à $objet$ dans la liste $L$. Si $objet$ n'est pas présent dans $L$, cela produit un message d'erreur."
   ]
  },
  {
   "cell_type": "code",
   "execution_count": null,
   "metadata": {
    "collapsed": false
   },
   "outputs": [],
   "source": [
    "L=list(range(34))\n",
    "print(L)\n",
    "L.remove(4.)\n",
    "print(L)\n",
    "#Liste.remove(5.7)\n",
    "#print(Liste)\n",
    "L.remove(23)\n",
    "print(L)\n",
    "M=[2,3,2,3,3,2,3]\n",
    "print(M)\n",
    "M.remove(2)\n",
    "print(M)  # seul le premier \"2\" est supprimé !\n",
    "M.remove(3)\n",
    "print(M)  # seul le premier \"3\" est supprimé !"
   ]
  },
  {
   "cell_type": "markdown",
   "metadata": {},
   "source": [
    "### La méthode .pop()"
   ]
  },
  {
   "cell_type": "markdown",
   "metadata": {},
   "source": [
    "La syntaxe  $L.pop([Indice])$ renvoie $L[Indice]$ et supprime l'élément d'index $Indice$ de la liste $L$. Il n'est pas nécessaire que  $Indice$ soit dans les bornes cycliques licites entre $-len(L)$ et $len(L)-1$, mais cela est quand même conseillé pour une meilleure lecture du script."
   ]
  },
  {
   "cell_type": "code",
   "execution_count": null,
   "metadata": {
    "collapsed": false
   },
   "outputs": [],
   "source": [
    "L=[2,3,2,2,1,2,\"mot\",2,3]\n",
    "print(L)\n",
    "print(L.pop(6))\n",
    "print(L)\n",
    "L.pop(-1)\n",
    "print(L)\n",
    "L.pop(3)\n",
    "print(L)\n",
    "#L.pop(100)\n",
    "#print(L)"
   ]
  },
  {
   "cell_type": "markdown",
   "metadata": {},
   "source": [
    "### La méthode .index()"
   ]
  },
  {
   "cell_type": "markdown",
   "metadata": {},
   "source": [
    "La syntaxe $L.index(objet)$ renvoie l'index de la première occurrence d'$objet$ dans $L$. La liste $L$ n'est pas modifiée par cette méthode. Cela renvoie un message d'erreur lorsque $objet$ ne figure pas dans la liste $L$."
   ]
  },
  {
   "cell_type": "code",
   "execution_count": null,
   "metadata": {
    "collapsed": false
   },
   "outputs": [],
   "source": [
    "Liste=[2,1,2,\"un mot\",3,2,3,2]\n",
    "print(Liste)\n",
    "print(Liste.index(\"un mot\"))\n",
    "print(Liste.index(3))\n",
    "print(Liste)  # liste non modifiée"
   ]
  },
  {
   "cell_type": "markdown",
   "metadata": {},
   "source": [
    "### La méthode .count()"
   ]
  },
  {
   "cell_type": "markdown",
   "metadata": {},
   "source": [
    "La syntaxe $L.count(objet)$ renvoie le nombre d'occurrences égales à $objet$ dans la liste $L$. Cele ne modifie pas la liste initiale."
   ]
  },
  {
   "cell_type": "code",
   "execution_count": null,
   "metadata": {
    "collapsed": true
   },
   "outputs": [],
   "source": [
    "Liste.count(2)"
   ]
  },
  {
   "cell_type": "markdown",
   "metadata": {},
   "source": [
    "## Exercices"
   ]
  },
  {
   "cell_type": "markdown",
   "metadata": {},
   "source": [
    "### Exercice 1 : Simulation de lancer de dé"
   ]
  },
  {
   "cell_type": "markdown",
   "metadata": {},
   "source": [
    "Fabriquer une liste de 100 nombres aléatoires de 0 à 6 puis donner la fréquence d'apparition du nombre 6."
   ]
  },
  {
   "cell_type": "markdown",
   "metadata": {},
   "source": [
    "Indication : On pourra utiliser les commandes suivantes pour tirer un nombre aléatoire entre 0 et 6 :"
   ]
  },
  {
   "cell_type": "code",
   "execution_count": null,
   "metadata": {
    "collapsed": false
   },
   "outputs": [],
   "source": [
    "from random import * # A mettre au début du programme\n",
    "\n",
    "randint(1,6)"
   ]
  },
  {
   "cell_type": "code",
   "execution_count": null,
   "metadata": {
    "collapsed": false
   },
   "outputs": [],
   "source": [
    "# Postez votre solution ici"
   ]
  },
  {
   "cell_type": "markdown",
   "metadata": {},
   "source": [
    "### Exercice 2 : Défi Turing 90 (optionnel)"
   ]
  },
  {
   "cell_type": "markdown",
   "metadata": {},
   "source": [
    "276 lampes sont numérotées de 1 à 276.\n",
    "Pour passer le temps, 25 enfants appuient sur les interrupteurs à tour de rôle. Le premier enfant presse chaque interrupteur. Le second presse les boutons 2, 4, 6 , etc. (tous les boutons ayant un numéro multiple de 2), le troisième appuie sur les boutons 3, 6, 9, etc. Le quatrième presse tous les boutons ayant un numéro multiple de 4, et ainsi de suite jusqu'au 25ème enfant. \n",
    "Avant le passage du premier enfant, toutes les ampoules sont éteintes. \n",
    "\n",
    "**Combien d'ampoules seront allumées après le passage des 25 enfants ?**"
   ]
  },
  {
   "cell_type": "code",
   "execution_count": null,
   "metadata": {
    "collapsed": false
   },
   "outputs": [],
   "source": [
    "# Taper votre code ici"
   ]
  }
 ],
 "metadata": {
  "kernelspec": {
   "display_name": "Python 3",
   "language": "python",
   "name": "python3"
  },
  "language_info": {
   "codemirror_mode": {
    "name": "ipython",
    "version": 3
   },
   "file_extension": ".py",
   "mimetype": "text/x-python",
   "name": "python",
   "nbconvert_exporter": "python",
   "pygments_lexer": "ipython3",
   "version": "3.4.3"
  }
 },
 "nbformat": 4,
 "nbformat_minor": 0
}
