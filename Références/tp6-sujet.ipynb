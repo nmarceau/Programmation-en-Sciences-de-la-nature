{
 "cells": [
  {
   "cell_type": "markdown",
   "metadata": {},
   "source": [
    "# TP 6 : polynômes"
   ]
  },
  {
   "cell_type": "markdown",
   "metadata": {},
   "source": [
    "## Exercice 1 : polynômes pairs et impairs \n",
    "\n",
    "Un polynôme est *pair* si ses coefficients de degré impair sont tous nuls. Il est *impair* si ses coefficients de degré pair sont tous nuls.\n",
    "\n",
    "**Question 1 :** Écrire une fonction ``est_pair(P)`` qui teste si un polynôme ``P`` est pair."
   ]
  },
  {
   "cell_type": "code",
   "execution_count": null,
   "metadata": {},
   "outputs": [],
   "source": []
  },
  {
   "cell_type": "markdown",
   "metadata": {},
   "source": [
    "**Question 2 :** Tracer, entre $-2$ et $2$, le graphe d'un polynôme pair aléatoire de petit degré (disons, $\\le 6$). Que peut-on dire des symétries de ce graphe ?"
   ]
  },
  {
   "cell_type": "code",
   "execution_count": null,
   "metadata": {},
   "outputs": [],
   "source": []
  },
  {
   "cell_type": "markdown",
   "metadata": {},
   "source": [
    "**Question 3 :** Répéter les questions 1 et 2 pour le cas des polynômes impairs."
   ]
  },
  {
   "cell_type": "code",
   "execution_count": null,
   "metadata": {},
   "outputs": [],
   "source": []
  },
  {
   "cell_type": "code",
   "execution_count": null,
   "metadata": {},
   "outputs": [],
   "source": []
  },
  {
   "cell_type": "markdown",
   "metadata": {},
   "source": [
    "**Question 4 :** Soit $A(X)$ un polynôme réel quelconque. Que dire du polynôme $A(X) + A(-X)$ ?"
   ]
  },
  {
   "cell_type": "code",
   "execution_count": null,
   "metadata": {},
   "outputs": [],
   "source": []
  },
  {
   "cell_type": "markdown",
   "metadata": {},
   "source": [
    "**Question 5 :** Soit $B(X)$ un polynôme réel quelconque non-nul. Que dire du polynôme $B(X) - B(-X)$ ?"
   ]
  },
  {
   "cell_type": "code",
   "execution_count": null,
   "metadata": {},
   "outputs": [],
   "source": []
  },
  {
   "cell_type": "markdown",
   "metadata": {},
   "source": [
    "## Exercice 2 : racines de polynômes\n",
    "\n",
    "**Question 1 :** Construire le polynôme\n",
    "\\\\[\n",
    "    P(X) = 2X^{6} - 3X^{5} - 13X^{4} + 29X^{3} - 27X^{2} + 32X - 12\n",
    "\\\\]\n",
    "en tant que polynôme à coefficients entiers."
   ]
  },
  {
   "cell_type": "code",
   "execution_count": null,
   "metadata": {},
   "outputs": [],
   "source": []
  },
  {
   "cell_type": "markdown",
   "metadata": {},
   "source": [
    "**Question 2 :** Quelles sont les racines de $P$ dans :\n",
    "- l'anneau des entiers ?\n",
    "- le corps des rationnels ?\n",
    "- le corps des complexes ?"
   ]
  },
  {
   "cell_type": "code",
   "execution_count": null,
   "metadata": {},
   "outputs": [],
   "source": []
  },
  {
   "cell_type": "markdown",
   "metadata": {},
   "source": [
    "**Question 3 :** Vérifier que $P(X) = \\alpha \\prod_{i=1}^k (X - x_i)^{m_i}$, où :\n",
    "- $\\alpha$ est le coefficients du monôme de plus haut degré de $P$,\n",
    "- les $(x_i)$ sont les racines complexes de $P$,\n",
    "- les $(m_i)$ sont les multiplicités de ces racines."
   ]
  },
  {
   "cell_type": "code",
   "execution_count": null,
   "metadata": {},
   "outputs": [],
   "source": []
  },
  {
   "cell_type": "markdown",
   "metadata": {},
   "source": [
    "## Exercice 3 : représentation symbolique de racines non-rationnelles\n",
    "\n",
    "**Question 1 :** Construire le polynôme $P(X) = X^2 - 2$, puis vérifier qu'il n'a aucune solution rationnelle (dans $\\mathbb{Q}$) mais deux solutions réelles que l'on réprésentera comme des flottants de ``RR``. "
   ]
  },
  {
   "cell_type": "code",
   "execution_count": null,
   "metadata": {},
   "outputs": [],
   "source": []
  },
  {
   "cell_type": "markdown",
   "metadata": {},
   "source": [
    "On souhaite maintenant voir les racines de $P$ comme $\\pm \\sqrt{2}$ en manipulant la valeur exacte de cette expression. Pour cela, sagemath possède un anneau particulier, noté ``SR`` (pour ``Symbolic Ring``).\n",
    "\n",
    "**Question 2 :** Calculer les racines de $P$ dans ``SR``. Stocker l'une de ces racines dans une variable ``r``, puis l'élever au carré, et vérifier qu'on obtient bien la valeur exacte $2$."
   ]
  },
  {
   "cell_type": "code",
   "execution_count": null,
   "metadata": {},
   "outputs": [],
   "source": []
  },
  {
   "cell_type": "markdown",
   "metadata": {},
   "source": [
    "**Question 3 :** Même question avec $Q(X) = X^2 + 2$."
   ]
  },
  {
   "cell_type": "code",
   "execution_count": null,
   "metadata": {},
   "outputs": [],
   "source": []
  },
  {
   "cell_type": "markdown",
   "metadata": {},
   "source": [
    "**Question :** Soit $A(X) = X^4 - X^2 + X - 1$. Trouver une expression symbolique des racines de $A$. On pourra obtenir une meilleure visualisation de cette expression grâce à la fonction ``show()``."
   ]
  },
  {
   "cell_type": "code",
   "execution_count": null,
   "metadata": {},
   "outputs": [],
   "source": []
  },
  {
   "cell_type": "markdown",
   "metadata": {},
   "source": [
    "## Exercice 4 : interpolation de Lagrange"
   ]
  },
  {
   "cell_type": "markdown",
   "metadata": {},
   "source": [
    "Soient $x_0, x_1, \\dots, x_{n-1}$ des nombres (complexes par exemple) distincts et $y_0, y_1, \\dots, y_{n-1}$ d'autres nombres (pas nécessairement distincts). Le problème d'interpolation consiste à calculer un polynôme $P(X)$ de degré $\\le n-1$ tel que\n",
    "\\\\[\n",
    "    P(x_i) = y_i, \\quad \\forall i \\in \\{0, \\dots, n-1 \\}\n",
    "\\\\]\n",
    "\n",
    "Pour cela, il existe plusieurs méthodes, la plus connue étant la méthode de Lagrange.\n",
    "\n",
    "Pour $0 \\le i \\le n-1$, le $i$-ème polynôme de Lagrange associé au vecteur $\\mathbf{x} = (x_0, \\dots, x_{n-1})$ est :\n",
    "\\\\[\n",
    "    L_i(X) = \\prod_{j \\in \\{0, \\dots, n-1\\} \\setminus \\{ i \\}} \\frac{X - x_j}{x_i - x_j}\n",
    "\\\\]\n",
    "\n",
    "**Question 1 :** Écrire une fonction ``polynome_lagrange(R, vec_x, i)`` qui prend en entrée un anneau de polynômes ``R``, une liste de points d'évaluation ``vec_x`` de longueur $n$ et un entier ``i`` entre $0$ et $n-1$, et qui calcule $L_i(X)$."
   ]
  },
  {
   "cell_type": "code",
   "execution_count": null,
   "metadata": {},
   "outputs": [],
   "source": []
  },
  {
   "cell_type": "markdown",
   "metadata": {},
   "source": [
    "Les polynômes $L_i(X)$ ainsi construits forment une base d'interpolation. On peut ainsi calculer le polynôme interpolateur $P$ grâce à la formule :\n",
    "\\\\[\n",
    "    P(X) = \\sum_{i=0}^{n-1} y_i L_i(X)\n",
    "\\\\]\n",
    "\n",
    "**Question 2 :** Écrire une fonction ``polynome_interpolateur(R, vec_x, vec_y)`` qui retourne le polynôme interpolateur dans l'anneau de polynômes ``R``, associé aux listes  ``vec_x`` (les valeurs $x_0, \\dots, x_{n-1}$) et ``vec_y`` (les valeurs $y_0, \\dots, y_{n-1}$). "
   ]
  },
  {
   "cell_type": "code",
   "execution_count": null,
   "metadata": {},
   "outputs": [],
   "source": []
  },
  {
   "cell_type": "markdown",
   "metadata": {},
   "source": [
    "**Question 3 :** Afficher dans un même graphique :\n",
    "  - une liste de $8$ points du plan de la forme $(x_i, y_i)$ où $x_i = i$ et $y_i$ est un entier tiré aléatoirement entre $-20$ et $20$,\n",
    "  - le polynôme interpolateur des $(x_i)$ et $(y_i)$.\n",
    "On vérifiera que le tracé du polynôme passe bien par les points choisis."
   ]
  },
  {
   "cell_type": "code",
   "execution_count": null,
   "metadata": {},
   "outputs": [],
   "source": []
  }
 ],
 "metadata": {
  "kernelspec": {
   "display_name": "SageMath 9.3.rc4",
   "language": "sage",
   "name": "sagemath"
  },
  "language_info": {
   "codemirror_mode": {
    "name": "ipython",
    "version": 3
   },
   "file_extension": ".py",
   "mimetype": "text/x-python",
   "name": "python",
   "nbconvert_exporter": "python",
   "pygments_lexer": "ipython3",
   "version": "3.9.2"
  }
 },
 "nbformat": 4,
 "nbformat_minor": 4
}
