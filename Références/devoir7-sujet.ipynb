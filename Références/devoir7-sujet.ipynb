{
 "cells": [
  {
   "cell_type": "markdown",
   "metadata": {},
   "source": [
    "# Devoir de la semaine 7\n",
    "\n",
    "à rendre avant le 28 mars 2022, 15h00\n",
    "\n",
    "\n",
    "## Exercice 1 : polynôme caractéristique et polynômes annulateurs"
   ]
  },
  {
   "cell_type": "markdown",
   "metadata": {},
   "source": [
    "**Question 1 :** Écrire une fonction ``matrice_aleatoire(n)`` qui retourne une matrice $M$ de taille $(n \\times n)$ dont toutes les entrées sont des entiers aléatoires entre $-2$ et $2$."
   ]
  },
  {
   "cell_type": "code",
   "execution_count": null,
   "metadata": {},
   "outputs": [],
   "source": []
  },
  {
   "cell_type": "markdown",
   "metadata": {},
   "source": [
    "**Question 2 :** Écrire une fonction ``puissances_iterees(M)`` qui retourne la liste des $n+1$ matrices suivantes : \n",
    "\\\\[\n",
    "I, M, M^2, M^3, \\dots,  M^n\n",
    "\\\\]\n",
    "où $I$ est la matrice identité de taille $n$. La fonction ne devra prendre que la matrice ``M`` comme argument."
   ]
  },
  {
   "cell_type": "code",
   "execution_count": null,
   "metadata": {},
   "outputs": [],
   "source": []
  },
  {
   "cell_type": "markdown",
   "metadata": {},
   "source": [
    "On cherche à déterminer $n+1$ coefficients $a_0$, $a_1$,... $a_n$ tels que \n",
    "\\\\[\n",
    "    a_0 M^0 + a_1 M^1 + ... + a_n M^n = 0\n",
    "\\\\]\n",
    "Pour cela, on observe que chaque entrée des matrices fournit une équation linéaire sur les inconnues $a_0, \\dots, a_n$. Pour l'entrée $(i, j)$, cette équation est précisément :\n",
    "\\\\[\n",
    "    a_0 M^0_{i,j} + a_1 M^1_{i, j} + \\dots + a_n M^n_{i, j} = 0\n",
    "\\\\]\n",
    "où $M^k_{i,j}$ représente le coefficient d'indices $(i,j)$ de la matrice $M^k$.\n",
    "\n",
    "Au final, on peut donc écrire un système linéaire de $n^2$ équations à $n+1$ inconnues pour retrouver $a_0, \\dots, a_n$. \n",
    "\n",
    "**Question 3 (plus difficile) :** Écrire une fonction ``annulateurs(M)`` qui retourne l'espace vectoriel des solutions $(a_0, a_1, \\dots, a_n)$ au système linéaire décrit ci-dessus."
   ]
  },
  {
   "cell_type": "code",
   "execution_count": null,
   "metadata": {},
   "outputs": [],
   "source": []
  },
  {
   "cell_type": "markdown",
   "metadata": {},
   "source": [
    "**Question 4 :** Soit $P(X) = p_0 + p_1 X + \\dots + p_n X^n$ le polynôme caractéristique d'une matrice $M$ carrée de taille $n$. Vérifier que le vecteur $(p_0, ..., p_n)$ satisfait \n",
    "\\\\[\n",
    "p_0 M^0 + p_1 M^1 + ... + p_n M^n = 0\\,.\n",
    "\\\\]\n",
    "On pourra, par exemple, utiliser la question précédente. "
   ]
  },
  {
   "cell_type": "code",
   "execution_count": null,
   "metadata": {},
   "outputs": [],
   "source": []
  },
  {
   "cell_type": "markdown",
   "metadata": {},
   "source": [
    "**Remarque :** tout polynôme $U(X) = u_0 + u_1 X + \\dots + u_n X^n$ tel que \n",
    "\\\\[\n",
    "    u_0 M^0 + u_1 M^1 + ... + u_n M^n = 0\n",
    "\\\\]\n",
    "est appelé polynôme annulateur de la matrice $M$. Le théorème de Cayley-Hamilton assure que le polynôme caractéristique d'une matrice est également un polynôme annulateur de la matrice."
   ]
  },
  {
   "cell_type": "markdown",
   "metadata": {},
   "source": [
    "## Exercice 2 : base et famille libre\n",
    "\n",
    "Soient $u, v, w$ les trois vecteurs suivants :\n",
    "\\\\[\n",
    "u = \\begin{pmatrix} -104 \\\\ 242 \\\\ -17 \\\\ 330 \\end{pmatrix}, \\quad\n",
    "v = \\begin{pmatrix} 322 \\\\ -744 \\\\ 90 \\\\ -1119 \\end{pmatrix}, \\quad\n",
    "w = \\begin{pmatrix} -19 \\\\ 43 \\\\ -9 \\\\ 76 \\end{pmatrix}\n",
    "\\\\]\n",
    "\n",
    "**Question 1 :** Les trois vecteurs $u$, $v$ et $w$ forment-ils une famille libre dans $\\mathbb{R}^4$ ?"
   ]
  },
  {
   "cell_type": "code",
   "execution_count": null,
   "metadata": {},
   "outputs": [],
   "source": []
  },
  {
   "cell_type": "markdown",
   "metadata": {},
   "source": [
    "**Question 2 :** Compléter $(u, v, w)$ avec un vecteur $z \\in \\mathbb{Q}^4$ pour former une base de $\\mathbb{Q}^4$, de sorte que la matrice $M$ formée des $4$ vecteurs $(u, v, w, z)$ soit de déterminant égal à $1$."
   ]
  },
  {
   "cell_type": "code",
   "execution_count": null,
   "metadata": {},
   "outputs": [],
   "source": []
  }
 ],
 "metadata": {
  "kernelspec": {
   "display_name": "SageMath 9.3.rc4",
   "language": "sage",
   "name": "sagemath"
  },
  "language_info": {
   "codemirror_mode": {
    "name": "ipython",
    "version": 3
   },
   "file_extension": ".py",
   "mimetype": "text/x-python",
   "name": "python",
   "nbconvert_exporter": "python",
   "pygments_lexer": "ipython3",
   "version": "3.9.2"
  }
 },
 "nbformat": 4,
 "nbformat_minor": 4
}
