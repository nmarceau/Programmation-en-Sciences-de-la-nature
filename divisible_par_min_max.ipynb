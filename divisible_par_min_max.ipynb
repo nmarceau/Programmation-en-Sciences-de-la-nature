{
 "cells": [
  {
   "cell_type": "markdown",
   "metadata": {},
   "source": [
    "### Le plus petit nombre divisible par tous les nombres de $min$ à $max$\n",
    "https://projecteuler.net/problem=5"
   ]
  },
  {
   "cell_type": "code",
   "execution_count": 6,
   "metadata": {},
   "outputs": [
    {
     "name": "stdout",
     "output_type": "stream",
     "text": [
      "Le plus petit nombre divisible par tous les nombres de 1 à 10 est 2520\n"
     ]
    }
   ],
   "source": [
    "def divisible( min, max ):\n",
    "\n",
    "    nombre = 1;\n",
    "    \n",
    "    while True:   \n",
    "        ctr = 0 \n",
    "        for div in range(min, max+1):\n",
    "            if nombre % div == 0:\n",
    "                ctr+=1\n",
    "        if ctr == (max-min+1):\n",
    "            return nombre;\n",
    "        nombre+=1\n",
    "\n",
    "min = 1;\n",
    "max = 10;\n",
    "print(f\"Le plus petit nombre divisible par tous les nombres de {min} à {max} est {divisible(min, max)}\")"
   ]
  }
 ],
 "metadata": {
  "kernelspec": {
   "display_name": "base",
   "language": "python",
   "name": "python3"
  },
  "language_info": {
   "codemirror_mode": {
    "name": "ipython",
    "version": 3
   },
   "file_extension": ".py",
   "mimetype": "text/x-python",
   "name": "python",
   "nbconvert_exporter": "python",
   "pygments_lexer": "ipython3",
   "version": "3.11.7"
  }
 },
 "nbformat": 4,
 "nbformat_minor": 2
}
