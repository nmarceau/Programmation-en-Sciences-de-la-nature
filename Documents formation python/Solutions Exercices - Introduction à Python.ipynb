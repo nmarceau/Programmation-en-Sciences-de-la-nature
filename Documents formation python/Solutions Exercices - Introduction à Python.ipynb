{
 "cells": [
  {
   "cell_type": "markdown",
   "metadata": {
    "id": "a6lVtwas4XD3"
   },
   "source": [
    "Les exercices avec une ⭐ sont plus difficiles que les autres et représentent un défi supplémentaire."
   ]
  },
  {
   "cell_type": "markdown",
   "metadata": {
    "id": "TLmbWO8pFdNH"
   },
   "source": [
    "# La syntaxe de base"
   ]
  },
  {
   "cell_type": "markdown",
   "metadata": {
    "id": "qd6nJmPYF6Y9"
   },
   "source": [
    "## Exercice 1\n",
    "Calculer et afficher l'age approximatif d'une personne née en 1974."
   ]
  },
  {
   "cell_type": "code",
   "execution_count": null,
   "metadata": {
    "colab": {
     "base_uri": "https://localhost:8080/"
    },
    "executionInfo": {
     "elapsed": 15,
     "status": "ok",
     "timestamp": 1705173133907,
     "user": {
      "displayName": "Sébastien Huneault",
      "userId": "03514398344720775700"
     },
     "user_tz": 300
    },
    "id": "n43pFWPCFcZU",
    "outputId": "2c38bc9a-b4f5-4244-b273-2d4af4368626"
   },
   "outputs": [
    {
     "name": "stdout",
     "output_type": "stream",
     "text": [
      "50\n"
     ]
    }
   ],
   "source": [
    "print(2024 - 1974)"
   ]
  },
  {
   "cell_type": "markdown",
   "metadata": {
    "id": "a1Ya1GNsGHEa"
   },
   "source": [
    "## Exercice 2\n",
    "Calculer et afficher la multiplication entre 26 et 13."
   ]
  },
  {
   "cell_type": "code",
   "execution_count": null,
   "metadata": {
    "colab": {
     "base_uri": "https://localhost:8080/"
    },
    "executionInfo": {
     "elapsed": 182,
     "status": "ok",
     "timestamp": 1705173145872,
     "user": {
      "displayName": "Sébastien Huneault",
      "userId": "03514398344720775700"
     },
     "user_tz": 300
    },
    "id": "H4rxPlNGGL9j",
    "outputId": "a6309c54-f0b6-4710-9805-9a2c8c67406f"
   },
   "outputs": [
    {
     "name": "stdout",
     "output_type": "stream",
     "text": [
      "338\n"
     ]
    }
   ],
   "source": [
    "print(26 * 13)"
   ]
  },
  {
   "cell_type": "markdown",
   "metadata": {
    "id": "ze9YPIUkGMdz"
   },
   "source": [
    "## Exercice 3\n",
    "Calculer et afficher la circonférence d'un cercle dont le rayon est de 4 cm."
   ]
  },
  {
   "cell_type": "code",
   "execution_count": null,
   "metadata": {
    "colab": {
     "base_uri": "https://localhost:8080/"
    },
    "executionInfo": {
     "elapsed": 3,
     "status": "ok",
     "timestamp": 1705173160619,
     "user": {
      "displayName": "Sébastien Huneault",
      "userId": "03514398344720775700"
     },
     "user_tz": 300
    },
    "id": "LYTQFxHWGRL1",
    "outputId": "ca016301-6984-4a55-cbbf-78e9b00ff713"
   },
   "outputs": [
    {
     "name": "stdout",
     "output_type": "stream",
     "text": [
      "25.1328\n"
     ]
    }
   ],
   "source": [
    "print(2 * 3.1416 * 4)"
   ]
  },
  {
   "cell_type": "markdown",
   "metadata": {
    "id": "KJpIOrmFGYbI"
   },
   "source": [
    "## Exercice 4\n",
    "Calculer et afficher le longueur de l'hypoténuse d'un triangle rectangle dont les côtés de l'angle droit mesurent 120 et 160 unités, respectivement."
   ]
  },
  {
   "cell_type": "code",
   "execution_count": null,
   "metadata": {
    "colab": {
     "base_uri": "https://localhost:8080/"
    },
    "executionInfo": {
     "elapsed": 2,
     "status": "ok",
     "timestamp": 1705173182717,
     "user": {
      "displayName": "Sébastien Huneault",
      "userId": "03514398344720775700"
     },
     "user_tz": 300
    },
    "id": "HetiV-ewGay8",
    "outputId": "355557b7-450d-430e-dc63-675c6e05afa2"
   },
   "outputs": [
    {
     "name": "stdout",
     "output_type": "stream",
     "text": [
      "200.0\n"
     ]
    }
   ],
   "source": [
    "print( (120**2 + 160**2) ** 0.5 )"
   ]
  },
  {
   "cell_type": "markdown",
   "metadata": {
    "id": "fD_NVGymHVDR"
   },
   "source": [
    "## Exercice 5\n",
    "Calculer et afficher la hauteur d'une balle lancée du sommet d'un immeuble après un temps $t$ de 4 secondes si sa position verticale est donnée par\n",
    "$$h(t) = -4,9t^2 + 10t + 50$$"
   ]
  },
  {
   "cell_type": "code",
   "execution_count": null,
   "metadata": {
    "colab": {
     "base_uri": "https://localhost:8080/"
    },
    "executionInfo": {
     "elapsed": 178,
     "status": "ok",
     "timestamp": 1704984651936,
     "user": {
      "displayName": "Sébastien Huneault",
      "userId": "03514398344720775700"
     },
     "user_tz": 300
    },
    "id": "qfocXu9fHlLV",
    "outputId": "1821ac93-d91f-4cb1-a063-791b5a38ffaa"
   },
   "outputs": [
    {
     "name": "stdout",
     "output_type": "stream",
     "text": [
      "88.4\n"
     ]
    }
   ],
   "source": [
    "print(4.9 * 4**2 - 10*4 + 50)"
   ]
  },
  {
   "cell_type": "markdown",
   "metadata": {
    "id": "nT1CGI-hJxyj"
   },
   "source": [
    "## ⭐ Exercice 6\n",
    "Calculer et afficher la valeur de la fonction\n",
    "$$f(x) = \\frac{x^2 -2}{3(3x + 2)²}$$\n",
    "lorsque $x = -2$\n",
    "\n",
    "*Remarque: Attention aux parenthèses. Le résultat est 0.04166667*"
   ]
  },
  {
   "cell_type": "code",
   "execution_count": null,
   "metadata": {
    "colab": {
     "base_uri": "https://localhost:8080/"
    },
    "executionInfo": {
     "elapsed": 12,
     "status": "ok",
     "timestamp": 1705173265522,
     "user": {
      "displayName": "Sébastien Huneault",
      "userId": "03514398344720775700"
     },
     "user_tz": 300
    },
    "id": "cMZBbgoqJ3rZ",
    "outputId": "6fcf1b7b-7bfd-4901-d4ab-7992e6f4c6d5"
   },
   "outputs": [
    {
     "name": "stdout",
     "output_type": "stream",
     "text": [
      "0.041666666666666664\n"
     ]
    }
   ],
   "source": [
    "print( ((-2)**2-2) / (3*(3*(-2)+2)**2 ) )"
   ]
  },
  {
   "cell_type": "markdown",
   "metadata": {
    "id": "zrkP1CQj4uAZ"
   },
   "source": [
    "# Les variables, `print()` et `input()`"
   ]
  },
  {
   "cell_type": "markdown",
   "metadata": {
    "id": "Pba-o53S4zqq"
   },
   "source": [
    "## Exercice 1\n",
    "Écrire un programme qui demande deux nombres à l'utilisateur (à l'aide de `input()`) et affiche les équations pour les opérations addition, soustraction, multiplication, division, modulo, division entière et exposant. L'affichage final doit ressembler à ceci :\n",
    "```\n",
    "Entrez le premier nombre: 5\n",
    "Entrez le second nombre: 8\n",
    "5 + 8 = 13\n",
    "5 - 8 = -3\n",
    "5 * 8 = 40\n",
    "...\n",
    "```\n",
    "❗Rappel: La fonction `input()` retourne du texte (*string*) et non des nombres (*int* ou *float*)"
   ]
  },
  {
   "cell_type": "code",
   "execution_count": null,
   "metadata": {
    "colab": {
     "base_uri": "https://localhost:8080/"
    },
    "executionInfo": {
     "elapsed": 3220,
     "status": "ok",
     "timestamp": 1705173360718,
     "user": {
      "displayName": "Sébastien Huneault",
      "userId": "03514398344720775700"
     },
     "user_tz": 300
    },
    "id": "FARluP2v4yhJ",
    "outputId": "0da4a12b-2de9-4199-8ba1-dceb9a767f01"
   },
   "outputs": [
    {
     "name": "stdout",
     "output_type": "stream",
     "text": [
      "Entrez le premier nombre: 5\n",
      "Entrez le second nombre: 8\n",
      "5 + 8 = 13\n",
      "5 - 8 = -3\n",
      "5 * 8 = 40\n",
      "5 / 8 = 0.625\n",
      "5 ** 8 = 390625\n",
      "5 // 8 = 0\n",
      "5 % 8 = 5\n"
     ]
    }
   ],
   "source": [
    "nombre_1 = int(input(\"Entrez le premier nombre: \"))\n",
    "nombre_2 = int(input(\"Entrez le second nombre: \"))\n",
    "print(f\"{nombre_1} + {nombre_2} = {nombre_1 + nombre_2}\")\n",
    "print(f\"{nombre_1} - {nombre_2} = {nombre_1 - nombre_2}\")\n",
    "print(f\"{nombre_1} * {nombre_2} = {nombre_1 * nombre_2}\")\n",
    "print(f\"{nombre_1} / {nombre_2} = {nombre_1 / nombre_2}\")\n",
    "print(f\"{nombre_1} ** {nombre_2} = {nombre_1 ** nombre_2}\")\n",
    "print(f\"{nombre_1} // {nombre_2} = {nombre_1 // nombre_2}\")\n",
    "print(f\"{nombre_1} % {nombre_2} = {nombre_1 % nombre_2}\")"
   ]
  },
  {
   "cell_type": "markdown",
   "metadata": {
    "id": "d9gtA27s_PVR"
   },
   "source": [
    "## Exercice 2\n",
    "Écrire un programme qui calcule la valeur de l'hypoténuse d'un triangle rectangle. Le programme doit demander les côtés $a$ et $b$ du triangle et donner la valeur de l'hypoténuse."
   ]
  },
  {
   "cell_type": "code",
   "execution_count": null,
   "metadata": {
    "colab": {
     "base_uri": "https://localhost:8080/"
    },
    "executionInfo": {
     "elapsed": 1295,
     "status": "ok",
     "timestamp": 1705173443816,
     "user": {
      "displayName": "Sébastien Huneault",
      "userId": "03514398344720775700"
     },
     "user_tz": 300
    },
    "id": "vs6Em04IQMXS",
    "outputId": "0d11b533-6126-4195-e1c7-b5085d4de755"
   },
   "outputs": [
    {
     "name": "stdout",
     "output_type": "stream",
     "text": [
      "Côté a: 3\n",
      "Côté b: 4\n",
      "Le triangle 3.0, 4.0 à une hypoténuse de 5.0\n"
     ]
    }
   ],
   "source": [
    "a = float(input(\"Côté a: \"))\n",
    "b = float(input(\"Côté b: \"))\n",
    "h = (a**2 + b**2) ** 0.5\n",
    "print(f\"Le triangle {a}, {b} à une hypoténuse de {h}\")"
   ]
  },
  {
   "cell_type": "markdown",
   "metadata": {
    "id": "Urcjjnaz5eQu"
   },
   "source": [
    "## Exercice 3\n",
    "Écrire un programme qui demande le sous-total d'une facture et effectue le calcul des taxes. L'affichage doit ressembler à ceci:\n",
    "```\n",
    "Quel est le coût de la facture? XX.XX\n",
    "Sous-Total : XX.XX $\n",
    "TPS        : X.XX $\n",
    "TVQ        : X.XX $\n",
    "Total      : XX.XX $\n",
    "```\n",
    "Pour un défi supplémentaire, faire en sorte qu'il n'y ait que 2 décimales."
   ]
  },
  {
   "cell_type": "code",
   "execution_count": null,
   "metadata": {
    "colab": {
     "base_uri": "https://localhost:8080/"
    },
    "executionInfo": {
     "elapsed": 1440,
     "status": "ok",
     "timestamp": 1705173536372,
     "user": {
      "displayName": "Sébastien Huneault",
      "userId": "03514398344720775700"
     },
     "user_tz": 300
    },
    "id": "TuxaqvZs5rRu",
    "outputId": "b9536890-bb41-46bf-d2f5-8c53d9bc3de3"
   },
   "outputs": [
    {
     "name": "stdout",
     "output_type": "stream",
     "text": [
      "Quel est le coût de la facture? 10\n",
      "Sous-Total : 10.00 $\n",
      "TPS        : 0.50 $\n",
      "TVQ        : 1.00 $\n",
      "Total      : 11.50 $\n"
     ]
    }
   ],
   "source": [
    "sous_total = float(input(\"Quel est le coût de la facture? \"))\n",
    "mnt_tps = sous_total * 0.05\n",
    "mnt_tvq = sous_total * 0.09975\n",
    "total = sous_total + mnt_tps + mnt_tvq\n",
    "print(f\"Sous-Total : {sous_total:.2f} $\")\n",
    "print(f\"TPS        : {mnt_tps:.2f} $\")\n",
    "print(f\"TVQ        : {mnt_tvq:.2f} $\")\n",
    "print(f\"Total      : {total:.2f} $\")"
   ]
  },
  {
   "cell_type": "markdown",
   "metadata": {
    "id": "8MQdRwrV55gn"
   },
   "source": [
    "## Exercice 4\n",
    "Écrire un programme qui calcule la valeur de deux racines de l'équation quadratique $$ax^2 + bx + c = 0$$ à l'aide de la solution de l'équation quadratique $$x=\\frac{-b\\pm\\sqrt{b^2-4ac}}{2a}$$\n",
    "Utiliser la fonction `input()` pour entrer les valeurs des paramètres $a$, $b$ et $c$. Tester le programme pour trouver les racines pour les valeurs suivantes:\n",
    "\n",
    "$a$|$b$|$c$|Racines\n",
    "---|---|---|---\n",
    "-2|3|10|-1.608, 3.108\n",
    "1|-4|-2|-0.449, 4.449\n",
    "$$1 \\times 10^{-4}$$|$$3 \\times 10^6$$|$$-2 \\times 10^-4$$|0, -30000000000"
   ]
  },
  {
   "cell_type": "code",
   "execution_count": null,
   "metadata": {
    "colab": {
     "base_uri": "https://localhost:8080/"
    },
    "executionInfo": {
     "elapsed": 3472,
     "status": "ok",
     "timestamp": 1705173680803,
     "user": {
      "displayName": "Sébastien Huneault",
      "userId": "03514398344720775700"
     },
     "user_tz": 300
    },
    "id": "hWsUaaH79Xgg",
    "outputId": "01c526c5-e246-41a0-9c13-09f71247143d"
   },
   "outputs": [
    {
     "name": "stdout",
     "output_type": "stream",
     "text": [
      "Valeur de a: 1\n",
      "Valeur de b: -4\n",
      "Valeur de c: -2\n",
      "Les racines: 4.449489742783178 , -0.4494897427831779\n"
     ]
    }
   ],
   "source": [
    "a = int(input(\"Valeur de a: \"))\n",
    "b = int(input(\"Valeur de b: \"))\n",
    "c = int(input(\"Valeur de c: \"))\n",
    "racine_1 = (-b + (b**2 - 4*a*c)**0.5 ) / (2*a)\n",
    "racine_2 = (-b - (b**2 - 4*a*c)**0.5 ) / (2*a)\n",
    "print(f\"Les racines: {racine_1} , {racine_2}\")"
   ]
  },
  {
   "cell_type": "markdown",
   "metadata": {
    "id": "14cVwmVx-xFw"
   },
   "source": [
    "## ⭐ Exercice 5\n",
    "Écrire un programme qui permet de diviser le montant d'une facture de restaurant en nombre d'invités. Le programme doit demander le montant de la facture, le pourcentage de pourboire et le nombre de personnes. Une facture individuelle devra être affichée, représentant le montant que chacun doit payer."
   ]
  },
  {
   "cell_type": "code",
   "execution_count": null,
   "metadata": {
    "colab": {
     "base_uri": "https://localhost:8080/"
    },
    "executionInfo": {
     "elapsed": 3401,
     "status": "ok",
     "timestamp": 1705173984694,
     "user": {
      "displayName": "Sébastien Huneault",
      "userId": "03514398344720775700"
     },
     "user_tz": 300
    },
    "id": "MtmgkJFv-9Ve",
    "outputId": "d1b37e3e-b5e1-476a-b2ea-4a2ec2e9e3b2"
   },
   "outputs": [
    {
     "name": "stdout",
     "output_type": "stream",
     "text": [
      "Quel est le coût de la facture? 50\n",
      "Quel est le pourcentage de pourboire? 25\n",
      "Combien de personnes? 2\n",
      "Sous-Total      : 50.00 $\n",
      "Pourboire (25%) : 12.50 $\n",
      "Total           : 62.50 $\n",
      "Par personne    : 31.25 $\n"
     ]
    }
   ],
   "source": [
    "sous_total = float(input(\"Quel est le coût de la facture? \"))\n",
    "pourboire = int(input(\"Quel est le pourcentage de pourboire? \"))\n",
    "nb_personnes = int(input(\"Combien de personnes? \"))\n",
    "total = sous_total * (1 + pourboire / 100)\n",
    "print(f\"Sous-Total      : {sous_total:.2f} $\")\n",
    "print(f\"Pourboire ({pourboire}%) : {sous_total * pourboire / 100:.2f} $\")\n",
    "print(f\"Total           : {total:.2f} $\")\n",
    "print(f\"Par personne    : {total / nb_personnes:.2f} $\")"
   ]
  },
  {
   "cell_type": "markdown",
   "metadata": {
    "id": "xMOLLQZ3FdX_"
   },
   "source": [
    "# Les fonctions\n",
    "Les exercices suivants demandent d'écrire des fonctions. Celles-ci doivent être utilisées pour démontrer leur fonctionnement."
   ]
  },
  {
   "cell_type": "markdown",
   "metadata": {
    "id": "JOIVwrdwFuWW"
   },
   "source": [
    "## Exercice 1\n",
    "Écrire une fonction qui demande l'année de naissance de l'utilisateur et retourne son age approximatif. La fonction n'a aucun paramètre, mais retourne le nombre d'années."
   ]
  },
  {
   "cell_type": "code",
   "execution_count": null,
   "metadata": {
    "colab": {
     "base_uri": "https://localhost:8080/"
    },
    "executionInfo": {
     "elapsed": 2290,
     "status": "ok",
     "timestamp": 1705174055505,
     "user": {
      "displayName": "Sébastien Huneault",
      "userId": "03514398344720775700"
     },
     "user_tz": 300
    },
    "id": "2JCYCWzDG4jM",
    "outputId": "950a850e-be43-487c-cd8c-7a0b50d915f1"
   },
   "outputs": [
    {
     "name": "stdout",
     "output_type": "stream",
     "text": [
      "Votre année de naissance: 1974\n"
     ]
    },
    {
     "data": {
      "text/plain": [
       "50"
      ]
     },
     "execution_count": 29,
     "metadata": {},
     "output_type": "execute_result"
    }
   ],
   "source": [
    "def obtenir_age():\n",
    "  annee = int(input(\"Votre année de naissance: \"))\n",
    "  return 2024 - annee\n",
    "\n",
    "obtenir_age()"
   ]
  },
  {
   "cell_type": "markdown",
   "metadata": {
    "id": "F4PQh8WwFf6b"
   },
   "source": [
    "## Exercice 2\n",
    "Réécrire l'[exercice 4](#scrollTo=8MQdRwrV55gn&line=1&uniqifier=1) sur les équations quadratiques pour utiliser une fonction."
   ]
  },
  {
   "cell_type": "code",
   "execution_count": null,
   "metadata": {
    "colab": {
     "base_uri": "https://localhost:8080/"
    },
    "executionInfo": {
     "elapsed": 189,
     "status": "ok",
     "timestamp": 1705174139085,
     "user": {
      "displayName": "Sébastien Huneault",
      "userId": "03514398344720775700"
     },
     "user_tz": 300
    },
    "id": "iEmeA2XW4_l2",
    "outputId": "52b43eb9-61f0-438c-bfc4-df0b3230415f"
   },
   "outputs": [
    {
     "name": "stdout",
     "output_type": "stream",
     "text": [
      "-1.6084952830141508 , 3.108495283014151\n",
      "4.449489742783178 , -0.4494897427831779\n"
     ]
    }
   ],
   "source": [
    "def quadratique(a, b, c):\n",
    "  racine_1 = (-b + (b**2 - 4*a*c)**0.5 ) / (2*a)\n",
    "  racine_2 = (-b - (b**2 - 4*a*c)**0.5 ) / (2*a)\n",
    "  return racine_1, racine_2\n",
    "\n",
    "r1, r2 = quadratique(-2, 3, 10)\n",
    "print(f\"{r1} , {r2}\")\n",
    "r1, r2 = quadratique(1, -4, -2)\n",
    "print(f\"{r1} , {r2}\")"
   ]
  },
  {
   "cell_type": "markdown",
   "metadata": {
    "id": "4ChAOAGPIcF0"
   },
   "source": [
    "## Exercice 3\n",
    "Écrire une fonction qui retourne la valeur de $\\pi$ selon une précision demandée. Attention, votre programme doit être résistant aux erreurs et toujours convertir une précision négative en précision positive, le cas échéant. Ainsi, une précision de `-2` sera interprétée comme une précision de `2`. La fonction pourrait être utilisée comme suit:\n",
    "```python\n",
    "print(obtenir_pi(3))    # Affiche 3.142\n",
    "```"
   ]
  },
  {
   "cell_type": "code",
   "execution_count": null,
   "metadata": {
    "colab": {
     "base_uri": "https://localhost:8080/"
    },
    "executionInfo": {
     "elapsed": 2,
     "status": "ok",
     "timestamp": 1705174248432,
     "user": {
      "displayName": "Sébastien Huneault",
      "userId": "03514398344720775700"
     },
     "user_tz": 300
    },
    "id": "8HkwG_fa5A62",
    "outputId": "bc7bd9b6-fb14-4368-b4fc-9b748e9a623e"
   },
   "outputs": [
    {
     "name": "stdout",
     "output_type": "stream",
     "text": [
      "3.142\n"
     ]
    }
   ],
   "source": [
    "def obtenir_pi(precision):\n",
    "  pi = 3.141592654\n",
    "  return round(pi, precision)\n",
    "\n",
    "print(obtenir_pi(3))"
   ]
  },
  {
   "cell_type": "markdown",
   "metadata": {
    "id": "XGcKSwVvG_v0"
   },
   "source": [
    "## Exercice 4\n",
    "Écrire une fonction qui convertit une grandeur impériale (pieds et pouces) en grandeur métrique (centimètres).  \n",
    "❗*1 pouce équivaut à 2.54 cm et il y a 12 pouces dans un pied.*  \n",
    "La fonction aura la structure suivante:\n",
    "```python\n",
    "def imperiale_en_metrique(pieds, pouces):\n",
    "  ...\n",
    "  return centimetres\n",
    "```"
   ]
  },
  {
   "cell_type": "code",
   "execution_count": null,
   "metadata": {
    "colab": {
     "base_uri": "https://localhost:8080/"
    },
    "executionInfo": {
     "elapsed": 156,
     "status": "ok",
     "timestamp": 1705174514323,
     "user": {
      "displayName": "Sébastien Huneault",
      "userId": "03514398344720775700"
     },
     "user_tz": 300
    },
    "id": "0t7vtnv3IGn9",
    "outputId": "d1c5ce49-a4d2-438e-9223-847836901818"
   },
   "outputs": [
    {
     "name": "stdout",
     "output_type": "stream",
     "text": [
      "30.48\n",
      "30.48\n",
      "60.96\n",
      "185.42000000000002\n"
     ]
    }
   ],
   "source": [
    "def imperiale_en_metrique(pieds, pouces):\n",
    "  total_pouces = pieds * 12 + pouces\n",
    "  centimetres = total_pouces * 2.54\n",
    "  return centimetres\n",
    "\n",
    "print(imperiale_en_metrique(1, 0))\n",
    "print(imperiale_en_metrique(0, 12))\n",
    "print(imperiale_en_metrique(1, 12))\n",
    "print(imperiale_en_metrique(6, 1))"
   ]
  },
  {
   "cell_type": "markdown",
   "metadata": {
    "id": "nk5G3x1kH3wX"
   },
   "source": [
    "## ⭐ Exercice 5\n",
    "Écrire la fonction inverse, c'est-à-dire qui convertit une grandeur métrique (centimètres) en grandeur métrique (pieds et pouces). La fonction doit retourner la quantité de pieds et la quantité de pouces."
   ]
  },
  {
   "cell_type": "code",
   "execution_count": null,
   "metadata": {
    "colab": {
     "base_uri": "https://localhost:8080/"
    },
    "executionInfo": {
     "elapsed": 10,
     "status": "ok",
     "timestamp": 1705174521678,
     "user": {
      "displayName": "Sébastien Huneault",
      "userId": "03514398344720775700"
     },
     "user_tz": 300
    },
    "id": "XEy4dh14HtFW",
    "outputId": "fb7f9c09-a02e-4d14-dc65-9e202f19c7a9"
   },
   "outputs": [
    {
     "name": "stdout",
     "output_type": "stream",
     "text": [
      "(1.0, 0.0)\n",
      "(2.0, 0.0)\n",
      "(6.0, 1.0)\n"
     ]
    }
   ],
   "source": [
    "def metrique_en_imperial(centimetres):\n",
    "  total_pouces = centimetres / 2.54\n",
    "  pieds = total_pouces // 12\n",
    "  pouces = total_pouces % 12\n",
    "  return pieds, pouces\n",
    "\n",
    "print(metrique_en_imperial(30.48))\n",
    "print(metrique_en_imperial(60.96))\n",
    "print(metrique_en_imperial(185.42))"
   ]
  },
  {
   "cell_type": "markdown",
   "metadata": {
    "id": "qAFCtCIt0aN4"
   },
   "source": [
    "# Le traitement conditionnel"
   ]
  },
  {
   "cell_type": "markdown",
   "metadata": {
    "id": "2gzLt7p70eIk"
   },
   "source": [
    "## Exercice 1\n",
    "Écrire un programme pour déterminer qui aura la plus grosse facture:\n",
    "- Alice, avec un repas de 28.95\\$ et un pourboire de 20%, ou\n",
    "- Bob, avec un repas de 33.56\\$ et un pourboire de 18%\n",
    "\n",
    "Le programme devra afficher le nom de la personne ayant la plus grosse facture."
   ]
  },
  {
   "cell_type": "code",
   "execution_count": null,
   "metadata": {
    "colab": {
     "base_uri": "https://localhost:8080/"
    },
    "executionInfo": {
     "elapsed": 3,
     "status": "ok",
     "timestamp": 1705174588611,
     "user": {
      "displayName": "Sébastien Huneault",
      "userId": "03514398344720775700"
     },
     "user_tz": 300
    },
    "id": "AGlzFpyn1Epp",
    "outputId": "997bec6a-eb54-48aa-ead6-b06c4b4a63c6"
   },
   "outputs": [
    {
     "name": "stdout",
     "output_type": "stream",
     "text": [
      "Factures\n",
      " - Alice : 34.74 $\n",
      " - Bob   : 39.60 $\n",
      "Bob paiera plus cher\n"
     ]
    }
   ],
   "source": [
    "alice = 28.95 * 1.20\n",
    "bob = 33.56 * 1.18\n",
    "\n",
    "print(f\"Factures\")\n",
    "print(f\" - Alice : {alice:.2f} $\")\n",
    "print(f\" - Bob   : {bob:.2f} $\")\n",
    "if alice > bob:\n",
    "  print(\"Alice paiera plus cher\")\n",
    "else:\n",
    "  print(\"Bob paiera plus cher\")"
   ]
  },
  {
   "cell_type": "markdown",
   "metadata": {
    "id": "ICzY30j-1cNR"
   },
   "source": [
    "## Exercice 2\n",
    "Réécrire le programme précédent pour include Charlie avec un repas de 36.56$ et un pourboire de 10%."
   ]
  },
  {
   "cell_type": "code",
   "execution_count": null,
   "metadata": {
    "colab": {
     "base_uri": "https://localhost:8080/"
    },
    "executionInfo": {
     "elapsed": 184,
     "status": "ok",
     "timestamp": 1705174656856,
     "user": {
      "displayName": "Sébastien Huneault",
      "userId": "03514398344720775700"
     },
     "user_tz": 300
    },
    "id": "pJ-8nrBG1Mm1",
    "outputId": "88a6f158-8271-4b21-827e-96da51e49ed2"
   },
   "outputs": [
    {
     "name": "stdout",
     "output_type": "stream",
     "text": [
      "Factures\n",
      " - Alice   : 34.74 $\n",
      " - Bob     : 39.60 $\n",
      " - Charlie : 40.22 $\n",
      "Charlie paiera plus cher\n"
     ]
    }
   ],
   "source": [
    "alice = 28.95 * 1.20\n",
    "bob = 33.56 * 1.18\n",
    "charlie = 36.56 * 1.10\n",
    "\n",
    "print(f\"Factures\")\n",
    "print(f\" - Alice   : {alice:.2f} $\")\n",
    "print(f\" - Bob     : {bob:.2f} $\")\n",
    "print(f\" - Charlie : {charlie:.2f} $\")\n",
    "if alice > bob and alice > charlie:\n",
    "  print(\"Alice paiera plus cher\")\n",
    "elif bob > alice and bob > charlie:\n",
    "  print(\"Bob paiera plus cher\")\n",
    "else:\n",
    "  print(\"Charlie paiera plus cher\")"
   ]
  },
  {
   "cell_type": "markdown",
   "metadata": {
    "id": "AgZ6d3kW19Ei"
   },
   "source": [
    "## Exercice 3\n",
    "Écrire un programme qui demande les noms et le pointage de deux joueurs. Le programme doit ensuite afficher les résultats en ordre, en commençant par le joueur vainqueur. Le résultat final pourrait ressembler à ceci:\n",
    "```\n",
    ">> Qui est le premier joueur? Alice  \n",
    ">> Qui est le second joueur? Bob  \n",
    ">> Quel est le pointage de Alice? 20  \n",
    ">> Quel est le pointage de Bob? 15\n",
    "\n",
    "****************\n",
    "*** RÉSULTAT ***\n",
    "****************\n",
    "1. Alice : vainqueur!\n",
    "2. Bob : seconde place\n",
    "```"
   ]
  },
  {
   "cell_type": "code",
   "execution_count": null,
   "metadata": {
    "colab": {
     "base_uri": "https://localhost:8080/"
    },
    "executionInfo": {
     "elapsed": 4145,
     "status": "ok",
     "timestamp": 1705174852143,
     "user": {
      "displayName": "Sébastien Huneault",
      "userId": "03514398344720775700"
     },
     "user_tz": 300
    },
    "id": "zIOiJ0uO1tYe",
    "outputId": "106a31b6-5df2-40bd-ce96-1f871c0c28d6"
   },
   "outputs": [
    {
     "name": "stdout",
     "output_type": "stream",
     "text": [
      "Qui est le premier joueur? Alice\n",
      "Qui est le second joueur? Bob\n",
      "Quel est le pointage de Alice? 20\n",
      "Quel est le pointage de Bob? 15\n",
      "\n",
      "****************\n",
      "*** RÉSULTAT ***\n",
      "****************\n",
      "1. Alice : vainqueur!\n",
      "2. Bob : seconde place\n"
     ]
    }
   ],
   "source": [
    "joueur_1 = input(\"Qui est le premier joueur? \")\n",
    "joueur_2 = input(\"Qui est le second joueur? \")\n",
    "point_1 = int(input(f\"Quel est le pointage de {joueur_1}? \"))\n",
    "point_2 = int(input(f\"Quel est le pointage de {joueur_2}? \"))\n",
    "\n",
    "if point_1 > point_2:\n",
    "  vainqueur = joueur_1\n",
    "  perdant = joueur_2\n",
    "else:\n",
    "  vainqueur = joueur_2\n",
    "  perdant = joueur_2\n",
    "\n",
    "print()\n",
    "print(\"****************\")\n",
    "print(\"*** RÉSULTAT ***\")\n",
    "print(\"****************\")\n",
    "print(f\"1. {vainqueur} : vainqueur!\")\n",
    "print(f\"2. {perdant} : seconde place\")"
   ]
  },
  {
   "cell_type": "markdown",
   "metadata": {
    "id": "gkeDGMov2Swb"
   },
   "source": [
    "## Exercice 4\n",
    "Écrire un programme qui demande l'âge d'une personne et qui affiche diffétents messages en fonction de cet âge.\n",
    "-\t18 ans et plus, la personne a le droit vote.\n",
    "-\t16 ans et plus, la persone peut demander son permis de conduire.\n",
    "-\t18 ans et moins ou 65 ans et plus, la personne a accès à un tarif réduit pour prendre l'autobus.\n",
    "-\t50 ans et plus, la personne peut demander sa carte de l'âge d'or.\n",
    "Une fois le programme terminé, s'assurer de tester toutes les combinaisons possibles.\n"
   ]
  },
  {
   "cell_type": "code",
   "execution_count": null,
   "metadata": {
    "colab": {
     "base_uri": "https://localhost:8080/"
    },
    "executionInfo": {
     "elapsed": 1286,
     "status": "ok",
     "timestamp": 1705174953027,
     "user": {
      "displayName": "Sébastien Huneault",
      "userId": "03514398344720775700"
     },
     "user_tz": 300
    },
    "id": "JP_NnjoW3JuZ",
    "outputId": "77ad55c8-b1bf-4615-c82c-12a05cf3de69"
   },
   "outputs": [
    {
     "name": "stdout",
     "output_type": "stream",
     "text": [
      "Quel est votre age? 66\n",
      "- Vous pouvez voter.\n",
      "- Vous pouvez demander votre permis de conduire.\n",
      "- Vous avez un tarif réduit pour l'autobus\n",
      "- Vous pouvez avoir votre carte d'âge d'or\n"
     ]
    }
   ],
   "source": [
    "age = int(input(\"Quel est votre age? \"))\n",
    "\n",
    "if age >= 18:\n",
    "  print(\"- Vous pouvez voter.\")\n",
    "if age >= 16:\n",
    "  print(\"- Vous pouvez demander votre permis de conduire.\")\n",
    "if age <= 18 or age >= 65:\n",
    "  print(\"- Vous avez un tarif réduit pour l'autobus\")\n",
    "if age >= 50:\n",
    "  print(\"- Vous pouvez avoir votre carte d'âge d'or\")"
   ]
  },
  {
   "cell_type": "markdown",
   "metadata": {
    "id": "HiPNbhf23PRO"
   },
   "source": [
    "## Exercice 5\n",
    "Écrire un programme qui demande la longueur des côtés d'un triangle et indique si le triangle est rectangle ou non. Une fonction doit être utilisée pour déterminer ei le triangle est rectangle.\n",
    "\n",
    "❗Pour faciliter le programme, on peut assumer que le coté $c$ est le plus long."
   ]
  },
  {
   "cell_type": "code",
   "execution_count": null,
   "metadata": {
    "colab": {
     "base_uri": "https://localhost:8080/"
    },
    "executionInfo": {
     "elapsed": 2571,
     "status": "ok",
     "timestamp": 1705175058964,
     "user": {
      "displayName": "Sébastien Huneault",
      "userId": "03514398344720775700"
     },
     "user_tz": 300
    },
    "id": "wWuDqh053k9u",
    "outputId": "a334f15b-101a-4d62-d22f-6ccc05a81143"
   },
   "outputs": [
    {
     "name": "stdout",
     "output_type": "stream",
     "text": [
      "Quel est le côté a: 120\n",
      "Quel est le côté b: 160\n",
      "Quel est le côté c: 200\n",
      "Le triangle (120.0, 160.0, 200.0) est rectangle.\n"
     ]
    }
   ],
   "source": [
    "a = float(input(\"Quel est le côté a: \"))\n",
    "b = float(input(\"Quel est le côté b: \"))\n",
    "c = float(input(\"Quel est le côté c: \"))\n",
    "\n",
    "if a**2 + b**2 == c**2:\n",
    "  print(f\"Le triangle ({a}, {b}, {c}) est rectangle.\")\n",
    "else:\n",
    "  print(f\"Le triangle ({a}, {b}, {c}) n'est pas rectangle.\")"
   ]
  },
  {
   "cell_type": "markdown",
   "metadata": {
    "id": "d6Z9i6zW34Fl"
   },
   "source": [
    "## ⭐ Exercice 6\n",
    "Réécrire le programme précédent pour que le côté le plus grand soit détecté automatiquement. Ainsi, le côté le plus grand pourrait être $a$, $b$ ou $c$."
   ]
  },
  {
   "cell_type": "code",
   "execution_count": null,
   "metadata": {
    "colab": {
     "base_uri": "https://localhost:8080/"
    },
    "executionInfo": {
     "elapsed": 3205,
     "status": "ok",
     "timestamp": 1705175197246,
     "user": {
      "displayName": "Sébastien Huneault",
      "userId": "03514398344720775700"
     },
     "user_tz": 300
    },
    "id": "t0E-ogx74LiX",
    "outputId": "607dda18-07b1-477a-a139-eaaaa48e3aab"
   },
   "outputs": [
    {
     "name": "stdout",
     "output_type": "stream",
     "text": [
      "Quel est le côté a: 160\n",
      "Quel est le côté b: 200\n",
      "Quel est le côté c: 120\n",
      "Le triangle (160.0, 200.0, 120.0) est rectangle.\n"
     ]
    }
   ],
   "source": [
    "def est_rectangle(a, b, c):\n",
    "  if a == max(a, b, c):\n",
    "    return b**2 + c**2 == a**2\n",
    "  elif b == max(a, b, c):\n",
    "    return a**2 + c**2 == b**2\n",
    "  else:\n",
    "    return a**2 + b**2 == c**2\n",
    "\n",
    "a = float(input(\"Quel est le côté a: \"))\n",
    "b = float(input(\"Quel est le côté b: \"))\n",
    "c = float(input(\"Quel est le côté c: \"))\n",
    "\n",
    "if est_rectangle(a, b, c):\n",
    "  print(f\"Le triangle ({a}, {b}, {c}) est rectangle.\")\n",
    "else:\n",
    "  print(f\"Le triangle ({a}, {b}, {c}) n'est pas rectangle.\")"
   ]
  },
  {
   "cell_type": "markdown",
   "metadata": {
    "id": "qSTXtzL652WP"
   },
   "source": [
    "## Exercice 7\n",
    "Réécrire l'[exercice 2](#scrollTo=F4PQh8WwFf6b&line=2&uniqifier=1) sur la fonction quadratique afin que la fonction:\n",
    "- ne retourne pas de valeurs\n",
    "- affiche le nombre de solutions existantes\n",
    "- les solutions\n",
    "\n",
    "Rappel:\n",
    "- si le discriminant $b^2 - 4ac$ est positif, alors il y a 2 solutions\n",
    "- si le discriminant $b^2 - 4ac$ est zéro, alors il y a 1 solution\n",
    "- si le discriminant $b^2 - 4ac$ est négatif, alors il n'y a aucune solution"
   ]
  },
  {
   "cell_type": "code",
   "execution_count": null,
   "metadata": {
    "colab": {
     "base_uri": "https://localhost:8080/"
    },
    "executionInfo": {
     "elapsed": 179,
     "status": "ok",
     "timestamp": 1705175442166,
     "user": {
      "displayName": "Sébastien Huneault",
      "userId": "03514398344720775700"
     },
     "user_tz": 300
    },
    "id": "xfRg_Dca6wIh",
    "outputId": "04bb7dc3-9ad8-445c-87d9-25e0fb0c043a"
   },
   "outputs": [
    {
     "name": "stdout",
     "output_type": "stream",
     "text": [
      "Il y a 2 solutions: -1.6084952830141508 et 3.108495283014151\n",
      "Il y a 2 solutions: 4.449489742783178 et -0.4494897427831779\n",
      "Il y a 1 solution: 0.0\n",
      "Il y a 1 solution: 0.0\n",
      "Il n'y a aucune solution.\n"
     ]
    }
   ],
   "source": [
    "def quadratique(a, b, c):\n",
    "  valeur = b**2 - 4*a*c\n",
    "\n",
    "  if valeur > 0:\n",
    "    racine_1 = (-b + (b**2 - 4*a*c)**0.5 ) / (2*a)\n",
    "    racine_2 = (-b - (b**2 - 4*a*c)**0.5 ) / (2*a)\n",
    "    print(f\"Il y a 2 solutions: {racine_1} et {racine_2}\")\n",
    "  elif valeur == 0:\n",
    "    racine_1 = (-b + (b**2 - 4*a*c)**0.5 ) / (2*a)\n",
    "    print(f\"Il y a 1 solution: {racine_1}\")\n",
    "  else:\n",
    "    print(f\"Il n'y a aucune solution.\")\n",
    "\n",
    "quadratique(-2, 3, 10)\n",
    "quadratique(1, -4, -2)\n",
    "quadratique(1, 0, 0)\n",
    "quadratique(2, 0, 0)\n",
    "quadratique(2, 0, 10)"
   ]
  },
  {
   "cell_type": "markdown",
   "metadata": {
    "id": "kK2npeQQFvW0"
   },
   "source": [
    "# La boucle `for`"
   ]
  },
  {
   "cell_type": "markdown",
   "metadata": {
    "id": "zaS33Yk9HKZE"
   },
   "source": [
    "## Exercice 1\n",
    "Écrire un programme qui affiche les carrés des 100 premiers nombres entiers."
   ]
  },
  {
   "cell_type": "code",
   "execution_count": 1,
   "metadata": {
    "colab": {
     "base_uri": "https://localhost:8080/"
    },
    "executionInfo": {
     "elapsed": 9,
     "status": "ok",
     "timestamp": 1705345141444,
     "user": {
      "displayName": "Nelson Marceau",
      "userId": "03732416420414029404"
     },
     "user_tz": 300
    },
    "id": "K2h0-YVMFwXR",
    "outputId": "0b4809c5-667b-4e86-f88e-e21326023e38"
   },
   "outputs": [
    {
     "name": "stdout",
     "output_type": "stream",
     "text": [
      "000 au carré = 0\n",
      "001 au carré = 1\n",
      "002 au carré = 4\n",
      "003 au carré = 9\n",
      "004 au carré = 16\n",
      "005 au carré = 25\n",
      "006 au carré = 36\n",
      "007 au carré = 49\n",
      "008 au carré = 64\n",
      "009 au carré = 81\n",
      "010 au carré = 100\n",
      "011 au carré = 121\n",
      "012 au carré = 144\n",
      "013 au carré = 169\n",
      "014 au carré = 196\n",
      "015 au carré = 225\n",
      "016 au carré = 256\n",
      "017 au carré = 289\n",
      "018 au carré = 324\n",
      "019 au carré = 361\n",
      "020 au carré = 400\n",
      "021 au carré = 441\n",
      "022 au carré = 484\n",
      "023 au carré = 529\n",
      "024 au carré = 576\n",
      "025 au carré = 625\n",
      "026 au carré = 676\n",
      "027 au carré = 729\n",
      "028 au carré = 784\n",
      "029 au carré = 841\n",
      "030 au carré = 900\n",
      "031 au carré = 961\n",
      "032 au carré = 1024\n",
      "033 au carré = 1089\n",
      "034 au carré = 1156\n",
      "035 au carré = 1225\n",
      "036 au carré = 1296\n",
      "037 au carré = 1369\n",
      "038 au carré = 1444\n",
      "039 au carré = 1521\n",
      "040 au carré = 1600\n",
      "041 au carré = 1681\n",
      "042 au carré = 1764\n",
      "043 au carré = 1849\n",
      "044 au carré = 1936\n",
      "045 au carré = 2025\n",
      "046 au carré = 2116\n",
      "047 au carré = 2209\n",
      "048 au carré = 2304\n",
      "049 au carré = 2401\n",
      "050 au carré = 2500\n",
      "051 au carré = 2601\n",
      "052 au carré = 2704\n",
      "053 au carré = 2809\n",
      "054 au carré = 2916\n",
      "055 au carré = 3025\n",
      "056 au carré = 3136\n",
      "057 au carré = 3249\n",
      "058 au carré = 3364\n",
      "059 au carré = 3481\n",
      "060 au carré = 3600\n",
      "061 au carré = 3721\n",
      "062 au carré = 3844\n",
      "063 au carré = 3969\n",
      "064 au carré = 4096\n",
      "065 au carré = 4225\n",
      "066 au carré = 4356\n",
      "067 au carré = 4489\n",
      "068 au carré = 4624\n",
      "069 au carré = 4761\n",
      "070 au carré = 4900\n",
      "071 au carré = 5041\n",
      "072 au carré = 5184\n",
      "073 au carré = 5329\n",
      "074 au carré = 5476\n",
      "075 au carré = 5625\n",
      "076 au carré = 5776\n",
      "077 au carré = 5929\n",
      "078 au carré = 6084\n",
      "079 au carré = 6241\n",
      "080 au carré = 6400\n",
      "081 au carré = 6561\n",
      "082 au carré = 6724\n",
      "083 au carré = 6889\n",
      "084 au carré = 7056\n",
      "085 au carré = 7225\n",
      "086 au carré = 7396\n",
      "087 au carré = 7569\n",
      "088 au carré = 7744\n",
      "089 au carré = 7921\n",
      "090 au carré = 8100\n",
      "091 au carré = 8281\n",
      "092 au carré = 8464\n",
      "093 au carré = 8649\n",
      "094 au carré = 8836\n",
      "095 au carré = 9025\n",
      "096 au carré = 9216\n",
      "097 au carré = 9409\n",
      "098 au carré = 9604\n",
      "099 au carré = 9801\n"
     ]
    }
   ],
   "source": [
    "for i in range(100):\n",
    "  carre = i**2\n",
    "  print(f\"{i:0>3} au carré = {carre}\")"
   ]
  },
  {
   "cell_type": "markdown",
   "metadata": {
    "id": "E1RnrJkvJxuc"
   },
   "source": [
    "## Exercice 2\n",
    "Écrire un programme qui affiche tous les nombres entre 1 et 50, en tenant compte des trois conditions suivantes:\n",
    "- Si le nombre est divisible par 3, afficher à la place FIZZ;\n",
    "- Si le nombre est divisible par 5, afficher à la place BUZZ;\n",
    "- Si le nombre est divisible par 3 et 5, afficher à la place FIZZBUZZ;\n",
    "\n",
    "Le résultat ressemblerait à ceci:\n",
    "```\n",
    "1\n",
    "2\n",
    "FIZZ\n",
    "4\n",
    "BUZZ\n",
    "FIZZ\n",
    "7\n",
    "...\n",
    "14\n",
    "FIZZBUZZ\n",
    "16\n",
    "17\n",
    "```"
   ]
  },
  {
   "cell_type": "code",
   "execution_count": null,
   "metadata": {
    "colab": {
     "base_uri": "https://localhost:8080/"
    },
    "executionInfo": {
     "elapsed": 11,
     "status": "ok",
     "timestamp": 1705175650195,
     "user": {
      "displayName": "Sébastien Huneault",
      "userId": "03514398344720775700"
     },
     "user_tz": 300
    },
    "id": "kot5LjpHKW1U",
    "outputId": "09da0dd4-7169-41aa-b8db-f87f8876a261"
   },
   "outputs": [
    {
     "name": "stdout",
     "output_type": "stream",
     "text": [
      "1\n",
      "2\n",
      "FIZZ\n",
      "4\n",
      "BUZZ\n",
      "FIZZ\n",
      "7\n",
      "8\n",
      "FIZZ\n",
      "BUZZ\n",
      "11\n",
      "FIZZ\n",
      "13\n",
      "14\n",
      "FIZZBUZZ\n",
      "16\n",
      "17\n",
      "FIZZ\n",
      "19\n",
      "BUZZ\n",
      "FIZZ\n",
      "22\n",
      "23\n",
      "FIZZ\n",
      "BUZZ\n",
      "26\n",
      "FIZZ\n",
      "28\n",
      "29\n",
      "FIZZBUZZ\n",
      "31\n",
      "32\n",
      "FIZZ\n",
      "34\n",
      "BUZZ\n",
      "FIZZ\n",
      "37\n",
      "38\n",
      "FIZZ\n",
      "BUZZ\n",
      "41\n",
      "FIZZ\n",
      "43\n",
      "44\n",
      "FIZZBUZZ\n",
      "46\n",
      "47\n",
      "FIZZ\n",
      "49\n",
      "BUZZ\n"
     ]
    }
   ],
   "source": [
    "for i in range(1, 51):\n",
    "  if i % 3 == 0 and i % 5 == 0:\n",
    "    print(\"FIZZBUZZ\")\n",
    "  elif i % 3 == 0:\n",
    "    print(\"FIZZ\")\n",
    "  elif i % 5 == 0:\n",
    "    print(\"BUZZ\")\n",
    "  else:\n",
    "    print(i)"
   ]
  },
  {
   "cell_type": "markdown",
   "metadata": {
    "id": "n9YinJEQKb0S"
   },
   "source": [
    "## Exercice 3\n",
    "Écrire un programme qui calcule et affiche:\n",
    "- La somme des 1000 premiers nombres entiers\n",
    "- La somme des 1000 premiers nombres pairs: $2 + 4 + 6 + ... + 2000$\n",
    "- La somme des 100 premiers nombres carrés: $1 + 2^2 + 3^2 + ... + 100^2$"
   ]
  },
  {
   "cell_type": "code",
   "execution_count": null,
   "metadata": {
    "colab": {
     "base_uri": "https://localhost:8080/"
    },
    "executionInfo": {
     "elapsed": 3,
     "status": "ok",
     "timestamp": 1705175784080,
     "user": {
      "displayName": "Sébastien Huneault",
      "userId": "03514398344720775700"
     },
     "user_tz": 300
    },
    "id": "m7Qj1vyEK7ym",
    "outputId": "ae8e7d50-8f58-48f7-9fc6-df9de36716a4"
   },
   "outputs": [
    {
     "name": "stdout",
     "output_type": "stream",
     "text": [
      "Somme des nombres entiers: 500500\n",
      "Somme des nombres pairs:   1000000\n",
      "Somme des nombres carrés:  338350\n"
     ]
    }
   ],
   "source": [
    "somme_entiers = 0\n",
    "somme_pairs = 0\n",
    "somme_carres = 0\n",
    "\n",
    "for i in range(1, 1001):\n",
    "  somme_entiers = somme_entiers + i\n",
    "\n",
    "for i in range(1, 2001, 2):\n",
    "  somme_pairs = somme_pairs + i\n",
    "\n",
    "for i in range(1, 101):\n",
    "  somme_carres = somme_carres + i**2\n",
    "\n",
    "print(f\"Somme des nombres entiers: {somme_entiers}\")\n",
    "print(f\"Somme des nombres pairs:   {somme_pairs}\")\n",
    "print(f\"Somme des nombres carrés:  {somme_carres}\")"
   ]
  },
  {
   "cell_type": "markdown",
   "metadata": {
    "id": "ILp-80a7K8FK"
   },
   "source": [
    "## ⭐ Exercice 4\n",
    "Écrire une fonction pour afficher les $n$ premiers nombres de la suite de Fibonnacci. Plusieurs variables seront nécessaires pour se souvenir des deux nombres précédents. Le code ressemblera à ceci:\n",
    "```python\n",
    "def fibonnacci(n):\n",
    "  # votre code ici\n",
    "\n",
    "fibbonacci(6)\n",
    "```\n",
    "Et le résultat sera:\n",
    "```\n",
    "1\n",
    "1\n",
    "2\n",
    "3\n",
    "5\n",
    "8\n",
    "```"
   ]
  },
  {
   "cell_type": "code",
   "execution_count": null,
   "metadata": {
    "colab": {
     "base_uri": "https://localhost:8080/"
    },
    "executionInfo": {
     "elapsed": 4,
     "status": "ok",
     "timestamp": 1705175874303,
     "user": {
      "displayName": "Sébastien Huneault",
      "userId": "03514398344720775700"
     },
     "user_tz": 300
    },
    "id": "XiE2jVjRLr95",
    "outputId": "16942fd0-b228-4afe-a7a7-ee36a312aba1"
   },
   "outputs": [
    {
     "name": "stdout",
     "output_type": "stream",
     "text": [
      "1\n",
      "1\n",
      "2\n",
      "3\n",
      "5\n",
      "8\n",
      "13\n",
      "21\n"
     ]
    }
   ],
   "source": [
    "def fibonnacci(n):\n",
    "  # Le début\n",
    "  nb1 = 1\n",
    "  nb2 = 1\n",
    "\n",
    "  for i in range(n):\n",
    "    print(nb1)\n",
    "    temp = nb2\n",
    "    nb2 = nb1 + nb2\n",
    "    nb1 = temp\n",
    "\n",
    "fibonnacci(8)"
   ]
  },
  {
   "cell_type": "markdown",
   "metadata": {
    "id": "U-lrXh32LxVe"
   },
   "source": [
    "## Exercice 5\n",
    "En utilisant une boucle, dessiner à l'écran un triangle à $n$ lignes, demandé à l'utilisateur. Le résultat attendu pour 6 lignes serait\n",
    "```\n",
    "     *\n",
    "    ***\n",
    "   *****\n",
    "  *******\n",
    " *********\n",
    "***********\n",
    "```"
   ]
  },
  {
   "cell_type": "code",
   "execution_count": null,
   "metadata": {
    "colab": {
     "base_uri": "https://localhost:8080/"
    },
    "executionInfo": {
     "elapsed": 879,
     "status": "ok",
     "timestamp": 1705176079170,
     "user": {
      "displayName": "Sébastien Huneault",
      "userId": "03514398344720775700"
     },
     "user_tz": 300
    },
    "id": "i1g5hFf5OWju",
    "outputId": "e85439c9-9914-4303-9574-6bd89ab5f656"
   },
   "outputs": [
    {
     "name": "stdout",
     "output_type": "stream",
     "text": [
      "Combien de lignes? 10\n",
      "           \n",
      "          *\n",
      "         ***\n",
      "        *****\n",
      "       *******\n",
      "      *********\n",
      "     ***********\n",
      "    *************\n",
      "   ***************\n",
      "  *****************\n",
      " *******************\n"
     ]
    }
   ],
   "source": [
    "lignes = int(input(\"Combien de lignes? \"))\n",
    "\n",
    "for i in range(lignes + 1):\n",
    "  espaces = (lignes - i + 1)\n",
    "  etoiles = 2 * i - 1\n",
    "  print(\" \" * espaces, end=\"\")\n",
    "  print(\"*\" * etoiles)\n"
   ]
  },
  {
   "cell_type": "markdown",
   "metadata": {
    "id": "k5fik7sjN3db"
   },
   "source": [
    "## ⭐ Exercice 6\n",
    "Réécrire l'exercice 5 en ajoutant une légère modification. Chaque 5e étoile devra afficher une boule (représenté par le caractère 6). Le résultat deviendra donc ceci:\n",
    "```\n",
    "      6\n",
    "     ***\n",
    "    *6***\n",
    "   *6****6\n",
    "  ****6****\n",
    " 6****6****6\n",
    "****6****6***\n",
    "```"
   ]
  },
  {
   "cell_type": "code",
   "execution_count": null,
   "metadata": {
    "colab": {
     "base_uri": "https://localhost:8080/"
    },
    "executionInfo": {
     "elapsed": 1086,
     "status": "ok",
     "timestamp": 1705176228447,
     "user": {
      "displayName": "Sébastien Huneault",
      "userId": "03514398344720775700"
     },
     "user_tz": 300
    },
    "id": "kStssPeWNY7m",
    "outputId": "0e226a21-9538-4836-c25c-09357f94dcb3"
   },
   "outputs": [
    {
     "name": "stdout",
     "output_type": "stream",
     "text": [
      "Combien de lignes? 7\n",
      "        \n",
      "       6\n",
      "      ***\n",
      "     *6***\n",
      "    *6****6\n",
      "   ****6****\n",
      "  6****6****6\n",
      " ****6****6***\n"
     ]
    }
   ],
   "source": [
    "lignes = int(input(\"Combien de lignes? \"))\n",
    "num_etoile = 4\n",
    "\n",
    "for i in range(lignes + 1):\n",
    "  espaces = (lignes - i + 1)\n",
    "  etoiles = 2 * i - 1\n",
    "  for j in range(espaces):\n",
    "    print(\" \", end=\"\")\n",
    "  for j in range(etoiles):\n",
    "    num_etoile = num_etoile + 1\n",
    "    if num_etoile % 5 == 0:\n",
    "      print(\"6\", end=\"\")\n",
    "    else:\n",
    "      print(\"*\", end=\"\")\n",
    "  print()"
   ]
  },
  {
   "cell_type": "markdown",
   "metadata": {
    "id": "bSScy3KePRQY"
   },
   "source": [
    "## Exercice 7\n",
    "Écrire un programme qui affiche tous les diviseurs d'un nombre donné par l'utilisateur. Si le nombre est premier, l'indiquer. Le résultat ressemble à ceci:\n",
    "```\n",
    "Entrer un nombre: 7\n",
    "Le nombre 7 est premier.\n",
    "\n",
    "Entrer un nombre: 15\n",
    "Le nombre 15 n'est pas premier.\n",
    "- 3 est un diviseur de 15\n",
    "- 5 est un diviseur de 15\n",
    "```"
   ]
  },
  {
   "cell_type": "code",
   "execution_count": null,
   "metadata": {
    "colab": {
     "base_uri": "https://localhost:8080/"
    },
    "executionInfo": {
     "elapsed": 1289,
     "status": "ok",
     "timestamp": 1705176358401,
     "user": {
      "displayName": "Sébastien Huneault",
      "userId": "03514398344720775700"
     },
     "user_tz": 300
    },
    "id": "U40wBdgLPlqV",
    "outputId": "5ed051d5-afeb-4613-83a5-09ada33a6b09"
   },
   "outputs": [
    {
     "name": "stdout",
     "output_type": "stream",
     "text": [
      "Quel est le nombre? 15\n",
      "Le nombre 15 n'est pas premier.\n",
      "- 3 est un diviseur de 15\n",
      "- 5 est un diviseur de 15\n"
     ]
    }
   ],
   "source": [
    "def est_premier(nombre):\n",
    "  for i in range(2, nombre):\n",
    "    if nombre % i == 0:\n",
    "      return False\n",
    "  return True\n",
    "\n",
    "nombre = int(input(\"Quel est le nombre? \"))\n",
    "if est_premier(nombre):\n",
    "  print(f\"Le nombre {nombre} est premier.\")\n",
    "else:\n",
    "  print(f\"Le nombre {nombre} n'est pas premier.\")\n",
    "  for i in range(2, nombre):\n",
    "    if nombre % i == 0:\n",
    "      print(f\"- {i} est un diviseur de {nombre}\")"
   ]
  },
  {
   "cell_type": "markdown",
   "metadata": {
    "id": "ayP4Ld6fYPkV"
   },
   "source": [
    "# La boucle `while`"
   ]
  },
  {
   "cell_type": "markdown",
   "metadata": {
    "id": "idGWOEgoYTZD"
   },
   "source": [
    "## Exercice 1\n",
    "Écrire un programme qui calcule la somme des carrés des $n$ premiers nombres, jusqu'à ce que la somme soit supérieure à 15,000. Afficher la somme obtenue et le nombre d'itération nécessaire."
   ]
  },
  {
   "cell_type": "code",
   "execution_count": null,
   "metadata": {
    "colab": {
     "base_uri": "https://localhost:8080/"
    },
    "executionInfo": {
     "elapsed": 133,
     "status": "ok",
     "timestamp": 1705176447991,
     "user": {
      "displayName": "Sébastien Huneault",
      "userId": "03514398344720775700"
     },
     "user_tz": 300
    },
    "id": "7pKrLi44YR4I",
    "outputId": "6a2a9a87-cd6a-40cd-eefb-2b332973604b"
   },
   "outputs": [
    {
     "name": "stdout",
     "output_type": "stream",
     "text": [
      "La somme de 15051 a été obtenue après 173 additions.\n"
     ]
    }
   ],
   "source": [
    "somme_max = 15000\n",
    "somme = 0\n",
    "nombre = 0\n",
    "\n",
    "while somme < somme_max:\n",
    "  nombre = nombre + 1\n",
    "  somme = somme + nombre\n",
    "\n",
    "print(f\"La somme de {somme} a été obtenue après {nombre} additions.\")"
   ]
  },
  {
   "cell_type": "markdown",
   "metadata": {
    "id": "PN_6MVVIZNDy"
   },
   "source": [
    "## Exercice 2\n",
    "Calculer la quantité de nombres premiers nécessaires pour que la somme de ceux-ci soit supérieure à 5,000. La fonction `est_premier(nombre)` est fournie.\n",
    "```python\n",
    "def est_premier(nombre):\n",
    "  for i in range(2, nombre):\n",
    "    if nombre % i == 0:\n",
    "      return False\n",
    "  return True\n",
    "```"
   ]
  },
  {
   "cell_type": "code",
   "execution_count": null,
   "metadata": {
    "colab": {
     "base_uri": "https://localhost:8080/"
    },
    "executionInfo": {
     "elapsed": 4,
     "status": "ok",
     "timestamp": 1705176546187,
     "user": {
      "displayName": "Sébastien Huneault",
      "userId": "03514398344720775700"
     },
     "user_tz": 300
    },
    "id": "S6EgTwU4ZEKV",
    "outputId": "4c5d1fb0-e945-4d81-a651-fcf1723c69c8"
   },
   "outputs": [
    {
     "name": "stdout",
     "output_type": "stream",
     "text": [
      "La somme de 5118 a été obtenue après l'addition de 229 nombres premiers.\n"
     ]
    }
   ],
   "source": [
    "def est_premier(nombre):\n",
    "  for i in range(2, nombre):\n",
    "    if nombre % i == 0:\n",
    "      return False\n",
    "  return True\n",
    "\n",
    "somme_max = 5000\n",
    "somme = 0\n",
    "nombre = 0\n",
    "\n",
    "while somme < somme_max:\n",
    "  nombre = nombre + 1\n",
    "  if est_premier(nombre):\n",
    "    somme = somme + nombre\n",
    "\n",
    "print(f\"La somme de {somme} a été obtenue après l'addition de {nombre} nombres premiers.\")\n"
   ]
  },
  {
   "cell_type": "markdown",
   "metadata": {
    "id": "JVp3PnxrarEv"
   },
   "source": [
    "## Exercice 3\n",
    "À l'aide d'une coule `while`, écrire un programme qui calcule et affiche:\n",
    "- La somme des 1000 premiers nombres entiers\n",
    "- La somme des 1000 premiers nombres pairs: $2 + 4 + 6 + ... + 2000$\n",
    "- La somme des 100 premiers nombres carrés: $1 + 2^2 + 3^2 + ... + 100^2$\n",
    "\n",
    "*Note: Ce programme est identque à l'[exercice 3](#scrollTo=n9YinJEQKb0S&line=2&uniqifier=1) de la boucle `for`*"
   ]
  },
  {
   "cell_type": "code",
   "execution_count": null,
   "metadata": {
    "colab": {
     "base_uri": "https://localhost:8080/"
    },
    "executionInfo": {
     "elapsed": 4,
     "status": "ok",
     "timestamp": 1705176726389,
     "user": {
      "displayName": "Sébastien Huneault",
      "userId": "03514398344720775700"
     },
     "user_tz": 300
    },
    "id": "V0KsQZihaAWd",
    "outputId": "b6c0fca8-2d49-4d77-8d2d-6e551dbfec83"
   },
   "outputs": [
    {
     "name": "stdout",
     "output_type": "stream",
     "text": [
      "Somme des nombres entiers: 500500\n",
      "Somme des nombres pairs:   1001000\n",
      "Somme des nombres carrés:  338350\n"
     ]
    }
   ],
   "source": [
    "somme_entiers = 0\n",
    "somme_pairs = 0\n",
    "somme_carres = 0\n",
    "\n",
    "i = 0\n",
    "while i < 1000:\n",
    "  i = i + 1\n",
    "  somme_entiers = somme_entiers + i\n",
    "\n",
    "i = 0\n",
    "while i < 2000:\n",
    "  i = i + 2\n",
    "  somme_pairs = somme_pairs + i\n",
    "\n",
    "i = 0\n",
    "while i < 100:\n",
    "  i = i + 1\n",
    "  somme_carres = somme_carres + i**2\n",
    "\n",
    "print(f\"Somme des nombres entiers: {somme_entiers}\")\n",
    "print(f\"Somme des nombres pairs:   {somme_pairs}\")\n",
    "print(f\"Somme des nombres carrés:  {somme_carres}\")"
   ]
  },
  {
   "cell_type": "markdown",
   "metadata": {
    "id": "1mZktv7sMeNh"
   },
   "source": [
    "## Exercice 4\n",
    "Écrire un programme qui offre certains choix à l'utilisateur et affiche de l'information dépendant de son choix. Voici un exemple d'utilisation:\n",
    "```\n",
    "**************************************\n",
    "**  Bienvenue dans mon application  **\n",
    "**************************************\n",
    "\n",
    "Veuillez entrer un choix:\n",
    "E. Entête avec mes informations\n",
    "H. Hello World\n",
    "0. Quitter\n",
    "\n",
    "Veuillez entrer un choix: z\n",
    "Ce choix est invalide.\n",
    "Veuillez entrer un choix: E\n",
    "******************************\n",
    "**  Nom: Huneault, Sébastien\n",
    "**  Ville: Gatineau\n",
    "******************************\n",
    "Veuillez entrer un choix: H\n",
    "Hello World!\n",
    "Veuillez entrer un choix: H\n",
    "Hello World!\n",
    "Veuillez entrer un choix: 0\n",
    "Au revoir\n",
    "```"
   ]
  },
  {
   "cell_type": "code",
   "execution_count": null,
   "metadata": {
    "colab": {
     "base_uri": "https://localhost:8080/"
    },
    "executionInfo": {
     "elapsed": 6629,
     "status": "ok",
     "timestamp": 1705177025165,
     "user": {
      "displayName": "Sébastien Huneault",
      "userId": "03514398344720775700"
     },
     "user_tz": 300
    },
    "id": "exxhr2TXdAr-",
    "outputId": "f9c94519-aeca-47ae-caae-f88bad749cf0"
   },
   "outputs": [
    {
     "name": "stdout",
     "output_type": "stream",
     "text": [
      "**************************************\n",
      "**  Bienvenue dans mon application  **\n",
      "**************************************\n",
      "\n",
      "E. Entête avec mes informations\n",
      "H. Hello World\n",
      "0. Quitter\n",
      "Veuillez entrer un choix: z\n",
      "\n",
      "Ce choix est invalide.\n",
      "Veuillez entrer un choix: E\n",
      "\n",
      "************************\n",
      "** Nom  : Mathique, Math\n",
      "** Ville: Carthésie\n",
      "************************\n",
      "Veuillez entrer un choix: H\n",
      "\n",
      "Hello World!\n",
      "Veuillez entrer un choix: 0\n",
      "\n",
      "Au revoir.\n"
     ]
    }
   ],
   "source": [
    "print(\"**************************************\")\n",
    "print(\"**  Bienvenue dans mon application  **\")\n",
    "print(\"**************************************\")\n",
    "print()\n",
    "print(\"E. Entête avec mes informations\")\n",
    "print(\"H. Hello World\")\n",
    "print(\"0. Quitter\")\n",
    "choix = \"\"\n",
    "\n",
    "while True:\n",
    "  choix = input(\"Veuillez entrer un choix: \")\n",
    "  print()\n",
    "  if choix == \"0\":\n",
    "    print(\"Au revoir.\")\n",
    "    break\n",
    "  elif choix == \"E\":\n",
    "    print(\"************************\")\n",
    "    print(\"** Nom  : Mathique, Math\")\n",
    "    print(\"** Ville: Carthésie\")\n",
    "    print(\"************************\")\n",
    "  elif choix == \"H\":\n",
    "    print(\"Hello World!\")\n",
    "  else:\n",
    "    print(\"Ce choix est invalide.\")\n"
   ]
  },
  {
   "cell_type": "markdown",
   "metadata": {
    "id": "jkH8nwe-Oq3i"
   },
   "source": [
    "## Exercice 5\n",
    "Écrire un programme de remboursement de dettes. Le montant des paiements sera demandé à l'utilisateur jusqu'à ce que la dette soit totalement remboursée. Voici un exemple d'exécution:\n",
    "```\n",
    "Dette: 50.00$\n",
    "Quel est le montant du remboursement? 10\n",
    "Dette: 40.00$\n",
    "Quel est le montant du remboursement? 12.34\n",
    "Dette: 27.66$\n",
    "Quel est le montant du remboursement? 0.66\n",
    "Dette: 27.00$\n",
    "Quel est le montant du remboursement? 28\n",
    "Dette remboursée en 4 paiements.\n",
    "```\n",
    "⭐ Pour un défi supplémentaire, afficher le montant payé en excédent à la toute fin."
   ]
  },
  {
   "cell_type": "code",
   "execution_count": null,
   "metadata": {
    "colab": {
     "base_uri": "https://localhost:8080/"
    },
    "executionInfo": {
     "elapsed": 10044,
     "status": "ok",
     "timestamp": 1705177120957,
     "user": {
      "displayName": "Sébastien Huneault",
      "userId": "03514398344720775700"
     },
     "user_tz": 300
    },
    "id": "D4owpiGkOzq9",
    "outputId": "541b221f-8dc3-48de-e6ed-4d4dddc1455c"
   },
   "outputs": [
    {
     "name": "stdout",
     "output_type": "stream",
     "text": [
      "Dette: 50.00 $\n",
      "Quel est le montant du remboursement? 10\n",
      "Dette: 40.00 $\n",
      "Quel est le montant du remboursement? 12.34\n",
      "Dette: 27.66 $\n",
      "Quel est le montant du remboursement? 0.66\n",
      "Dette: 27.00 $\n",
      "Quel est le montant du remboursement? 28\n",
      "Dette remboursée en 4 paiements.\n"
     ]
    }
   ],
   "source": [
    "dette = 50.0\n",
    "nb_paiements = 0\n",
    "\n",
    "while dette > 0:\n",
    "  print(f\"Dette: {dette:.2f} $\")\n",
    "  remboursement = float(input(\"Quel est le montant du remboursement? \"))\n",
    "  nb_paiements = nb_paiements + 1\n",
    "  dette = dette - remboursement\n",
    "\n",
    "print(f\"Dette remboursée en {nb_paiements} paiements.\")"
   ]
  },
  {
   "cell_type": "markdown",
   "metadata": {
    "id": "P_JXL79KDPUE"
   },
   "source": [
    "## ⭐ Exercice 6\n",
    "Écrire une fonction pour afficher les premiers nombres de la suite de Fibonnacci jusqu'à ce que la valeur soit supérieur à $n$. Plusieurs variables seront nécessaires pour se souvenir des deux nombres précédents. Le code ressemblera à ceci:\n",
    "```python\n",
    "def fibonnacci_max(n):\n",
    "  # votre code ici\n",
    "\n",
    "fibbonacci_max(20)\n",
    "```\n",
    "Et le résultat sera:\n",
    "```\n",
    "1\n",
    "1\n",
    "2\n",
    "3\n",
    "5\n",
    "8\n",
    "13\n",
    "21\n",
    "```"
   ]
  },
  {
   "cell_type": "code",
   "execution_count": null,
   "metadata": {
    "colab": {
     "base_uri": "https://localhost:8080/"
    },
    "executionInfo": {
     "elapsed": 194,
     "status": "ok",
     "timestamp": 1705177306383,
     "user": {
      "displayName": "Sébastien Huneault",
      "userId": "03514398344720775700"
     },
     "user_tz": 300
    },
    "id": "zT21zzc6Dl9n",
    "outputId": "c6b3b96b-4464-42d4-f08a-f3942ece2304"
   },
   "outputs": [
    {
     "name": "stdout",
     "output_type": "stream",
     "text": [
      "1\n",
      "1\n",
      "2\n",
      "3\n",
      "5\n",
      "8\n",
      "13\n",
      "21\n"
     ]
    }
   ],
   "source": [
    "def fibonnacci_max(n):\n",
    "  # Le début\n",
    "  nb1 = 1\n",
    "  nb2 = 1\n",
    "\n",
    "  print(nb1)\n",
    "  while n > nb1:\n",
    "    print(nb2)\n",
    "    temp = nb2\n",
    "    nb2 = nb1 + nb2\n",
    "    nb1 = temp\n",
    "\n",
    "fibonnacci_max(20)"
   ]
  },
  {
   "cell_type": "markdown",
   "metadata": {
    "id": "xteLEPrrDvl1"
   },
   "source": [
    "## ⭐ Exercice 7\n",
    "Écrire un programme pour approximer la valeur d'une racine carrée $a$ à l'aide de la formule de Héron $$x_{n+1} = \\frac{1}{2}\\bigg(x_n + \\frac{a}{x_n}\\bigg)$$\n",
    "Quitter la boucle lorsque la tolérance a été atteinte."
   ]
  },
  {
   "cell_type": "code",
   "execution_count": null,
   "metadata": {
    "id": "dzIWVtuaEJ_6"
   },
   "outputs": [],
   "source": [
    "import math\n",
    "\n",
    "tolerance = 0.000000001\n",
    "a = 81\n",
    "x = 1\n",
    "diff = math.inf\n",
    "\n",
    "while abs(diff) > tolerance:\n",
    "  calcul = .5 * (x + (a / x))\n",
    "  diff = calcul - x\n",
    "  x = calcul\n",
    "  print(calcul)"
   ]
  },
  {
   "cell_type": "markdown",
   "metadata": {
    "id": "4IYCOkt4TFri"
   },
   "source": [
    "# Le module `random`"
   ]
  },
  {
   "cell_type": "markdown",
   "metadata": {
    "id": "Cvw3VGOmTHuM"
   },
   "source": [
    "## Exercice 1\n",
    "Écrire un programme qui tire 1000 nombres aléatoires entre 0 et 1 et qui compte le nombre de fois que le nombre tiré a été au-dessus de 0,5. Afficher le pourcentage avec une précision de 4 décimales."
   ]
  },
  {
   "cell_type": "code",
   "execution_count": null,
   "metadata": {
    "colab": {
     "base_uri": "https://localhost:8080/"
    },
    "executionInfo": {
     "elapsed": 187,
     "status": "ok",
     "timestamp": 1705177759600,
     "user": {
      "displayName": "Sébastien Huneault",
      "userId": "03514398344720775700"
     },
     "user_tz": 300
    },
    "id": "Er4bSiG5THbl",
    "outputId": "15ea025a-a289-449e-a320-c52bc65b6c6e"
   },
   "outputs": [
    {
     "name": "stdout",
     "output_type": "stream",
     "text": [
      "Quantité: 49.9000\n"
     ]
    }
   ],
   "source": [
    "import random\n",
    "\n",
    "qte = 0\n",
    "\n",
    "for i in range(1000):\n",
    "  nombre = random.random()\n",
    "  if nombre > 0.5:\n",
    "    qte = qte + 1\n",
    "\n",
    "print(f\"Quantité: {qte/1000*100:.4f}\")"
   ]
  },
  {
   "cell_type": "markdown",
   "metadata": {
    "id": "WXCa6_csTYYr"
   },
   "source": [
    "## Exercice 2\n",
    "Si on lance deux dés, la probabilité théorique que la somme soit 7 est de 1/6. Écrire un programme qui lance deux dés 6 000 fois et qui compte le nombre de fois que la somme a été 7. Est-ce que le résultat est proche de 1 000?"
   ]
  },
  {
   "cell_type": "code",
   "execution_count": null,
   "metadata": {
    "colab": {
     "base_uri": "https://localhost:8080/"
    },
    "executionInfo": {
     "elapsed": 148,
     "status": "ok",
     "timestamp": 1705177817357,
     "user": {
      "displayName": "Sébastien Huneault",
      "userId": "03514398344720775700"
     },
     "user_tz": 300
    },
    "id": "KlVYDaXvTZio",
    "outputId": "d1c451dd-89d3-47cf-d735-24b267380ba8"
   },
   "outputs": [
    {
     "name": "stdout",
     "output_type": "stream",
     "text": [
      "Quantité: 1009\n"
     ]
    }
   ],
   "source": [
    "import random\n",
    "\n",
    "qte = 0\n",
    "n = 6000\n",
    "\n",
    "for i in range(n):\n",
    "  de1 = random.randint(1, 6)\n",
    "  de2 = random.randint(1, 6)\n",
    "  if de1 + de2 == 7:\n",
    "    qte = qte + 1\n",
    "\n",
    "print(f\"Quantité: {qte}\")"
   ]
  },
  {
   "cell_type": "markdown",
   "metadata": {
    "id": "1cPJe4S0Tivh"
   },
   "source": [
    "## Exercice 3\n",
    "Écrire un programme qui compte combien de lancers est nécessaire avant d'obtenir un 6 sur un dé."
   ]
  },
  {
   "cell_type": "code",
   "execution_count": null,
   "metadata": {
    "colab": {
     "base_uri": "https://localhost:8080/"
    },
    "executionInfo": {
     "elapsed": 257,
     "status": "ok",
     "timestamp": 1705177860953,
     "user": {
      "displayName": "Sébastien Huneault",
      "userId": "03514398344720775700"
     },
     "user_tz": 300
    },
    "id": "RZvM_UbXUIl1",
    "outputId": "ccd44d2c-400f-45f8-8645-ef3463faf476"
   },
   "outputs": [
    {
     "name": "stdout",
     "output_type": "stream",
     "text": [
      "Un 6 a été obtenu après 9 lancers.\n"
     ]
    }
   ],
   "source": [
    "import random\n",
    "\n",
    "de = 0\n",
    "qte = 0\n",
    "\n",
    "while de != 6:\n",
    "  de = random.randint(1, 6)\n",
    "  qte = qte + 1\n",
    "\n",
    "print(f\"Un 6 a été obtenu après {qte} lancers.\")"
   ]
  },
  {
   "cell_type": "markdown",
   "metadata": {
    "id": "6owc2jtGUJKx"
   },
   "source": [
    "## Exercice 4\n",
    "Inclure l'exercice précédent dans une boucle `for` pour exécuter celui-ci 1000 fois. Calculer la moyenne des lancers nécessaires.\n",
    "\n",
    "⭐ Pour un défi supplémentaire, aussi afficher la quantité minimale et maximale des lancers."
   ]
  },
  {
   "cell_type": "code",
   "execution_count": null,
   "metadata": {
    "colab": {
     "base_uri": "https://localhost:8080/"
    },
    "executionInfo": {
     "elapsed": 130,
     "status": "ok",
     "timestamp": 1705178222026,
     "user": {
      "displayName": "Sébastien Huneault",
      "userId": "03514398344720775700"
     },
     "user_tz": 300
    },
    "id": "08f6z0o1UslG",
    "outputId": "68aec48b-7bbf-496d-af13-9e3edd576283"
   },
   "outputs": [
    {
     "name": "stdout",
     "output_type": "stream",
     "text": [
      "Un 6 a été obtenu après 6.044 lancers en moyenne.\n",
      "Nombre de lancers minimum: 1.\n",
      "Nombre de lancers maximum: 46.\n"
     ]
    }
   ],
   "source": [
    "import random\n",
    "import math\n",
    "\n",
    "n = 1000\n",
    "\n",
    "somme = 0\n",
    "lancers_min = math.inf\n",
    "lancers_max = -math.inf\n",
    "\n",
    "for i in range(n):\n",
    "  qte = 0\n",
    "  de = 0\n",
    "\n",
    "  while de != 6:\n",
    "    de = random.randint(1, 6)\n",
    "    qte = qte + 1\n",
    "  somme = somme + qte\n",
    "\n",
    "  lancers_min = min(lancers_min, qte)\n",
    "  lancers_max = max(lancers_max, qte)\n",
    "\n",
    "print(f\"Un 6 a été obtenu après {somme / n} lancers en moyenne.\")\n",
    "print(f\"Nombre de lancers minimum: {lancers_min}.\")\n",
    "print(f\"Nombre de lancers maximum: {lancers_max}.\")"
   ]
  },
  {
   "cell_type": "markdown",
   "metadata": {
    "id": "k77fdt4MWGIw"
   },
   "source": [
    "## Exercice 5\n",
    "Écrire un jeu pour faire deviner le nombre tiré aléatoirement entre 1 et 100. Le programme devra indiquer si la réponse est plus haute ou plus basse. Lorsque la bonne réponse est trouvée, afficher la quantité d'essais requis. Un exemple de résultat:\n",
    "```\n",
    "Veuillez entrer un nombre: 50\n",
    "** Plus haut\n",
    "Veuillez entrer un nombre: 75\n",
    "** Plus bas\n",
    "Veuillez entrer un nombre: 66\n",
    "** Bravo!\n",
    "** Vous avez trouvé en 3 essais\n",
    "```"
   ]
  },
  {
   "cell_type": "code",
   "execution_count": null,
   "metadata": {
    "colab": {
     "base_uri": "https://localhost:8080/"
    },
    "executionInfo": {
     "elapsed": 14669,
     "status": "ok",
     "timestamp": 1705178339387,
     "user": {
      "displayName": "Sébastien Huneault",
      "userId": "03514398344720775700"
     },
     "user_tz": 300
    },
    "id": "Tw7aQFNmWYgw",
    "outputId": "4d595a3c-7c72-4578-aa0d-511bb1347d8b"
   },
   "outputs": [
    {
     "name": "stdout",
     "output_type": "stream",
     "text": [
      "Veuillez entrer un nombre: 50\n",
      "** Plus haut\n",
      "Veuillez entrer un nombre: 75\n",
      "** Plus bas\n",
      "Veuillez entrer un nombre: 62\n",
      "** Plus haut\n",
      "Veuillez entrer un nombre: 68\n",
      "** Plus bas\n",
      "Veuillez entrer un nombre: 65\n",
      "** Plus haut\n",
      "Veuillez entrer un nombre: 66\n",
      "** Plus haut\n",
      "Veuillez entrer un nombre: 67\n",
      "** Bravo!\n",
      "Vous avez trouvé en 7 essais.\n"
     ]
    }
   ],
   "source": [
    "import random\n",
    "\n",
    "# Nombre gagnant\n",
    "gagnant = random.randint(1, 100)\n",
    "\n",
    "n = 0\n",
    "\n",
    "while True:\n",
    "  choix = int(input(\"Veuillez entrer un nombre: \"))\n",
    "  n = n + 1\n",
    "  if choix == gagnant:\n",
    "    print(\"** Bravo!\")\n",
    "    print(f\"Vous avez trouvé en {n} essais.\")\n",
    "    break\n",
    "  elif choix < gagnant:\n",
    "    print(\"** Plus haut\")\n",
    "  else:\n",
    "    print(\"** Plus bas\")"
   ]
  },
  {
   "cell_type": "markdown",
   "metadata": {
    "id": "6WqddHLKWZFe"
   },
   "source": [
    "## Exercice 6\n",
    "Écrire un jeu de roche-papier-ciseaux où le programme sera l'adversaire. Les règles du jeu sont:\n",
    "- La roche bat les ciseaux\n",
    "- Les ciseaux battent le papier\n",
    "- Le papier bat la roche\n",
    "- Si les choix sont identiques, c'est une égalité"
   ]
  },
  {
   "cell_type": "code",
   "execution_count": null,
   "metadata": {
    "colab": {
     "base_uri": "https://localhost:8080/"
    },
    "executionInfo": {
     "elapsed": 3660,
     "status": "ok",
     "timestamp": 1705178636445,
     "user": {
      "displayName": "Sébastien Huneault",
      "userId": "03514398344720775700"
     },
     "user_tz": 300
    },
    "id": "91aSDXuOW338",
    "outputId": "1663b76c-d20b-42f3-9c93-88ced16d4e65"
   },
   "outputs": [
    {
     "name": "stdout",
     "output_type": "stream",
     "text": [
      "Roche, Papier ou Ciseau? Roche\n",
      "Ciseau contre Roche\n",
      "Roche bat Ciseau : Gagné!\n"
     ]
    }
   ],
   "source": [
    "import random\n",
    "\n",
    "# 1 = Roche\n",
    "# 2 = Papier\n",
    "# 3 = Ciseau\n",
    "robot = random.randint(1, 3)\n",
    "if robot == 1:\n",
    "  robot = \"Roche\"\n",
    "elif robot == 2:\n",
    "  robot = \"Papier\"\n",
    "else:\n",
    "  robot = \"Ciseau\"\n",
    "\n",
    "choix = input(\"Roche, Papier ou Ciseau? \")\n",
    "\n",
    "print(f\"{robot} contre {choix}\")\n",
    "\n",
    "if choix == robot:\n",
    "  print(f\"Égalité!\")\n",
    "elif (choix == \"Roche\" and robot == \"Ciseau\") or (choix == \"Papier\" and robot == \"Roche\") or (choix == \"Ciseau\" and robot == \"Papier\"):\n",
    "  print(f\"{choix} bat {robot} : Gagné!\")\n",
    "else:\n",
    "  print(f\"{choix} perd contre {robot} : Perdu...\")"
   ]
  },
  {
   "cell_type": "markdown",
   "metadata": {
    "id": "I74LyrWDlagA"
   },
   "source": [
    "# Les listes et les tuples"
   ]
  },
  {
   "cell_type": "markdown",
   "metadata": {
    "id": "V1QgkKYmlb_n"
   },
   "source": [
    "## Exercice 1\n",
    "Créer une liste de 3 à 5 jeux ou passe-temps et les afficher à la console à l'aide de deux boucles:\n",
    "- Une boucle *traditionnelle*, avec l'index et `len()`\n",
    "- Une boucle *python*, sans index et sans `len()`"
   ]
  },
  {
   "cell_type": "code",
   "execution_count": null,
   "metadata": {
    "colab": {
     "base_uri": "https://localhost:8080/"
    },
    "executionInfo": {
     "elapsed": 145,
     "status": "ok",
     "timestamp": 1705179263090,
     "user": {
      "displayName": "Sébastien Huneault",
      "userId": "03514398344720775700"
     },
     "user_tz": 300
    },
    "id": "ZjSl9An5lrD_",
    "outputId": "01230e59-2cac-42d5-8bde-ce06115d63a8"
   },
   "outputs": [
    {
     "name": "stdout",
     "output_type": "stream",
     "text": [
      "Boucle traditionnelle\n",
      "- cartes\n",
      "- monopoly\n",
      "- poker\n",
      "\n",
      "Boucle python\n",
      "- cartes\n",
      "- monopoly\n",
      "- poker\n"
     ]
    }
   ],
   "source": [
    "jeux = [\"cartes\", \"monopoly\", \"poker\"]\n",
    "\n",
    "# Boucle traditionnelle\n",
    "print(\"Boucle traditionnelle\")\n",
    "for i in range(len(jeux)):\n",
    "  jeu = jeux[i]\n",
    "\n",
    "  print(f\"- {jeu}\")\n",
    "print()\n",
    "\n",
    "# Boucle python\n",
    "print(\"Boucle python\")\n",
    "for jeu in jeux:\n",
    "  print(f\"- {jeu}\")"
   ]
  },
  {
   "cell_type": "markdown",
   "metadata": {
    "id": "E4ui2kwSl1Uy"
   },
   "source": [
    "## Exercice 2\n",
    "Demander à l'utilisateur d'entrer un nombre et l'ajouter dans la liste. Répéter l'opération jusqu'à ce que le nombre entré soit zéro. Par la suite, afficher les informations suivantes au sujet des nombres:\n",
    "- Le nombre d'éléments\n",
    "- La valeur minimale\n",
    "- La valeur maximale\n",
    "- La somme des éléments\n",
    "- La liste croissante\n",
    "- La liste décroissante"
   ]
  },
  {
   "cell_type": "code",
   "execution_count": null,
   "metadata": {
    "colab": {
     "base_uri": "https://localhost:8080/"
    },
    "executionInfo": {
     "elapsed": 4534,
     "status": "ok",
     "timestamp": 1705179379797,
     "user": {
      "displayName": "Sébastien Huneault",
      "userId": "03514398344720775700"
     },
     "user_tz": 300
    },
    "id": "A6omRjMWmr0V",
    "outputId": "d7338d56-3b7f-4457-c885-cd6654d659b0"
   },
   "outputs": [
    {
     "name": "stdout",
     "output_type": "stream",
     "text": [
      "Quel est le nombre? 1\n",
      "Quel est le nombre? 5\n",
      "Quel est le nombre? 3\n",
      "Quel est le nombre? 4\n",
      "Quel est le nombre? 2\n",
      "Quel est le nombre? 0\n",
      "\n",
      "Nombre d'éléments: 5\n",
      "Valeur minimale: 1\n",
      "Valeur maximale: 5\n",
      "Somme: 15\n",
      "Liste croissante: [1, 2, 3, 4, 5]\n",
      "Liste décroissante: [5, 4, 3, 2, 1]\n"
     ]
    }
   ],
   "source": [
    "nombres = []\n",
    "\n",
    "while True:\n",
    "  nombre = int(input(\"Quel est le nombre? \"))\n",
    "  if nombre == 0:\n",
    "    break\n",
    "  nombres.append(nombre)\n",
    "\n",
    "print()\n",
    "print(f\"Nombre d'éléments: {len(nombres)}\")\n",
    "print(f\"Valeur minimale: {min(nombres)}\")\n",
    "print(f\"Valeur maximale: {max(nombres)}\")\n",
    "print(f\"Somme: {sum(nombres)}\")\n",
    "print(f\"Liste croissante: {sorted(nombres)}\")\n",
    "print(f\"Liste décroissante: {sorted(nombres, reverse=True)}\")"
   ]
  },
  {
   "cell_type": "markdown",
   "metadata": {
    "id": "icyJvFX999y7"
   },
   "source": [
    "## Exercice 3\n",
    "Écrire un programme qui calcule et affiche les paramètres d'un vecteur passant du premier point au second. Utiliser des tuples pour définir les coordonnées."
   ]
  },
  {
   "cell_type": "code",
   "execution_count": null,
   "metadata": {
    "colab": {
     "base_uri": "https://localhost:8080/"
    },
    "executionInfo": {
     "elapsed": 4280,
     "status": "ok",
     "timestamp": 1705179526399,
     "user": {
      "displayName": "Sébastien Huneault",
      "userId": "03514398344720775700"
     },
     "user_tz": 300
    },
    "id": "xN0B-fQzmJU7",
    "outputId": "d481e8e6-5fde-4f47-a7e0-8bb7ec7cb4ca"
   },
   "outputs": [
    {
     "name": "stdout",
     "output_type": "stream",
     "text": [
      "Premier point du premier vecteur: 4\n",
      "Second point du premier vecteur: 4\n",
      "Premier point du second vecteur: 3\n",
      "Second point du second vecteur: 3\n",
      "(-1, -1)\n"
     ]
    }
   ],
   "source": [
    "x1 = int(input(\"Premier point du premier vecteur: \"))\n",
    "y1 = int(input(\"Second point du premier vecteur: \"))\n",
    "x2 = int(input(\"Premier point du second vecteur: \"))\n",
    "y2 = int(input(\"Second point du second vecteur: \"))\n",
    "\n",
    "vecteur_1 = (x1, y1)\n",
    "vecteur_2 = (x2, y2)\n",
    "vecteur_final = ( (vecteur_2[0] - vecteur_1[0], vecteur_2[1] - vecteur_1[1]) )\n",
    "print(vecteur_final)"
   ]
  },
  {
   "cell_type": "markdown",
   "metadata": {
    "id": "1VZRZV0O-z1t"
   },
   "source": [
    "## Exercice 4\n",
    "Réécrire l'[exercice 5](#scrollTo=k77fdt4MWGIw) pour afficher à la fin la liste des choix entrés par l'utilisateur ainsi que la différence par rapport à la réponse finale.\n",
    "Voici un exemple de résultat:\n",
    "```\n",
    "Veuillez entrer un nombre: 50\n",
    "** Plus haut\n",
    "Veuillez entrer un nombre: 75\n",
    "** Plus bas\n",
    "Veuillez entrer un nombre: 66\n",
    "** Bravo!\n",
    "** Vous avez trouvé en 3 essais\n",
    "** - 50 (-16)\n",
    "** - 75 (+9)\n",
    "** - 66 (+0)\n",
    "```"
   ]
  },
  {
   "cell_type": "code",
   "execution_count": null,
   "metadata": {
    "colab": {
     "base_uri": "https://localhost:8080/"
    },
    "executionInfo": {
     "elapsed": 4755,
     "status": "ok",
     "timestamp": 1705179827384,
     "user": {
      "displayName": "Sébastien Huneault",
      "userId": "03514398344720775700"
     },
     "user_tz": 300
    },
    "id": "unHktNOy_133",
    "outputId": "c67ef9dd-6fe4-41de-fcdc-60beebf4c371"
   },
   "outputs": [
    {
     "name": "stdout",
     "output_type": "stream",
     "text": [
      "Veuillez entrer un nombre: 50\n",
      "** Plus bas\n",
      "Veuillez entrer un nombre: 25\n",
      "** Plus haut\n",
      "Veuillez entrer un nombre: 32\n",
      "** Bravo!\n",
      "Vous avez trouvé en 7 essais.\n",
      "** - 50 (+18)\n",
      "** - 25 (-7)\n",
      "** - 32 (+0)\n"
     ]
    }
   ],
   "source": [
    "import random\n",
    "\n",
    "# Nombre gagnant\n",
    "gagnant = random.randint(1, 100)\n",
    "\n",
    "nombres = []\n",
    "\n",
    "while True:\n",
    "  choix = int(input(\"Veuillez entrer un nombre: \"))\n",
    "  nombres.append(choix)\n",
    "  if choix == gagnant:\n",
    "    break\n",
    "  elif choix < gagnant:\n",
    "    print(\"** Plus haut\")\n",
    "  else:\n",
    "    print(\"** Plus bas\")\n",
    "\n",
    "\n",
    "print(\"** Bravo!\")\n",
    "print(f\"Vous avez trouvé en {n} essais.\")\n",
    "for nombre in nombres:\n",
    "  print(f\"** - {nombre} ({nombre - gagnant:+})\")"
   ]
  },
  {
   "cell_type": "markdown",
   "metadata": {
    "id": "ZWLFdcUVAseN"
   },
   "source": [
    "## ⭐ Exercice 5\n",
    "❗C'est un exercice difficile\n",
    "\n",
    "Écrire un algorithme pour ordonner manuellement les nombres contenus dans une liste. L'algorithme utilisé sera *bubble sort*, qui consiste à boucler à travers une liste, comparer l'élément présent avec le suivant et les inverser si nécessaire. On continue de boucler tant qu'un changement a été effectué."
   ]
  },
  {
   "cell_type": "code",
   "execution_count": null,
   "metadata": {
    "colab": {
     "base_uri": "https://localhost:8080/"
    },
    "executionInfo": {
     "elapsed": 170,
     "status": "ok",
     "timestamp": 1705180037788,
     "user": {
      "displayName": "Sébastien Huneault",
      "userId": "03514398344720775700"
     },
     "user_tz": 300
    },
    "id": "rfdZ4Y9zBP9j",
    "outputId": "2e2ba34f-0cea-4357-9db4-0547ace83207"
   },
   "outputs": [
    {
     "name": "stdout",
     "output_type": "stream",
     "text": [
      "[1, 2, 3, 4, 5, 6, 7, 8, 9]\n"
     ]
    }
   ],
   "source": [
    "liste = [ 5, 9, 2, 7, 8, 1, 3, 6, 4 ]  # Liste à ordonner\n",
    "\n",
    "modification = True\n",
    "\n",
    "while modification == True:\n",
    "  modification = False\n",
    "\n",
    "  for i in range(len(liste)-1):\n",
    "    # Comparer 2 éléments collés\n",
    "    nb1 = liste[i]\n",
    "    nb2 = liste[i+1]\n",
    "    if nb1 > nb2:\n",
    "      # Échanger\n",
    "      liste[i] = nb2\n",
    "      liste[i+1] = nb1\n",
    "      # Indication qu'un changement a été effectué\n",
    "      modification = True\n",
    "\n",
    "print(liste)"
   ]
  },
  {
   "cell_type": "markdown",
   "metadata": {
    "id": "oNMah3mAGc8T"
   },
   "source": [
    "# Les dictionnaires et tableaux imbriqués"
   ]
  },
  {
   "cell_type": "markdown",
   "metadata": {
    "id": "HyypXVxqGqFa"
   },
   "source": [
    "## Exercice 1\n",
    "Écrire un programme qui demande le nom d'un étudiant et sa note. Mettre ces informations dans une dictionnaire et afficher le dictionnaire. Par la suite, indiquer dans un message si l'étudiant a réussi le cours ou non (60% ou plus)."
   ]
  },
  {
   "cell_type": "code",
   "execution_count": null,
   "metadata": {
    "colab": {
     "base_uri": "https://localhost:8080/"
    },
    "executionInfo": {
     "elapsed": 2387,
     "status": "ok",
     "timestamp": 1705180260477,
     "user": {
      "displayName": "Sébastien Huneault",
      "userId": "03514398344720775700"
     },
     "user_tz": 300
    },
    "id": "VJXRw90ZGgAG",
    "outputId": "53385549-dae9-4344-bd96-5f9eb2901db4"
   },
   "outputs": [
    {
     "name": "stdout",
     "output_type": "stream",
     "text": [
      "Quel est le nom? Sébastien\n",
      "Quelle est sa note? 75\n",
      "{'nom': 'Sébastien', 'note': 75.0}\n",
      "Félicitations Sébastien, tu as réussi avec 75.0!\n"
     ]
    }
   ],
   "source": [
    "nom = input(\"Quel est le nom? \")\n",
    "note = float(input(\"Quelle est sa note? \"))\n",
    "\n",
    "infos = {\n",
    "    \"nom\": nom,\n",
    "    \"note\": note\n",
    "}\n",
    "print(infos)\n",
    "\n",
    "if infos[\"note\"] >= 60:\n",
    "  print(f\"Félicitations {infos['nom']}, tu as réussi avec {infos['note']}!\")\n",
    "else:\n",
    "  print(f\"Désolé {infos['nom']}, tu as échoué avec {infos['note']}...\")"
   ]
  },
  {
   "cell_type": "markdown",
   "metadata": {
    "id": "jdX_zIheNalp"
   },
   "source": [
    "## Exercice 2\n",
    "Modifier l'exercice précédent afin de pouvoir demander plusieurs notes à l'utilisateur. Lors que l'utilisateur entrera du vide (la touche Entrée seulement), le programme arrêtera de demander, calculera la moyenne et affichera si l'étudiant a réussi le cours ou non.\n",
    "\n",
    "⭐ Défi: Utiliser un tableau imbriqué ressemblant à ceci:\n",
    "```python\n",
    "etudiant = {\n",
    "  \"nom\": \"Le Nom\",\n",
    "  \"notes\": [ 50, 70, 45, 92 ]\n",
    "}\n",
    "```"
   ]
  },
  {
   "cell_type": "code",
   "execution_count": null,
   "metadata": {
    "colab": {
     "base_uri": "https://localhost:8080/"
    },
    "executionInfo": {
     "elapsed": 7077,
     "status": "ok",
     "timestamp": 1705180376875,
     "user": {
      "displayName": "Sébastien Huneault",
      "userId": "03514398344720775700"
     },
     "user_tz": 300
    },
    "id": "WlbOU6IQN9N1",
    "outputId": "ced0521a-317c-4fa8-88d7-cca4dde13e55"
   },
   "outputs": [
    {
     "name": "stdout",
     "output_type": "stream",
     "text": [
      "Quel est le nom? Sébastien\n",
      "Quelle est sa note? 25.2\n",
      "Quelle est sa note? 30\n",
      "Quelle est sa note? 60\n",
      "Quelle est sa note? 70\n",
      "Quelle est sa note? \n",
      "{'nom': 'Sébastien', 'notes': [25.2, 30.0, 60.0, 70.0]}\n",
      "Désolé Sébastien, tu as échoué avec une moyenne de 46.3...\n"
     ]
    }
   ],
   "source": [
    "nom = input(\"Quel est le nom? \")\n",
    "infos = {\n",
    "    \"nom\": nom,\n",
    "    \"notes\": []\n",
    "}\n",
    "\n",
    "while True:\n",
    "  note = input(\"Quelle est sa note? \")\n",
    "  if note == \"\":\n",
    "    break\n",
    "  infos[\"notes\"].append(float(note))\n",
    "\n",
    "print(infos)\n",
    "\n",
    "moyenne = sum(infos[\"notes\"]) / len(infos[\"notes\"])\n",
    "\n",
    "if moyenne >= 60:\n",
    "  print(f\"Félicitations {infos['nom']}, tu as réussi avec une moyenne de {moyenne}!\")\n",
    "else:\n",
    "  print(f\"Désolé {infos['nom']}, tu as échoué avec une moyenne de {moyenne}...\")"
   ]
  },
  {
   "cell_type": "markdown",
   "metadata": {
    "id": "qaTN8PwdN91z"
   },
   "source": [
    "## Exercice 3\n",
    "Écrire un programme qui demande les informations d'une carte d'identité (nom, prénom, numéro de carte), les consignes dans un dictionnaire et l'affiche à l'écran."
   ]
  },
  {
   "cell_type": "code",
   "execution_count": null,
   "metadata": {
    "colab": {
     "base_uri": "https://localhost:8080/"
    },
    "executionInfo": {
     "elapsed": 7194,
     "status": "ok",
     "timestamp": 1705180483672,
     "user": {
      "displayName": "Sébastien Huneault",
      "userId": "03514398344720775700"
     },
     "user_tz": 300
    },
    "id": "r09XbUpcORTy",
    "outputId": "e772d285-eee6-4745-9f68-ddfbc5545a44"
   },
   "outputs": [
    {
     "name": "stdout",
     "output_type": "stream",
     "text": [
      "Quel est votre nom? Huneault\n",
      "Quel est votre prénom? Sébastien\n",
      "Quel est le numéro de la carte? SH12345\n",
      "{'nom': 'Huneault', 'prenom': 'Sébastien', 'carte': 'SH12345'}\n"
     ]
    }
   ],
   "source": [
    "nom = input(\"Quel est votre nom? \")\n",
    "prenom = input(\"Quel est votre prénom? \")\n",
    "carte = input(\"Quel est le numéro de la carte? \")\n",
    "\n",
    "infos = {\n",
    "    \"nom\": nom,\n",
    "    \"prenom\": prenom,\n",
    "    \"carte\": carte\n",
    "}\n",
    "print(infos)"
   ]
  },
  {
   "cell_type": "markdown",
   "metadata": {
    "id": "glWa5xo3ORxG"
   },
   "source": [
    "## Exercice 4\n",
    "À l'aide de tableaux imbriqués, créez l'arbre généalogique de la famille suivante.\n",
    "> Tristan (52 ans) et Hélène (51 ans) sont les parents de Jonathan et Sophie, 8 et 10 ans. Jonathan possède un animal de compagnie, Moumou, un hamster. Sophie possède deux souris, Mimi et Lily, ainsi qu'un poisson, FlipFlop.\n"
   ]
  },
  {
   "cell_type": "code",
   "execution_count": null,
   "metadata": {
    "id": "-hxuAqzkOc1E"
   },
   "outputs": [],
   "source": [
    "arbre = {\n",
    "    \"Père\": {\n",
    "        \"Nom\": \"Tristan\",\n",
    "        \"Age\": 52\n",
    "    },\n",
    "    \"Mère\": {\n",
    "        \"Nom\": \"Hélène\",\n",
    "        \"Age\": 51\n",
    "    },\n",
    "    \"Enfants\": [\n",
    "        {\n",
    "            \"Nom\": \"Jonathan\",\n",
    "            \"Age\": 8,\n",
    "            \"Animaux\": [\n",
    "                \"Moumou\"\n",
    "            ]\n",
    "        },\n",
    "        {\n",
    "            \"Nom\": \"Sophie\",\n",
    "            \"Age\": 10,\n",
    "            \"Animaux\": [\n",
    "                \"Mimi\",\n",
    "                \"Lily\",\n",
    "                \"FlipFlop\"\n",
    "            ]\n",
    "        }\n",
    "    ]\n",
    "}"
   ]
  }
 ],
 "metadata": {
  "colab": {
   "provenance": []
  },
  "kernelspec": {
   "display_name": "Python 3 (ipykernel)",
   "language": "python",
   "name": "python3"
  },
  "language_info": {
   "codemirror_mode": {
    "name": "ipython",
    "version": 3
   },
   "file_extension": ".py",
   "mimetype": "text/x-python",
   "name": "python",
   "nbconvert_exporter": "python",
   "pygments_lexer": "ipython3",
   "version": "3.11.7"
  }
 },
 "nbformat": 4,
 "nbformat_minor": 4
}
