{
 "cells": [
  {
   "cell_type": "markdown",
   "metadata": {
    "id": "hpzrTKc1_EDG"
   },
   "source": [
    "# Introduction à Python"
   ]
  },
  {
   "cell_type": "markdown",
   "metadata": {
    "id": "vTQaYTJNAg1I"
   },
   "source": [
    "## 📘 Syntaxe de base\n"
   ]
  },
  {
   "cell_type": "markdown",
   "metadata": {
    "id": "6kK8278OJoN7"
   },
   "source": [
    "`print()` est utilisé pour afficher du texte à la console.  \n",
    "Les lignes débutant par `#` sont des commentaires et sont ignorées par Python."
   ]
  },
  {
   "cell_type": "code",
   "execution_count": null,
   "metadata": {
    "colab": {
     "base_uri": "https://localhost:8080/"
    },
    "executionInfo": {
     "elapsed": 175,
     "status": "ok",
     "timestamp": 1704983561061,
     "user": {
      "displayName": "Sébastien Huneault",
      "userId": "03514398344720775700"
     },
     "user_tz": 300
    },
    "id": "aRJkPTgAD400",
    "outputId": "1e79c91e-3cc8-4377-976f-91d669817bfd"
   },
   "outputs": [
    {
     "name": "stdout",
     "output_type": "stream",
     "text": [
      "42\n"
     ]
    }
   ],
   "source": [
    "# TODO: Afficher la réponse à la grande question sur la vie, l'Univers et le reste\n",
    "print(42)\n"
   ]
  },
  {
   "cell_type": "markdown",
   "metadata": {
    "id": "LbW-Pn7AVMML"
   },
   "source": [
    "### Les opérateurs"
   ]
  },
  {
   "cell_type": "markdown",
   "metadata": {
    "id": "AxSJOH3-D5HJ"
   },
   "source": [
    "La liste des opérateurs mathématiques est identifiée dans ce tableau\n",
    "\n",
    "Symbole|Description|Représentation mathématique|Exemple|Résultat\n",
    "--|--|--|--|--\n",
    "+|Addition|$x + y$|3 + 4|7\n",
    "-|Soustraction|$x - y$|10 - 4|6\n",
    "\\*|Multiplication|$x \\times y$|5 \\* 3|15\n",
    "/|Division|$x \\div y$|15 / 2|7.5\n",
    "**|Exposant|$x^y$|2 \\*\\* 3|8\n",
    "//|Division entière|$\\lfloor x \\div y \\rfloor$|15 // 2|7\n",
    "%|Modulo|$x \\ mod \\ y$|15 % 2|1"
   ]
  },
  {
   "cell_type": "code",
   "execution_count": null,
   "metadata": {
    "colab": {
     "base_uri": "https://localhost:8080/"
    },
    "executionInfo": {
     "elapsed": 133,
     "status": "ok",
     "timestamp": 1704983770894,
     "user": {
      "displayName": "Sébastien Huneault",
      "userId": "03514398344720775700"
     },
     "user_tz": 300
    },
    "id": "H9u5bLFl-01d",
    "outputId": "35f48a52-87b3-45f8-a86f-834dafac2854"
   },
   "outputs": [
    {
     "name": "stdout",
     "output_type": "stream",
     "text": [
      "7\n",
      "6\n",
      "1361129467683753853853498429727072845824\n"
     ]
    }
   ],
   "source": [
    "# TODO: Afficher les résultats avec print et les opérateurs\n",
    "print(3 + 4)\n",
    "print(10 - 4)\n",
    "\n",
    "# Nb atomes dans l'univers\n",
    "print(2**130)"
   ]
  },
  {
   "cell_type": "markdown",
   "metadata": {
    "id": "6Subs8QWDcqW"
   },
   "source": [
    "Les parenthèses peuvent être utilisées pour la priorité d'opération. Par exemple :\n",
    "- $3 + 4 \\times 8$\n",
    "- $(3 + 4) \\times 8$"
   ]
  },
  {
   "cell_type": "code",
   "execution_count": null,
   "metadata": {
    "colab": {
     "base_uri": "https://localhost:8080/"
    },
    "executionInfo": {
     "elapsed": 7,
     "status": "ok",
     "timestamp": 1704983906876,
     "user": {
      "displayName": "Sébastien Huneault",
      "userId": "03514398344720775700"
     },
     "user_tz": 300
    },
    "id": "5nZOkCMBDfCa",
    "outputId": "d95d4932-c6d9-4c45-c74f-63f6738e000c"
   },
   "outputs": [
    {
     "name": "stdout",
     "output_type": "stream",
     "text": [
      "35\n",
      "56\n",
      "2.3333333333333335\n"
     ]
    }
   ],
   "source": [
    "# TODO: Afficher les résultats sans et avec les parenthèses\n",
    "print( 3 + 4 * 8 )\n",
    "print( (3 + 4) * 8)\n",
    "print( 7 / 3 )"
   ]
  },
  {
   "cell_type": "markdown",
   "metadata": {
    "id": "EELSW5HBEYkc"
   },
   "source": [
    "❗Attention à ce que le code soit aligné correctement sur la même colonne. Le code suivant\n",
    "```python\n",
    "print(3 + 4)\n",
    " print(4 + 5)\n",
    "print(5 + 6)\n",
    "```\n",
    "donnera une erreur de syntaxe."
   ]
  },
  {
   "cell_type": "code",
   "execution_count": null,
   "metadata": {
    "colab": {
     "base_uri": "https://localhost:8080/"
    },
    "executionInfo": {
     "elapsed": 140,
     "status": "ok",
     "timestamp": 1704984107276,
     "user": {
      "displayName": "Sébastien Huneault",
      "userId": "03514398344720775700"
     },
     "user_tz": 300
    },
    "id": "7lz1hiYxEi81",
    "outputId": "930b26f6-dfc0-4d98-f61a-249fac18c5c8"
   },
   "outputs": [
    {
     "name": "stdout",
     "output_type": "stream",
     "text": [
      "7\n",
      "9\n",
      "11\n"
     ]
    }
   ],
   "source": [
    "# TODO: Exécuter le code pour pour obtenir une erreur de syntaxe.\n",
    "#       Par la suite, corriger l'erreur.\n",
    "print(3 + 4)\n",
    "print(4 + 5)\n",
    "print(5 + 6)"
   ]
  },
  {
   "cell_type": "markdown",
   "metadata": {
    "id": "7KWdcJa2LNjD"
   },
   "source": [
    "Les nombres décimaux doivent être écrits avec un `.` et leur résultat peut être approximatif."
   ]
  },
  {
   "cell_type": "code",
   "execution_count": null,
   "metadata": {
    "colab": {
     "base_uri": "https://localhost:8080/"
    },
    "executionInfo": {
     "elapsed": 132,
     "status": "ok",
     "timestamp": 1704984205157,
     "user": {
      "displayName": "Sébastien Huneault",
      "userId": "03514398344720775700"
     },
     "user_tz": 300
    },
    "id": "wUB4QrQoLNGc",
    "outputId": "9fa362cc-8f90-4420-b2e0-f5f964d956d1"
   },
   "outputs": [
    {
     "name": "stdout",
     "output_type": "stream",
     "text": [
      "3.141592654\n",
      "0.30000000000000004\n"
     ]
    }
   ],
   "source": [
    "# TODO: Afficher une approximation de PI\n",
    "print(3.141592654)\n",
    "\n",
    "# TODO: Afficher l'addition de 0.1 et de 0.2.\n",
    "print(0.1 + .2)"
   ]
  },
  {
   "cell_type": "markdown",
   "metadata": {
    "id": "RoGFRuei9Vk0"
   },
   "source": [
    "### 📄 Exercices\n",
    "Faire les exercices de la section **La syntaxe de base**"
   ]
  },
  {
   "cell_type": "markdown",
   "metadata": {
    "id": "b8stU0n_H3Xx"
   },
   "source": [
    "## 📘 Les variables"
   ]
  },
  {
   "cell_type": "markdown",
   "metadata": {
    "id": "L6Y1eTi6H64E"
   },
   "source": [
    "Les variables permettent de stocker une valeur afin de la réutiliser plus tard. Pour assigner la valeur `3` à la variable `x`, on utilise le symbole `=`.\n",
    "```python\n",
    "x = 3\n",
    "```\n",
    "On pourra par la suite afficher ou utiliser cette variable.\n",
    "```python\n",
    "print(x)\n",
    "```"
   ]
  },
  {
   "cell_type": "code",
   "execution_count": null,
   "metadata": {
    "colab": {
     "base_uri": "https://localhost:8080/"
    },
    "executionInfo": {
     "elapsed": 239,
     "status": "ok",
     "timestamp": 1704985017835,
     "user": {
      "displayName": "Sébastien Huneault",
      "userId": "03514398344720775700"
     },
     "user_tz": 300
    },
    "id": "cDNpqrSsH4pr",
    "outputId": "5c27e957-a5aa-4324-c008-e8d5401b2248"
   },
   "outputs": [
    {
     "name": "stdout",
     "output_type": "stream",
     "text": [
      "5\n"
     ]
    }
   ],
   "source": [
    "# TODO: Assigner la valeur 3 à la variable x et l'afficher.\n",
    "x = 5\n",
    "print(x)"
   ]
  },
  {
   "cell_type": "markdown",
   "metadata": {
    "id": "jRD6OrDtIuM9"
   },
   "source": [
    "### Nommer une variable"
   ]
  },
  {
   "cell_type": "markdown",
   "metadata": {
    "id": "_HRs247lJdt0"
   },
   "source": [
    "Le nom des variables peuvent être des lettres ou des mots. Ceux-ci doivent être significatifs pour aider à la compréhension du programme. Elles peuvent:\n",
    "- être de n'importe quelle longueur;\n",
    "- contenir des lettres et des chiffres;\n",
    "- contenir des lettres minuscules et majuscules.\n",
    "\n",
    "Cependant, elles doivent:\n",
    "- débuter par une lettre;\n",
    "- ne pas contenir d'espaces;\n",
    "- ne pas contenir de caractères spéciaux autre que le souligné `_`."
   ]
  },
  {
   "cell_type": "markdown",
   "metadata": {
    "id": "3Rl8qYO-Kt4C"
   },
   "source": [
    "Par exemple, l'exercice 5 passe de:\n",
    "```python\n",
    "print(-4.9 * 4**2 + 10 * 4 + 50)\n",
    "```\n",
    "à:\n",
    "```python\n",
    "t = 4\n",
    "print(-4.9 * t**2 + 10 * t + 50)\n",
    "```\n",
    "ou même à:\n",
    "```python\n",
    "temps = 4\n",
    "print(-4.9 * temps**2 + 10 * temps + 50)\n",
    "```"
   ]
  },
  {
   "cell_type": "markdown",
   "metadata": {
    "id": "4YtH2OYxMU9V"
   },
   "source": [
    "Essayez avec l'exercice 6 en remplaçant la valeur de $x$ par une variable dans le calcul\n",
    "$$f(x) = \\frac{x^2 -2}{3(3x + 2)²}$$\n",
    "lorsque $x = -2$"
   ]
  },
  {
   "cell_type": "code",
   "execution_count": null,
   "metadata": {
    "colab": {
     "base_uri": "https://localhost:8080/"
    },
    "executionInfo": {
     "elapsed": 158,
     "status": "ok",
     "timestamp": 1704985247105,
     "user": {
      "displayName": "Sébastien Huneault",
      "userId": "03514398344720775700"
     },
     "user_tz": 300
    },
    "id": "8jhXHHtfLqjQ",
    "outputId": "ebc27ee0-10b0-4740-a667-68a24e1a82dc"
   },
   "outputs": [
    {
     "name": "stdout",
     "output_type": "stream",
     "text": [
      "0.0265282583621684\n"
     ]
    }
   ],
   "source": [
    "# TODO: Utiliser des variables dans le calcul.\n",
    "x = 5\n",
    "print( (x**2 - 2) / (3 * (3 * x + 2) ** 2) )"
   ]
  },
  {
   "cell_type": "markdown",
   "metadata": {
    "id": "RdWpSgiBN1dZ"
   },
   "source": [
    "#### Constantes\n",
    "Certaines variables ne devraient pas changer au cours d'un programme. On les appelle **constantes**. Une convention est de nommer la variable en n'utilisant que des majuscules. Par exemple, on pourrait définir le taux de la TPS et de la TVQ comme suit:\n",
    "```python\n",
    "TAUX_TPS = 0.05\n",
    "TAUX_TVQ = 0.09975\n",
    "```"
   ]
  },
  {
   "cell_type": "markdown",
   "metadata": {
    "id": "e5AIjv0VOJvq"
   },
   "source": [
    "### Les types de variables"
   ]
  },
  {
   "cell_type": "markdown",
   "metadata": {
    "id": "ugJvkDrBOL6D"
   },
   "source": [
    "Plusieurs types de variables sont disponibles en Python.\n",
    "\n",
    "Nom (terme en programmation)|Description|Exemple\n",
    "--|--|--\n",
    "Entier (*integer*, *int*)|Nombre entier, positif ou négatif|`42`\n",
    "Nombre décimal (*float*)|Nombre à virgule|`12.34`\n",
    "Booléen (*boolean*, *bool*)|Vrai ou Faux|`True`, `False`\n",
    "Texte (*string*, *str*)|Chaîne de caractères, texte|`\"Bonjour le monde!\"`<br>`'Bonjour le monde!'`\n",
    "Liste ou tableau (*list*, *array*)|Plusieurs valeurs dans une variable|`[4, 8, 72, 45]`\n",
    "❗Un texte (*string*) peut être entouré de guillements `\"` ou d'apostrophes `'`."
   ]
  },
  {
   "cell_type": "code",
   "execution_count": null,
   "metadata": {
    "colab": {
     "base_uri": "https://localhost:8080/"
    },
    "executionInfo": {
     "elapsed": 149,
     "status": "ok",
     "timestamp": 1704985570616,
     "user": {
      "displayName": "Sébastien Huneault",
      "userId": "03514398344720775700"
     },
     "user_tz": 300
    },
    "id": "t7JTha6tOLXL",
    "outputId": "1937c8c3-c54a-4b9c-8474-16b92eaec9af"
   },
   "outputs": [
    {
     "name": "stdout",
     "output_type": "stream",
     "text": [
      "42\n",
      "12.34\n",
      "True\n",
      "Bonjour le monde!\n",
      "Bonjour Lévis!\n",
      "[4, 8, 72, 45]\n"
     ]
    }
   ],
   "source": [
    "print(42)                   # Nombre entier\n",
    "print(12.34)                # Nombre à virgule\n",
    "print(True)                 # Booléen\n",
    "print(\"Bonjour le monde!\")  # Texte\n",
    "print('Bonjour Lévis!')     # Autre texte\n",
    "print([4, 8, 72, 45])       # Liste"
   ]
  },
  {
   "cell_type": "markdown",
   "metadata": {
    "id": "dF9L5ECSQOtd"
   },
   "source": [
    "Grâce à l'opérateur `+`, il sera même possible de **concaténer** du texte ensemble:\n",
    "```python\n",
    "ville = \"Lévis\"\n",
    "print(\"Nous sommes à \" + ville)\n",
    "```"
   ]
  },
  {
   "cell_type": "code",
   "execution_count": null,
   "metadata": {
    "colab": {
     "base_uri": "https://localhost:8080/"
    },
    "executionInfo": {
     "elapsed": 157,
     "status": "ok",
     "timestamp": 1704985625141,
     "user": {
      "displayName": "Sébastien Huneault",
      "userId": "03514398344720775700"
     },
     "user_tz": 300
    },
    "id": "w0kVWZkcQcrz",
    "outputId": "a2daff36-c7c5-4bce-f242-f7eeb4dca3e4"
   },
   "outputs": [
    {
     "name": "stdout",
     "output_type": "stream",
     "text": [
      "Nous sommes à Gatineau\n"
     ]
    }
   ],
   "source": [
    "ville = \"Gatineau\"\n",
    "print(\"Nous sommes à \" + ville)"
   ]
  },
  {
   "cell_type": "markdown",
   "metadata": {
    "id": "WXsujMFhRWor"
   },
   "source": [
    "### Conversion de type"
   ]
  },
  {
   "cell_type": "markdown",
   "metadata": {
    "id": "bXskSROqQ28O"
   },
   "source": [
    "Cependant, il n'est pas possible d'additionner du texte et des nombres sans convertir les valeurs. Le code suivant donnera une erreur:\n",
    "```python\n",
    "age = 2024 - 1972\n",
    "print(\"Mon age est \" + age)\n",
    "```\n",
    "car `age` est un nombre qu'on veut concaténer (`+`) avec du texte."
   ]
  },
  {
   "cell_type": "code",
   "execution_count": null,
   "metadata": {
    "colab": {
     "base_uri": "https://localhost:8080/",
     "height": 198
    },
    "executionInfo": {
     "elapsed": 196,
     "status": "error",
     "timestamp": 1704985677674,
     "user": {
      "displayName": "Sébastien Huneault",
      "userId": "03514398344720775700"
     },
     "user_tz": 300
    },
    "id": "5ScyDE-wRC2k",
    "outputId": "37e6c697-8357-4f41-9c16-94db2f9c7018"
   },
   "outputs": [
    {
     "ename": "TypeError",
     "evalue": "can only concatenate str (not \"int\") to str",
     "output_type": "error",
     "traceback": [
      "\u001b[0;31m---------------------------------------------------------------------------\u001b[0m",
      "\u001b[0;31mTypeError\u001b[0m                                 Traceback (most recent call last)",
      "\u001b[0;32m<ipython-input-19-375b03035539>\u001b[0m in \u001b[0;36m<cell line: 2>\u001b[0;34m()\u001b[0m\n\u001b[1;32m      1\u001b[0m \u001b[0mage\u001b[0m \u001b[0;34m=\u001b[0m \u001b[0;36m2024\u001b[0m \u001b[0;34m-\u001b[0m \u001b[0;36m1972\u001b[0m\u001b[0;34m\u001b[0m\u001b[0;34m\u001b[0m\u001b[0m\n\u001b[0;32m----> 2\u001b[0;31m \u001b[0mprint\u001b[0m\u001b[0;34m(\u001b[0m\u001b[0;34m\"Mon age est \"\u001b[0m \u001b[0;34m+\u001b[0m \u001b[0mage\u001b[0m\u001b[0;34m)\u001b[0m\u001b[0;34m\u001b[0m\u001b[0;34m\u001b[0m\u001b[0m\n\u001b[0m",
      "\u001b[0;31mTypeError\u001b[0m: can only concatenate str (not \"int\") to str"
     ]
    }
   ],
   "source": [
    "age = 2024 - 1972\n",
    "print(\"Mon age est \" + age)"
   ]
  },
  {
   "cell_type": "markdown",
   "metadata": {
    "id": "mAajAMF6Rdbb"
   },
   "source": [
    "Pour convertir une valeur vers un autre type, plusieurs fonctions sont à notre disposition.\n",
    "\n",
    "Fonction|Description|Exemple --> Résultat\n",
    "--|--|--\n",
    "`int()`|Converti en entier|`int(\"36\")` --> `36`\n",
    "`float()`|Converti en décimal|`float(36)` --> `36.0`\n",
    "`str()`|Converti en texte|`str(36)` --> `\"36\"`\n",
    "`bool()`|Converti en booléen|`bool(36)` --> `True`\n",
    "\n",
    "On pourra alors modifier le code précédent pour convertir la variable `age` en texte avant de l'afficher:\n",
    "```python\n",
    "age = 2024 - 1972\n",
    "print(\"Mon age est \" + int(age))\n",
    "```"
   ]
  },
  {
   "cell_type": "code",
   "execution_count": null,
   "metadata": {
    "colab": {
     "base_uri": "https://localhost:8080/"
    },
    "executionInfo": {
     "elapsed": 142,
     "status": "ok",
     "timestamp": 1704985774177,
     "user": {
      "displayName": "Sébastien Huneault",
      "userId": "03514398344720775700"
     },
     "user_tz": 300
    },
    "id": "INsh01Y4RFqk",
    "outputId": "aece8013-1a81-4e12-b2fe-cd5428d71ff7"
   },
   "outputs": [
    {
     "name": "stdout",
     "output_type": "stream",
     "text": [
      "Mon age est 52\n"
     ]
    }
   ],
   "source": [
    "# TODO: Corriger le code suivant en convertissant la variable \"age\".\n",
    "age = 2024 - 1972\n",
    "print(\"Mon age est \" + str(age))"
   ]
  },
  {
   "cell_type": "markdown",
   "metadata": {
    "id": "Y04Xv1rPpEO5"
   },
   "source": [
    "### Un premier programme interractif avec fonction `input()`"
   ]
  },
  {
   "cell_type": "markdown",
   "metadata": {
    "id": "vdievxxcpKzc"
   },
   "source": [
    "Jusqu'à présent, pour modifier le résultat du programme, on doit modifier le code. Avec la fonction `input()`, il est possible de demander de l'information à l'utilisateur. Le résultat entré par l'utilisateur pourra alors être assigné à une variable.\n",
    "\n",
    "❗Le type de variable retourné par `input()` est du texte, un *string*.\n",
    "\n",
    "```python\n",
    "nom = input(\"Quel est votre nom? \")\n",
    "print(\"Bonjour \" + nom)\n",
    "```"
   ]
  },
  {
   "cell_type": "code",
   "execution_count": null,
   "metadata": {
    "colab": {
     "base_uri": "https://localhost:8080/"
    },
    "executionInfo": {
     "elapsed": 7079,
     "status": "ok",
     "timestamp": 1704986105687,
     "user": {
      "displayName": "Sébastien Huneault",
      "userId": "03514398344720775700"
     },
     "user_tz": 300
    },
    "id": "Xj-Ht4pBpzyi",
    "outputId": "61113647-4450-488d-ed32-80bb5dd966a8"
   },
   "outputs": [
    {
     "name": "stdout",
     "output_type": "stream",
     "text": [
      "Quel est votre nom? Sébastien\n",
      "Quelle est la ville? Lévis\n",
      "Signé par Sébastien à Lévis\n"
     ]
    }
   ],
   "source": [
    "# TODO: Écrire un programme qui demande votre nom et votre ville.\n",
    "#       Afficher par la suite une formule de signature.\n",
    "#       Ex. Signé par LE_NOM à LA_VILLE\n",
    "nom = input(\"Quel est votre nom? \")\n",
    "ville = input(\"Quelle est la ville? \")\n",
    "print(\"Signé par \" + nom + \" à \" + ville)"
   ]
  },
  {
   "cell_type": "markdown",
   "metadata": {
    "id": "sx7g3B40qOAc"
   },
   "source": [
    "Pourrait-on écrire un programme mathématique plus intéressant? Essayons d'écrire un programme qui multiplie par `5` un nombre demandé par `input()`. Tester le programme avec $8 \\times 5$."
   ]
  },
  {
   "cell_type": "code",
   "execution_count": null,
   "metadata": {
    "colab": {
     "base_uri": "https://localhost:8080/"
    },
    "executionInfo": {
     "elapsed": 1667,
     "status": "ok",
     "timestamp": 1704986288246,
     "user": {
      "displayName": "Sébastien Huneault",
      "userId": "03514398344720775700"
     },
     "user_tz": 300
    },
    "id": "tks4xz5rqf9p",
    "outputId": "ef5a5601-4815-4213-b179-d89af603db05"
   },
   "outputs": [
    {
     "name": "stdout",
     "output_type": "stream",
     "text": [
      "Quel est le nombre? 8\n",
      "40.0\n"
     ]
    }
   ],
   "source": [
    "# TODO: 1. Demander le nombre à multiplier par 5.\n",
    "nombre = float(input(\"Quel est le nombre? \"))\n",
    "\n",
    "# TODO: 2. Afficher le résultat de la multiplication.\n",
    "print(5 * nombre)"
   ]
  },
  {
   "cell_type": "markdown",
   "metadata": {
    "id": "Ig1XjODrrmy9"
   },
   "source": [
    "Selon comment le programme a été écrit, deux résultats pourraient être obtenus:\n",
    "1. 40\n",
    "2. 88888\n",
    "\n",
    "Si on se souvient du rappel [plus haut](#scrollTo=Y04Xv1rPpEO5&line=1&uniqifier=1), le type de variable retourné par `input()` est un *string*. Il est possible que, sans le vouloir, le calcul effectué ait été:\n",
    "```python\n",
    "print(\"8\" * 5)\n",
    "```\n",
    "ou en d'autres mots, multiplier une chaîne de caractère 5 fois, d'où le résultat 88888."
   ]
  },
  {
   "cell_type": "markdown",
   "metadata": {
    "id": "AXQ7KYb9s48R"
   },
   "source": [
    "### Quelques astuces avec `print()`"
   ]
  },
  {
   "cell_type": "markdown",
   "metadata": {
    "id": "fVDkDRdms7e5"
   },
   "source": [
    "La fonction `print()` est très utile pour afficher du texte. Cependant, il peut être difficile de voir le résultat final lorsque le texte est très long. Par exemple:\n",
    "```python\n",
    "cote_a = 3\n",
    "cote_b = 4\n",
    "cote_c = (cote_a**2 + cote_b**2) ** (1/2)\n",
    "print(\"L'hypoténuse du triangle \" + str(cote_a) + \", \" + str(cote_b) + \" est de \" + str(cote_c) + \".\")\n",
    "```\n",
    "\n",
    "Bien que fonctionnel, ce n'est pas très élégant. On peut utiliser ce qu'on appelle des *f-string* pour rendre le tout plus facile à lire. Pour utiliser cette fonctionnalité, on ajoute le caractère `f` en avant de la chaîne de caractère et on entoure les variables par des acollades `{` `}`.\n",
    "```python\n",
    "cote_a = 3\n",
    "cote_b = 4\n",
    "cote_c = (cote_a**2 + cote_b**2) ** (1/2)\n",
    "print(f\"L'hypoténuse du triangle {cote_a}, {cote_b} est de {cote_c}.\")\n",
    "```"
   ]
  },
  {
   "cell_type": "code",
   "execution_count": null,
   "metadata": {
    "colab": {
     "base_uri": "https://localhost:8080/"
    },
    "executionInfo": {
     "elapsed": 3624,
     "status": "ok",
     "timestamp": 1704225303344,
     "user": {
      "displayName": "Sébastien Huneault",
      "userId": "03514398344720775700"
     },
     "user_tz": 300
    },
    "id": "HDQK9sZSuyPL",
    "outputId": "f4c1503d-088b-4191-9571-2f8810556fa6"
   },
   "outputs": [
    {
     "name": "stdout",
     "output_type": "stream",
     "text": [
      "Quel est votre prénom? Sebastien\n",
      "Bonjour Sebastien, quel est votre nom? Huneault\n",
      "Bonjour Sebastien Huneault, heureux de faire votre connaissance.\n"
     ]
    }
   ],
   "source": [
    "# TODO: Utiliser des f-string au lieu de la concaténation.\n",
    "prenom = input(\"Quel est votre prénom? \")\n",
    "nom = input(\"Bonjour \" + prenom + \", quel est votre nom? \")\n",
    "print(\"Bonjour \" + prenom + \" \" + nom + \", heureux de faire votre connaissance.\")"
   ]
  },
  {
   "cell_type": "markdown",
   "metadata": {
    "id": "lwCrhVwT3snY"
   },
   "source": [
    "❗Avec des *f-string*, il est également possible d'afficher facilement les nombres en notation scientifique ou avec une précision décimale.\n",
    "```python\n",
    "x = 4.176**10\n",
    "print(f\"{x}\")       # 1612890.5595595774\n",
    "print(f\"{x:e}\")     # 1.612891e+06\n",
    "print(f\"{x:.2e}\")   # 1.61e+06\n",
    "print(f\"{x:.2f}\")   # 1612890.56\n",
    "```\n"
   ]
  },
  {
   "cell_type": "markdown",
   "metadata": {
    "id": "TFBnI7bjOfKX"
   },
   "source": [
    "Une autre astuce permet d'avoir plusieurs instructions `print()` qui s'affichent sur la même ligne. Normalement, le code\n",
    "```python\n",
    "print(\"Sébastien\")\n",
    "print(\"Olivier\")\n",
    "print(\"Charles\")\n",
    "```\n",
    "donnerait\n",
    "```\n",
    "Sébastien\n",
    "Olivier\n",
    "Charles\n",
    "```\n",
    "Mais en ajoutant un paramètre `end=\"\"`\n",
    "```python\n",
    "print(\"Sébastien\", end=\"\")\n",
    "print(\"Olivier\", end=\"\")\n",
    "print(\"Charles\", end=\"\")\n",
    "```\n",
    "le résultat change pour\n",
    "```\n",
    "SébastienOlivierCharles\n",
    "```"
   ]
  },
  {
   "cell_type": "code",
   "execution_count": null,
   "metadata": {
    "colab": {
     "base_uri": "https://localhost:8080/"
    },
    "executionInfo": {
     "elapsed": 1475,
     "status": "ok",
     "timestamp": 1704988668324,
     "user": {
      "displayName": "Sébastien Huneault",
      "userId": "03514398344720775700"
     },
     "user_tz": 300
    },
    "id": "ff-2sl0hPEe5",
    "outputId": "d156557a-eded-4782-a905-556e16176224"
   },
   "outputs": [
    {
     "name": "stdout",
     "output_type": "stream",
     "text": [
      "Quel est le nombre? 2\n",
      "7\n"
     ]
    }
   ],
   "source": [
    "x = input(\"Quel est le nombre? \")\n",
    "x = int(x)\n",
    "x = x + 5\n",
    "print(x)"
   ]
  },
  {
   "cell_type": "markdown",
   "metadata": {
    "id": "nspbKd8-9eX7"
   },
   "source": [
    "### 📄 Exercices\n",
    "Faire les exercices de la section **Les variables, `print()` et `input()`**"
   ]
  },
  {
   "cell_type": "markdown",
   "metadata": {
    "id": "4lTk6Q8CPqSR"
   },
   "source": [
    "## 📘 Les fonctions"
   ]
  },
  {
   "cell_type": "markdown",
   "metadata": {
    "id": "bnMtOb-VJgiI"
   },
   "source": [
    "### Les fonctions de base"
   ]
  },
  {
   "cell_type": "markdown",
   "metadata": {
    "id": "pO6fLMgIJsi4"
   },
   "source": [
    "En plus des fonctions `print()` et `input()`, Python quelques fonctions pour effectuer des calculs de base.\n",
    "\n",
    "Fonction|Description|Exemple\n",
    "--|--|--\n",
    "`abs(nombre)`|Retourne la valeur absolue d'un nombre|`abs(3)` retourne `3`<br>`abs(-7)` retourne `7`\n",
    "`min(nombre1, nombre2, ...)`<br>`max(nombre1, nombre2, ...)`|Retourne la valeur minimale (ou maximale) de plusieurs nombres|`min(-3, 5, 7)` retourne `-3`<br>`max(-1, 3, 9, 4)` retourne `9`\n",
    "`sum(nombre1, nombre2, ...)`|Retourne la somme des nombres|`sum(2, -3, 4)` donne `3`\n",
    "`round(nombre, [précision])`|Retourne le nombre arrondi à l'entier le plus près. Si le paramètre `précision` (optionnel) est spécifié,<br>retourne le nombre de chiffres après la virgule souhaité.|`round(3.14159)` retourne `3`<br>`round(3.14159, 4)` retourne `3.1416`<br>`round(3.5)` retourne `4`\n",
    "\n",
    "Ces fonctions sont déjà intégrées dans Python et peuvent être utilisées immédiatement.\n",
    "```python\n",
    "print(abs(-7))            # Affiche 7\n",
    "print(sum(1, 2, 3, 4, 5)) # Affiche 15\n",
    "```"
   ]
  },
  {
   "cell_type": "markdown",
   "metadata": {
    "id": "N7AbeXQbJpMF"
   },
   "source": [
    "### Les fonctions mathématiques"
   ]
  },
  {
   "cell_type": "markdown",
   "metadata": {
    "id": "b-fzDUEgMLTe"
   },
   "source": [
    "En plus des fonctions intégrées, Python possède une panoplie de modules pour étendre ses capacités. Avant de pouvoir utiliser des modules et les fonctions qu'ils contiennent, ils doivent être **importées**. Le module `math` possède plusieurs fonctions trigonométriques en plus de constantes très utiles. Quelques fonctions utiles:\n",
    "- `math.sin()`, `math.asin()`\n",
    "- `math.cos()`, `math.acos()`\n",
    "- `math.tan()`, `math.atan()`\n",
    "- `math.pi`, `math.e`, `math.tau`\n",
    "\n",
    "Pour importer le module `math` et pouvoir l'utiliser, on écrit la ligne suivante:\n",
    "```python\n",
    "import math\n",
    "```\n",
    "Seulement après on pourra utiliser ses fonctions:\n",
    "```python\n",
    "import math\n",
    "print(math.sin(math.pi / 2))\n",
    "```"
   ]
  },
  {
   "cell_type": "code",
   "execution_count": null,
   "metadata": {
    "colab": {
     "base_uri": "https://localhost:8080/"
    },
    "executionInfo": {
     "elapsed": 1716,
     "status": "ok",
     "timestamp": 1704989138282,
     "user": {
      "displayName": "Sébastien Huneault",
      "userId": "03514398344720775700"
     },
     "user_tz": 300
    },
    "id": "wWgSqiwFNfMA",
    "outputId": "addcd297-ef2f-4111-be3a-69fd6be95dd2"
   },
   "outputs": [
    {
     "name": "stdout",
     "output_type": "stream",
     "text": [
      "Quel est le rayon? 1\n",
      "L'aire du cercle est de 3.14\n"
     ]
    }
   ],
   "source": [
    "# TODO: Utiliser le module math pour la valeur de pi.\n",
    "import math\n",
    "PI = math.pi\n",
    "\n",
    "rayon = float(input(\"Quel est le rayon? \"))\n",
    "aire = PI * rayon**2\n",
    "print(f\"L'aire du cercle est de {aire:.2f}\")"
   ]
  },
  {
   "cell_type": "markdown",
   "metadata": {
    "id": "22qmNcIV_kw_"
   },
   "source": [
    "### Les fonctions personnalisées"
   ]
  },
  {
   "cell_type": "markdown",
   "metadata": {
    "id": "H4iNyWlNEKm3"
   },
   "source": [
    "#### Définir et utiliser une fonction"
   ]
  },
  {
   "cell_type": "markdown",
   "metadata": {
    "id": "MmtknN0P_tr2"
   },
   "source": [
    "Les fonctions en Python peuvent ressembler à des petits programmes réutilisables. Une fois définie, elles pourront être appelées pour effectuer les opérations et possiblement retourner un résultat. Par exemple, on pourrait créer une fonction qui calcule l'hypoténuse d'un triangle rectangle comme ceci:\n",
    "```python\n",
    "def calculer_hypotenuse(cote_a, cote_b):\n",
    "  hypotenuse = (cote_a**2 + cote_b**2) ** 0.5\n",
    "  return hypotenuse\n",
    "```\n",
    "Par la suite, on pourrait utiliser la fonction pour obtenir l'hypoténuse en **appelant** la fonction `calculer_hypotenuse()` avec des valeurs:\n",
    "```python\n",
    "cote_c = calculer_hypotenuse(3, 4)\n",
    "print(f\"Le triangle 3, 4 a une hypoténuse de {cote_c}\")\n",
    "```\n",
    "\n",
    "❗Les fonctions doivent être définies avant d'être utilisées. Ainsi, le code suivant donnerait une erreur:\n",
    "```python\n",
    "cote_c = calculer_hypotenuse(3, 4)\n",
    "print(f\"Le triangle 3, 4 a une hypoténuse de {cote_c}\")\n",
    "\n",
    "def calculer_hypotenuse(cote_a, cote_b):\n",
    "  hypotenuse = (cote_a**2 + cote_b**2) ** 0.5\n",
    "  return hypotenuse\n",
    "```\n",
    "De plus, l'indentation du code (les espaces en début de lignes) sont **très** importantes. Ces espaces indiquent au langage Python le contenu de la fonction. La touche `tabulation` peut être utilisée pour obtenir une indentation uniforme."
   ]
  },
  {
   "cell_type": "code",
   "execution_count": null,
   "metadata": {
    "colab": {
     "base_uri": "https://localhost:8080/"
    },
    "executionInfo": {
     "elapsed": 131,
     "status": "ok",
     "timestamp": 1704989296956,
     "user": {
      "displayName": "Sébastien Huneault",
      "userId": "03514398344720775700"
     },
     "user_tz": 300
    },
    "id": "E-s-g_l6R6Cy",
    "outputId": "20b0f2a1-8091-4b9a-bd0b-b78200f4caff"
   },
   "outputs": [
    {
     "name": "stdout",
     "output_type": "stream",
     "text": [
      "Le triangle 3, 4 a une hypoténuse de 5.0\n"
     ]
    }
   ],
   "source": [
    "def calculer_hypotenuse(cote_a, cote_b):\n",
    "  hypotenuse = (cote_a**2 + cote_b**2) ** 0.5\n",
    "  return hypotenuse\n",
    "cote_c = calculer_hypotenuse(3, 4)\n",
    "print(f\"Le triangle 3, 4 a une hypoténuse de {cote_c}\")"
   ]
  },
  {
   "cell_type": "code",
   "execution_count": null,
   "metadata": {
    "colab": {
     "base_uri": "https://localhost:8080/"
    },
    "executionInfo": {
     "elapsed": 2583,
     "status": "ok",
     "timestamp": 1704989735315,
     "user": {
      "displayName": "Sébastien Huneault",
      "userId": "03514398344720775700"
     },
     "user_tz": 300
    },
    "id": "BmA_q62oBMjV",
    "outputId": "313e7865-ad92-41b6-d995-274fc3fac3cd"
   },
   "outputs": [
    {
     "name": "stdout",
     "output_type": "stream",
     "text": [
      "Quelle est la temperature? 33.7\n",
      "33.7 celsius = 92.66 fahrenheit\n",
      "33.7 fahrenheit = 0.94 celsius\n"
     ]
    }
   ],
   "source": [
    "# TODO: Terminer le programme en remplaçant le calcul par une fonction.\n",
    "# TODO: Demander la température à l'utilisateur.\n",
    "# DÉFI: Demander la température à l'utilisateur et accepter les nombres décimaux.\n",
    "def celsius_en_fahrenheit(temp):\n",
    "  return temp * 9 / 5 + 32\n",
    "\n",
    "def fahrenheit_en_celsius(temp):\n",
    "  return (temp - 32) / 9 * 5\n",
    "\n",
    "temperature = float(input(\"Quelle est la temperature? \"))\n",
    "fahrenheit = celsius_en_fahrenheit(temperature)\n",
    "celsius = fahrenheit_en_celsius(temperature)\n",
    "\n",
    "print(f\"{temperature} celsius = {fahrenheit:.2f} fahrenheit\")\n",
    "print(f\"{temperature} fahrenheit = {celsius:.2f} celsius\")"
   ]
  },
  {
   "cell_type": "markdown",
   "metadata": {
    "id": "iJ5xDefrEfct"
   },
   "source": [
    "#### Valeurs de retour multiples"
   ]
  },
  {
   "cell_type": "markdown",
   "metadata": {
    "id": "aIo8aY-xEiMu"
   },
   "source": [
    "Une fonction peut retourner plus d'une valeur à la fois. Cette fonctionnalité peut s'avérer très pratique pour la fonction quadratique utilisée précédemment. La fonction n'a qu'à retourner plusieurs valeurs séparées par une virgule:\n",
    "```python\n",
    "def quadratique(a, b, c):\n",
    "  x0 = ((-b) + (b**2 - 4*a*c)**.5) / (2*a)\n",
    "  x1 = ((-b) - (b**2 - 4*a*c)**.5) / (2*a)\n",
    "  return x0, x1\n",
    "```\n",
    "Par la suite, la fonction pourrait être utilisée comme suit:\n",
    "```python\n",
    "x0, x1 = quadratique(-2, 3, 10)\n",
    "print(f\"Les valeurs sont {x0} et {x1}\")\n",
    "```"
   ]
  },
  {
   "cell_type": "markdown",
   "metadata": {
    "id": "v_JUh-ZVF8RO"
   },
   "source": [
    "❗Les fonctions ne sont pas obligées d'avoir de paramètres ni de retourner de valeur, mais elles deviennent moins pratiques:\n",
    "```python\n",
    "def salutations():\n",
    "  nom = input(\"Quel est votre nom? \")\n",
    "  print(f\"Bonjour {nom}!\")\n",
    "\n",
    "salutations()\n",
    "```"
   ]
  },
  {
   "cell_type": "code",
   "execution_count": null,
   "metadata": {
    "colab": {
     "base_uri": "https://localhost:8080/"
    },
    "executionInfo": {
     "elapsed": 4291,
     "status": "ok",
     "timestamp": 1704989949492,
     "user": {
      "displayName": "Sébastien Huneault",
      "userId": "03514398344720775700"
     },
     "user_tz": 300
    },
    "id": "5IFRSU_ZGOE9",
    "outputId": "84f47690-f002-4c69-823a-566b3202ca5f"
   },
   "outputs": [
    {
     "name": "stdout",
     "output_type": "stream",
     "text": [
      "Quel est votre nom? Sebastien\n",
      "Bonjour Sebastien!\n"
     ]
    }
   ],
   "source": [
    "def salutations():\n",
    "  nom = input(\"Quel est votre nom? \")\n",
    "  print(f\"Bonjour {nom}!\")\n",
    "\n",
    "salutations()"
   ]
  },
  {
   "cell_type": "markdown",
   "metadata": {
    "id": "poa3jkdi9sw-"
   },
   "source": [
    "### 📄 Exercices\n",
    "Faire les exercices de la section **Les fonctions**"
   ]
  },
  {
   "cell_type": "markdown",
   "metadata": {
    "id": "cBcHcWWVP5nS"
   },
   "source": [
    "## 📘 Le traitement conditionnel"
   ]
  },
  {
   "cell_type": "markdown",
   "metadata": {
    "id": "5qSuI7hqQ-zI"
   },
   "source": [
    "Le traitement conditionnel permet d'exécuter certaines instructions selon une condition donnée. On utilise le mot-clé `if` suivi d'une condition à évaluer. Selon si le résultat est vrai (`True`) ou faux (`False`), certaines instructions pourraient s'exécuter ou non. Un exemple simple est de vérifier si un nombre est positif ou négatif:\n",
    "```python\n",
    "nombre = float(input(\"Entrer un nombre: \"))\n",
    "if nombre > 0:\n",
    "  print(f\"Le nombre {nombre} est positif\")\n",
    "```\n",
    "Si le nombre `5` est entré, la phrase \"Le nombre 5 est positif\" s'affichera. Cependant, si le nombre `-3` est entré, rien ne sera affiché."
   ]
  },
  {
   "cell_type": "code",
   "execution_count": null,
   "metadata": {
    "colab": {
     "base_uri": "https://localhost:8080/"
    },
    "executionInfo": {
     "elapsed": 4925,
     "status": "ok",
     "timestamp": 1704991131210,
     "user": {
      "displayName": "Sébastien Huneault",
      "userId": "03514398344720775700"
     },
     "user_tz": 300
    },
    "id": "yfE29sIkY5cz",
    "outputId": "c11bb56f-1c45-47a2-b8c0-beb8aab40096"
   },
   "outputs": [
    {
     "name": "stdout",
     "output_type": "stream",
     "text": [
      "Entrer un nombre: -5\n"
     ]
    }
   ],
   "source": [
    "nombre = float(input(\"Entrer un nombre: \"))\n",
    "if nombre > 0:\n",
    "  print(f\"Le nombre {nombre} est positif\")"
   ]
  },
  {
   "cell_type": "markdown",
   "metadata": {
    "id": "8M5eNKzMSfqr"
   },
   "source": [
    "### Les opérateurs de comparaison"
   ]
  },
  {
   "cell_type": "markdown",
   "metadata": {
    "id": "3hATkSTASj41"
   },
   "source": [
    "Une condition suit toujours le même format: `<valeur1> <operateur> <valeur2>`. Dans l'exemple précédent, `valeur1` était le nombre entré, `valeur2` était le nombre zéro et l'opérateur, le symbole `>`, soit *plus grand que*. Ce trio constitue une **expression** qui sera évaluée au final en un booléen vrai (`True`) ou faux (`False`). Si l'expression est vraie, le code à l'intérieur de la condition (visible par l'indentation) sera exécutée. Si l'expression est fausse, le code sous l'instruction `else` (si applicable) sera exécuté.\n",
    "\n",
    "Les opérateurs suivants sont disponibles pour comparer des valeurs:\n",
    "\n",
    "Symbole|Description|Exemple `True`|Exemple `False`\n",
    "--|--|--|--\n",
    "`==`|Équivalent ou égal à|`8 == 8`|`8 == 2`\n",
    "`!=`|Différent de|`5 != 2`|`5 != 5`\n",
    "`>`|Plus grand que|`8 > 5`|`8 > 12`<br>`12 > 12`\n",
    "`>=`|Plus grand ou égal à|`8 >= 5`<br>`12 >= 12`|`8 >= 15`\n",
    "`<`|Plus petit que|`5 < 8`|`12 < 8`<br>`12 < 12`\n",
    "`<=`|Plus petit ou égal à|`5 <= 8`<br>`12 <= 12`|`15 <= 8`\n"
   ]
  },
  {
   "cell_type": "markdown",
   "metadata": {
    "id": "XckvkmN4VRHR"
   },
   "source": [
    "❗La section sur les [opérateurs](#scrollTo=LbW-Pn7AVMML&line=1&uniqifier=1) pourrait être utile pour certaines expressions."
   ]
  },
  {
   "cell_type": "code",
   "execution_count": null,
   "metadata": {
    "colab": {
     "base_uri": "https://localhost:8080/"
    },
    "executionInfo": {
     "elapsed": 1841,
     "status": "ok",
     "timestamp": 1704991623827,
     "user": {
      "displayName": "Sébastien Huneault",
      "userId": "03514398344720775700"
     },
     "user_tz": 300
    },
    "id": "JihwZNTDSVP3",
    "outputId": "13f024b9-30c8-4bd3-d7d3-961b0af80856"
   },
   "outputs": [
    {
     "name": "stdout",
     "output_type": "stream",
     "text": [
      "Entrer un nombre: 6\n",
      "Le nombre 6.0 est positif\n",
      "Le nombre 6.0 est positif ou zéro\n",
      "Le nombre 6.0 est pair\n"
     ]
    }
   ],
   "source": [
    "# TODO: Remplacer les expressions dans les conditions pour rendre le programme fonctionnel\n",
    "nombre = float(input(\"Entrer un nombre: \"))\n",
    "\n",
    "if nombre > 0:\n",
    "  print(f\"Le nombre {nombre} est positif\")\n",
    "\n",
    "if nombre < 0:\n",
    "  print(f\"Le nombre {nombre} est négatif\")\n",
    "\n",
    "if nombre >= 0:\n",
    "  print(f\"Le nombre {nombre} est positif ou zéro\")\n",
    "\n",
    "if nombre % 2 == 0:\n",
    "  print(f\"Le nombre {nombre} est pair\")\n",
    "\n",
    "if nombre % 2 != 0:\n",
    "  print(f\"Le nombre {nombre} est impair\")"
   ]
  },
  {
   "cell_type": "markdown",
   "metadata": {
    "id": "M3q8lJRwV0lU"
   },
   "source": [
    "### Algèbre de Boole"
   ]
  },
  {
   "cell_type": "markdown",
   "metadata": {
    "id": "IwutU5pypnzV"
   },
   "source": [
    "#### Instruction `and`"
   ]
  },
  {
   "cell_type": "markdown",
   "metadata": {
    "id": "JaAnuTEnV34L"
   },
   "source": [
    "Il pourrait être utile de vérifier plusieurs conditions avant d'exécuter des instructions. Par exemple, si on voulait vérifier si aujourd'hui est notre anniversaire, il faudrait effectuer 2 vérifications:\n",
    "1. Est-ce le bon mois ?\n",
    "1. Est-ce le bon jour ?\n",
    "\n",
    "On peut utiliser l'opérateur **and** pour vérifier deux expressions en une seule commande:\n",
    "```python\n",
    "fete_mois = 1\n",
    "fete_jour = 15\n",
    "auj_mois = 1\n",
    "auj_jour = 11\n",
    "\n",
    "if fete_mois == auj_mois and fete_jour == auj_jour:\n",
    "  print(\"C'est ma fête!\")\n",
    "```\n",
    "Pour déterminer si l'expression complète sera vraie ou fausse, on doit évaluer chacune des expressions indépendemment:\n",
    "- `fete_mois == auj_mois` => `True`\n",
    "- `auj_mois == auj_jour`  => `False`\n",
    "\n",
    "L'expression simplifiée alors `if True and False` et sera à nouveau évaluée pour obtenir la réponse finale.\n",
    "\n",
    "Pour déterminer le résultat booléen avec l'instruction `and`, on peut consulter la table de vérité suivante:\n",
    "\n",
    "Valeur1|Valeur2|Résultat\n",
    "--|--|--\n",
    "`False`|`False`|`False`\n",
    "`False`|`True`|`False`\n",
    "`True`|`False`|`False`\n",
    "**`True`**|**`True`**|**`True`**\n",
    "\n",
    "Pour l'opérateur `and`, le code sous-jacent sera exécuté seulement lorsque les deux valeurs sont à `True`."
   ]
  },
  {
   "cell_type": "code",
   "execution_count": null,
   "metadata": {
    "colab": {
     "base_uri": "https://localhost:8080/"
    },
    "executionInfo": {
     "elapsed": 172,
     "status": "ok",
     "timestamp": 1704309417994,
     "user": {
      "displayName": "Sébastien Huneault",
      "userId": "03514398344720775700"
     },
     "user_tz": 300
    },
    "id": "A2DvwWJMvgyM",
    "outputId": "70f6b2f8-6126-41b7-d816-d750f94ee7fd"
   },
   "outputs": [
    {
     "name": "stdout",
     "output_type": "stream",
     "text": [
      "Ce fruit est prêt à être mangé!\n",
      "Cette voiture m'intéresse.\n"
     ]
    }
   ],
   "source": [
    "# TODO: Transformer les conditions imbriquées dans une seule à l'aide de l'instruction and\n",
    "couleur = \"jaune\"\n",
    "fruit = \"banane\"\n",
    "\n",
    "if couleur == \"jaune\" and fruit == \"banane\":\n",
    "  print(\"Ce fruit est prêt à être mangé!\")\n",
    "\n",
    "if couleur == \"jaune\":\n",
    "  if fruit == \"banane\":\n",
    "    print(\"Ce fruit est prêt à être mangé!\")\n",
    "\n",
    "\n",
    "annee = 2020\n",
    "prix = 15000\n",
    "\n",
    "if prix <= 18000 and annee >= 2019:\n",
    "  print(\"Cette voiture m'intéresse.\")\n",
    "\n",
    "if prix <= 18000:\n",
    "  if annee >= 2019:\n",
    "    print(\"Cette voiture m'intéresse.\")\n",
    "\n"
   ]
  },
  {
   "cell_type": "markdown",
   "metadata": {
    "id": "u-t9rryspqxL"
   },
   "source": [
    "#### Instruction `or`"
   ]
  },
  {
   "cell_type": "markdown",
   "metadata": {
    "id": "Cuev87-EpuTt"
   },
   "source": [
    "L'instruction `or`, quant à lui, permet d'exécuter du code lorsque seulement l'une des deux expressions est vraie. Cela permet, par exemple, de déterminer si nous sommes la fin de semaine:\n",
    "\n",
    "```python\n",
    "jour = \"Samedi\"\n",
    "\n",
    "if jour == \"Samedi\" or jour == \"Dimanche\":\n",
    "  print(\"C'est la fin de semaine!\")\n",
    "```\n",
    "\n",
    "Similaire au `and`, on utilisera le même processus pour déterminer si l'expression finale est `True` ou `False`:\n",
    "- `jour == \"Samedi\"` => `True`\n",
    "- `jour == \"Dimanche\"` => `False`\n",
    "\n",
    "L'expression finale sera donc `if True or False` et pourra à nouveau être réduite grace à la table de vérité suivante:\n",
    "\n",
    "Valeur1|Valeur2|Résultat\n",
    "--|--|--\n",
    "`False`|`False`|`False`\n",
    "`False`|**`True`**|**`True`**\n",
    "**`True`**|`False`|**`True`**\n",
    "**`True`**|**`True`**|**`True`**\n",
    "\n",
    "Pour l'opérateur `or`, le code sous-jacent sera exécuté lorsqu'une seule des valeurs sont à `True`."
   ]
  },
  {
   "cell_type": "markdown",
   "metadata": {
    "id": "OGaq8YRGrGWY"
   },
   "source": [
    "#### Combinaison de `and` et de `or`"
   ]
  },
  {
   "cell_type": "markdown",
   "metadata": {
    "id": "v2IzsLYLrNZC"
   },
   "source": [
    "On peut ajouter autant de `and` et de `or` que souhaité. Cependant, il faut faire attention à la priorité des opérations. Regardons le code suivant:\n",
    "```python\n",
    "age = 15\n",
    "forfait = False\n",
    "if age < 18 or age > 25 and forfait == True:\n",
    "  print(\"Vous avez un rabais\")\n",
    "```\n",
    "Lorsque le code sera exécuté, est-ce que la personne aura droit à un rabais?"
   ]
  },
  {
   "cell_type": "code",
   "execution_count": null,
   "metadata": {
    "colab": {
     "base_uri": "https://localhost:8080/"
    },
    "executionInfo": {
     "elapsed": 164,
     "status": "ok",
     "timestamp": 1704997148674,
     "user": {
      "displayName": "Sébastien Huneault",
      "userId": "03514398344720775700"
     },
     "user_tz": 300
    },
    "id": "hs_obHaLr4T3",
    "outputId": "725b7c2a-4098-439d-dccd-3e202c46a05c"
   },
   "outputs": [
    {
     "name": "stdout",
     "output_type": "stream",
     "text": [
      "Vous avez un rabais\n"
     ]
    }
   ],
   "source": [
    "# TODO: Exécuter le code pour confirmer sa réponse\n",
    "age = 15\n",
    "forfait = True\n",
    "if age < 18 or age > 25 and forfait == True:\n",
    "  print(\"Vous avez un rabais\")"
   ]
  },
  {
   "cell_type": "markdown",
   "metadata": {
    "id": "wtQfpen6rtOO"
   },
   "source": [
    "En ce qui a trait à la priorité des opérations, on peut comparer l'instruction `and` à la multiplication et l'instruction `or`, à l'addition. Au final, l'expression pourrait se lire ainsi:\n",
    "```python\n",
    "if (age < 18) or (age > 25 and forfait == True)\n",
    "       \\/            \\/             \\/\n",
    "if (  True  ) or ( False   and     True       )\n",
    "       \\/                   \\/\n",
    "if (  True  ) or (         False              )\n",
    "              \\/\n",
    "if           True\n",
    "```\n",
    "Toute personne ayant moins de 18 ans aura droit à un rabais, ainsi qu'un personne agée de plus de 25 ans avec un forfait."
   ]
  },
  {
   "cell_type": "code",
   "execution_count": null,
   "metadata": {
    "colab": {
     "base_uri": "https://localhost:8080/"
    },
    "executionInfo": {
     "elapsed": 146,
     "status": "ok",
     "timestamp": 1704997509838,
     "user": {
      "displayName": "Sébastien Huneault",
      "userId": "03514398344720775700"
     },
     "user_tz": 300
    },
    "id": "CdVrFXS5w_9r",
    "outputId": "2fcbe219-ee82-4bd0-aac8-7f35d81b1133"
   },
   "outputs": [
    {
     "name": "stdout",
     "output_type": "stream",
     "text": [
      "Vous avez un rabais\n"
     ]
    }
   ],
   "source": [
    "# TODO: Modifier pour que le rabais s'applique aux personnes ayant un forfait, peu\n",
    "#       importe l'age, ainsi qu'aux gens de moins de 18 ans ou de plus de 25 ans.\n",
    "age = 15\n",
    "forfait = False\n",
    "if (age < 18 or age > 25) or (forfait == True):\n",
    "  print(\"Vous avez un rabais\")"
   ]
  },
  {
   "cell_type": "markdown",
   "metadata": {
    "id": "Za6l913MCLVm"
   },
   "source": [
    "❗Astuce: Lorsqu'un expression est comparée à `True`, on peut raccourcir l'expression pour n'utiliser que la valeur. Ainsi l'expression `if forfait == True:` peut être remplacée par `if forfait:`. Également, si l'expression est comparée à `False`, elle peut être remplacée par `if not forfait:`"
   ]
  },
  {
   "cell_type": "markdown",
   "metadata": {
    "id": "xLS8HUuHt4FQ"
   },
   "source": [
    "#### Instruction `not`"
   ]
  },
  {
   "cell_type": "markdown",
   "metadata": {
    "id": "pNNGjYxht6_H"
   },
   "source": [
    "Finalement, l'instruction `not` peut être utilisée devant une expression pour inverser sa valeur. Une expression résultant à `True` deviendra `False` et vice-versa. Ainsi, une autre façon de savoir si une personne a moins de 18 ans est de vérifier si elle **n'a pas** 18 ans ou plus:\n",
    "```python\n",
    "age = 15\n",
    "if not age >= 18:\n",
    "  print(\"J'ai moins de 18 ans\")\n",
    "```"
   ]
  },
  {
   "cell_type": "code",
   "execution_count": null,
   "metadata": {
    "colab": {
     "base_uri": "https://localhost:8080/"
    },
    "executionInfo": {
     "elapsed": 137,
     "status": "ok",
     "timestamp": 1704309073719,
     "user": {
      "displayName": "Sébastien Huneault",
      "userId": "03514398344720775700"
     },
     "user_tz": 300
    },
    "id": "ZXpTjkwyumBu",
    "outputId": "c9fec3ad-3689-4712-c79a-826fbf4a9c5a"
   },
   "outputs": [
    {
     "name": "stdout",
     "output_type": "stream",
     "text": [
      "J'ai le droit de vote\n",
      "Je suis sportif\n",
      "Je suis un sportir à la retraite\n"
     ]
    }
   ],
   "source": [
    "# TODO: Ajouter le mot-clé not pour obtenir le même résultat\n",
    "age = 65\n",
    "if not age < 18:\n",
    "  print(\"J'ai le droit de vote\")\n",
    "\n",
    "est_sportif = True\n",
    "if not est_sportif != True:\n",
    "  print(\"Je suis sportif\")\n",
    "\n",
    "if age >= 65 and est_sportif == True:\n",
    "  print(\"Je suis un sportif à la retraite\")\n",
    "\n",
    "if age < 18 and est_sportif == False:\n",
    "  print(\"Je suis un jeune pas très sportif\")"
   ]
  },
  {
   "cell_type": "markdown",
   "metadata": {
    "id": "IuS_-U_HxT7M"
   },
   "source": [
    "### Les mots-clés `else` et `elif`"
   ]
  },
  {
   "cell_type": "markdown",
   "metadata": {
    "id": "220D8QGaUi-o"
   },
   "source": [
    "Le code affiché plus haut permettait d'indiquer si un nombre était positif:\n",
    "```python\n",
    "nombre = float(input(\"Entrer un nombre: \"))\n",
    "if nombre > 0:\n",
    "  print(f\"Le nombre {nombre} est positif\")\n",
    "```\n",
    "Cependant, il ne permettait pas d'indiquer une réponse différente en cas de négation. Le mot-clé `else` vient résoudre ce problème:\n",
    "```python\n",
    "nombre = float(input(\"Entrer un nombre: \"))\n",
    "if nombre > 0:\n",
    "  print(f\"Le nombre {nombre} est positif\")\n",
    "else:\n",
    "  print(f\"Le nombre {nombre} est négatif\")\n",
    "```\n",
    "Si le nombre est **plus grand que** que zéro, un message positif sera affiché. Dans **tous les autres** cas, un message négatif sera affiché. Ce sera soit l'un, soit l'autre."
   ]
  },
  {
   "cell_type": "code",
   "execution_count": null,
   "metadata": {
    "colab": {
     "base_uri": "https://localhost:8080/"
    },
    "executionInfo": {
     "elapsed": 6651,
     "status": "ok",
     "timestamp": 1704998088691,
     "user": {
      "displayName": "Sébastien Huneault",
      "userId": "03514398344720775700"
     },
     "user_tz": 300
    },
    "id": "Oz-J0CBMUjW7",
    "outputId": "d77de843-796e-49d0-866b-6dffb40b8831"
   },
   "outputs": [
    {
     "name": "stdout",
     "output_type": "stream",
     "text": [
      "Entrer un nombre: 0\n",
      "Le nombre 0.0 est positif\n",
      "Le nombre 0.0 est négatif\n"
     ]
    }
   ],
   "source": [
    "# TODO: Le message négatif est érroné et doit être corrigé.\n",
    "nombre = float(input(\"Entrer un nombre: \"))\n",
    "if nombre >= 0:\n",
    "  print(f\"Le nombre {nombre} est positif\")\n",
    "else:\n",
    "  print(f\"Le nombre {nombre} est négatif\")"
   ]
  },
  {
   "cell_type": "markdown",
   "metadata": {
    "id": "dMxNfzxCytj1"
   },
   "source": [
    "À l'aide des instructions `if` et `else`, il est possible de créer un embranchement de code à exécuter. Soit un bloc de code sera exécuté, soit un second. Deux choix. Le mot-clé `elif` permet de créer autant embranchements supplémentaires souhaité.\n",
    "\n",
    "L'exemple précédent pourra alors être encore une fois bonifiée pour inclure le zéro dans les réponses:\n",
    "```python\n",
    "nombre = float(input(\"Entrer un nombre: \"))\n",
    "if nombre > 0:\n",
    "  print(f\"Le nombre {nombre} est positif\")\n",
    "elif nombre == 0:\n",
    "  print(f\"Le nombre {nombre} est zéro\")\n",
    "else:\n",
    "  print(f\"Le nombre {nombre} est négatif\")\n",
    "```\n",
    "\n",
    "❗Attention! Seulement un seul bloc de code sera exécuté, même si plusieurs `elif` pourrait être vrai. Le premier sera alors choisi. Ainsi, le code suivant ne fonctionnerait pas comme prévu pour les nombres plus grand que 20:\n",
    "```python\n",
    "nombre = 25\n",
    "if nombre > 0:\n",
    "  print(f\"Le nombre {nombre} est positif et moins grand que 20\")\n",
    "elif nombre > 20:\n",
    "  print(f\"Le nombre {nombre} est plus grand que 20\")\n",
    "else:\n",
    "  print(f\"Le nombre {nombre} est négatif\")\n",
    "```"
   ]
  },
  {
   "cell_type": "code",
   "execution_count": null,
   "metadata": {
    "colab": {
     "base_uri": "https://localhost:8080/"
    },
    "executionInfo": {
     "elapsed": 132,
     "status": "ok",
     "timestamp": 1704998369819,
     "user": {
      "displayName": "Sébastien Huneault",
      "userId": "03514398344720775700"
     },
     "user_tz": 300
    },
    "id": "ivyGI37VzWH9",
    "outputId": "2684e107-9963-4957-90d6-e809f47736a0"
   },
   "outputs": [
    {
     "name": "stdout",
     "output_type": "stream",
     "text": [
      "Le nombre 25 est plus grand que 20\n"
     ]
    }
   ],
   "source": [
    "# TODO: Corriger le code pour obtenir le résultat attendu\n",
    "nombre = 25\n",
    "if nombre > 0 and nombre < 20:\n",
    "  print(f\"Le nombre {nombre} est positif et moins grand que 20\")\n",
    "elif nombre > 20:\n",
    "  print(f\"Le nombre {nombre} est plus grand que 20\")\n",
    "else:\n",
    "  print(f\"Le nombre {nombre} est négatif\")"
   ]
  },
  {
   "cell_type": "markdown",
   "metadata": {
    "id": "nN1WL8hl9wgj"
   },
   "source": [
    "### 📄 Exercices\n",
    "Faire les exercices de la section **Le traitement conditionnel**"
   ]
  },
  {
   "cell_type": "markdown",
   "metadata": {
    "id": "RiqgXqe460q8"
   },
   "source": [
    "## 📘 La boucle `for`"
   ]
  },
  {
   "cell_type": "markdown",
   "metadata": {
    "id": "a-myQecX66lS"
   },
   "source": [
    "Les boucles permettent d'exécuter une ou plusieurs instructions plusieurs fois. Elles peuvent être pratique pour compter, chercher, calculer des sommes, générer des listes de nombres, etc. Il existe deux types de boucles:\n",
    "- la boucle `for`, utile lorsque le nombre de répétition est connu, et\n",
    "- la boucle `while`, utile lorsque le nombre de répétition est inconnu."
   ]
  },
  {
   "cell_type": "markdown",
   "metadata": {
    "id": "-LpRKI2E7WGP"
   },
   "source": [
    "La boucle `for` exécute une ou plusieurs instructions un nombre de fois bien précis.\n",
    "```python\n",
    "for i in range(10):\n",
    "  print(f\"Le nombre est {i}\")\n",
    "```\n",
    "Plusieurs éléments se trouvent dans ce bout de code:\n",
    "- la variable `i` est une variable qui changera de valeur à chaque itération;\n",
    "- l'instruction `range(10)` permet de générer une liste de nombre entre 0 et 9.\n",
    "\n",
    "Lorsqu'exécuté, l'instruction `print()` sera donc exécutée 10 fois, tout en changeant la valeur de `i` à chaque fois."
   ]
  },
  {
   "cell_type": "code",
   "execution_count": null,
   "metadata": {
    "colab": {
     "base_uri": "https://localhost:8080/"
    },
    "executionInfo": {
     "elapsed": 118,
     "status": "ok",
     "timestamp": 1705000503958,
     "user": {
      "displayName": "Sébastien Huneault",
      "userId": "03514398344720775700"
     },
     "user_tz": 300
    },
    "id": "rs2QvSgA63RA",
    "outputId": "04b6e628-0d70-41dd-be9a-c833ab50b3aa"
   },
   "outputs": [
    {
     "name": "stdout",
     "output_type": "stream",
     "text": [
      "** DÉBUT DE LA BOUCLE\n",
      "Le nombre est 0\n",
      "Le nombre est 1\n",
      "Le nombre est 2\n",
      "Le nombre est 3\n",
      "Le nombre est 4\n",
      "Le nombre est 5\n",
      "Le nombre est 6\n",
      "Le nombre est 7\n",
      "Le nombre est 8\n",
      "Le nombre est 9\n",
      "Le nombre est 10\n",
      "Le nombre est 11\n",
      "Le nombre est 12\n",
      "Le nombre est 13\n",
      "Le nombre est 14\n",
      "Le nombre est 15\n",
      "Le nombre est 16\n",
      "Le nombre est 17\n",
      "Le nombre est 18\n",
      "Le nombre est 19\n",
      "** FIN DE LA BOUCLE\n"
     ]
    }
   ],
   "source": [
    "# TODO: Répéter 20 fois au lieu de 10\n",
    "print(\"** DÉBUT DE LA BOUCLE\")\n",
    "for i in range(20):\n",
    "  print(f\"Le nombre est {i}\")\n",
    "\n",
    "print(\"** FIN DE LA BOUCLE\")"
   ]
  },
  {
   "cell_type": "markdown",
   "metadata": {
    "id": "iRT__j6H8T92"
   },
   "source": [
    "L'instruction `range()` peut être modifiée pour\n",
    "- débuter à un nombre différent de zéro: `range(4, 20)`\n",
    "- changer le saut à chaque itération: `range(0, 20, 2)`"
   ]
  },
  {
   "cell_type": "code",
   "execution_count": null,
   "metadata": {
    "id": "boKJdYby8n6p"
   },
   "outputs": [],
   "source": [
    "# TODO: Afficher seulement les nombres entre 10 et 30 inclusivement\n",
    "for i in range(10, 31):\n",
    "  print(f\"Le nombre est {i}\")"
   ]
  },
  {
   "cell_type": "code",
   "execution_count": null,
   "metadata": {
    "colab": {
     "base_uri": "https://localhost:8080/"
    },
    "executionInfo": {
     "elapsed": 151,
     "status": "ok",
     "timestamp": 1705000651327,
     "user": {
      "displayName": "Sébastien Huneault",
      "userId": "03514398344720775700"
     },
     "user_tz": 300
    },
    "id": "mGMuVPd88yHo",
    "outputId": "50a1897e-2a57-4cf8-922e-647a660be058"
   },
   "outputs": [
    {
     "name": "stdout",
     "output_type": "stream",
     "text": [
      "Le nombre est 10\n",
      "Le nombre est 12\n",
      "Le nombre est 14\n",
      "Le nombre est 16\n",
      "Le nombre est 18\n",
      "Le nombre est 20\n"
     ]
    }
   ],
   "source": [
    "# TODO: Afficher seulement les nombres pairs entre 10 et 20 inclusivement\n",
    "for i in range(10, 21, 2):\n",
    "  print(f\"Le nombre est {i}\")"
   ]
  },
  {
   "cell_type": "code",
   "execution_count": null,
   "metadata": {
    "colab": {
     "base_uri": "https://localhost:8080/"
    },
    "executionInfo": {
     "elapsed": 137,
     "status": "ok",
     "timestamp": 1705000675003,
     "user": {
      "displayName": "Sébastien Huneault",
      "userId": "03514398344720775700"
     },
     "user_tz": 300
    },
    "id": "6ZgZH3Ws82qB",
    "outputId": "7cd42931-8834-4135-f8b8-0e7855294b61"
   },
   "outputs": [
    {
     "name": "stdout",
     "output_type": "stream",
     "text": [
      "Le nombre est 7\n",
      "Le nombre est 9\n",
      "Le nombre est 11\n",
      "Le nombre est 13\n",
      "Le nombre est 15\n",
      "Le nombre est 17\n",
      "Le nombre est 19\n"
     ]
    }
   ],
   "source": [
    "# TODO: Afficher seulement les nombres impairs entre 7 et 19 inclusivement\n",
    "for i in range(7, 20, 2):\n",
    "  print(f\"Le nombre est {i}\")"
   ]
  },
  {
   "cell_type": "markdown",
   "metadata": {
    "id": "s5beojjV-zCA"
   },
   "source": [
    "À l'intérieur d'une boucle, toutes les instructions apprises précédemment sont disponibles, incluant les conditions. Cela permet, par exemple, de trouver tous les nombres divisibles par $n$ entre une plage de nombres:\n",
    "```python\n",
    "n = 7\n",
    "for i in range(50):\n",
    "  if i % n == 0:\n",
    "    print(f\"Le nombre {i} est divisible par {n}\")\n",
    "```"
   ]
  },
  {
   "cell_type": "code",
   "execution_count": null,
   "metadata": {
    "id": "V_kQrBlJ_Lke"
   },
   "outputs": [],
   "source": [
    "# TODO: Modifier le code pour:\n",
    "#       - Exclure le zéro\n",
    "#       - Afficher les nombres divisibles par 5 ou 7\n",
    "for i in range(1, 50):\n",
    "  if i % 7 == 0:\n",
    "    print(f\"Le nombre {i} est divisible par 7\")\n",
    "  if i % 5 == 0:\n",
    "    print(f\"Le nombre {i} est divisible par 5\")"
   ]
  },
  {
   "cell_type": "markdown",
   "metadata": {
    "id": "9T3yIAP2AEq3"
   },
   "source": [
    "Une fonction très populaire à écrire serait de déterminer si un nombre est un nombre premier ou non. Dès qu'un diviseur est trouvé, le nombre n'est pas premier (`return False`). Autrement, quand tous les nombres ont été essayés sans trouver de diviseur, le nombre est premier (`return True`).\n",
    "```python\n",
    "def est_premier(nombre):\n",
    "  for i in range(2, nombre):\n",
    "    if nombre % i == 0:\n",
    "      return False\n",
    "  return True\n",
    "```\n",
    "On pourra alors trouver tous les nombres premiers entre 2 et 30 à l'aide d'une autre boucle:\n",
    "```python\n",
    "for i in range(2, 30):\n",
    "  if est_premier(i):\n",
    "    print(f\"{i} est premier\")\n",
    "  else:\n",
    "    print(f\"{i}\")\n",
    "```\n",
    "❗ Rappel: L'expression `if est_premier(i):` est l'équivalent de `if est_premier(i) == True:`"
   ]
  },
  {
   "cell_type": "code",
   "execution_count": null,
   "metadata": {
    "id": "FrVt42bIDeD3"
   },
   "outputs": [],
   "source": [
    "# TODO: Essayer le code.\n",
    "# TODO: (optionnel) Rendre la fonction est_premier() plus efficace.\n",
    "def est_premier(nombre):\n",
    "  for i in range(2, nombre):\n",
    "    if nombre % i == 0:\n",
    "      return False\n",
    "  return True\n",
    "\n",
    "for i in range(2, 5000):\n",
    "  if est_premier(i) == True:\n",
    "    print(f\"{i} est premier\")\n",
    "  # else:\n",
    "  #   print(f\"{i}\")"
   ]
  },
  {
   "cell_type": "markdown",
   "metadata": {
    "id": "s8_cwM02HdP9"
   },
   "source": [
    "### Calculer une somme"
   ]
  },
  {
   "cell_type": "markdown",
   "metadata": {
    "id": "SLUdJ8dFHi9e"
   },
   "source": [
    "Calculer une somme de nombres est maintenant chose facile grâce à la boucle. En réutilisant une variable, on pourrait manuellement faire la somme des 5 premiers nombres:\n",
    "```python\n",
    "total = 0\n",
    "total = total + 1\n",
    "total = total + 2\n",
    "total = total + 3\n",
    "total = total + 4\n",
    "total = total + 5\n",
    "print(total)    # Affiche 15\n",
    "```\n",
    "En ajoutant une boucle, il sera désormais possible de faire une somme bien plus complexe et de bien plus grands nombres:\n",
    "```python\n",
    "total = 0\n",
    "for i in range(50):\n",
    "  total = total + i\n",
    "print(total)    # Affiche 1225\n",
    "```"
   ]
  },
  {
   "cell_type": "markdown",
   "metadata": {
    "id": "nL_GMkNgIoFM"
   },
   "source": [
    "Finalement, en incluant le traitement conditionnel, il est possible de faire des calculs difficiles à faire à la main."
   ]
  },
  {
   "cell_type": "code",
   "execution_count": null,
   "metadata": {
    "colab": {
     "base_uri": "https://localhost:8080/"
    },
    "executionInfo": {
     "elapsed": 135,
     "status": "ok",
     "timestamp": 1705003163690,
     "user": {
      "displayName": "Sébastien Huneault",
      "userId": "03514398344720775700"
     },
     "user_tz": 300
    },
    "id": "L8dUHXNhIYkY",
    "outputId": "70c4a34f-0447-4733-c180-a3a763438706"
   },
   "outputs": [
    {
     "name": "stdout",
     "output_type": "stream",
     "text": [
      "Total: 76128\n",
      "Total: 52881\n"
     ]
    }
   ],
   "source": [
    "# TODO: Calculer la somme des nombres premiers plus petits que 1000.\n",
    "# TODO: (optionnel) Soustraire du total la somme des nombres divisibles par 7 plus petit que 572.\n",
    "def est_premier(nombre):\n",
    "  for i in range(2, nombre):\n",
    "    if nombre % i == 0:\n",
    "      return False\n",
    "  return True\n",
    "\n",
    "total = 0\n",
    "total_div_7 = 0\n",
    "for i in range(1000):\n",
    "  if est_premier(i):\n",
    "    total = total + i\n",
    "\n",
    "  # if i % 7 == 0 and i < 572:\n",
    "  #   total_div_7 = total_div_7 + i\n",
    "\n",
    "for i in range(572):\n",
    "  if i % 7 == 0:\n",
    "    total_div_7 = total_div_7 + i\n",
    "\n",
    "print(f\"Total: {total}\")\n",
    "print(f\"Total: {total - total_div_7}\")"
   ]
  },
  {
   "cell_type": "markdown",
   "metadata": {
    "id": "taWs8Dou_uZ4"
   },
   "source": [
    "### Les instructions `break` et `continue`"
   ]
  },
  {
   "cell_type": "markdown",
   "metadata": {
    "id": "N_TDjLLDEjR8"
   },
   "source": [
    "L'instruction `break` permet de sortir complètement d'une boucle comme si elle était terminée. Le code\n",
    "```python\n",
    "for i in range(10):\n",
    "  if i == 5:\n",
    "    break\n",
    "  print(f\"Nombre {i}\")\n",
    "```\n",
    "affichera les nombres entre 0 et 5. Rendu au nombre 6, l'instruction `break` sera exécutée et le code sera terminé."
   ]
  },
  {
   "cell_type": "code",
   "execution_count": null,
   "metadata": {
    "colab": {
     "base_uri": "https://localhost:8080/"
    },
    "executionInfo": {
     "elapsed": 152,
     "status": "ok",
     "timestamp": 1705003918807,
     "user": {
      "displayName": "Sébastien Huneault",
      "userId": "03514398344720775700"
     },
     "user_tz": 300
    },
    "id": "1hZ5u0-dAlxk",
    "outputId": "bb65138b-d88e-4a4b-8f40-ec76885f5858"
   },
   "outputs": [
    {
     "name": "stdout",
     "output_type": "stream",
     "text": [
      "** DÉBUT DE LA BOUCLE\n",
      "Nombre 0\n",
      "Nombre 1\n",
      "Nombre 2\n",
      "Nombre 3\n",
      "Nombre 4\n",
      "** FIN DE LA BOUCLE\n"
     ]
    }
   ],
   "source": [
    "# TODO: Essayer le code\n",
    "print(\"** DÉBUT DE LA BOUCLE\")\n",
    "for i in range(10):\n",
    "  if i == 5:\n",
    "    break\n",
    "  print(f\"Nombre {i}\")\n",
    "print(\"** FIN DE LA BOUCLE\")"
   ]
  },
  {
   "cell_type": "markdown",
   "metadata": {
    "id": "5KkMRPtHFBph"
   },
   "source": [
    "L'instruction `continue` permet de continuer immédiatement la boucle en ignorant les instructions sous elle. Ainsi, le code\n",
    "```python\n",
    "for i in range(10):\n",
    "  if i == 5:\n",
    "    continue\n",
    "  print(f\"Nombre {i}\")\n",
    "```\n",
    "affichera les nombres entre 0 et 9, mais passera par dessus le nombre 5."
   ]
  },
  {
   "cell_type": "code",
   "execution_count": null,
   "metadata": {
    "colab": {
     "base_uri": "https://localhost:8080/"
    },
    "executionInfo": {
     "elapsed": 157,
     "status": "ok",
     "timestamp": 1705003957856,
     "user": {
      "displayName": "Sébastien Huneault",
      "userId": "03514398344720775700"
     },
     "user_tz": 300
    },
    "id": "0L4iq9beE6nT",
    "outputId": "9d78eaa8-3c3e-42d7-c100-b2253f20497a"
   },
   "outputs": [
    {
     "name": "stdout",
     "output_type": "stream",
     "text": [
      "** DÉBUT DE LA BOUCLE\n",
      "Nombre 0\n",
      "Nombre 1\n",
      "Nombre 2\n",
      "Nombre 3\n",
      "Nombre 4\n",
      "Nombre 6\n",
      "Nombre 7\n",
      "Nombre 8\n",
      "Nombre 9\n",
      "** FIN DE LA BOUCLE\n"
     ]
    }
   ],
   "source": [
    "# TODO: Essayer le code\n",
    "print(\"** DÉBUT DE LA BOUCLE\")\n",
    "for i in range(10):\n",
    "  if i == 5:\n",
    "    continue\n",
    "  print(f\"Nombre {i}\")\n",
    "print(\"** FIN DE LA BOUCLE\")"
   ]
  },
  {
   "cell_type": "markdown",
   "metadata": {
    "id": "JqFFGyupNBfR"
   },
   "source": [
    "### Les boucles imbriquées\n"
   ]
  },
  {
   "cell_type": "markdown",
   "metadata": {
    "id": "du1YbvdcP6Qz"
   },
   "source": [
    "Plusieurs boucles peuvent être imbriquées l'une dans l'autre. Ceci permet d'effectuer une boucle $m$ fois. On pourrait s'en servir, par exemple, pour afficher une table de multiplication."
   ]
  },
  {
   "cell_type": "code",
   "execution_count": null,
   "metadata": {
    "colab": {
     "base_uri": "https://localhost:8080/"
    },
    "executionInfo": {
     "elapsed": 132,
     "status": "ok",
     "timestamp": 1705004142366,
     "user": {
      "displayName": "Sébastien Huneault",
      "userId": "03514398344720775700"
     },
     "user_tz": 300
    },
    "id": "3xzsd8hYQLIK",
    "outputId": "3437acd8-80ec-4633-d0e8-846f18e38172"
   },
   "outputs": [
    {
     "name": "stdout",
     "output_type": "stream",
     "text": [
      "   1   2   3   4   5   6   7   8   9  10\n",
      "   2   4   6   8  10  12  14  16  18  20\n",
      "   3   6   9  12  15  18  21  24  27  30\n",
      "   4   8  12  16  20  24  28  32  36  40\n",
      "   5  10  15  20  25  30  35  40  45  50\n",
      "   6  12  18  24  30  36  42  48  54  60\n",
      "   7  14  21  28  35  42  49  56  63  70\n",
      "   8  16  24  32  40  48  56  64  72  80\n",
      "   9  18  27  36  45  54  63  72  81  90\n",
      "  10  20  30  40  50  60  70  80  90 100\n"
     ]
    }
   ],
   "source": [
    "# TODO: Changer le modificateur ^4 (ligne 7) pour un autre nombre et observer le résultat\n",
    "# TODO: Changer les valeurs de range() de i et observer le résultat\n",
    "# TODO: Changer les valeurs de range() de j et observer le résultat\n",
    "# TODO: (optionnel) Ne pas afficher les valeurs carrés\n",
    "for i in range(1, 11):\n",
    "  for j in range(1, 11):\n",
    "    total = i * j\n",
    "    print(f\"{total:>4}\", end=\"\")\n",
    "  print()"
   ]
  },
  {
   "cell_type": "markdown",
   "metadata": {
    "id": "oWd7SnCkQpdN"
   },
   "source": [
    "❗Astuce! Le modificateur `{total:^4}` permet de centrer le nombre dans un espace de 4."
   ]
  },
  {
   "cell_type": "markdown",
   "metadata": {
    "id": "c5-5ujhRFMR1"
   },
   "source": [
    "### 📄 Exercices\n",
    "Faire les exercices de la section **La boucle `for`**"
   ]
  },
  {
   "cell_type": "markdown",
   "metadata": {
    "id": "Y1vSc0-IJHl6"
   },
   "source": [
    "## 📘 La boucle `while`"
   ]
  },
  {
   "cell_type": "markdown",
   "metadata": {
    "id": "Y0F-PAVdJLT4"
   },
   "source": [
    "Comme la boucle `for`, la boucle `while` permet d'effectuer une ou plusieurs instructions. La différence principale est qu'elle est utile lorsque la quantité d'itération est inconnue.\n",
    "\n",
    "La syntaxe pour la boucle `while` est un mixte entre la boucle `for` et un conditionnel `if`.\n",
    "\n",
    "```python\n",
    "nombre = int(input(\"Entrer un nombre: \"))\n",
    "while nombre > 0:\n",
    "  print(f\"Décompte: {nombre}\")\n",
    "  nombre = nombre - 1\n",
    "```\n",
    "\n",
    "La boucle `while` n'a aucune idée du nombre d'itération. Cependant, elle continuera tant que le `nombre` est plus grand que zéro.\n",
    "\n",
    "❗Attention! Étant donné que la boucle n'a pas de quantité d'itération définie d'avance, il faut faire attention aux boucles infinies!"
   ]
  },
  {
   "cell_type": "code",
   "execution_count": null,
   "metadata": {
    "id": "ZMwmU1K_JKxn"
   },
   "outputs": [],
   "source": [
    "# TODO: Corriger le code pour enlever la boucle infinie. Appuyer sur STOP pour arrêter.\n",
    "nombre = int(input(\"Entrer un nombre: \"))\n",
    "while nombre > 0:\n",
    "  print(f\"Décompte: {nombre}\")\n",
    "  nombre = nombre + 1"
   ]
  },
  {
   "cell_type": "markdown",
   "metadata": {
    "id": "yCmkemHVMyYl"
   },
   "source": [
    "On peut effectuer les mêmes opérations avec les boucles `for` et `while`.\n",
    "\n",
    "**Boucler de 0 à 9**\n",
    "```python\n",
    "for i in range(10):\n",
    "  print(i)\n",
    "\n",
    "i = 0\n",
    "while i < 10:\n",
    "  print(i)\n",
    "  i = i + 1\n",
    "```\n",
    "\n",
    "**Calculer la somme des 50 premiers nombres**\n",
    "```python\n",
    "somme = 0\n",
    "for i in range(1, 51):\n",
    "  somme = somme + i\n",
    "print(f\"Somme: {somme}\")\n",
    "\n",
    "i = 1\n",
    "somme = 0\n",
    "while i <= 50:\n",
    "  somme = somme + i\n",
    "  i = i + 1\n",
    "print(f\"Somme: {somme}\")\n",
    "```\n",
    "\n",
    "Cependant, pour les opérations dont le nombre d'itération est connu, la boucle `while` offre quelques inconvénients par rapport à la boucle `for`:\n",
    "- Code plus difficile à lire\n",
    "- Gestion manuelle de l'itérateur (variable `i`)\n",
    "- Possibilité de boucle infinie"
   ]
  },
  {
   "cell_type": "markdown",
   "metadata": {
    "id": "UA6eurVRQxvO"
   },
   "source": [
    "### Approximer $\\pi$ avec la boucle `while`"
   ]
  },
  {
   "cell_type": "markdown",
   "metadata": {
    "id": "A_LC_NpqQ5Gp"
   },
   "source": [
    "En utilisant une série, il est possible d'approximer $\\pi$ et d'arrêter automatiquement lorsque la précision désirée est obtenue. La formule utilisée sera\n",
    "$$\\pi ≈ \\frac{4}{1} - \\frac{4}{3} + \\frac{4}{5} - \\frac{4}{7} + ...$$\n",
    "Étant donné qu'on ne sait pas d'avance combien d'itération il faudra, la boucle `while` est une bonne candidate."
   ]
  },
  {
   "cell_type": "code",
   "execution_count": null,
   "metadata": {
    "colab": {
     "base_uri": "https://localhost:8080/"
    },
    "executionInfo": {
     "elapsed": 4,
     "status": "ok",
     "timestamp": 1704467881506,
     "user": {
      "displayName": "Sébastien Huneault",
      "userId": "03514398344720775700"
     },
     "user_tz": 300
    },
    "id": "BIBBldr-RqIe",
    "outputId": "bdc387bd-9b01-4bd3-ddbe-7159cb65d1e5"
   },
   "outputs": [
    {
     "name": "stdout",
     "output_type": "stream",
     "text": [
      "Nombre d'itérations: 201\n",
      "Approximation de PI: 3.1465677471829556\n"
     ]
    }
   ],
   "source": [
    "# TODO: Changer la tolérance pour obtenir un nombre de plus en plus près de PI.\n",
    "# Note: Une tolérance de 1e-7 prend de 10 à 15 secondes à calculer.\n",
    "pi = 0            # L'approximation de PI\n",
    "nb_iterations = 0 # Le nombre d'itération nécessaire\n",
    "TOLERANCE = 1e-2  # Le seuil où arrêter la boucle\n",
    "variation = 4     # La variation obtenue\n",
    "denominateur = 1  # Le dénominateur\n",
    "est_plus = True   # Un drapeau pour déterminer l'addition ou la soustraction\n",
    "\n",
    "while abs(variation) > TOLERANCE:\n",
    "  # Calculer la variation, positive ou négative\n",
    "  if est_plus:\n",
    "    variation = 4 / denominateur\n",
    "  else:\n",
    "    variation = -4 / denominateur\n",
    "\n",
    "  # Ajuster les variables\n",
    "  nb_iterations = nb_iterations + 1\n",
    "  denominateur = denominateur + 2\n",
    "  est_plus = not est_plus\n",
    "  pi = pi + variation\n",
    "\n",
    "# Afficher l'approximation de PI\n",
    "print(f\"Nombre d'itérations: {nb_iterations}\")\n",
    "print(f\"Approximation de PI: {pi}\")"
   ]
  },
  {
   "cell_type": "markdown",
   "metadata": {
    "id": "qw8PS3zGOmuP"
   },
   "source": [
    "### La boucle `while` et le `break`\n",
    "L'instruction `break` permet de quitter les boucles `for` et `while`. Celle-ci permet d'ajouter une façon de quitter la boucle infinie d'une manière différente mais risquée. On peut forcer une boucle infinie avec `while True:`, tant et aussi longtemps que nous avons une condition de sortie avec l'instruction `break`."
   ]
  },
  {
   "cell_type": "code",
   "execution_count": null,
   "metadata": {
    "id": "UTSkXm3iO7U3"
   },
   "outputs": [],
   "source": [
    "# TODO: Ajouter un compteur pour indiquer la quantité de nombre ajouté.\n",
    "# TODO: Changer la précision partout pour n'afficher que 2 nombres après la virgule pour la somme.\n",
    "somme = 0\n",
    "while True:   # Boucle infinie!\n",
    "  nombre = float(input(f\"Somme de {somme}. Quel est le nombre à ajouter? Entrer 0 pour quitter. \"))\n",
    "  # Condition pour quitter\n",
    "  if nombre == 0:\n",
    "    break\n",
    "  # Additionner la somme\n",
    "  somme = somme + nombre\n",
    "\n",
    "# Afficher la somme une fois la boucle terminée\n",
    "print(f\"La somme est {somme:.4f}.\")"
   ]
  },
  {
   "cell_type": "markdown",
   "metadata": {
    "id": "SlAjxKP_YKfC"
   },
   "source": [
    "### 📄 Exercices\n",
    "Faire les exercices de la section **La boucle `while`**"
   ]
  },
  {
   "cell_type": "markdown",
   "metadata": {
    "id": "WE-mzMnAOP5g"
   },
   "source": [
    "## 📘 Le module `random`"
   ]
  },
  {
   "cell_type": "markdown",
   "metadata": {
    "id": "QrHTUcf4OSAw"
   },
   "source": [
    "Le module `random` permet d'introduire une variante aléatoire à nos programmes. Il peut aider à simuler des événements pseudo-aléatoires.\n",
    "```python\n",
    "import random\n",
    "print(random.random())              # Nombre aléatoire entre 0 et 1\n",
    "print(random.randint(1, 6))         # Nombre aléatoire entre 1 et 6 (lancé de dé)\n",
    "print(random.randrange(0, 20, 2))   # Nombre aléatoire entre 0 et 19 par saut de 2\n",
    "```\n",
    "Chaque fois que le code sera exécuté, de nouveaux nombres seront affichés."
   ]
  },
  {
   "cell_type": "code",
   "execution_count": null,
   "metadata": {
    "id": "E7vby6EIPfrj"
   },
   "outputs": [],
   "source": [
    "# TODO: Lancer le programme plusieurs fois pour s'apercevoir que les nombres sont toujours différents.\n",
    "import random\n",
    "print(random.random())              # Nombre aléatoire entre 0 et 1\n",
    "print(random.randint(1, 6))         # Nombre aléatoire entre 1 et 6 (lancé de dé)\n",
    "print(random.randrange(0, 20, 2))   # Nombre aléatoire entre 0 et 19 par saut de 2"
   ]
  },
  {
   "cell_type": "markdown",
   "metadata": {
    "id": "rkyfdpBOQrYa"
   },
   "source": [
    "Il est possible d'introduire un *seed* au module random pour définir un point de départ unique.\n",
    "```python\n",
    "import random\n",
    "random.seed(150)\n",
    "print(random.randint(1, 100))   # Affichera toujours 42\n",
    "\n",
    "```\n",
    "Ce point de départ servira à la génération de tous les nombres futurs et rendra le module `random` prévisible."
   ]
  },
  {
   "cell_type": "code",
   "execution_count": null,
   "metadata": {
    "id": "PYdmaYTnQpQA"
   },
   "outputs": [],
   "source": [
    "# TODO: Lancer le programme plusieurs pour s'apercevoir que les valeurs sont identiques à chaque lancement.\n",
    "# TODO: Changer le seed et comparer avec un voisin.\n",
    "import random\n",
    "random.seed(150)\n",
    "print(random.randint(1, 100))\n",
    "print(random.random())\n",
    "print(random.randint(1, 6))\n",
    "print(random.randrange(0, 20, 2))"
   ]
  },
  {
   "cell_type": "markdown",
   "metadata": {
    "id": "x7VY4uQTR9n2"
   },
   "source": [
    "En combinant les boucles, les conditionnelles et le module `random`, il est possible de simuler $n$ lancers de dé."
   ]
  },
  {
   "cell_type": "code",
   "execution_count": null,
   "metadata": {
    "id": "oHRKHAaeQ5uv"
   },
   "outputs": [],
   "source": [
    "import random\n",
    "\n",
    "# Les variables de départ\n",
    "n = 10000\n",
    "qte_de_6 = 0\n",
    "\n",
    "# Simuler n lancers de dé\n",
    "for i in range(n):\n",
    "  aleatoire = random.randint(1, 6)\n",
    "  if aleatoire == 6:\n",
    "    qte_de_6 = qte_de_6 + 1\n",
    "\n",
    "# Afficher le résultat\n",
    "print(f\"Sur un total de {n} lancers, il y a eu {qte_de_6} lancé de 6, pour un pourcentage de {qte_de_6 / n * 100:.2f}%.\")\n",
    "print(f\"La probabilité attendue est de 1/6, soit 16.66%.\")"
   ]
  },
  {
   "cell_type": "markdown",
   "metadata": {
    "id": "TCDcRMqKTA3I"
   },
   "source": [
    "### 📄 Exercices\n",
    "Faire les exercices de la section **Le module `random`**"
   ]
  },
  {
   "cell_type": "code",
   "execution_count": null,
   "metadata": {
    "id": "BDBkv0KMShD2"
   },
   "outputs": [],
   "source": []
  },
  {
   "cell_type": "markdown",
   "metadata": {
    "id": "0ovo5k95XRaN"
   },
   "source": [
    "## 📘 Les listes"
   ]
  },
  {
   "cell_type": "markdown",
   "metadata": {
    "id": "g2IXvMgzXZ9E"
   },
   "source": [
    "Une liste permet d'emmagasiner plusieurs valeurs dans une seule variable. La liste est représentée par des crochets carrés `[` et `]` et les éléments sont séparés par une virgule `,`:\n",
    "```python\n",
    "liste = [2, 3, 4]\n",
    "```\n",
    "Les différents éléments peuvent ensuite être accédés en lecture ou en écrite à l'aide de leur position (*index*), en commençant par zéro:\n",
    "```python\n",
    "print(liste[0])  # Affiche 2\n",
    "print(liste[1])  # Affiche 3\n",
    "print(liste[2])  # Affiche 4\n",
    "liste[1] = 8\n",
    "print(liste)     # Affiche [2, 8, 4]\n",
    "```\n",
    "On peut aussi afficher les éléments en utilisant leur position inverse, en commençant par la fin:\n",
    "```python\n",
    "print(liste[-1])  # Affiche 4\n",
    "print(liste[-2])  # Affiche 3\n",
    "print(liste[-3])  # Affiche 2\n",
    "```\n",
    "Finalement, il est possible d'obtenir une plage de nombres (ex. les deux premiers):\n",
    "```python\n",
    "print(liste[0:2])  # Affiche [2, 3]\n",
    "```\n",
    "\n",
    "Une liste peut contenir des valeurs autres que des nombres:\n",
    "```python\n",
    "noms = [\"Sébastien\", \"Olivier\"]\n",
    "```\n",
    "On peut ajouter des éléments à l'aide de `append()` et les retirer à l'aide de `pop()`. Par défaut, `pop()` retourne et retire le dernier élément de la liste, sinon `pop(index)` retire l'élément à la position `index`.\n",
    "```python\n",
    "noms.append(\"Charles\")\n",
    "noms.append(\"Bob\")\n",
    "print(noms)          # Affiche [\"Sébastien\", \"Olivier\", \"Charles\", \"Bob\"]\n",
    "retire = noms.pop()  # Enlève \"Bob\" de la liste\n",
    "print(noms)          # Affiche [\"Sébastien\", \"Olivier\", \"Charles\"]\n",
    "print(retire)        # Affiche \"Bob\"\n",
    "```"
   ]
  },
  {
   "cell_type": "code",
   "execution_count": null,
   "metadata": {
    "colab": {
     "base_uri": "https://localhost:8080/"
    },
    "executionInfo": {
     "elapsed": 139,
     "status": "ok",
     "timestamp": 1705004695607,
     "user": {
      "displayName": "Sébastien Huneault",
      "userId": "03514398344720775700"
     },
     "user_tz": 300
    },
    "id": "o9Kc7gSucC6s",
    "outputId": "a115418f-547d-4584-a60d-0409bb90b735"
   },
   "outputs": [
    {
     "name": "stdout",
     "output_type": "stream",
     "text": [
      "['Sébastien', 'Bob', 'Alice', 'Olivier', 'Charlie', 'Daryl', 'Charles']\n",
      "['Sébastien', 'Olivier', 'Charles']\n",
      "['Sébastien', 'Olivier', 'Charles', 'Stéphanie']\n",
      "Olivier\n",
      "Charles\n"
     ]
    }
   ],
   "source": [
    "# TODO: Sans modifier le code existant:\n",
    "#       - Enlever les personnes ne faisant pas parti de la classe\n",
    "#       - Ajouter quelques personnes supplémentaires\n",
    "#       - Afficher le 2e nom de la classe ainsi que l'avant dernier\n",
    "#       - Afficher tous les noms entre le 2e et le 5e inclusivement\n",
    "classe = []\n",
    "classe.append(\"Sébastien\")\n",
    "classe.append(\"Bob\")\n",
    "classe.append(\"Alice\")\n",
    "classe.append(\"Olivier\")\n",
    "classe.append(\"Charlie\")\n",
    "classe.append(\"Daryl\")\n",
    "classe.append(\"Charles\")\n",
    "print(classe)\n",
    "##\n",
    "## Écrire votre code ci-dessous\n",
    "classe.pop(5)\n",
    "classe.pop(4)\n",
    "classe.pop(2)\n",
    "classe.pop(1)\n",
    "print(classe)\n",
    "classe.append(\"Stéphanie\")\n",
    "print(classe)\n",
    "print(classe[1])\n",
    "print(classe[-2])"
   ]
  },
  {
   "cell_type": "markdown",
   "metadata": {
    "id": "5HyGigUobkln"
   },
   "source": [
    "### Fonctions utiles avec les listes"
   ]
  },
  {
   "cell_type": "markdown",
   "metadata": {
    "id": "x9X8ACLXbrN6"
   },
   "source": [
    "#### `min()`, `max()` et `sum()`"
   ]
  },
  {
   "cell_type": "markdown",
   "metadata": {
    "id": "SuJ2KdlcbvJJ"
   },
   "source": [
    "Certaines statistiques peuvent être obtenues sur une liste de nombres.\n",
    "```python\n",
    "nombres = [2, 5, 9, 3, 5]\n",
    "print(min(nombres))  # Affiche 2\n",
    "print(max(nombres))  # Affiche 9\n",
    "print(sum(nombres))  # Affiche 24\n",
    "```"
   ]
  },
  {
   "cell_type": "markdown",
   "metadata": {
    "id": "lVu8NOeJdpTg"
   },
   "source": [
    "#### Taille d'une liste avec `len()`"
   ]
  },
  {
   "cell_type": "markdown",
   "metadata": {
    "id": "ayAkjSFHdr-4"
   },
   "source": [
    "La taille d'une liste peut être obtenue avec `len()`. Cette fonction est très pratique pour calculer rapidement une moyenne.\n",
    "\n",
    "```python\n",
    "nombres = [2, 5, 9, 3, 5]\n",
    "somme = sum(nombres)\n",
    "taille = len(nombres)\n",
    "print(f\"Somme: {somme}\")             # Somme: 24\n",
    "print(f\"Taille: {taille}\")           # Taille: 5\n",
    "print(f\"Moyenne: {somme / taille}\")  # Moyenne: 4.8\n",
    "```"
   ]
  },
  {
   "cell_type": "markdown",
   "metadata": {
    "id": "u5NZv8c5kpKD"
   },
   "source": [
    "#### Chercher un élément dans une liste"
   ]
  },
  {
   "cell_type": "markdown",
   "metadata": {
    "id": "ckXt_yQBkrzS"
   },
   "source": [
    "Pour savoir si un élément dans une liste existe déjà, on peut utiliser une conditionnelle `if` et le mot-clé `in` ou son inverse `not in`:\n",
    "```python\n",
    "noms = [\"Sébastien\", \"Olivier\", \"Bob\"]\n",
    "\n",
    "if \"Bob\" in noms:\n",
    "  print(\"Bob est là!\")\n",
    "\n",
    "if \"Charles\" not in noms:\n",
    "  noms.append(\"Charles\")\n",
    "```"
   ]
  },
  {
   "cell_type": "markdown",
   "metadata": {
    "id": "v35X4T3leW6i"
   },
   "source": [
    "#### Ordonner une liste avec `sort()` et `sorted()`"
   ]
  },
  {
   "cell_type": "markdown",
   "metadata": {
    "id": "zHYhgWB7ecmy"
   },
   "source": [
    "Une liste peut être ordonnée de plusieurs manières avec les fonctions `sort()` et `sorted()`. Les deux fonctions sont presqu'identiques:\n",
    "- `sort()` ordonne la liste directement dans la variable et ne retourne rien\n",
    "- `sorted()` n'affecte pas la liste originale et retourne une nouvelle liste ordonnée"
   ]
  },
  {
   "cell_type": "code",
   "execution_count": null,
   "metadata": {
    "colab": {
     "base_uri": "https://localhost:8080/"
    },
    "executionInfo": {
     "elapsed": 211,
     "status": "ok",
     "timestamp": 1705004877793,
     "user": {
      "displayName": "Sébastien Huneault",
      "userId": "03514398344720775700"
     },
     "user_tz": 300
    },
    "id": "BV54g1khe-Jy",
    "outputId": "bf0b0216-c6f2-4681-ad16-ca6ddbb18801"
   },
   "outputs": [
    {
     "name": "stdout",
     "output_type": "stream",
     "text": [
      "[1, 2, 3, 4, 5]\n",
      "None\n"
     ]
    }
   ],
   "source": [
    "# Sort()\n",
    "nombres = [5, 3, 4, 1, 2]\n",
    "nombres_ordonnees = nombres.sort()\n",
    "print(nombres)\n",
    "print(nombres_ordonnees)"
   ]
  },
  {
   "cell_type": "code",
   "execution_count": null,
   "metadata": {
    "colab": {
     "base_uri": "https://localhost:8080/"
    },
    "executionInfo": {
     "elapsed": 443,
     "status": "ok",
     "timestamp": 1704472656091,
     "user": {
      "displayName": "Sébastien Huneault",
      "userId": "03514398344720775700"
     },
     "user_tz": 300
    },
    "id": "BPQZuv-yd8cn",
    "outputId": "f76f85c4-2c72-4fc9-dff0-2a1aea67ca0e"
   },
   "outputs": [
    {
     "name": "stdout",
     "output_type": "stream",
     "text": [
      "[5, 3, 4, 1, 2]\n",
      "[1, 2, 3, 4, 5]\n"
     ]
    }
   ],
   "source": [
    "# Sorted()\n",
    "nombres = [5, 3, 4, 1, 2]\n",
    "nombres_ordonnees = sorted(nombres)\n",
    "print(nombres)\n",
    "print(nombres_ordonnees)"
   ]
  },
  {
   "cell_type": "markdown",
   "metadata": {
    "id": "DmHyeWEUfOw8"
   },
   "source": [
    "Une liste peut également être ordonnée à l'inverse en utilisant le paramètre `reverse=True` dans les fonctions `sort()` et `sorted()`.\n",
    "```python\n",
    "nombres = [5, 3, 4, 1, 2]\n",
    "nombres.sort(reverse=True)\n",
    "print(nombres)            # Affiche [5, 4, 3, 2, 1]\n",
    "\n",
    "nombres_ordonnees = sorted(nombres, reverse=True)\n",
    "print(nombres_ordonnees)  # Affiche [5, 4, 3, 2, 1]\n",
    "```"
   ]
  },
  {
   "cell_type": "code",
   "execution_count": null,
   "metadata": {
    "colab": {
     "base_uri": "https://localhost:8080/"
    },
    "executionInfo": {
     "elapsed": 123,
     "status": "ok",
     "timestamp": 1705006515033,
     "user": {
      "displayName": "Sébastien Huneault",
      "userId": "03514398344720775700"
     },
     "user_tz": 300
    },
    "id": "IYoZ8wrugPDT",
    "outputId": "a4772b3d-9008-49f6-98d0-e4f9882166c2"
   },
   "outputs": [
    {
     "name": "stdout",
     "output_type": "stream",
     "text": [
      "[50, 100, 10, 52, 78, 72, 6, 80, 10]\n",
      "[100, 80, 78, 72, 52, 50, 10, 10, 6]\n",
      "Moyenne: 50.888888888888886\n"
     ]
    }
   ],
   "source": [
    "# TODO: Ajouter seulement les nombres pairs ou divisibles par 7\n",
    "# TODO: Afficher la liste de manière décroissante\n",
    "# TODO: Afficher la moyenne des nombres obtenus\n",
    "import random\n",
    "n = 20\n",
    "liste = []\n",
    "for i in range(n):\n",
    "  nombre = random.randint(1, 100)\n",
    "\n",
    "  if nombre % 2 == 0 or nombre % 7 == 0:\n",
    "    liste.append(nombre)\n",
    "\n",
    "print(liste)\n",
    "liste.sort(reverse=True)\n",
    "print(liste)\n",
    "\n",
    "taille = len(liste)\n",
    "somme = sum(liste)\n",
    "moyenne = somme / taille\n",
    "print(f\"Moyenne: {moyenne}\")"
   ]
  },
  {
   "cell_type": "markdown",
   "metadata": {
    "id": "VqKI3DRefwxx"
   },
   "source": [
    "#### Copier une liste avec `copy()`\n"
   ]
  },
  {
   "cell_type": "markdown",
   "metadata": {
    "id": "JgIiwwNof2vL"
   },
   "source": [
    "Les listes sont des *objets* un peu spéciaux lorsque vient le temps de les réutiliser. D'habitude, le code\n",
    "```python\n",
    "x = 8\n",
    "y = x\n",
    "y = y + 2\n",
    "print(x)   # Affiche 8\n",
    "print(y)   # Affiche 10\n",
    "```\n",
    "siginfie de copier la valeur de `x` dans la variable `y` et nous obtenons deux variables distinctes. Cependant, pour les listes, le code suivant donnera un résultat un peu spécial:"
   ]
  },
  {
   "cell_type": "code",
   "execution_count": null,
   "metadata": {
    "id": "uWsSgwHPf9wS"
   },
   "outputs": [],
   "source": [
    "# TODO: Avant d'exécuter le code, déterminer le résultat\n",
    "# TODO: Exécuter le code pour voir le résultat\n",
    "liste_1 = [1, 2, 3, 4, 5]\n",
    "liste_2 = liste_1\n",
    "liste_2.append(6)\n",
    "\n",
    "print(liste_1)\n",
    "print(liste_2)"
   ]
  },
  {
   "cell_type": "markdown",
   "metadata": {
    "id": "RvDPell9hnvk"
   },
   "source": [
    "En effet, les deux variables *pointent* vers la même liste. Pour créer une copie, il est nécessaire d'utiliser la fonction `copy()` comme suit:\n",
    "```python\n",
    "liste_2 = copy(liste_1)\n",
    "```"
   ]
  },
  {
   "cell_type": "code",
   "execution_count": null,
   "metadata": {
    "id": "9bmHASYwh2Py"
   },
   "outputs": [],
   "source": [
    "# TODO: Corriger le code pour obtenir deux listes distinctes\n",
    "liste_1 = [1, 2, 3, 4, 5]\n",
    "liste_2 = liste_1\n",
    "liste_2.append(6)\n",
    "\n",
    "print(liste_1)\n",
    "print(liste_2)"
   ]
  },
  {
   "cell_type": "markdown",
   "metadata": {
    "id": "9Ad4kS5YisFR"
   },
   "source": [
    "### Boucler à travers une liste"
   ]
  },
  {
   "cell_type": "markdown",
   "metadata": {
    "id": "YdQL8zgFiut1"
   },
   "source": [
    "Il existe deux façons de boucler à travers une liste:\n",
    "- La méthode *traditionnelle*, en passant à travers les index\n",
    "- La méthode *python*, en bouclant directement dans la liste\n",
    "\n",
    "```python\n",
    "# Méthode traditionnelle\n",
    "liste = [\"Sébastien\", \"Olivier\", \"Charles\"]\n",
    "for i in range(len(liste)):\n",
    "  nom = liste[i]\n",
    "  print(nom)\n",
    "\n",
    "# Méthode python\n",
    "liste = [\"Sébastien\", \"Olivier\", \"Charles\"]\n",
    "for nom in liste:\n",
    "  print(nom)\n",
    "```\n",
    "À moins que l'index soit nécessaire au fonctionnement du programme, la méthode *python* est plus rapide et habituellement plus facile à lire."
   ]
  },
  {
   "cell_type": "code",
   "execution_count": null,
   "metadata": {
    "id": "e-337NeLjiEQ"
   },
   "outputs": [],
   "source": [
    "# TODO: Sans modifier le code existant:\n",
    "#       - Mettre tous les nombres positifs de la liste dans la variable liste_positive\n",
    "#       - Mettre tous les nombres négatifs de la liste dans la variable liste_negative\n",
    "#       - Afficher la taille des deux listes\n",
    "import random\n",
    "\n",
    "liste = []\n",
    "for i in range(1000):\n",
    "  liste.append(random.randint(1, 1000))\n",
    "\n",
    "##\n",
    "# Écrire votre code ici\n",
    "liste_positive = []\n",
    "liste_negative = []"
   ]
  },
  {
   "cell_type": "markdown",
   "metadata": {
    "id": "Hpcphk1K5xBp"
   },
   "source": [
    "## 📘 Les tuples"
   ]
  },
  {
   "cell_type": "markdown",
   "metadata": {
    "id": "3bKbpxd451Jb"
   },
   "source": [
    "Contrairement aux listes où l'ordre n'a habituellement pas d'importance, l'ordre des éléments d'un tuple est primordial. L'exemple le plus courant est une coordonnée $(x, y)$ sur un plan cartésien. Un tuple s'utilise comme une liste, mais se définir à l'aide de parenthèses au lieu de crochets carrés:\n",
    "```python\n",
    "coordonnee = (2, 3)\n",
    "print(coordonnee)     # Affiche (2, 3)\n",
    "print(coordonnee[0])  # Affiche 2\n",
    "print(coordonnee[1])  # Affiche 3\n",
    "```\n",
    "La majorité des fonctions des listes sont utilisables avec les tuples, à l'exception de `sort()`. En effet, étant donné que l'ordre des éléments d'un tuple est important, celui-ci ne peut pas s'ordonner."
   ]
  },
  {
   "cell_type": "markdown",
   "metadata": {
    "id": "_QJp5h2y5bVb"
   },
   "source": [
    "### 📄 Exercices\n",
    "Faire les exercices de la section **Les listes et les tuples**"
   ]
  },
  {
   "cell_type": "code",
   "execution_count": null,
   "metadata": {
    "colab": {
     "base_uri": "https://localhost:8080/"
    },
    "executionInfo": {
     "elapsed": 4,
     "status": "ok",
     "timestamp": 1704480708912,
     "user": {
      "displayName": "Sébastien Huneault",
      "userId": "03514398344720775700"
     },
     "user_tz": 300
    },
    "id": "v6VxTun24ZWW",
    "outputId": "2e764c57-c2fa-419d-dd2d-48b30a2b54a0"
   },
   "outputs": [
    {
     "name": "stdout",
     "output_type": "stream",
     "text": [
      "(2, 3)\n",
      "2\n",
      "3\n",
      "2\n",
      "2\n",
      "5\n"
     ]
    },
    {
     "data": {
      "text/plain": [
       "[2, 3]"
      ]
     },
     "execution_count": 129,
     "metadata": {},
     "output_type": "execute_result"
    }
   ],
   "source": [
    "coordonnee = (2, 3)\n",
    "print(coordonnee)\n",
    "print(coordonnee[0])  # Affiche 2\n",
    "print(coordonnee[1])  # Affiche 3\n",
    "print(min(coordonnee))\n",
    "print(len(coordonnee))\n",
    "print(sum(coordonnee))\n",
    "sorted(coordonnee)"
   ]
  },
  {
   "cell_type": "code",
   "execution_count": null,
   "metadata": {
    "id": "cGYn4hQf8rN_"
   },
   "outputs": [],
   "source": []
  },
  {
   "cell_type": "markdown",
   "metadata": {
    "id": "thiDIjVdBWpT"
   },
   "source": [
    "## 📘 Les dictionnaires"
   ]
  },
  {
   "cell_type": "markdown",
   "metadata": {
    "id": "-KUm7z_GBYq6"
   },
   "source": [
    "Les dictionnaires sont une autre façon d'organiser des données. Au lieu d'utiliser des index comme les listes et les tuples, ils utilisent des *clés*. On les définit à l'aide d'acolades `{` et `}`.\n",
    "```python\n",
    "permis = {\n",
    "  \"numero\": \"QC-12345\",\n",
    "  \"nom\": \"Huneault\",\n",
    "  \"prenom\": \"Sébastien\",\n",
    "  \"yeux\": \"bleus\",\n",
    "  \"age\": 38,\n",
    "  \"est_adulte\": True\n",
    "}\n",
    "```\n",
    "❗Le dictionnaire a été mis sur plusieurs lignes pour faciliter la lecture.\n",
    "\n",
    "Accéder à une valeur dans un dictionnaire est similaire à une liste: on utilise le nom de la variable, des crochets carrés et l'index:\n",
    "```python\n",
    "permis[\"numero\"]\n",
    "```"
   ]
  },
  {
   "cell_type": "code",
   "execution_count": null,
   "metadata": {
    "id": "G4jPp2AaCZeT"
   },
   "outputs": [],
   "source": [
    "# TODO: Changer les informations pour les vôtres et afficher votre nom, prénom et votre couleur de yeux.\n",
    "permis = {\n",
    "  \"numero\": \"QC-12345\",\n",
    "  \"nom\": \"Huneault\",\n",
    "  \"prenom\": \"Sébastien\",\n",
    "  \"yeux\": \"bleus\",\n",
    "  \"age\": 38,\n",
    "  \"est_adulte\": True\n",
    "}\n",
    "print(permis[\"nom\"])"
   ]
  },
  {
   "cell_type": "markdown",
   "metadata": {
    "id": "mch7gVVTDjAG"
   },
   "source": [
    "### Boucler dans un dictionnaire"
   ]
  },
  {
   "cell_type": "markdown",
   "metadata": {
    "id": "sGwHIN61DxJr"
   },
   "source": [
    "Comme pour une liste, il est possible de boucler à travers un dictionnaire. La boucle utilisera alors les clés comme itérateur."
   ]
  },
  {
   "cell_type": "code",
   "execution_count": null,
   "metadata": {
    "id": "SqagWHVtBYaA"
   },
   "outputs": [],
   "source": [
    "# TODO: À l'aide d'une boucle, afficher la clé et la valeur de chaque élément du dictionnaire.\n",
    "permis = {\n",
    "  \"numero\": \"QC-12345\",\n",
    "  \"nom\": \"Huneault\",\n",
    "  \"prenom\": \"Sébastien\",\n",
    "  \"yeux\": \"bleus\",\n",
    "  \"age\": 38,\n",
    "  \"est_adulte\": True\n",
    "}\n",
    "for i in permis:\n",
    "  print(i)"
   ]
  },
  {
   "cell_type": "markdown",
   "metadata": {
    "id": "VBEXJGDFEOC7"
   },
   "source": [
    "### Imbriquer une liste dans un dictionnaire"
   ]
  },
  {
   "cell_type": "markdown",
   "metadata": {
    "id": "S-GFdtLLERXj"
   },
   "source": [
    "Les listes peuvent être intégrés dans un dictionnaire, au même titre que le texte, nombres et booléens:\n",
    "```python\n",
    "# Liste dans un dictionnaire\n",
    "famille = {\n",
    "  \"pere\": \"Bob\",\n",
    "  \"mere\": \"Alice\",\n",
    "  \"enfants\": [\n",
    "    \"Charlie\",\n",
    "    \"Daryl\",\n",
    "    \"Eve\"\n",
    "  ]\n",
    "}\n",
    "print(famille[\"enfants\"][0])   # Afficher le premier enfant, Charlie\n",
    "print(len(famille[\"enfants\"])) # Afficher le nombre d'enfants, 3\n",
    "```\n",
    "Et un dictionnaire peut aussi être imbriqué dans une liste:\n",
    "```python\n",
    "# Dictionnaire dans une liste\n",
    "epicerie = [\n",
    "  { \"item\": \"Pomme\", \"quantite\": 3 },\n",
    "  { \"item\": \"Lait\", \"quantite\": 1 },\n",
    "  { \"item\": \"Pain\", \"quantite\": 2 }\n",
    "]\n",
    "print(len(epicerie))           # Afficher le nombre d'articles différents, 3\n",
    "print(epicerie[2][\"item\"])     # Afficher le nom du 3e article, Pain\n",
    "```"
   ]
  },
  {
   "cell_type": "code",
   "execution_count": null,
   "metadata": {
    "id": "htQ4XPnQD4eL"
   },
   "outputs": [],
   "source": [
    "# TODO: À l'aide d'une boucle, afficher combien d'item total sera acheté\n",
    "# TODO: À l'aide d'une boucle, afficher le coût total d'achat de l'épicerie\n",
    "epicerie = [\n",
    "  { \"item\": \"Pomme\", \"quantite\": 3, \"cout\": 0.89 },\n",
    "  { \"item\": \"Lait\", \"quantite\": 1, \"cout\": 6.99 },\n",
    "  { \"item\": \"Pain\", \"quantite\": 2, \"cout\": 4.99 }\n",
    "]\n",
    "for article in epicerie:\n",
    "  print(article)"
   ]
  },
  {
   "cell_type": "markdown",
   "metadata": {
    "id": "kHqGUIKQGg_V"
   },
   "source": [
    "### 📄 Exercices\n",
    "Faire les exercices de la section **Les dictionnaires et tableaux imbriqués**"
   ]
  },
  {
   "cell_type": "code",
   "execution_count": null,
   "metadata": {
    "id": "TnZHiVD3GE_2"
   },
   "outputs": [],
   "source": []
  }
 ],
 "metadata": {
  "colab": {
   "authorship_tag": "ABX9TyMiklHIkh5VbVhEFhVk2adm",
   "provenance": []
  },
  "kernelspec": {
   "display_name": "Python 3 (ipykernel)",
   "language": "python",
   "name": "python3"
  },
  "language_info": {
   "codemirror_mode": {
    "name": "ipython",
    "version": 3
   },
   "file_extension": ".py",
   "mimetype": "text/x-python",
   "name": "python",
   "nbconvert_exporter": "python",
   "pygments_lexer": "ipython3",
   "version": "3.11.7"
  }
 },
 "nbformat": 4,
 "nbformat_minor": 4
}
