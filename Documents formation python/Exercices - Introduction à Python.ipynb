{
 "cells": [
  {
   "cell_type": "markdown",
   "metadata": {
    "id": "a6lVtwas4XD3"
   },
   "source": [
    "Les exercices avec une ⭐ sont plus difficiles que les autres et représentent un défi supplémentaire."
   ]
  },
  {
   "cell_type": "markdown",
   "metadata": {
    "id": "TLmbWO8pFdNH"
   },
   "source": [
    "# La syntaxe de base"
   ]
  },
  {
   "cell_type": "markdown",
   "metadata": {
    "id": "qd6nJmPYF6Y9"
   },
   "source": [
    "## Exercice 1\n",
    "Calculer et afficher l'age approximatif d'une personne née en 1974."
   ]
  },
  {
   "cell_type": "code",
   "execution_count": null,
   "metadata": {
    "colab": {
     "base_uri": "https://localhost:8080/"
    },
    "executionInfo": {
     "elapsed": 490,
     "status": "ok",
     "timestamp": 1704984551034,
     "user": {
      "displayName": "Nelson Marceau",
      "userId": "03732416420414029404"
     },
     "user_tz": 300
    },
    "id": "n43pFWPCFcZU",
    "outputId": "96055c04-799e-45c3-ca9a-f4ec7ae3e67f"
   },
   "outputs": [
    {
     "name": "stdout",
     "output_type": "stream",
     "text": [
      "L'âge de la personne est d'environ 50 ans.\n"
     ]
    }
   ],
   "source": [
    "print(f\"L'âge de la personne est d'environ {2024 - 1974} ans.\")"
   ]
  },
  {
   "cell_type": "markdown",
   "metadata": {
    "id": "a1Ya1GNsGHEa"
   },
   "source": [
    "## Exercice 2\n",
    "Calculer et afficher la multiplication entre 26 et 13."
   ]
  },
  {
   "cell_type": "code",
   "execution_count": null,
   "metadata": {
    "colab": {
     "base_uri": "https://localhost:8080/"
    },
    "executionInfo": {
     "elapsed": 264,
     "status": "ok",
     "timestamp": 1705016899867,
     "user": {
      "displayName": "Nelson Marceau",
      "userId": "03732416420414029404"
     },
     "user_tz": 300
    },
    "id": "H4rxPlNGGL9j",
    "outputId": "41f8970c-2037-45d1-9bf0-a50af88007a9"
   },
   "outputs": [
    {
     "name": "stdout",
     "output_type": "stream",
     "text": [
      "26 x 13 = 338\n"
     ]
    }
   ],
   "source": [
    "print(f'26 x 13 = {26*13}')"
   ]
  },
  {
   "cell_type": "markdown",
   "metadata": {
    "id": "ze9YPIUkGMdz"
   },
   "source": [
    "\n",
    "## Exercice 3\n",
    "Calculer et afficher la circonférence d'un cercle dont le rayon est de 4 cm."
   ]
  },
  {
   "cell_type": "code",
   "execution_count": null,
   "metadata": {
    "colab": {
     "base_uri": "https://localhost:8080/"
    },
    "executionInfo": {
     "elapsed": 110,
     "status": "ok",
     "timestamp": 1705016967376,
     "user": {
      "displayName": "Nelson Marceau",
      "userId": "03732416420414029404"
     },
     "user_tz": 300
    },
    "id": "LYTQFxHWGRL1",
    "outputId": "283ad638-c608-42f8-9ff9-aea5aac01691"
   },
   "outputs": [
    {
     "name": "stdout",
     "output_type": "stream",
     "text": [
      "La circonférence d'un cercle de rayon 4 cm est de 25.133 cm²\n"
     ]
    }
   ],
   "source": [
    "import math\n",
    "\n",
    "rayon = 4\n",
    "print(f\"La circonférence d'un cercle de rayon {rayon} cm est de {(2*math.pi*rayon):.3f} cm²\")\n"
   ]
  },
  {
   "cell_type": "markdown",
   "metadata": {
    "id": "KJpIOrmFGYbI"
   },
   "source": [
    "## Exercice 4\n",
    "Calculer et afficher le longueur de l'hypoténuse d'un triangle rectangle dont les côtés de l'angle droit mesurent 120 et 160 unités, respectivement."
   ]
  },
  {
   "cell_type": "code",
   "execution_count": null,
   "metadata": {
    "colab": {
     "base_uri": "https://localhost:8080/"
    },
    "executionInfo": {
     "elapsed": 97,
     "status": "ok",
     "timestamp": 1705016998122,
     "user": {
      "displayName": "Nelson Marceau",
      "userId": "03732416420414029404"
     },
     "user_tz": 300
    },
    "id": "HetiV-ewGay8",
    "outputId": "2fd22677-5968-434a-8bc3-0b44b3d4b119"
   },
   "outputs": [
    {
     "name": "stdout",
     "output_type": "stream",
     "text": [
      "L'hypoténuse mesure 200.0 unités\n"
     ]
    }
   ],
   "source": [
    "import math\n",
    "a = 120\n",
    "b = 160\n",
    "c = math.sqrt(a**2 + b**2)\n",
    "print(f\"L'hypoténuse mesure {c} unités\")"
   ]
  },
  {
   "cell_type": "markdown",
   "metadata": {
    "id": "fD_NVGymHVDR"
   },
   "source": [
    "## Exercice 5\n",
    "Calculer et afficher la hauteur d'une balle lancée du sommet d'un immeuble après un temps $t$ de 4 secondes si sa position verticale est donnée par\n",
    "$$h(t) = -4,9t^2 + 10t + 50$$"
   ]
  },
  {
   "cell_type": "code",
   "execution_count": null,
   "metadata": {
    "colab": {
     "base_uri": "https://localhost:8080/"
    },
    "executionInfo": {
     "elapsed": 107,
     "status": "ok",
     "timestamp": 1705017155396,
     "user": {
      "displayName": "Nelson Marceau",
      "userId": "03732416420414029404"
     },
     "user_tz": 300
    },
    "id": "qfocXu9fHlLV",
    "outputId": "b8a5cdce-dfd5-4f77-91db-0f1c534a30d6"
   },
   "outputs": [
    {
     "name": "stdout",
     "output_type": "stream",
     "text": [
      "La hauteur de la balle lancée du sommet d'un immeuble après un temps de 4 secondes = 11.60\n"
     ]
    }
   ],
   "source": [
    "temps = 4\n",
    "hauteur = -4.9*temps**2 + 10*temps + 50\n",
    "print(f\"La hauteur de la balle lancée du sommet d'un immeuble après un temps de {temps} secondes = {hauteur:.2f}\")"
   ]
  },
  {
   "cell_type": "markdown",
   "metadata": {
    "id": "nT1CGI-hJxyj"
   },
   "source": [
    "## ⭐ Exercice 6\n",
    "Calculer et afficher la valeur de la fonction\n",
    "$$f(x) = \\frac{x^2 -2}{3(3x + 2)²}$$\n",
    "lorsque $x = -2$\n",
    "\n",
    "*Remarque: Attention aux parenthèses. Le résultat est 0.01466667*"
   ]
  },
  {
   "cell_type": "code",
   "execution_count": null,
   "metadata": {
    "colab": {
     "base_uri": "https://localhost:8080/"
    },
    "executionInfo": {
     "elapsed": 116,
     "status": "ok",
     "timestamp": 1705017237231,
     "user": {
      "displayName": "Nelson Marceau",
      "userId": "03732416420414029404"
     },
     "user_tz": 300
    },
    "id": "cMZBbgoqJ3rZ",
    "outputId": "98cdcf5f-3cb2-4406-c675-91c302f0ba3c"
   },
   "outputs": [
    {
     "name": "stdout",
     "output_type": "stream",
     "text": [
      "0.041666666666666664\n"
     ]
    }
   ],
   "source": [
    "x = -2\n",
    "y = (x**2 - 2) / (3*((3*x + 2)**2))\n",
    "print(y)"
   ]
  },
  {
   "cell_type": "markdown",
   "metadata": {
    "id": "zrkP1CQj4uAZ"
   },
   "source": [
    "# Les variables, `print()` et `input()`"
   ]
  },
  {
   "cell_type": "markdown",
   "metadata": {
    "id": "Pba-o53S4zqq"
   },
   "source": [
    "## Exercice 1\n",
    "Écrire un programme qui demande deux nombres à l'utilisateur (à l'aide de `input()`) et affiche les équations pour les opérations addition, soustraction, multiplication, division, modulo, division entière et exposant. L'affichage final doit ressembler à ceci :\n",
    "```\n",
    "Entrez le premier nombre: 5\n",
    "Entrez le second nombre: 8\n",
    "5 + 8 = 13\n",
    "5 - 8 = -3\n",
    "5 * 8 = 40\n",
    "...\n",
    "```\n",
    "❗Rappel: La fonction `input()` retourne du texte (*string*) et non des nombres (*int* ou *float*)"
   ]
  },
  {
   "cell_type": "code",
   "execution_count": null,
   "metadata": {
    "colab": {
     "base_uri": "https://localhost:8080/"
    },
    "executionInfo": {
     "elapsed": 7572,
     "status": "ok",
     "timestamp": 1705017264102,
     "user": {
      "displayName": "Nelson Marceau",
      "userId": "03732416420414029404"
     },
     "user_tz": 300
    },
    "id": "FARluP2v4yhJ",
    "outputId": "7bb085c9-4a53-4215-fbec-1b293d4bfd31"
   },
   "outputs": [
    {
     "name": "stdout",
     "output_type": "stream",
     "text": [
      "Entrez le premier nombre:5\n",
      "Entrez le second nombre:8\n",
      "5 + 8 = 13\n",
      "5 - 8 = -3\n",
      "5 * 8 = 40\n"
     ]
    }
   ],
   "source": [
    "n1 = int(input(\"Entrez le premier nombre:\"))\n",
    "n2 = int(input(\"Entrez le second nombre:\"))\n",
    "\n",
    "print(f\"{n1} + {n2} = {n1+n2}\")\n",
    "print(f\"{n1} - {n2} = {n1-n2}\")\n",
    "print(f\"{n1} * {n2} = {n1*n2}\")"
   ]
  },
  {
   "cell_type": "markdown",
   "metadata": {
    "id": "d9gtA27s_PVR"
   },
   "source": [
    "### Exercice 2\n",
    "Écrire un programme qui calcule la valeur de l'hypoténuse d'un triangle rectangle. Le programme doit demander les côtés $a$ et $b$ du triangle et donner la valeur de l'hypoténuse."
   ]
  },
  {
   "cell_type": "code",
   "execution_count": null,
   "metadata": {
    "colab": {
     "base_uri": "https://localhost:8080/"
    },
    "executionInfo": {
     "elapsed": 4925,
     "status": "ok",
     "timestamp": 1705017413933,
     "user": {
      "displayName": "Nelson Marceau",
      "userId": "03732416420414029404"
     },
     "user_tz": 300
    },
    "id": "_ddptoFI80up",
    "outputId": "9c05495d-4e49-47fa-da89-abbe97d53a86"
   },
   "outputs": [
    {
     "name": "stdout",
     "output_type": "stream",
     "text": [
      "Entrez la valeur du côté a = 3\n",
      "Entrez la valeur du côté b = 4\n",
      "La valeur de l'hypoténuse est 5.0\n"
     ]
    }
   ],
   "source": [
    "import math\n",
    "a = int(input(\"Entrez la valeur du côté a = \"))\n",
    "b = int(input(\"Entrez la valeur du côté b = \"))\n",
    "\n",
    "c = math.sqrt(a**2 + b**2)\n",
    "print(f\"La valeur de l'hypoténuse est {c}\")"
   ]
  },
  {
   "cell_type": "markdown",
   "metadata": {
    "id": "Urcjjnaz5eQu"
   },
   "source": [
    "## Exercice 3\n",
    "Écrire un programme qui demande le sous-total d'une facture et effectue le calcul des taxes. L'affichage doit ressembler à ceci:\n",
    "```\n",
    "Quel est le coût de la facture? XX.XX\n",
    "Sous-Total : XX.XX $\n",
    "TPS        : X.XX $\n",
    "TVQ        : X.XX $\n",
    "Total      : XX.XX $\n",
    "```\n",
    "Pour un défi supplémentaire, faire en sorte qu'il n'y ait que 2 décimales."
   ]
  },
  {
   "cell_type": "code",
   "execution_count": null,
   "metadata": {
    "colab": {
     "base_uri": "https://localhost:8080/"
    },
    "executionInfo": {
     "elapsed": 3479,
     "status": "ok",
     "timestamp": 1705017467909,
     "user": {
      "displayName": "Nelson Marceau",
      "userId": "03732416420414029404"
     },
     "user_tz": 300
    },
    "id": "TuxaqvZs5rRu",
    "outputId": "de17c27d-308c-449a-cc9f-b82bd2e965d5"
   },
   "outputs": [
    {
     "name": "stdout",
     "output_type": "stream",
     "text": [
      "Quel est le coût de la facture? [XX.XX] 9.99\n",
      "\n",
      "Sous-Total : 9.99$\n",
      "TPS        : 0.50$\n",
      "TVQ        : 1.00$\n",
      "Total      : 11.49$\n"
     ]
    }
   ],
   "source": [
    "TPS = 0.05\n",
    "TVQ = 0.09975\n",
    "sous_total = float(input(\"Quel est le coût de la facture? [XX.XX] \"))\n",
    "tps = sous_total * TPS;\n",
    "tvq = sous_total * TVQ;\n",
    "total = sous_total + tps + tvq\n",
    "\n",
    "print(f\"\"\"\n",
    "Sous-Total : {sous_total:.2f}$\n",
    "TPS        : {tps:.2f}$\n",
    "TVQ        : {tvq:.2f}$\n",
    "Total      : {total:.2f}$\"\"\")"
   ]
  },
  {
   "cell_type": "markdown",
   "metadata": {
    "id": "8MQdRwrV55gn"
   },
   "source": [
    "## Exercice 4\n",
    "Écrire un programme qui calcule la valeur de deux racines de l'équation quadratique $$ax^2 + bx + c = 0$$ à l'aide de la solution de l'équation quadratique $$x=\\frac{-b\\pm\\sqrt{b^2-4ac}}{2a}$$\n",
    "Utiliser la fonction `input()` pour entrer les valeurs des paramètres $a$, $b$ et $c$. Tester le programme pour trouver les racines pour les valeurs suivantes:\n",
    "\n",
    "$a$|$b$|$c$|Racines\n",
    "---|---|---|---\n",
    "-2|3|10|-1.608, 3.108\n",
    "1|-4|-2|-0.449, 4.449\n",
    "$$1 \\times 10^{-4}$$|$$3 \\times 10^6$$|$$-2 \\times 10^-4$$|0, -30000000000"
   ]
  },
  {
   "cell_type": "code",
   "execution_count": null,
   "metadata": {
    "colab": {
     "base_uri": "https://localhost:8080/"
    },
    "executionInfo": {
     "elapsed": 4251,
     "status": "ok",
     "timestamp": 1705017709983,
     "user": {
      "displayName": "Nelson Marceau",
      "userId": "03732416420414029404"
     },
     "user_tz": 300
    },
    "id": "hWsUaaH79Xgg",
    "outputId": "8e48bb35-fd94-425d-b38c-4bd7b7c96144"
   },
   "outputs": [
    {
     "name": "stdout",
     "output_type": "stream",
     "text": [
      "Valeur de a = -2\n",
      "Valeur de b = 3\n",
      "Valeur de c = 10\n",
      "-1.608,3.108\n"
     ]
    }
   ],
   "source": [
    "import math\n",
    "a = int(input(\"Valeur de a = \"))\n",
    "b = int(input(\"Valeur de b = \"))\n",
    "c = int(input(\"Valeur de c = \"))\n",
    "\n",
    "x1 = (-b + math.sqrt(b**2 - 4*a*c)) / (2*a)\n",
    "x2 = (-b - math.sqrt(b**2 - 4*a*c)) / (2*a)\n",
    "print(f\"{x1:.3f},{x2:.3f}\")"
   ]
  },
  {
   "cell_type": "markdown",
   "metadata": {
    "id": "14cVwmVx-xFw"
   },
   "source": [
    "## ⭐ Exercice 5\n",
    "Écrire un programme qui permet de diviser le montant d'une facture de restaurant en nombre d'invités. Le programme doit demander le montant de la facture, le pourcentage de pourboire et le nombre de personnes. Une facture individuelle devra être affichée, représentant le montant que chacun doit payer."
   ]
  },
  {
   "cell_type": "code",
   "execution_count": null,
   "metadata": {
    "colab": {
     "base_uri": "https://localhost:8080/"
    },
    "executionInfo": {
     "elapsed": 5894,
     "status": "ok",
     "timestamp": 1705017720354,
     "user": {
      "displayName": "Nelson Marceau",
      "userId": "03732416420414029404"
     },
     "user_tz": 300
    },
    "id": "MtmgkJFv-9Ve",
    "outputId": "6d9d06f6-374e-48cf-e68f-62c9b3663daa"
   },
   "outputs": [
    {
     "name": "stdout",
     "output_type": "stream",
     "text": [
      "Montant de la facture [XX.XX] 10\n",
      "Pourcentage du pourboire [XX%] 10\n",
      "Nombre de personnes 5\n",
      "\n",
      "Montant de la facture     : 10.00$\n",
      "Pourcentage du pourboire  : 10.00%\n",
      "Montant du pourboire      : 1.00$\n",
      "Total                     : 11.00$\n",
      "Partage pour chaque personne : 2.20$\n",
      "\n"
     ]
    }
   ],
   "source": [
    "facture = float(input(\"Montant de la facture [XX.XX] \"))\n",
    "pourboire = float(input(\"Pourcentage du pourboire [XX%] \"))\n",
    "personne = int(input(\"Nombre de personnes \"))\n",
    "\n",
    "montant_pourboire = facture * (pourboire/100)\n",
    "total = facture + montant_pourboire\n",
    "partage = total / personne\n",
    "\n",
    "print(f\"\"\"\n",
    "Montant de la facture     : {facture:.2f}$\n",
    "Pourcentage du pourboire  : {pourboire:.2f}%\n",
    "Montant du pourboire      : {montant_pourboire:.2f}$\n",
    "Total                     : {total:.2f}$\n",
    "Partage pour chaque personne : {partage:.2f}$\n",
    "\"\"\")"
   ]
  },
  {
   "cell_type": "markdown",
   "metadata": {
    "id": "xMOLLQZ3FdX_"
   },
   "source": [
    "# Les fonctions\n",
    "Les exercices suivants demandent d'écrire des fonctions. Celles-ci doivent être utilisées pour démontrer leur fonctionnement."
   ]
  },
  {
   "cell_type": "markdown",
   "metadata": {
    "id": "JOIVwrdwFuWW"
   },
   "source": [
    "\n",
    "## Exercice 1\n",
    "Écrire une fonction qui demande l'année de naissance de l'utilisateur et retourne son age approximatif. La fonction n'a aucun paramètre, mais retourne le nombre d'années."
   ]
  },
  {
   "cell_type": "code",
   "execution_count": null,
   "metadata": {
    "colab": {
     "base_uri": "https://localhost:8080/"
    },
    "executionInfo": {
     "elapsed": 2631,
     "status": "ok",
     "timestamp": 1705017806988,
     "user": {
      "displayName": "Nelson Marceau",
      "userId": "03732416420414029404"
     },
     "user_tz": 300
    },
    "id": "2JCYCWzDG4jM",
    "outputId": "d6272020-cf40-47dc-edaf-2097770e4127"
   },
   "outputs": [
    {
     "name": "stdout",
     "output_type": "stream",
     "text": [
      "Année de naissance 1976\n",
      "Son âge approximatif est 48 ans.\n"
     ]
    }
   ],
   "source": [
    "def naissance():\n",
    "  annee = int(input(\"Année de naissance \"))\n",
    "  return 2024 - annee\n",
    "\n",
    "print(f\"Son âge approximatif est {naissance()} ans.\")"
   ]
  },
  {
   "cell_type": "markdown",
   "metadata": {
    "id": "F4PQh8WwFf6b"
   },
   "source": [
    "## Exercice 2\n",
    "Réécrire l'[exercice 4](#scrollTo=8MQdRwrV55gn&line=1&uniqifier=1) sur les équations quadratiques pour utiliser une fonction."
   ]
  },
  {
   "cell_type": "code",
   "execution_count": null,
   "metadata": {
    "colab": {
     "base_uri": "https://localhost:8080/"
    },
    "executionInfo": {
     "elapsed": 121,
     "status": "ok",
     "timestamp": 1705017869876,
     "user": {
      "displayName": "Nelson Marceau",
      "userId": "03732416420414029404"
     },
     "user_tz": 300
    },
    "id": "iEmeA2XW4_l2",
    "outputId": "10cebea2-a94d-442b-87d0-11c56f367d53"
   },
   "outputs": [
    {
     "name": "stdout",
     "output_type": "stream",
     "text": [
      "Les zéros de la fonction quadratique avec a=-2, b=3, c10 sont -1.60850,3.10850\n"
     ]
    }
   ],
   "source": [
    "def calculerZeros(a,b,c):\n",
    "  import math\n",
    "  x1 = (-b + math.sqrt(b**2 - 4*a*c)) / (2*a)\n",
    "  x2 = (-b - math.sqrt(b**2 - 4*a*c)) / (2*a)\n",
    "  return x1, x2\n",
    "\n",
    "a = -2\n",
    "b = 3\n",
    "c = 10\n",
    "x1, x2 = calculerZeros(a,b,c)\n",
    "print(f\"Les zéros de la fonction quadratique avec a={a}, b={b}, c{c} sont {x1:.5f},{x2:.5f}\")"
   ]
  },
  {
   "cell_type": "markdown",
   "metadata": {
    "id": "4ChAOAGPIcF0"
   },
   "source": [
    "## Exercice 3\n",
    "Écrire une fonction qui retourne la valeur de $\\pi$ selon une précision demandée. Attention, votre programme doit être résistant aux erreurs et toujours convertir une précision négative en précision positive, le cas échéant. Ainsi, une précision de `-2` sera interprétée comme une précision de `2`. La fonction pourrait être utilisée comme suit:\n",
    "```python\n",
    "print(obtenir_pi(3))    # Affiche 3.142\n",
    "```"
   ]
  },
  {
   "cell_type": "code",
   "execution_count": null,
   "metadata": {
    "colab": {
     "base_uri": "https://localhost:8080/"
    },
    "executionInfo": {
     "elapsed": 4,
     "status": "ok",
     "timestamp": 1705017918797,
     "user": {
      "displayName": "Nelson Marceau",
      "userId": "03732416420414029404"
     },
     "user_tz": 300
    },
    "id": "8HkwG_fa5A62",
    "outputId": "da170372-6f26-4b42-ff0e-8b0fc205cdba"
   },
   "outputs": [
    {
     "name": "stdout",
     "output_type": "stream",
     "text": [
      "La valeur de pi avec une précision de 5 décimales est 3.14159\n"
     ]
    }
   ],
   "source": [
    "import math\n",
    "\n",
    "def obtenir_pi( precision ):\n",
    "  return round( math.pi, abs(precision))\n",
    "\n",
    "p = 5\n",
    "print(f\"La valeur de pi avec une précision de {p} décimales est {obtenir_pi(p)}\")"
   ]
  },
  {
   "cell_type": "markdown",
   "metadata": {
    "id": "XGcKSwVvG_v0"
   },
   "source": [
    "\n",
    "## Exercice 4\n",
    "Écrire une fonction qui convertit une grandeur impériale (pieds et pouces) en grandeur métrique (centimètres).  \n",
    "❗*1 pouce équivaut à 2.54 cm et il y a 12 pouces dans un pied.*  \n",
    "La fonction aura la structure suivante:\n",
    "```python\n",
    "def imperiale_en_metrique(pieds, pouces):\n",
    "  ...\n",
    "  return centimetres\n",
    "```"
   ]
  },
  {
   "cell_type": "code",
   "execution_count": null,
   "metadata": {
    "colab": {
     "base_uri": "https://localhost:8080/"
    },
    "executionInfo": {
     "elapsed": 179,
     "status": "ok",
     "timestamp": 1705017961386,
     "user": {
      "displayName": "Nelson Marceau",
      "userId": "03732416420414029404"
     },
     "user_tz": 300
    },
    "id": "0t7vtnv3IGn9",
    "outputId": "f517680d-9c2b-43d9-e0ed-497223a60046"
   },
   "outputs": [
    {
     "name": "stdout",
     "output_type": "stream",
     "text": [
      "Josée mesure 160.02 cm.\n"
     ]
    }
   ],
   "source": [
    "def imperialeToMetrique(pieds, pouces):\n",
    "  pouces = pieds * 12 + pouces\n",
    "  return pouces * 2.54\n",
    "\n",
    "print(f\"Josée mesure {imperialeToMetrique(5,3)} cm.\")"
   ]
  },
  {
   "cell_type": "markdown",
   "metadata": {
    "id": "nk5G3x1kH3wX"
   },
   "source": [
    "## ⭐ Exercice 5\n",
    "Écrire la fonction inverse, c'est-à-dire qui convertit une grandeur métrique (centimètres) en grandeur métrique (pieds et pouces). La fonction doit retourner la quantité de pieds et la quantité de pouces."
   ]
  },
  {
   "cell_type": "code",
   "execution_count": null,
   "metadata": {
    "colab": {
     "base_uri": "https://localhost:8080/"
    },
    "executionInfo": {
     "elapsed": 96,
     "status": "ok",
     "timestamp": 1705017979839,
     "user": {
      "displayName": "Nelson Marceau",
      "userId": "03732416420414029404"
     },
     "user_tz": 300
    },
    "id": "XEy4dh14HtFW",
    "outputId": "65738935-06ff-4361-f097-4d7af1f235c2"
   },
   "outputs": [
    {
     "name": "stdout",
     "output_type": "stream",
     "text": [
      "Josée mesure 5 pieds et 3.00 pouces.\n"
     ]
    }
   ],
   "source": [
    "def metrique_to_imperiale(grandeur):\n",
    "  pouces = grandeur / 2.54\n",
    "  pieds = int(pouces // 12)\n",
    "  pouces = pouces % 12\n",
    "  return pieds, pouces\n",
    "\n",
    "pieds, pouces = metrique_to_imperiale(160.02)\n",
    "print(f\"Josée mesure {pieds} pieds et {pouces:.2f} pouces.\")\n"
   ]
  },
  {
   "cell_type": "markdown",
   "metadata": {
    "id": "qAFCtCIt0aN4"
   },
   "source": [
    "# Le traitement conditionnel"
   ]
  },
  {
   "cell_type": "markdown",
   "metadata": {
    "id": "2gzLt7p70eIk"
   },
   "source": [
    "## Exercice 1\n",
    "Écrire un programme pour déterminer qui aura la plus grosse facture:\n",
    "- Alice, avec un repas de 28.95\\$ et un pourboire de 20%, ou\n",
    "- Bob, avec un repas de 33.56\\$ et un pourboire de 18%\n",
    "\n",
    "Le programme devra afficher le nom de la personne ayant la plus grosse facture."
   ]
  },
  {
   "cell_type": "code",
   "execution_count": null,
   "metadata": {
    "colab": {
     "base_uri": "https://localhost:8080/"
    },
    "executionInfo": {
     "elapsed": 209,
     "status": "ok",
     "timestamp": 1704991192156,
     "user": {
      "displayName": "Nelson Marceau",
      "userId": "03732416420414029404"
     },
     "user_tz": 300
    },
    "id": "AGlzFpyn1Epp",
    "outputId": "13376c07-35dc-460a-f07b-7e626d908c41"
   },
   "outputs": [
    {
     "name": "stdout",
     "output_type": "stream",
     "text": [
      "Bob\n"
     ]
    }
   ],
   "source": [
    "alice = 28.95 * 1.20\n",
    "bob = 33.56 * 1.18\n",
    "\n",
    "if alice > bob:\n",
    "  print(\"Alice\")\n",
    "elif bob > alice:\n",
    "  print(\"Bob\")\n",
    "else:\n",
    "  print(\"Égal\")\n"
   ]
  },
  {
   "cell_type": "markdown",
   "metadata": {
    "id": "ICzY30j-1cNR"
   },
   "source": [
    "## Exercice 2\n",
    "Réécrire le programme précédent pour include Charlie avec un repas de 36.56$ et un pourboire de 10%."
   ]
  },
  {
   "cell_type": "code",
   "execution_count": 42,
   "metadata": {
    "colab": {
     "base_uri": "https://localhost:8080/"
    },
    "executionInfo": {
     "elapsed": 126,
     "status": "ok",
     "timestamp": 1705018181620,
     "user": {
      "displayName": "Nelson Marceau",
      "userId": "03732416420414029404"
     },
     "user_tz": 300
    },
    "id": "pJ-8nrBG1Mm1",
    "outputId": "746ff24e-e1ab-429e-af5a-52055b9a53c4"
   },
   "outputs": [
    {
     "name": "stdout",
     "output_type": "stream",
     "text": [
      "Charlie\n",
      "Charlie\n"
     ]
    }
   ],
   "source": [
    "alice = 28.95 * 1.20\n",
    "bob = 33.56 * 1.18\n",
    "charlie = 36.56 * 1.10\n",
    "\n",
    "if alice > bob and alice > charlie:\n",
    "  print(\"Alice\")\n",
    "elif bob > alice and bob > charlie:\n",
    "  print(\"Bob\")\n",
    "elif charlie > alice and charlie > bob:\n",
    "  print(\"Charlie\")\n",
    "\n",
    "dict = {'Alice': 28.95 * 1.20, 'Bob': 33.56 * 1.18, 'Charlie': 36.56 * 1.10}\n",
    "print(max(dict, key=dict.get))"
   ]
  },
  {
   "cell_type": "markdown",
   "metadata": {
    "id": "AgZ6d3kW19Ei"
   },
   "source": [
    "## Exercice 3\n",
    "Écrire un programme qui demande les noms et le pointage de deux joueurs. Le programme doit ensuite afficher les résultats en ordre, en commençant par le joueur vainqueur. Le résultat final pourrait ressembler à ceci:\n",
    "```\n",
    ">> Qui est le premier joueur? Alice  \n",
    ">> Qui est le second joueur? Bob  \n",
    ">> Quel est le pointage de Alice? 20  \n",
    ">> Quel est le pointage de Bob? 15\n",
    "\n",
    "****************\n",
    "*** RÉSULTAT ***\n",
    "****************\n",
    "1. Alice : vainqueur!\n",
    "2. Bob : seconde place\n",
    "```"
   ]
  },
  {
   "cell_type": "code",
   "execution_count": 43,
   "metadata": {
    "colab": {
     "base_uri": "https://localhost:8080/"
    },
    "executionInfo": {
     "elapsed": 7632,
     "status": "ok",
     "timestamp": 1705018268896,
     "user": {
      "displayName": "Nelson Marceau",
      "userId": "03732416420414029404"
     },
     "user_tz": 300
    },
    "id": "zIOiJ0uO1tYe",
    "outputId": "029b68d0-b078-4f64-95d3-22cc5c73813c"
   },
   "outputs": [
    {
     "name": "stdout",
     "output_type": "stream",
     "text": [
      "Qui est le premier joueur? A\n",
      "Qui est le second joueur? B\n",
      "Quel est le pointage de A? 2\n",
      "Quel est le pointage de B? 3\n",
      "\n",
      "****************\n",
      "*** RÉSULTAT ***\n",
      "****************\n",
      "\n",
      "1. B : vainqueur!\n",
      "2. A : seconde place\n"
     ]
    }
   ],
   "source": [
    "player1 = input(\"Qui est le premier joueur? \")\n",
    "player2 = input(\"Qui est le second joueur? \")\n",
    "player1_score = int(input(f\"Quel est le pointage de {player1}? \"))\n",
    "player2_score = int(input(f\"Quel est le pointage de {player2}? \"))\n",
    "\n",
    "print(f\"\"\"\n",
    "****************\n",
    "*** RÉSULTAT ***\n",
    "****************\n",
    "\"\"\")\n",
    "if player1_score > player2_score:\n",
    "  print(f\"1. {player1} : vainqueur!\")\n",
    "  print(f\"2. {player2} : seconde place\")\n",
    "elif player2_score > player1_score:\n",
    "  print(f\"1. {player2} : vainqueur!\")\n",
    "  print(f\"2. {player1} : seconde place\")\n",
    "else:\n",
    "  print(f\"Égalité\")"
   ]
  },
  {
   "cell_type": "markdown",
   "metadata": {
    "id": "gkeDGMov2Swb"
   },
   "source": [
    "## Exercice 4\n",
    "Écrire un programme qui demande l'âge d'une personne et qui affiche diffétents messages en fonction de cet âge.\n",
    "-\t18 ans et plus, la personne a le droit vote.\n",
    "-\t16 ans et plus, la persone peut demander son permis de conduire.\n",
    "-\t18 ans et moins ou 65 ans et plus, la personne a accès à un tarif réduit pour prendre l'autobus.\n",
    "-\t50 ans et plus, la personne peut demander sa carte de l'âge d'or.\n",
    "Une fois le programme terminé, s'assurer de tester toutes les combinaisons possibles.\n"
   ]
  },
  {
   "cell_type": "code",
   "execution_count": 45,
   "metadata": {
    "colab": {
     "base_uri": "https://localhost:8080/"
    },
    "executionInfo": {
     "elapsed": 2372,
     "status": "ok",
     "timestamp": 1705018306176,
     "user": {
      "displayName": "Nelson Marceau",
      "userId": "03732416420414029404"
     },
     "user_tz": 300
    },
    "id": "JP_NnjoW3JuZ",
    "outputId": "b76d8627-1ef8-42b5-e823-e0dbfe7834b8"
   },
   "outputs": [
    {
     "name": "stdout",
     "output_type": "stream",
     "text": [
      "Quel est votre âge? 70\n",
      "La personne a le droit de vote.\n",
      "La personne peut demander son permis de conduire.\n",
      "La personne a accès à un tarif réduit pour prendre l'autobus.\n",
      "La personne peut demander sa carte de l'âge d'or.\n"
     ]
    }
   ],
   "source": [
    "age = int(input(\"Quel est votre âge? \"))\n",
    "\n",
    "if age >= 18:\n",
    "  print(\"La personne a le droit de vote.\")\n",
    "\n",
    "if age >= 16:\n",
    "  print(\"La personne peut demander son permis de conduire.\")\n",
    "\n",
    "if age <= 18 or age >= 65:\n",
    "  print(\"La personne a accès à un tarif réduit pour prendre l'autobus.\")\n",
    "\n",
    "if age >= 50:\n",
    "  print(\"La personne peut demander sa carte de l'âge d'or.\")"
   ]
  },
  {
   "cell_type": "markdown",
   "metadata": {
    "id": "HiPNbhf23PRO"
   },
   "source": [
    "## Exercice 5\n",
    "Écrire un programme qui demande la longueur des côtés d'un triangle et indique si le triangle est rectangle ou non. Une fonction doit être utilisée pour déterminer ei le triangle est rectangle.\n",
    "\n",
    "❗Pour faciliter le programme, on peut assumer que le coté $c$ est le plus long."
   ]
  },
  {
   "cell_type": "code",
   "execution_count": null,
   "metadata": {
    "colab": {
     "base_uri": "https://localhost:8080/"
    },
    "executionInfo": {
     "elapsed": 7130,
     "status": "ok",
     "timestamp": 1704997710313,
     "user": {
      "displayName": "Nelson Marceau",
      "userId": "03732416420414029404"
     },
     "user_tz": 300
    },
    "id": "wWuDqh053k9u",
    "outputId": "1ad5f21e-70f2-4653-8296-ce5c819340a1"
   },
   "outputs": [
    {
     "name": "stdout",
     "output_type": "stream",
     "text": [
      "La longueur du côté a? 4\n",
      "La longueur du côté b? 5\n",
      "La longueur du côté c? 6\n",
      "Ce n'est pas un triangle rectangle\n"
     ]
    }
   ],
   "source": [
    "a = int(input(\"La longueur du côté a? \"))\n",
    "b = int(input(\"La longueur du côté b? \"))\n",
    "c = int(input(\"La longueur du côté c? \"))\n",
    "\n",
    "if a**2 + b**2 == c**2:\n",
    "  print(\"Triangle rectangle\")\n",
    "else:\n",
    "  print(\"Ce n'est pas un triangle rectangle\")"
   ]
  },
  {
   "cell_type": "markdown",
   "metadata": {
    "id": "d6Z9i6zW34Fl"
   },
   "source": [
    "## ⭐ Exercice 6\n",
    "Réécrire le programme précédent pour que le côté le plus grand soit détecté automatiquement. Ainsi, le côté le plus grand pourrait être $a$, $b$ ou $c$."
   ]
  },
  {
   "cell_type": "code",
   "execution_count": 46,
   "metadata": {
    "colab": {
     "base_uri": "https://localhost:8080/"
    },
    "executionInfo": {
     "elapsed": 5257,
     "status": "ok",
     "timestamp": 1705018361696,
     "user": {
      "displayName": "Nelson Marceau",
      "userId": "03732416420414029404"
     },
     "user_tz": 300
    },
    "id": "t0E-ogx74LiX",
    "outputId": "687e3ccc-d3a5-4237-acb8-7d5ba0568d65"
   },
   "outputs": [
    {
     "name": "stdout",
     "output_type": "stream",
     "text": [
      "La longueur du côté c1? 4\n",
      "La longueur du côté c2? 3\n",
      "La longueur du côté c2? 5\n",
      "Triangle rectangle\n"
     ]
    }
   ],
   "source": [
    "c1 = int(input(\"La longueur du côté c1? \"))\n",
    "c2 = int(input(\"La longueur du côté c2? \"))\n",
    "c3 = int(input(\"La longueur du côté c2? \"))\n",
    "data = [c1, c2, c3]\n",
    "data.sort()\n",
    "\n",
    "a = data[0]\n",
    "b = data[1]\n",
    "c = data[2]\n",
    "\n",
    "if a**2 + b**2 == c**2:\n",
    "  print(\"Triangle rectangle\")\n",
    "else:\n",
    "  print(\"Ce n'est pas un triangle rectangle\")"
   ]
  },
  {
   "cell_type": "markdown",
   "metadata": {
    "id": "qSTXtzL652WP"
   },
   "source": [
    "## Exercice 7\n",
    "Réécrire l'[exercice 2](#scrollTo=F4PQh8WwFf6b&line=2&uniqifier=1) sur la fonction quadratique afin que la fonction:\n",
    "- ne retourne de valeurs\n",
    "- affiche le nombre de solutions existantes\n",
    "- les solutions\n",
    "\n",
    "Rappel:\n",
    "- si le discriminant $b^2 - 4ac$ est positif, alors il y a 2 solutions\n",
    "- si le discriminant $b^2 - 4ac$ est zéro, alors il y a 1 solution\n",
    "- si le discriminant $b^2 - 4ac$ est négatif, alors il n'y a aucune solution"
   ]
  },
  {
   "cell_type": "code",
   "execution_count": 48,
   "metadata": {
    "colab": {
     "base_uri": "https://localhost:8080/"
    },
    "executionInfo": {
     "elapsed": 96,
     "status": "ok",
     "timestamp": 1705018470394,
     "user": {
      "displayName": "Nelson Marceau",
      "userId": "03732416420414029404"
     },
     "user_tz": 300
    },
    "id": "xfRg_Dca6wIh",
    "outputId": "cbc6d07e-b560-421d-e62d-4e4827bbdea0"
   },
   "outputs": [
    {
     "name": "stdout",
     "output_type": "stream",
     "text": [
      "\n",
      "Il y a 2 solution(s)\n",
      "Les zéros de la fonction quadratique avec a=-2, b=3, c10 sont -1.608, 3.108\n",
      "\n"
     ]
    }
   ],
   "source": [
    "def calculerZeros( a, b, c ):\n",
    "  import math\n",
    "\n",
    "  if b**2 - 4*a*c > 0:\n",
    "    solutions = 2\n",
    "  elif b**2 - 4*a*c == 0:\n",
    "    solutions = 1\n",
    "  else:\n",
    "    solutions = 0\n",
    "\n",
    "  x1 = (-b + math.sqrt(b**2 - 4*a*c)) / (2*a)\n",
    "  x2 = (-b - math.sqrt(b**2 - 4*a*c)) / (2*a)\n",
    "  return solutions, x1, x2\n",
    "\n",
    "a = -2\n",
    "b = 3\n",
    "c = 10\n",
    "solutions, x1, x2 = calculerZeros( a,b,c )\n",
    "print(f\"\"\"\n",
    "Il y a {solutions} solution(s)\n",
    "Les zéros de la fonction quadratique avec a={a}, b={b}, c{c} sont {x1:.3f}, {x2:.3f}\n",
    "\"\"\")"
   ]
  },
  {
   "cell_type": "markdown",
   "metadata": {
    "id": "kK2npeQQFvW0"
   },
   "source": [
    "# La boucle `for`"
   ]
  },
  {
   "cell_type": "markdown",
   "metadata": {
    "id": "zaS33Yk9HKZE"
   },
   "source": [
    "## Exercice 1\n",
    "Écrire un programme qui affiche les carrés des 100 premiers nombres entiers."
   ]
  },
  {
   "cell_type": "code",
   "execution_count": 52,
   "metadata": {
    "colab": {
     "base_uri": "https://localhost:8080/"
    },
    "executionInfo": {
     "elapsed": 148,
     "status": "ok",
     "timestamp": 1705018520374,
     "user": {
      "displayName": "Nelson Marceau",
      "userId": "03732416420414029404"
     },
     "user_tz": 300
    },
    "id": "K2h0-YVMFwXR",
    "outputId": "18006601-1b34-453c-dff4-35f0e584e842"
   },
   "outputs": [
    {
     "name": "stdout",
     "output_type": "stream",
     "text": [
      "0|1|2|3|4|5|6|7|8|9|10|11|12|13|14|15|16|17|18|19|20|21|22|23|24|25|26|27|28|29|30|31|32|33|34|35|36|37|38|39|40|41|42|43|44|45|46|47|48|49|50|51|52|53|54|55|56|57|58|59|60|61|62|63|64|65|66|67|68|69|70|71|72|73|74|75|76|77|78|79|80|81|82|83|84|85|86|87|88|89|90|91|92|93|94|95|96|97|98|99|"
     ]
    }
   ],
   "source": [
    "for n in range(0,100):\n",
    "  print(n, end=\"|\")"
   ]
  },
  {
   "cell_type": "markdown",
   "metadata": {
    "id": "E1RnrJkvJxuc"
   },
   "source": [
    "## Exercice 2\n",
    "Écrire un programme qui affiche tous les nombres entre 1 et 50, en tenant compte des trois conditions suivantes:\n",
    "- Si le nombre est divisible par 3, afficher à la place FIZZ;\n",
    "- Si le nombre est divisible par 5, afficher à la place BUZZ;\n",
    "- Si le nombre est divisible par 3 et 5, afficher à la place FIZZBUZZ;\n",
    "\n",
    "Le résultat ressemblerait à ceci:\n",
    "```\n",
    "1\n",
    "2\n",
    "FIZZ\n",
    "4\n",
    "BUZZ\n",
    "FIZZ\n",
    "7\n",
    "...\n",
    "14\n",
    "FIZZBUZZ\n",
    "16\n",
    "17\n",
    "```"
   ]
  },
  {
   "cell_type": "code",
   "execution_count": null,
   "metadata": {
    "colab": {
     "base_uri": "https://localhost:8080/"
    },
    "executionInfo": {
     "elapsed": 233,
     "status": "ok",
     "timestamp": 1704999917168,
     "user": {
      "displayName": "Nelson Marceau",
      "userId": "03732416420414029404"
     },
     "user_tz": 300
    },
    "id": "kot5LjpHKW1U",
    "outputId": "85fbbd64-12f1-4f5d-87e5-2ff8d14ea8ef"
   },
   "outputs": [
    {
     "name": "stdout",
     "output_type": "stream",
     "text": [
      "1\n",
      "2\n",
      "FIZZ\n",
      "4\n",
      "BUZZ\n",
      "FIZZ\n",
      "7\n",
      "8\n",
      "FIZZ\n",
      "BUZZ\n",
      "11\n",
      "FIZZ\n",
      "13\n",
      "14\n",
      "FIZZBUZZ\n",
      "16\n",
      "17\n",
      "FIZZ\n",
      "19\n",
      "BUZZ\n",
      "FIZZ\n",
      "22\n",
      "23\n",
      "FIZZ\n",
      "BUZZ\n",
      "26\n",
      "FIZZ\n",
      "28\n",
      "29\n",
      "FIZZBUZZ\n",
      "31\n",
      "32\n",
      "FIZZ\n",
      "34\n",
      "BUZZ\n",
      "FIZZ\n",
      "37\n",
      "38\n",
      "FIZZ\n",
      "BUZZ\n",
      "41\n",
      "FIZZ\n",
      "43\n",
      "44\n",
      "FIZZBUZZ\n",
      "46\n",
      "47\n",
      "FIZZ\n",
      "49\n",
      "BUZZ\n"
     ]
    }
   ],
   "source": [
    "for n in range(1,51):\n",
    "  if n % 3 == 0 and n % 5 == 0:\n",
    "    print(\"FIZZBUZZ\")\n",
    "  elif n % 3 == 0:\n",
    "    print(\"FIZZ\")\n",
    "  elif n % 5 == 0:\n",
    "    print(\"BUZZ\")\n",
    "  else:\n",
    "    print(n)"
   ]
  },
  {
   "cell_type": "markdown",
   "metadata": {
    "id": "n9YinJEQKb0S"
   },
   "source": [
    "## Exercice 3\n",
    "Écrire un programme qui calcule et affiche:\n",
    "- La somme des 1000 premiers nombres entiers\n",
    "- La somme des 1000 premiers nombres pairs: $2 + 4 + 6 + ... + 2000$\n",
    "- La somme des 100 premiers nombres carrés: $1 + 2^2 + 3^2 + ... + 100^2$"
   ]
  },
  {
   "cell_type": "code",
   "execution_count": 55,
   "metadata": {
    "colab": {
     "base_uri": "https://localhost:8080/"
    },
    "executionInfo": {
     "elapsed": 160,
     "status": "ok",
     "timestamp": 1705018581862,
     "user": {
      "displayName": "Nelson Marceau",
      "userId": "03732416420414029404"
     },
     "user_tz": 300
    },
    "id": "m7Qj1vyEK7ym",
    "outputId": "f4292ce8-6bc8-4f6f-ec3e-0100e604a317"
   },
   "outputs": [
    {
     "name": "stdout",
     "output_type": "stream",
     "text": [
      "Somme de tous les 1000 premiers nombres = 499500\n",
      "Somme de tous les 1000 premiers nombres pairs = 999000\n",
      "Somme des 100 premiers nombres au carré = 338350\n"
     ]
    }
   ],
   "source": [
    "somme1 = 0\n",
    "somme2 = 0\n",
    "somme3 = 0\n",
    "for n in range(1000):\n",
    "  somme1 += n\n",
    "  somme2 += n*2\n",
    "  if n <= 100:\n",
    "    somme3 += n**2\n",
    "\n",
    "print(f\"Somme de tous les 1000 premiers nombres = {somme1}\")\n",
    "print(f\"Somme de tous les 1000 premiers nombres pairs = {somme2}\")\n",
    "print(f\"Somme des 100 premiers nombres au carré = {somme3}\")"
   ]
  },
  {
   "cell_type": "markdown",
   "metadata": {
    "id": "ILp-80a7K8FK"
   },
   "source": [
    "## ⭐ Exercice 4\n",
    "Écrire une fonction pour afficher les $n$ premiers nombres de la suite de Fibonnacci. Plusieurs variables seront nécessaires pour se souvenir des deux nombres précédents. Le code ressemblera à ceci:\n",
    "```python\n",
    "def fibonnacci(n):\n",
    "  # votre code ici\n",
    "\n",
    "fibbonacci(6)\n",
    "```\n",
    "Et le résultat sera:\n",
    "```\n",
    "1\n",
    "1\n",
    "2\n",
    "3\n",
    "5\n",
    "8\n",
    "```"
   ]
  },
  {
   "cell_type": "code",
   "execution_count": 58,
   "metadata": {
    "colab": {
     "base_uri": "https://localhost:8080/"
    },
    "executionInfo": {
     "elapsed": 163,
     "status": "ok",
     "timestamp": 1705018658224,
     "user": {
      "displayName": "Nelson Marceau",
      "userId": "03732416420414029404"
     },
     "user_tz": 300
    },
    "id": "XiE2jVjRLr95",
    "outputId": "0c676328-6284-4544-a7c2-5137d35b0adb"
   },
   "outputs": [
    {
     "name": "stdout",
     "output_type": "stream",
     "text": [
      "1\n",
      "1\n",
      "2\n",
      "3\n",
      "5\n",
      "8\n"
     ]
    }
   ],
   "source": [
    "def fibonnacci(n):\n",
    "  fib1 = 1\n",
    "  fib2 = 1\n",
    "  print(fib1)\n",
    "  print(fib2)\n",
    "  for f in range(2, n):\n",
    "      fib3 = fib1 + fib2\n",
    "      print(fib3)\n",
    "      fib1 = fib2\n",
    "      fib2 = fib3\n",
    "\n",
    "fibonnacci(6)"
   ]
  },
  {
   "cell_type": "markdown",
   "metadata": {
    "id": "U-lrXh32LxVe"
   },
   "source": [
    "## Exercice 5\n",
    "En utilisant une boucle, dessiner à l'écran un triangle à $n$ lignes, demandé à l'utilisateur. Le résultat attendu pour 6 lignes serait\n",
    "```\n",
    "     *\n",
    "    ***\n",
    "   *****\n",
    "  *******\n",
    " *********\n",
    "***********\n",
    "```"
   ]
  },
  {
   "cell_type": "code",
   "execution_count": 63,
   "metadata": {
    "colab": {
     "base_uri": "https://localhost:8080/"
    },
    "executionInfo": {
     "elapsed": 142,
     "status": "ok",
     "timestamp": 1705018726247,
     "user": {
      "displayName": "Nelson Marceau",
      "userId": "03732416420414029404"
     },
     "user_tz": 300
    },
    "id": "i1g5hFf5OWju",
    "outputId": "c9658c53-b7b0-46d8-edfa-b4d6cdf2a4aa"
   },
   "outputs": [
    {
     "name": "stdout",
     "output_type": "stream",
     "text": [
      "            \n",
      "     *      \n",
      "    ***     \n",
      "   *****    \n",
      "  *******   \n",
      " *********  \n",
      "*********** \n"
     ]
    }
   ],
   "source": [
    "def triangle(n):\n",
    "  for ligne in range(n+1):\n",
    "    etoile = \"\"\n",
    "    for s in range(ligne*2-1):\n",
    "      etoile += \"*\"\n",
    "    print(f\"{etoile:^{n*2}}\")\n",
    "\n",
    "triangle(6)"
   ]
  },
  {
   "cell_type": "markdown",
   "metadata": {
    "id": "k5fik7sjN3db"
   },
   "source": [
    "## ⭐ Exercice 6\n",
    "Réécrire l'exercice 5 en ajoutant une légère modification. Chaque 5e étoile devra afficher une boule (représenté par le caractère 6). Le résultat deviendra donc ceci:\n",
    "```\n",
    "      6\n",
    "     ***\n",
    "    *6***\n",
    "   *6****6\n",
    "  ****6****\n",
    " 6****6****6\n",
    "****6****6***\n",
    "```"
   ]
  },
  {
   "cell_type": "code",
   "execution_count": 64,
   "metadata": {
    "colab": {
     "base_uri": "https://localhost:8080/"
    },
    "executionInfo": {
     "elapsed": 153,
     "status": "ok",
     "timestamp": 1705018775909,
     "user": {
      "displayName": "Nelson Marceau",
      "userId": "03732416420414029404"
     },
     "user_tz": 300
    },
    "id": "kStssPeWNY7m",
    "outputId": "c0aba5b6-fd7f-4f58-8007-c9ff2e2dd38b"
   },
   "outputs": [
    {
     "name": "stdout",
     "output_type": "stream",
     "text": [
      "              \n",
      "      6       \n",
      "     ***      \n",
      "    *6***     \n",
      "   *6****6    \n",
      "  ****6****   \n",
      " 6****6****6  \n",
      "****6****6*** \n"
     ]
    }
   ],
   "source": [
    "def triangle(n):\n",
    "  nombre_etoile = 0\n",
    "  for ligne in range(n+1):\n",
    "    etoile = \"\"\n",
    "    for s in range(ligne*2-1):\n",
    "      if nombre_etoile % 5 == 0:\n",
    "        etoile += \"6\"\n",
    "      else:\n",
    "        etoile += \"*\"\n",
    "      nombre_etoile += 1\n",
    "\n",
    "    print(f\"{etoile:^{n*2}}\")\n",
    "\n",
    "triangle(7)"
   ]
  },
  {
   "cell_type": "markdown",
   "metadata": {
    "id": "bSScy3KePRQY"
   },
   "source": [
    "## Exercice 7\n",
    "Écrire un programme qui affiche tous les diviseurs d'un nombre donné par l'utilisateur. Si le nombre est premier, l'indiquer. Le résultat ressemble à ceci:\n",
    "```\n",
    "Entrer un nombre: 7\n",
    "Le nombre 7 est premier.\n",
    "\n",
    "Entrer un nombre: 15\n",
    "Le nombre 15 n'est pas premier.\n",
    "- 3 est un diviseur de 15\n",
    "- 5 est un diviseur de 15\n",
    "```"
   ]
  },
  {
   "cell_type": "code",
   "execution_count": 66,
   "metadata": {
    "colab": {
     "base_uri": "https://localhost:8080/"
    },
    "executionInfo": {
     "elapsed": 4641,
     "status": "ok",
     "timestamp": 1705018838692,
     "user": {
      "displayName": "Nelson Marceau",
      "userId": "03732416420414029404"
     },
     "user_tz": 300
    },
    "id": "U40wBdgLPlqV",
    "outputId": "ffffaf9a-5a0e-4375-a44a-3a5bb71a0eb8"
   },
   "outputs": [
    {
     "name": "stdout",
     "output_type": "stream",
     "text": [
      "Entrer un nombre: 24\n",
      "Le nombre 24 n'est pas premier.\n",
      "2 est un diviseur de 24.\n",
      "3 est un diviseur de 24.\n",
      "4 est un diviseur de 24.\n",
      "6 est un diviseur de 24.\n",
      "8 est un diviseur de 24.\n",
      "12 est un diviseur de 24.\n"
     ]
    }
   ],
   "source": [
    "def diviseurs(n):\n",
    "  i = 2\n",
    "  while i < n:\n",
    "    if n % i == 0:\n",
    "      print(f\"{i} est un diviseur de {n}.\")\n",
    "    i += 1\n",
    "\n",
    "def nombre_premier(n):\n",
    "  i = 2\n",
    "  while i < n:\n",
    "    if n % i == 0:\n",
    "      return False\n",
    "    i += 1\n",
    "  return True\n",
    "\n",
    "nombre = int(input(\"Entrer un nombre: \"))\n",
    "\n",
    "if nombre_premier(nombre):\n",
    "  print(f\"Le nombre {nombre} est premier.\")\n",
    "else:\n",
    "  print(f\"Le nombre {nombre} n'est pas premier.\")\n",
    "\n",
    "diviseurs(nombre)"
   ]
  },
  {
   "cell_type": "markdown",
   "metadata": {
    "id": "ayP4Ld6fYPkV"
   },
   "source": [
    "# La boucle `while`"
   ]
  },
  {
   "cell_type": "markdown",
   "metadata": {
    "id": "idGWOEgoYTZD"
   },
   "source": [
    "## Exercice 1\n",
    "Écrire un programme qui calcule la somme des carrés des $n$ premiers nombres, jusqu'à ce que la somme soit supérieure à 15,000. Afficher la somme obtenue et le nombre d'itération nécessaire."
   ]
  },
  {
   "cell_type": "code",
   "execution_count": 67,
   "metadata": {
    "colab": {
     "base_uri": "https://localhost:8080/"
    },
    "executionInfo": {
     "elapsed": 130,
     "status": "ok",
     "timestamp": 1705018853137,
     "user": {
      "displayName": "Nelson Marceau",
      "userId": "03732416420414029404"
     },
     "user_tz": 300
    },
    "id": "7pKrLi44YR4I",
    "outputId": "3fa272c8-a012-43af-aad0-c228cd13e11b"
   },
   "outputs": [
    {
     "name": "stdout",
     "output_type": "stream",
     "text": [
      "La somme est 16206\n",
      "Itération = 37\n"
     ]
    }
   ],
   "source": [
    "somme = 0\n",
    "n = 1\n",
    "while somme < 15000:\n",
    "  somme += n**2\n",
    "  n += 1\n",
    "\n",
    "print(f\"La somme est {somme}\")\n",
    "print(f\"Itération = {n}\")"
   ]
  },
  {
   "cell_type": "markdown",
   "metadata": {
    "id": "PN_6MVVIZNDy"
   },
   "source": [
    "## Exercice 2\n",
    "Calculer la quantité de nombres premiers nécessaires pour que la somme de ceux-ci soit supérieure à 5,000. La fonction `est_premier(nombre)` est fournie.\n",
    "```python\n",
    "def est_premier(nombre):\n",
    "  for i in range(2, nombre):\n",
    "    if nombre % i == 0:\n",
    "      return False\n",
    "  return True\n",
    "```"
   ]
  },
  {
   "cell_type": "code",
   "execution_count": 71,
   "metadata": {
    "colab": {
     "base_uri": "https://localhost:8080/"
    },
    "executionInfo": {
     "elapsed": 134,
     "status": "ok",
     "timestamp": 1705018953406,
     "user": {
      "displayName": "Nelson Marceau",
      "userId": "03732416420414029404"
     },
     "user_tz": 300
    },
    "id": "S6EgTwU4ZEKV",
    "outputId": "1f5989de-fc92-489c-9736-c73eafca752a"
   },
   "outputs": [
    {
     "name": "stdout",
     "output_type": "stream",
     "text": [
      "Qté = 51\n"
     ]
    }
   ],
   "source": [
    "import math\n",
    "\n",
    "def est_premier(nombre):\n",
    "  for i in range(2, int(math.sqrt(nombre))+1):\n",
    "    if nombre % i == 0:\n",
    "      return False\n",
    "  return True\n",
    "\n",
    "n = 1\n",
    "qte = 0\n",
    "somme = 0\n",
    "while somme <= 5000:\n",
    "  if est_premier(n):\n",
    "    somme += n\n",
    "    qte += 1\n",
    "  n+=1\n",
    "print(f\"Qté = {qte}\")"
   ]
  },
  {
   "cell_type": "markdown",
   "metadata": {
    "id": "JVp3PnxrarEv"
   },
   "source": [
    "## Exercice 3\n",
    "À l'aide d'une coule `while`, écrire un programme qui calcule et affiche:\n",
    "- La somme des 1000 premiers nombres entiers\n",
    "- La somme des 1000 premiers nombres pairs: $2 + 4 + 6 + ... + 2000$\n",
    "- La somme des 100 premiers nombres carrés: $1 + 2^2 + 3^2 + ... + 100^2$\n",
    "\n",
    "*Note: Ce programme est identque à l'[exercice 3](#scrollTo=n9YinJEQKb0S&line=2&uniqifier=1) de la boucle `for`*"
   ]
  },
  {
   "cell_type": "code",
   "execution_count": null,
   "metadata": {
    "colab": {
     "base_uri": "https://localhost:8080/"
    },
    "executionInfo": {
     "elapsed": 220,
     "status": "ok",
     "timestamp": 1705003999563,
     "user": {
      "displayName": "Nelson Marceau",
      "userId": "03732416420414029404"
     },
     "user_tz": 300
    },
    "id": "V0KsQZihaAWd",
    "outputId": "34cf0255-9588-4bfa-eb41-7e76952f4ea6"
   },
   "outputs": [
    {
     "name": "stdout",
     "output_type": "stream",
     "text": [
      "Somme de tous les 1000 premiers nombres = 499500\n",
      "Somme de tous les 1000 premiers nombres pairs = 999000\n",
      "Somme des 100 premiers nombres au carré = 338350\n"
     ]
    }
   ],
   "source": [
    "somme1 = 0\n",
    "somme2 = 0\n",
    "somme3 = 0\n",
    "n = 1\n",
    "while n < 1000:\n",
    "  somme1 += n\n",
    "  somme2 += n*2\n",
    "  if n <= 100:\n",
    "    somme3 += n**2\n",
    "  n+=1\n",
    "\n",
    "print(f\"Somme de tous les 1000 premiers nombres = {somme1}\")\n",
    "print(f\"Somme de tous les 1000 premiers nombres pairs = {somme2}\")\n",
    "print(f\"Somme des 100 premiers nombres au carré = {somme3}\")"
   ]
  },
  {
   "cell_type": "markdown",
   "metadata": {
    "id": "1mZktv7sMeNh"
   },
   "source": [
    "## Exercice 4\n",
    "Écrire un programme qui offre certains choix à l'utilisateur et affiche de l'information dépendant de son choix. Voici un exemple d'utilisation:\n",
    "```\n",
    "**************************************\n",
    "**  Bienvenue dans mon application  **\n",
    "**************************************\n",
    "\n",
    "Veuillez entrer un choix:\n",
    "E. Entête avec mes informations\n",
    "H. Hello World\n",
    "0. Quitter\n",
    "\n",
    "Veuillez entrer un choix: z\n",
    "Ce choix est invalide.\n",
    "Veuillez entrer un choix: E\n",
    "******************************\n",
    "**  Nom: Huneault, Sébastien\n",
    "**  Ville: Gatineau\n",
    "******************************\n",
    "Veuillez entrer un choix: H\n",
    "Hello World!\n",
    "Veuillez entrer un choix: H\n",
    "Hello World!\n",
    "Veuillez entrer un choix: 0\n",
    "Au revoir\n",
    "```"
   ]
  },
  {
   "cell_type": "markdown",
   "metadata": {
    "id": "jkH8nwe-Oq3i"
   },
   "source": [
    "## Exercice 5\n",
    "Écrire un programme de remboursement de dettes. Le montant des paiements sera demandé à l'utilisateur jusqu'à ce que la dette soit totalement remboursée. Voici un exemple d'exécution:\n",
    "```\n",
    "Dette: 50.00$\n",
    "Quel est le montant du remboursement? 10\n",
    "Dette: 40.00$\n",
    "Quel est le montant du remboursement? 12.34\n",
    "Dette: 27.66$\n",
    "Quel est le montant du remboursement? 0.66\n",
    "Dette: 27.00$\n",
    "Quel est le montant du remboursement? 28\n",
    "Dette remboursée en 4 paiements.\n",
    "```\n",
    "⭐ Pour un défi supplémentaire, afficher le montant payé en excédent à la toute fin."
   ]
  },
  {
   "cell_type": "code",
   "execution_count": null,
   "metadata": {
    "id": "D4owpiGkOzq9"
   },
   "outputs": [],
   "source": []
  },
  {
   "cell_type": "markdown",
   "metadata": {
    "id": "P_JXL79KDPUE"
   },
   "source": [
    "## ⭐ Exercice 6\n",
    "Écrire une fonction pour afficher les premiers nombres de la suite de Fibonnacci jusqu'à ce que la valeur soit supérieur à $n$. Plusieurs variables seront nécessaires pour se souvenir des deux nombres précédents. Le code ressemblera à ceci:\n",
    "```python\n",
    "def fibonnacci_max(n):\n",
    "  # votre code ici\n",
    "\n",
    "fibbonacci_max(20)\n",
    "```\n",
    "Et le résultat sera:\n",
    "```\n",
    "1\n",
    "1\n",
    "2\n",
    "3\n",
    "5\n",
    "8\n",
    "13\n",
    "21\n",
    "```"
   ]
  },
  {
   "cell_type": "code",
   "execution_count": null,
   "metadata": {
    "id": "zT21zzc6Dl9n"
   },
   "outputs": [],
   "source": []
  },
  {
   "cell_type": "markdown",
   "metadata": {
    "id": "xteLEPrrDvl1"
   },
   "source": [
    "## ⭐ Exercice 7\n",
    "Écrire un programme pour approximer la valeur d'une racine carrée $a$ à l'aide de la formule de Héron $$x_{n+1} = \\frac{1}{2}\\bigg(x_n + \\frac{a}{x_n}\\bigg)$$\n",
    "Quitter la boucle lorsque la tolérance a été atteinte."
   ]
  },
  {
   "cell_type": "code",
   "execution_count": null,
   "metadata": {
    "id": "dzIWVtuaEJ_6"
   },
   "outputs": [],
   "source": []
  },
  {
   "cell_type": "markdown",
   "metadata": {
    "id": "4IYCOkt4TFri"
   },
   "source": [
    "# Le module `random`"
   ]
  },
  {
   "cell_type": "markdown",
   "metadata": {
    "id": "Cvw3VGOmTHuM"
   },
   "source": [
    "## Exercice 1\n",
    "Écrire un programme qui tire 1000 nombres aléatoires entre 0 et 1 et qui compte le nombre de fois que le nombre tiré a été au-dessus de 0,5. Afficher le pourcentage avec une précision de 4 décimales."
   ]
  },
  {
   "cell_type": "code",
   "execution_count": null,
   "metadata": {
    "id": "Er4bSiG5THbl"
   },
   "outputs": [],
   "source": []
  },
  {
   "cell_type": "markdown",
   "metadata": {
    "id": "WXCa6_csTYYr"
   },
   "source": [
    "## Exercice 2\n",
    "Si on lance deux dés, la probabilité théorique que la somme soit 7 est de 1/6. Écrire un programme qui lance deux dés 6 000 fois et qui compte le nombre de fois que la somme a été 7. Est-ce que le résultat est proche de 1 000?"
   ]
  },
  {
   "cell_type": "code",
   "execution_count": null,
   "metadata": {
    "id": "KlVYDaXvTZio"
   },
   "outputs": [],
   "source": []
  },
  {
   "cell_type": "markdown",
   "metadata": {
    "id": "1cPJe4S0Tivh"
   },
   "source": [
    "## Exercice 3\n",
    "Écrire un programme qui compte combien de lancers est nécessaire avant d'obtenir un 6 sur un dé."
   ]
  },
  {
   "cell_type": "code",
   "execution_count": null,
   "metadata": {
    "id": "RZvM_UbXUIl1"
   },
   "outputs": [],
   "source": []
  },
  {
   "cell_type": "markdown",
   "metadata": {
    "id": "6owc2jtGUJKx"
   },
   "source": [
    "## Exercice 4\n",
    "Inclure l'exercice précédent dans une boucle `for` pour exécuter celui-ci 1000 fois. Calculer la moyenne des lancers nécessaires.\n",
    "\n",
    "⭐ Pour un défi supplémentaire, aussi afficher la quantité minimale et maximale des lancers."
   ]
  },
  {
   "cell_type": "code",
   "execution_count": null,
   "metadata": {
    "id": "08f6z0o1UslG"
   },
   "outputs": [],
   "source": []
  },
  {
   "cell_type": "markdown",
   "metadata": {
    "id": "k77fdt4MWGIw"
   },
   "source": [
    "## Exercice 5\n",
    "Écrire un jeu pour faire deviner le nombre tiré aléatoirement entre 1 et 100. Le programme devra indiquer si la réponse est plus haute ou plus basse. Lorsque la bonne réponse est trouvée, afficher la quantité d'essais requis. Un exemple de résultat:\n",
    "```\n",
    "Veuillez entrer un nombre: 50\n",
    "** Plus haut\n",
    "Veuillez entrer un nombre: 75\n",
    "** Plus bas\n",
    "Veuillez entrer un nombre: 66\n",
    "** Bravo!\n",
    "** Vous avez trouvé en 3 essais\n",
    "```"
   ]
  },
  {
   "cell_type": "code",
   "execution_count": null,
   "metadata": {
    "id": "Tw7aQFNmWYgw"
   },
   "outputs": [],
   "source": []
  },
  {
   "cell_type": "markdown",
   "metadata": {
    "id": "6WqddHLKWZFe"
   },
   "source": [
    "## Exercice 6\n",
    "Écrire un jeu de roche-papier-ciseaux où le programme sera l'adversaire. Les règles du jeu sont:\n",
    "- La roche bat les ciseaux\n",
    "- Les ciseaux battent le papier\n",
    "- Le papier bat la roche\n",
    "- Si les choix sont identiques, c'est une égalité"
   ]
  },
  {
   "cell_type": "code",
   "execution_count": null,
   "metadata": {
    "id": "91aSDXuOW338"
   },
   "outputs": [],
   "source": []
  },
  {
   "cell_type": "markdown",
   "metadata": {
    "id": "I74LyrWDlagA"
   },
   "source": [
    "# Les listes et les tuples"
   ]
  },
  {
   "cell_type": "code",
   "execution_count": null,
   "metadata": {
    "id": "e8Da3TE-lbe7"
   },
   "outputs": [],
   "source": []
  },
  {
   "cell_type": "markdown",
   "metadata": {
    "id": "V1QgkKYmlb_n"
   },
   "source": [
    "## Exercice 1\n",
    "Créer une liste de 3 à 5 jeux ou passe-temps et les afficher à la console à l'aide de deux boucles:\n",
    "- Une boucle *traditionnelle*, avec l'index et `len()`\n",
    "- Une boucle *python*, sans index et sans `len()`"
   ]
  },
  {
   "cell_type": "code",
   "execution_count": null,
   "metadata": {
    "colab": {
     "base_uri": "https://localhost:8080/"
    },
    "executionInfo": {
     "elapsed": 217,
     "status": "ok",
     "timestamp": 1705005594797,
     "user": {
      "displayName": "Nelson Marceau",
      "userId": "03732416420414029404"
     },
     "user_tz": 300
    },
    "id": "ZjSl9An5lrD_",
    "outputId": "0068079c-e80f-456a-a9c2-f12be6914a3c"
   },
   "outputs": [
    {
     "name": "stdout",
     "output_type": "stream",
     "text": [
      "cartes\n",
      "poche\n",
      "darts\n",
      "monopoly\n",
      "poker\n",
      "cartes\n",
      "poche\n",
      "darts\n",
      "monopoly\n",
      "poker\n",
      "cartes poche darts monopoly poker\n"
     ]
    }
   ],
   "source": [
    "jeux = ['cartes', 'poche', 'darts', 'monopoly', 'poker']\n",
    "\n",
    "for n in range(len(jeux)):\n",
    "  print(jeux[n])\n",
    "\n",
    "for n in jeux:\n",
    "  print(n)\n",
    "\n",
    "print(*jeux)"
   ]
  },
  {
   "cell_type": "markdown",
   "metadata": {
    "id": "E4ui2kwSl1Uy"
   },
   "source": [
    "## Exercice 2\n",
    "Demander à l'utilisateur d'entrer un nombre et l'ajouter dans la liste. Répéter l'opération jusqu'à ce que le nombre entré soit zéro. Par la suite, afficher les informations suivantes au sujet des nombres:\n",
    "- Le nombre d'éléments\n",
    "- La valeur minimale\n",
    "- La valeur maximale\n",
    "- La somme des éléments\n",
    "- La liste croissante\n",
    "- La liste décroissante"
   ]
  },
  {
   "cell_type": "code",
   "execution_count": null,
   "metadata": {
    "id": "-gbFiqVIRBRq"
   },
   "outputs": [],
   "source": []
  },
  {
   "cell_type": "markdown",
   "metadata": {
    "id": "icyJvFX999y7"
   },
   "source": [
    "## Exercice 3\n",
    "Écrire un programme qui calcule et affiche les paramètres d'un vecteur passant du premier point au second. Utiliser des tuples pour définir les coordonnées."
   ]
  },
  {
   "cell_type": "code",
   "execution_count": null,
   "metadata": {
    "id": "xN0B-fQzmJU7"
   },
   "outputs": [],
   "source": []
  },
  {
   "cell_type": "markdown",
   "metadata": {
    "id": "1VZRZV0O-z1t"
   },
   "source": [
    "## Exercice 4\n",
    "Réécrire l'[exercice 5](#scrollTo=k77fdt4MWGIw) pour afficher à la fin la liste des choix entrés par l'utilisateur ainsi que la différence par rapport à la réponse finale.\n",
    "Voici un exemple de résultat:\n",
    "```\n",
    "Veuillez entrer un nombre: 50\n",
    "** Plus haut\n",
    "Veuillez entrer un nombre: 75\n",
    "** Plus bas\n",
    "Veuillez entrer un nombre: 66\n",
    "** Bravo!\n",
    "** Vous avez trouvé en 3 essais\n",
    "** - 50 (-16)\n",
    "** - 75 (+9)\n",
    "** - 66 (+0)\n",
    "```"
   ]
  },
  {
   "cell_type": "code",
   "execution_count": null,
   "metadata": {
    "id": "unHktNOy_133"
   },
   "outputs": [],
   "source": []
  },
  {
   "cell_type": "markdown",
   "metadata": {
    "id": "ZWLFdcUVAseN"
   },
   "source": [
    "## ⭐ Exercice 5\n",
    "❗C'est un exercice difficile\n",
    "\n",
    "Écrire un algorithme pour ordonner manuellement les nombres contenus dans une liste. L'algorithme utilisé sera *bubble sort*, qui consiste à boucler à travers une liste, comparer l'élément présent avec le suivant et les inverser si nécessaire. On continue de boucler tant qu'un changement a été effectué."
   ]
  },
  {
   "cell_type": "code",
   "execution_count": null,
   "metadata": {
    "id": "rfdZ4Y9zBP9j"
   },
   "outputs": [],
   "source": []
  },
  {
   "cell_type": "markdown",
   "metadata": {
    "id": "oNMah3mAGc8T"
   },
   "source": [
    "# Les dictionnaires et tableaux imbriqués"
   ]
  },
  {
   "cell_type": "markdown",
   "metadata": {
    "id": "HyypXVxqGqFa"
   },
   "source": [
    "## Exercice 1\n",
    "Écrire un programme qui demande le nom d'un étudiant et sa note. Mettre ces informations dans une dictionnaire et afficher le dictionnaire. Par la suite, indiquer dans un message si l'étudiant a réussi le cours ou non (60% ou plus)."
   ]
  },
  {
   "cell_type": "code",
   "execution_count": null,
   "metadata": {
    "id": "VJXRw90ZGgAG"
   },
   "outputs": [],
   "source": []
  },
  {
   "cell_type": "markdown",
   "metadata": {
    "id": "jdX_zIheNalp"
   },
   "source": [
    "## Exercice 2\n",
    "Modifier l'exercice précédent afin de pouvoir demander plusieurs notes à l'utilisateur. Lors que l'utilisateur entrera du vide (la touche Entrée seulement), le programme arrêtera de demander, calculera la moyenne et affichera si l'étudiant a réussi le cours ou non.\n",
    "\n",
    "⭐ Défi: Utiliser un tableau imbriqué ressemblant à ceci:\n",
    "```python\n",
    "etudiant = {\n",
    "  \"nom\": \"Le Nom\",\n",
    "  \"notes\": [ 50, 70, 45, 92 ]\n",
    "}\n",
    "```"
   ]
  },
  {
   "cell_type": "code",
   "execution_count": null,
   "metadata": {
    "id": "WlbOU6IQN9N1"
   },
   "outputs": [],
   "source": []
  },
  {
   "cell_type": "markdown",
   "metadata": {
    "id": "qaTN8PwdN91z"
   },
   "source": [
    "## Exercice 3\n",
    "Écrire un programme qui demande les informations d'une carte d'identité (nom, prénom, numéro de carte), les consignes dans un dictionnaire et l'affiche à l'écran."
   ]
  },
  {
   "cell_type": "code",
   "execution_count": null,
   "metadata": {
    "id": "r09XbUpcORTy"
   },
   "outputs": [],
   "source": []
  },
  {
   "cell_type": "markdown",
   "metadata": {
    "id": "glWa5xo3ORxG"
   },
   "source": [
    "## Exercice 4\n",
    "À l'aide de tableaux imbriqués, créez l'arbre généalogique de la famille suivante.\n",
    "> Tristan (52 ans) et Hélène (51 ans) sont les parents de Jonathan et Sophie, 8 et 10 ans. Jonathan possède un animal de compagnie, Moumou, un hamster. Sophie possède deux souris, Mimi et Lily, ainsi qu'un poisson, FlipFlop.\n"
   ]
  },
  {
   "cell_type": "code",
   "execution_count": null,
   "metadata": {
    "id": "-hxuAqzkOc1E"
   },
   "outputs": [],
   "source": []
  },
  {
   "cell_type": "markdown",
   "metadata": {
    "id": "jwfKtGtlOeru"
   },
   "source": []
  }
 ],
 "metadata": {
  "colab": {
   "provenance": [],
   "toc_visible": true
  },
  "kernelspec": {
   "display_name": "Python 3 (ipykernel)",
   "language": "python",
   "name": "python3"
  },
  "language_info": {
   "codemirror_mode": {
    "name": "ipython",
    "version": 3
   },
   "file_extension": ".py",
   "mimetype": "text/x-python",
   "name": "python",
   "nbconvert_exporter": "python",
   "pygments_lexer": "ipython3",
   "version": "3.11.7"
  }
 },
 "nbformat": 4,
 "nbformat_minor": 4
}
