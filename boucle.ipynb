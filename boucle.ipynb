{
  "cells": [
    {
      "cell_type": "markdown",
      "metadata": {
        "id": "ovMI-kkeiJU1"
      },
      "source": [
        "### Les boucles\n",
        "$$\\sum_{i=0}^9i$$"
      ]
    },
    {
      "cell_type": "code",
      "execution_count": 11,
      "metadata": {
        "id": "rzxjkcOwiJU1",
        "outputId": "71463bb4-26ff-49d0-d6ab-15c8bce10f4c"
      },
      "outputs": [
        {
          "name": "stdout",
          "output_type": "stream",
          "text": [
            "La somme des entiers de 0 à 9 est 45.\n"
          ]
        }
      ],
      "source": [
        "total = 0\n",
        "for i in range(10):\n",
        "    total = total + i\n",
        "print(f\"La somme des entiers de 0 à 9 est {total}.\")"
      ]
    },
    {
      "cell_type": "markdown",
      "metadata": {
        "id": "1kzaK5pLiJU1"
      },
      "source": [
        "Nous savons que:\n",
        "$$\\sum_{i=0}^Ni=\\frac{N (N + 1)}{2}$$\n",
        "\n",
        "vérifions"
      ]
    },
    {
      "cell_type": "code",
      "execution_count": 11,
      "metadata": {
        "id": "FhZhVzxoiJU2",
        "outputId": "f745a89e-eb89-4f5c-cb21-3eec7ff5e5e8"
      },
      "outputs": [
        {
          "name": "stdout",
          "output_type": "stream",
          "text": [
            "True\n"
          ]
        }
      ],
      "source": [
        "N = 9\n",
        "somme = N * (N + 1) / 2\n",
        "print(total == somme)"
      ]
    },
    {
      "cell_type": "markdown",
      "metadata": {
        "id": "U2BPl4AqiJU2"
      },
      "source": [
        "**EXERCICE** \n",
        "Pour $N\\in\\{10, 50, 500\\}$ vérifier l'identité suivante:\n",
        "$$\n",
        "\\sum_{i=0}^Ni^2=\\frac{N(N + 1)(2N + 1)}{6}\n",
        "$$"
      ]
    },
    {
      "cell_type": "code",
      "execution_count": 10,
      "metadata": {},
      "outputs": [
        {
          "name": "stdout",
          "output_type": "stream",
          "text": [
            "10 = True\n",
            "50 = True\n",
            "500 = True\n"
          ]
        }
      ],
      "source": [
        "def somme_carres(N):\n",
        "    total = 0\n",
        "    for i in range(N + 1):\n",
        "        total = total + i ** 2\n",
        "    return total\n",
        "\n",
        "def identite(N):\n",
        "    return N * (N + 1) * (2 * N + 1) / 6\n",
        "\n",
        "for n in [10, 50, 500]:\n",
        "    print(f\"{n} = {somme_carres(n) == identite(n)}\")"
      ]
    }
  ],
  "metadata": {
    "anaconda-cloud": {},
    "colab": {
      "provenance": []
    },
    "kernelspec": {
      "display_name": "base",
      "language": "python",
      "name": "python3"
    },
    "language_info": {
      "codemirror_mode": {
        "name": "ipython",
        "version": 3
      },
      "file_extension": ".py",
      "mimetype": "text/x-python",
      "name": "python",
      "nbconvert_exporter": "python",
      "pygments_lexer": "ipython3",
      "version": "3.11.7"
    }
  },
  "nbformat": 4,
  "nbformat_minor": 0
}
