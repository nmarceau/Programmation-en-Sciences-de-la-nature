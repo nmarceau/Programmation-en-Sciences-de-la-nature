{
 "cells": [
  {
   "cell_type": "markdown",
   "id": "8a04c36b-c8a7-481a-b5a8-13902ead3b3b",
   "metadata": {},
   "source": [
    "# Aire de formes géométriques"
   ]
  },
  {
   "cell_type": "markdown",
   "id": "c46ed813-1a48-435c-a9f8-e3dbe163e50f",
   "metadata": {},
   "source": [
    "## Triangle"
   ]
  },
  {
   "cell_type": "code",
   "execution_count": 3,
   "id": "9b025f7f-18fe-43fc-b5d4-fab82499dd23",
   "metadata": {},
   "outputs": [
    {
     "name": "stdout",
     "output_type": "stream",
     "text": [
      "L'aire d'un triangle de base 100 et de hauteur 5 est = 250.0 unités carrés\n"
     ]
    }
   ],
   "source": [
    "def aire_triangle( base, hauteur ):\n",
    "    return base * hauteur / 2\n",
    "\n",
    "b = 100\n",
    "hauteur = 5\n",
    "aire = aire_triangle( b, hauteur )\n",
    "\n",
    "print(f\"L'aire d'un triangle de base {b} et de hauteur {hauteur} est = {aire} unités carrés\")"
   ]
  },
  {
   "cell_type": "markdown",
   "id": "71f6ac20-ff2f-443c-b378-4e51432b8098",
   "metadata": {},
   "source": [
    "## Rectangle"
   ]
  },
  {
   "cell_type": "code",
   "execution_count": 4,
   "id": "91de8860-3834-4a6d-b512-b1ae57b337b2",
   "metadata": {},
   "outputs": [
    {
     "name": "stdout",
     "output_type": "stream",
     "text": [
      "L'aire du rectangle d'une largeur 15 et d'une hauteur 5 est = 30 unités carrés\n"
     ]
    }
   ],
   "source": [
    "def aire_rectangle( largeur, longueur ):\n",
    "    return largeur * longueur\n",
    "\n",
    "longueur = 2\n",
    "largeur = 15\n",
    "aire = aire_rectangle( largeur, longueur )\n",
    "\n",
    "print(f\"L'aire du rectangle d'une largeur {largeur} et d'une hauteur {hauteur} est = {aire} unités carrés\")"
   ]
  },
  {
   "cell_type": "markdown",
   "id": "06d10235-20f7-4415-95e9-fadbf52e9dfb",
   "metadata": {},
   "source": [
    "## Cercle"
   ]
  },
  {
   "cell_type": "code",
   "execution_count": 5,
   "id": "37cbe9d0-9e49-4c9c-b986-b7e1d0a501ed",
   "metadata": {},
   "outputs": [
    {
     "name": "stdout",
     "output_type": "stream",
     "text": [
      "L'aire du cercle de rayon 5 est = 78.53981633974483 unités carrés\n"
     ]
    }
   ],
   "source": [
    "import math\n",
    "\n",
    "def aire_cercle( rayon ):\n",
    "    return math.pi * rayon**2\n",
    "\n",
    "rayon = 5\n",
    "aire = aire_cercle( rayon )\n",
    "\n",
    "print(f\"L'aire du cercle de rayon {rayon} est = {aire} unités carrés\")"
   ]
  },
  {
   "cell_type": "markdown",
   "id": "2b025433",
   "metadata": {},
   "source": [
    "# Carré"
   ]
  },
  {
   "cell_type": "code",
   "execution_count": 6,
   "id": "b3d44489",
   "metadata": {},
   "outputs": [
    {
     "name": "stdout",
     "output_type": "stream",
     "text": [
      "L'aire du carré de côté 5 est = 25 unités carrés\n"
     ]
    }
   ],
   "source": [
    "def surface_carre( cote ):\n",
    "    return cote**2\n",
    "\n",
    "cote = 5\n",
    "aire = surface_carre( cote )\n",
    "\n",
    "print(f\"L'aire du carré de côté {cote} est = {aire} unités carrés\")"
   ]
  },
  {
   "cell_type": "markdown",
   "id": "6c5392d2",
   "metadata": {},
   "source": [
    "# Parallélogramme"
   ]
  },
  {
   "cell_type": "code",
   "execution_count": 7,
   "id": "c901fb0f",
   "metadata": {},
   "outputs": [
    {
     "name": "stdout",
     "output_type": "stream",
     "text": [
      "L'aire du parallélogramme de base 10 et de hauteur 5 est = 50 unités carrés\n"
     ]
    }
   ],
   "source": [
    "def aire_parallelogramme( base, hauteur ):\n",
    "    return base * hauteur\n",
    "\n",
    "b = 10\n",
    "hauteur = 5\n",
    "aire = aire_parallelogramme( b, hauteur )\n",
    "\n",
    "print(f\"L'aire du parallélogramme de base {b} et de hauteur {hauteur} est = {aire} unités carrés\")"
   ]
  },
  {
   "cell_type": "markdown",
   "id": "d29d9279",
   "metadata": {},
   "source": [
    "# Trapèze"
   ]
  },
  {
   "cell_type": "code",
   "execution_count": 8,
   "id": "943c4557",
   "metadata": {},
   "outputs": [
    {
     "name": "stdout",
     "output_type": "stream",
     "text": [
      "L'aire du trapèze de base1 10, base2 5 et de hauteur 5 est = 37.5 unités carrés\n"
     ]
    }
   ],
   "source": [
    "# calculer l'aire d'un trapèze\n",
    "def aire_trapeze( base1, base2, hauteur ):\n",
    "    return (base1 + base2) * hauteur / 2\n",
    "\n",
    "b1 = 10\n",
    "b2 = 5\n",
    "hauteur = 5\n",
    "aire = aire_trapeze( b1, b2, hauteur )\n",
    "\n",
    "print(f\"L'aire du trapèze de base1 {b1}, base2 {b2} et de hauteur {hauteur} est = {aire} unités carrés\")"
   ]
  },
  {
   "cell_type": "markdown",
   "id": "64428cbc",
   "metadata": {},
   "source": [
    "# Polygone régulier"
   ]
  },
  {
   "cell_type": "code",
   "execution_count": 9,
   "id": "73a6b50c",
   "metadata": {},
   "outputs": [
    {
     "name": "stdout",
     "output_type": "stream",
     "text": [
      "L'aire du polygone régulier de 5 côtés, de côté 6 et d'apothème 7 est = 105.0 unités carrés\n"
     ]
    }
   ],
   "source": [
    "def aire_polygone_regulier( n, cote, apotheme ):\n",
    "    return (n * cote * apotheme) / 2\n",
    "\n",
    "n = 5\n",
    "cote = 6\n",
    "apotheme = 7\n",
    "aire = aire_polygone_regulier( n, cote, apotheme )\n",
    "\n",
    "print(f\"L'aire du polygone régulier de {n} côtés, de côté {cote} et d'apothème {apotheme} est = {aire} unités carrés\")"
   ]
  }
 ],
 "metadata": {
  "kernelspec": {
   "display_name": "Python 3 (ipykernel)",
   "language": "python",
   "name": "python3"
  },
  "language_info": {
   "codemirror_mode": {
    "name": "ipython",
    "version": 3
   },
   "file_extension": ".py",
   "mimetype": "text/x-python",
   "name": "python",
   "nbconvert_exporter": "python",
   "pygments_lexer": "ipython3",
   "version": "3.11.7"
  }
 },
 "nbformat": 4,
 "nbformat_minor": 5
}
