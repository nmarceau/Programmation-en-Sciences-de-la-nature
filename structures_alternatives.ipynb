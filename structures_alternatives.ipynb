{
 "cells": [
  {
   "cell_type": "code",
   "execution_count": 2,
   "metadata": {},
   "outputs": [
    {
     "name": "stdout",
     "output_type": "stream",
     "text": [
      "Tu devras recopier 3 fois toutes les décimales de pi !\n",
      "Bien\n"
     ]
    }
   ],
   "source": [
    "note = int(input(\"Entrez une note : \"))\n",
    "\n",
    "if note>15 : \n",
    "  print(\"Très Bien !\")\n",
    "\n",
    "\n",
    "if note>15 :\n",
    "    print(\"Très Bien !\")\n",
    "else :\n",
    "    print(\"Tu devras recopier 3 fois toutes les décimales de pi !\")\n",
    "\n",
    "if note>15 :\n",
    "    print(\"Très Bien !\")\n",
    "elif note>13 :\n",
    "    print(\"Bien\")\n",
    "elif note>11 :\n",
    "    print(\"Assez Bien\")\n",
    "elif note>20 :\n",
    "    print(\"Tu es un génie !!!\")\n",
    "else :\n",
    "    print(\"Tu devras recopier 3 fois toutes les décimales de pi !\")\n",
    "\n",
    "\n",
    "x = 2\n",
    "if x <= -1 : \n",
    "    print(2*x+1)\n",
    "elif x <= 3 :\n",
    "    print(-x+2)\n",
    "else :\n",
    "    print(2*x-5)"
   ]
  },
  {
   "cell_type": "markdown",
   "metadata": {},
   "source": [
    "### Calcul de l'inverse d'un nombre\n",
    "Ecrire une fonction qui prend en entrée un nombre $x$ et qui renvoie \"Impossible\" si $x$ est nul et le resultat de $1/x$ sinon.\n",
    "\n",
    "On utilisera la fonction return pour renvoyer les résultats."
   ]
  },
  {
   "cell_type": "code",
   "execution_count": 4,
   "metadata": {},
   "outputs": [
    {
     "name": "stdout",
     "output_type": "stream",
     "text": [
      "Impossible\n",
      "1.0\n",
      "0.5\n",
      "0.25\n",
      "-0.125\n",
      "0.2\n"
     ]
    }
   ],
   "source": [
    "def inverse(x):\n",
    "    if x == 0 :\n",
    "        return \"Impossible\"\n",
    "    return 1/x\n",
    "\n",
    "test = [0,1,2,4,-8,5]\n",
    "\n",
    "for n in test : \n",
    "    print(inverse(n))"
   ]
  },
  {
   "cell_type": "markdown",
   "metadata": {},
   "source": [
    "### Écrire un programme qui prend en entrée une température $t$ et qui renvoie l'état de l'eau à cette température c'est à dire `SOLIDE`, `LIQUIDE` ou `GAZEUX`.\n",
    "\n",
    "On prendra comme conditions les suivantes :\n",
    "\n",
    "Si la température est strictement négative alors l'eau est à l'état solide.\n",
    "Si la température est entre 0 et 100 (compris) l'eau est à l'état liquide.\n",
    "Si la température est strictement supérieure à 100.\n",
    "Entrée : Une température $t$.\n",
    "\n",
    "Sortie : L'état de l'eau à cette température parmi les trois possibilités : `SOLIDE`, `LIQUIDE` ou `GAZEUX`. On utilisera la fonction return pour renvoyer les résultats."
   ]
  },
  {
   "cell_type": "code",
   "execution_count": 9,
   "metadata": {},
   "outputs": [
    {
     "name": "stdout",
     "output_type": "stream",
     "text": [
      "SOLIDE\n",
      "LIQUIDE\n",
      "GAZEUX\n",
      "LIQUIDE\n",
      "LIQUIDE\n"
     ]
    }
   ],
   "source": [
    "def etat(t):\n",
    "    if t < 0 :\n",
    "        return \"SOLIDE\"\n",
    "    elif t <= 100 :\n",
    "        return \"LIQUIDE\"\n",
    "    else :\n",
    "        return \"GAZEUX\"\n",
    "\n",
    "# temperature = int(input(\"Entrez la température : \"))\n",
    "# print(etat(temperature))\n",
    "\n",
    "test = [-10,25,112,0,100]\n",
    "for temp in test : \n",
    "    print(etat(temp))"
   ]
  }
 ],
 "metadata": {
  "kernelspec": {
   "display_name": "base",
   "language": "python",
   "name": "python3"
  },
  "language_info": {
   "codemirror_mode": {
    "name": "ipython",
    "version": 3
   },
   "file_extension": ".py",
   "mimetype": "text/x-python",
   "name": "python",
   "nbconvert_exporter": "python",
   "pygments_lexer": "ipython3",
   "version": "3.11.7"
  }
 },
 "nbformat": 4,
 "nbformat_minor": 2
}
