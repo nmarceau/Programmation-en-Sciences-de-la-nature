{
 "cells": [
  {
   "cell_type": "markdown",
   "metadata": {},
   "source": [
    "# Lotto 6/49 \n",
    "Chaque sélection est composée de 6 numéros de 1 à 49."
   ]
  },
  {
   "cell_type": "code",
   "execution_count": 3,
   "metadata": {},
   "outputs": [
    {
     "name": "stdout",
     "output_type": "stream",
     "text": [
      "Voici les numéros gagnants: [1, 17, 20, 28, 30, 45]\n"
     ]
    }
   ],
   "source": [
    "def lotto_649():\n",
    "    import random\n",
    "    \n",
    "    numbers = []\n",
    "    count = 0\n",
    "    while count != 6:\n",
    "        number = random.randint(1, 49)\n",
    "        if number not in numbers:\n",
    "            numbers.append(number)\n",
    "            count += 1\n",
    "    numbers.sort()\n",
    "    return numbers\n",
    "\n",
    "liste_nombre = lotto_649()\n",
    "\n",
    "print(f\"Voici les numéros gagnants: {liste_nombre}\")"
   ]
  }
 ],
 "metadata": {
  "kernelspec": {
   "display_name": "base",
   "language": "python",
   "name": "python3"
  },
  "language_info": {
   "codemirror_mode": {
    "name": "ipython",
    "version": 3
   },
   "file_extension": ".py",
   "mimetype": "text/x-python",
   "name": "python",
   "nbconvert_exporter": "python",
   "pygments_lexer": "ipython3",
   "version": "3.11.7"
  }
 },
 "nbformat": 4,
 "nbformat_minor": 2
}
