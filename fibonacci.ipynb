{
 "cells": [
  {
   "cell_type": "markdown",
   "id": "84af9dad-c778-44e0-814c-a88477e4bc85",
   "metadata": {},
   "source": [
    "# Suite de Fibonacci"
   ]
  },
  {
   "cell_type": "markdown",
   "id": "054d3d5a-a1bd-43df-bb40-dc692e561e59",
   "metadata": {},
   "source": [
    "La suite de Fibonacci est une suite de nombres entiers dont chaque terme successif représente la somme des deux termes précédents, et qui commence par 0 puis 1. Ainsi, les dix premiers termes qui la composent sont 0, 1, 1, 2, 3, 5, 8, 13, 21 et 34."
   ]
  },
  {
   "cell_type": "code",
   "execution_count": 16,
   "id": "3aad7d25-40ce-4714-9af8-0236e72fe3d7",
   "metadata": {},
   "outputs": [
    {
     "name": "stdout",
     "output_type": "stream",
     "text": [
      "[0, 1, 1, 2, 3, 5, 8, 13, 21, 34]\n",
      "La somme des 10 premiers termes est = 88\n"
     ]
    }
   ],
   "source": [
    "def fibonacci_liste( n ):\n",
    "    liste = [0, 1]\n",
    "    for i in range(2, n):\n",
    "        liste.append( liste[i-1]+liste[i-2] )\n",
    "    return liste\n",
    "\n",
    "nb_terme = 10\n",
    "suite = fibonacci_liste( nb_terme ) \n",
    "print(suite)\n",
    "print(f\"La somme des {nb_terme} premiers termes est = {sum(suite)}\")"
   ]
  }
 ],
 "metadata": {
  "kernelspec": {
   "display_name": "Python 3 (ipykernel)",
   "language": "python",
   "name": "python3"
  },
  "language_info": {
   "codemirror_mode": {
    "name": "ipython",
    "version": 3
   },
   "file_extension": ".py",
   "mimetype": "text/x-python",
   "name": "python",
   "nbconvert_exporter": "python",
   "pygments_lexer": "ipython3",
   "version": "3.11.7"
  }
 },
 "nbformat": 4,
 "nbformat_minor": 5
}
