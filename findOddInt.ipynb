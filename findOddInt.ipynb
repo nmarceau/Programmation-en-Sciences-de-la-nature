{
 "cells": [
  {
   "cell_type": "markdown",
   "metadata": {},
   "source": [
    "## Occurrence impaire\n",
    "\n",
    "Trouver les nombres qui apparaissent un nombre impair de fois\n",
    "\n",
    "Exemples :\n",
    "\n",
    "- [7] devrait retourner 7, car 7 apparaît 1 fois (ce qui est impair).\n",
    "- [0, 7] devrait retourner 0 et 7, car 0 et 7 apparaissent 1 fois (ce qui est impair).\n",
    "- [1,1,2] devrait retourner 2, car 2 apparaît 1 fois (ce qui est impair).\n",
    "- [0,1,0,1,0] devrait retourner 0, car 0 apparaît 3 fois (ce qui est impair).\n",
    "- [1,2,2,3,3,3,4,3,3,3,2,2,1] devrait retourner que 4, car il apparaît 1 fois (ce qui est impair)."
   ]
  },
  {
   "cell_type": "code",
   "execution_count": 2,
   "metadata": {},
   "outputs": [
    {
     "name": "stdout",
     "output_type": "stream",
     "text": [
      "[7]\n",
      "[0, 7]\n",
      "[0, 7]\n",
      "[5]\n",
      "[-1]\n",
      "[5]\n",
      "[10]\n",
      "[1]\n",
      "[4]\n",
      "[0]\n"
     ]
    }
   ],
   "source": [
    "def trouver_occurrence_impaire( tableau ):\n",
    "\n",
    "    dict = {}\n",
    "    for n in tableau:\n",
    "        if n in dict:\n",
    "            dict[n] += 1\n",
    "        else:\n",
    "            dict[n] = 1\n",
    "    \n",
    "    result = []\n",
    "    for key, value in dict.items():\n",
    "        if value % 2 == 1:\n",
    "            result.append(key)\n",
    "\n",
    "    return result\n",
    "\n",
    "print( trouver_occurrence_impaire( [7] ) )\n",
    "print( trouver_occurrence_impaire( [0, 7] ) )\n",
    "print( trouver_occurrence_impaire( [0, 1, 1, 7] ) )\n",
    "print( trouver_occurrence_impaire( [20,1,-1,2,-2,3,3,5,5,1,2,4,20,4,-1,-2,5] ) )\n",
    "print( trouver_occurrence_impaire( [1,1,2,-2,5,2,4,4,-1,-2,5] ) )\n",
    "print( trouver_occurrence_impaire( [20,1,1,2,2,3,3,5,5,4,20,4,5] ) )\n",
    "print( trouver_occurrence_impaire( [1,1,1,1,1,1,10,1,1,1,1] ) )\n",
    "print( trouver_occurrence_impaire( [5,4,3,2,1,5,4,3,2,10,10] ) )\n",
    "print( trouver_occurrence_impaire( [1,2,2,3,3,3,4,3,3,3,2,2,1] ) )\n",
    "print( trouver_occurrence_impaire( [0,1,0,1,0] ) )"
   ]
  }
 ],
 "metadata": {
  "kernelspec": {
   "display_name": "base",
   "language": "python",
   "name": "python3"
  },
  "language_info": {
   "codemirror_mode": {
    "name": "ipython",
    "version": 3
   },
   "file_extension": ".py",
   "mimetype": "text/x-python",
   "name": "python",
   "nbconvert_exporter": "python",
   "pygments_lexer": "ipython3",
   "version": "3.11.7"
  }
 },
 "nbformat": 4,
 "nbformat_minor": 2
}
