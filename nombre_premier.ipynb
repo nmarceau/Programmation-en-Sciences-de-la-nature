{
 "cells": [
  {
   "cell_type": "markdown",
   "id": "a1758ff7-a12c-4048-b3ee-6bf28b536e58",
   "metadata": {},
   "source": [
    "# Nombre premier"
   ]
  },
  {
   "cell_type": "markdown",
   "id": "b3c2ada4-40c3-41cc-966c-78f6822fde54",
   "metadata": {},
   "source": [
    "Un nombre entier naturel (supérieur ou égal à 2) est un nombre premier s'il admet exactement 2 diviseurs : 1 et lui-même. Exemple : 2, 3, 5, 7, 11, 13, 17, 19 …"
   ]
  },
  {
   "cell_type": "code",
   "execution_count": 2,
   "id": "467d7b7c-241b-4bd8-be2c-dc6f64bc30f2",
   "metadata": {},
   "outputs": [
    {
     "name": "stdout",
     "output_type": "stream",
     "text": [
      "Le nombre 12 n'est pas un nombre premier.\n"
     ]
    }
   ],
   "source": [
    "import math\n",
    "\n",
    "def nombre_premier( nombre ):\n",
    "\n",
    "    if nombre < 2:\n",
    "        return False\n",
    "        \n",
    "    premier = True\n",
    "    n = 2\n",
    "    while premier == True and n <= math.sqrt( nombre ):\n",
    "        if nombre % n == 0:\n",
    "            premier = False\n",
    "        n = n + 1\n",
    "    return premier\n",
    "\n",
    "n = 12\n",
    "resultat = nombre_premier( n )\n",
    "\n",
    "if resultat == True:\n",
    "    print(f\"Le nombre {n} est un nombre premier.\")\n",
    "else:\n",
    "    print(f\"Le nombre {n} n'est pas un nombre premier.\")"
   ]
  },
  {
   "cell_type": "markdown",
   "id": "da15c492",
   "metadata": {},
   "source": [
    "# 10001e nombre premier\n",
    "https://projecteuler.net/problem=7\n",
    "\n",
    "En énumérant les six premiers nombres premiers: $2, 3, 5, 7, 11, 13$ nous remarquons que le 6e nombre premier est 13.\n",
    "Quel est le $10001^{ième}$ nombre premier?"
   ]
  },
  {
   "cell_type": "code",
   "execution_count": 4,
   "id": "00e25355",
   "metadata": {},
   "outputs": [
    {
     "name": "stdout",
     "output_type": "stream",
     "text": [
      "Le $10001e nombre premier est 104743\n"
     ]
    }
   ],
   "source": [
    "prime = 0\n",
    "ctr = 0\n",
    "nieme = 10001\n",
    "nombre = 2\n",
    "\n",
    "while( ctr != nieme ):\n",
    "    if nombre_premier( nombre ) == True:\n",
    "        ctr+=1\n",
    "        prime = nombre\n",
    "    nombre+=1\n",
    "\n",
    "print(f\"Le ${nieme}e nombre premier est {prime}\")"
   ]
  }
 ],
 "metadata": {
  "kernelspec": {
   "display_name": "Python 3 (ipykernel)",
   "language": "python",
   "name": "python3"
  },
  "language_info": {
   "codemirror_mode": {
    "name": "ipython",
    "version": 3
   },
   "file_extension": ".py",
   "mimetype": "text/x-python",
   "name": "python",
   "nbconvert_exporter": "python",
   "pygments_lexer": "ipython3",
   "version": "3.11.7"
  }
 },
 "nbformat": 4,
 "nbformat_minor": 5
}
