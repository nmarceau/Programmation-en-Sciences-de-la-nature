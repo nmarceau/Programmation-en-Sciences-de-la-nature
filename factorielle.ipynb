{
 "cells": [
  {
   "cell_type": "markdown",
   "metadata": {},
   "source": [
    "## Factorielle\n",
    "\n",
    "En mathématiques, la notation factorielle, notée n!, est la façon d'écrire le produit de tous les entiers positifs inférieurs ou égaux à un nombre n, où n est un nombre naturel.\n",
    "\n",
    "n! se lit :\n",
    "- factorielle de n\n",
    "- factorielle n\n",
    "- n factorielle\n",
    "\n",
    "Un exemple de la vie courante; La factorielle 10 exprime le nombre de combinaisons possibles du placement de 10 invités autour d'une table.\n",
    "Le premier invité s'installe sur l'une des 10 places à sa disposition. Chacun de ses 10 placements ouvre 9 nouvelles possibilités pour le deuxième invité. Le placement du deuxième invité ouvre 7 posisbilités pour le troisième invité, et ainsi de suite.\n",
    "\n",
    "La factorielle joue un rôle important en algèbre combinatoire parce qu'il y a n! façons différentes de permuter n objets..\n",
    "\n",
    "\n",
    "$$n! = n \\times (n-1) \\times (n-2) \\times \\ldots \\times 2 \\times 1$$\n",
    "\n",
    "Attention!\n",
    "\n",
    "Par convention, $0! = 1$\n",
    "\n",
    "```python\n",
    "0! = 1\n",
    "1! = 1\n",
    "2! = 1 × 2 = 2\n",
    "3! = 1 × 2 × 3 = 6\n",
    "4! = 1 × 2 × 3 × 4 = 24\n",
    "10! = 1 × 2 × 3 × 4 × 5 × 6 × 7 × 8 × 9 × 10 = 3 628 800"
   ]
  },
  {
   "cell_type": "code",
   "execution_count": 12,
   "metadata": {},
   "outputs": [
    {
     "name": "stdout",
     "output_type": "stream",
     "text": [
      "La factorielle de 10 est 3628800\n"
     ]
    }
   ],
   "source": [
    "def factorielle(n):\n",
    "    produit = 1\n",
    "    for i in range(1, n+1):\n",
    "        produit *= i        \n",
    "    return produit\n",
    "\n",
    "nombre = 10\n",
    "print(f\"La factorielle de {nombre} est {factorielle(nombre)}\")"
   ]
  },
  {
   "cell_type": "code",
   "execution_count": 10,
   "metadata": {},
   "outputs": [
    {
     "name": "stdout",
     "output_type": "stream",
     "text": [
      "La factorielle de 10 est 3628800\n"
     ]
    }
   ],
   "source": [
    "def factorielle(n):\n",
    "    produit = 1\n",
    "    for i in range(n, 1, -1):\n",
    "        produit *= i        \n",
    "    return produit\n",
    "\n",
    "nombre = 10\n",
    "print(f\"La factorielle de {nombre} est {factorielle(nombre)}\")"
   ]
  },
  {
   "cell_type": "code",
   "execution_count": 1,
   "metadata": {},
   "outputs": [
    {
     "name": "stdout",
     "output_type": "stream",
     "text": [
      "La factorielle de 10 est 3628800\n"
     ]
    }
   ],
   "source": [
    "def factorielle(n):\n",
    "    produit = 1\n",
    "    while n >= 1:\n",
    "        produit *= n\n",
    "        n -= 1\n",
    "    return produit\n",
    "\n",
    "nombre = 10\n",
    "print(f\"La factorielle de {nombre} est {factorielle(nombre)}\")"
   ]
  },
  {
   "cell_type": "code",
   "execution_count": 6,
   "metadata": {},
   "outputs": [
    {
     "name": "stdout",
     "output_type": "stream",
     "text": [
      "La factorielle de 10 est 3628800\n"
     ]
    }
   ],
   "source": [
    "def factorielle(n):\n",
    "    if n == 0:\n",
    "        return 1\n",
    "    else:\n",
    "        return n * factorielle(n-1)\n",
    "    \n",
    "nombre = 10\n",
    "print(f\"La factorielle de {nombre} est {factorielle(nombre)}\")"
   ]
  },
  {
   "cell_type": "code",
   "execution_count": 13,
   "metadata": {},
   "outputs": [
    {
     "name": "stdout",
     "output_type": "stream",
     "text": [
      "La factorielle de 10 est 3628800\n"
     ]
    }
   ],
   "source": [
    "import math\n",
    "def factorielle(n):\n",
    "    return math.factorial(n)\n",
    "    \n",
    "nombre = 10\n",
    "print(f\"La factorielle de {nombre} est {factorielle(nombre)}\")"
   ]
  },
  {
   "cell_type": "markdown",
   "metadata": {},
   "source": [
    "### Question\n",
    "Quel est le nombre de combinaisons possibles pour un mot de passe de 5 lettres où chaque lettre est choisie parmi les 26 lettres de l'alphabet latin [a-z] et où les lettres ne se répètent pas?\n",
    "\n",
    "### Réponse\n",
    "Pour un mot de passe de 5 lettres où les lettres ne se répètent pas parmi les 26 lettres de l'alphabet anglais, le nombre de combinaisons possibles est égal à la factorielle de 26 divisée par la factorielle de (26 - 5), ce qui donne 26 ! / (26 - 5) !. En calculant cela, on obtient 26 * 25 * 24 * 23 * 22, soit 789 360 combinaisons possibles."
   ]
  },
  {
   "cell_type": "code",
   "execution_count": 20,
   "metadata": {},
   "outputs": [
    {
     "name": "stdout",
     "output_type": "stream",
     "text": [
      "Réponse : 7893600 combinaisons possibles\n"
     ]
    }
   ],
   "source": [
    "def factorielle(n):\n",
    "    if n == 0:\n",
    "        return 1\n",
    "    else:\n",
    "        return n * factorielle(n-1)\n",
    "    \n",
    "longueur = 5\n",
    "reponse = factorielle(26) / factorielle(26-longueur)\n",
    "print(f\"Réponse : {int(reponse)} combinaisons possibles\")"
   ]
  }
 ],
 "metadata": {
  "kernelspec": {
   "display_name": "base",
   "language": "python",
   "name": "python3"
  },
  "language_info": {
   "codemirror_mode": {
    "name": "ipython",
    "version": 3
   },
   "file_extension": ".py",
   "mimetype": "text/x-python",
   "name": "python",
   "nbconvert_exporter": "python",
   "pygments_lexer": "ipython3",
   "version": "3.11.7"
  }
 },
 "nbformat": 4,
 "nbformat_minor": 2
}
