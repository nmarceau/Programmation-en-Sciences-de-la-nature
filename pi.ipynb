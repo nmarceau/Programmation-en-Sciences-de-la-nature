{
 "cells": [
  {
   "cell_type": "markdown",
   "metadata": {},
   "source": [
    "Calculer $\\pi^2$ et $2^\\pi$ et afficher le plus grand des deux."
   ]
  },
  {
   "cell_type": "code",
   "execution_count": 1,
   "metadata": {},
   "outputs": [
    {
     "name": "stdout",
     "output_type": "stream",
     "text": [
      "Le plus grand nombre est nombre1 : 9.869604401089358\n",
      "9.869604401089358\n"
     ]
    }
   ],
   "source": [
    "import math\n",
    "nombre1 = math.pi**2\n",
    "nombre2 = 2**math.pi\n",
    "\n",
    "if nombre1 > nombre2:\n",
    "    print(f\"Le plus grand nombre est nombre1 : {nombre1}\")    \n",
    "else:\n",
    "    print(f\"Le plus grand nombre est nombre2 : {nombre2}\")\n",
    "\n",
    "print(max(2**math.pi,math.pi**2))"
   ]
  }
 ],
 "metadata": {
  "kernelspec": {
   "display_name": "base",
   "language": "python",
   "name": "python3"
  },
  "language_info": {
   "codemirror_mode": {
    "name": "ipython",
    "version": 3
   },
   "file_extension": ".py",
   "mimetype": "text/x-python",
   "name": "python",
   "nbconvert_exporter": "python",
   "pygments_lexer": "ipython3",
   "version": "3.11.7"
  }
 },
 "nbformat": 4,
 "nbformat_minor": 2
}
