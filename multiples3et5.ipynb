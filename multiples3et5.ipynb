{
 "cells": [
  {
   "cell_type": "markdown",
   "metadata": {},
   "source": [
    "### La somme des multiples de 3 ou de 5 des nombres inférieurs à 1000 \n",
    "https://projecteuler.net/problem=1"
   ]
  },
  {
   "cell_type": "code",
   "execution_count": 1,
   "metadata": {},
   "outputs": [
    {
     "name": "stdout",
     "output_type": "stream",
     "text": [
      "La somme des multiples de 3 ou de 5 des nombres inférieurs à 1000 est 233168\n"
     ]
    }
   ],
   "source": [
    "somme = 0\n",
    "for nombre in range(1,1000):\n",
    "    if nombre%3==0 or nombre%5==0:\n",
    "        somme+=nombre\n",
    "    \n",
    "print(f\"La somme des multiples de 3 ou de 5 des nombres inférieurs à 1000 est {somme}\")"
   ]
  }
 ],
 "metadata": {
  "kernelspec": {
   "display_name": "base",
   "language": "python",
   "name": "python3"
  },
  "language_info": {
   "codemirror_mode": {
    "name": "ipython",
    "version": 3
   },
   "file_extension": ".py",
   "mimetype": "text/x-python",
   "name": "python",
   "nbconvert_exporter": "python",
   "pygments_lexer": "ipython3",
   "version": "3.11.7"
  }
 },
 "nbformat": 4,
 "nbformat_minor": 2
}
