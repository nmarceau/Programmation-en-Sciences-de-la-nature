{
 "cells": [
  {
   "cell_type": "markdown",
   "id": "8a04c36b-c8a7-481a-b5a8-13902ead3b3b",
   "metadata": {},
   "source": [
    "# Volume de formes géométriques"
   ]
  },
  {
   "cell_type": "markdown",
   "id": "c46ed813-1a48-435c-a9f8-e3dbe163e50f",
   "metadata": {},
   "source": [
    "## Volume d'un cube"
   ]
  },
  {
   "cell_type": "code",
   "execution_count": 3,
   "id": "9b025f7f-18fe-43fc-b5d4-fab82499dd23",
   "metadata": {},
   "outputs": [
    {
     "name": "stdout",
     "output_type": "stream",
     "text": [
      "Le volume d'un cube de côté 10 est = 1000 unités cubes\n"
     ]
    }
   ],
   "source": [
    "def volume_cube( cote ):\n",
    "    return cote**3\n",
    "\n",
    "cote = 10\n",
    "volume = volume_cube( cote )\n",
    "\n",
    "print(f\"Le volume d'un cube de côté {cote} est = {volume} unités cubes\")"
   ]
  },
  {
   "cell_type": "markdown",
   "id": "092285f1-da26-479e-8098-c6cd2a7a00a4",
   "metadata": {},
   "source": [
    "## Volume d'un prisme à base rectangulaire"
   ]
  },
  {
   "cell_type": "code",
   "execution_count": 4,
   "id": "d46877a5-1ecb-4294-9af6-72f04ae4d7ba",
   "metadata": {},
   "outputs": [
    {
     "name": "stdout",
     "output_type": "stream",
     "text": [
      "Le volume d'un prisme rectangulaire de largeur 3, de longueur 4 et de hauteur 5 est = 60 unités cubes\n"
     ]
    }
   ],
   "source": [
    "def volume_prisme_rectangulaire( largeur, longueur, hauteur ):\n",
    "    return largeur * longueur * hauteur\n",
    "\n",
    "l = 3\n",
    "L = 4\n",
    "h = 5\n",
    "volume = volume_prisme_rectangulaire( l, L, h )\n",
    "\n",
    "print(f\"Le volume d'un prisme rectangulaire de largeur {l}, de longueur {L} et de hauteur {h} est = {volume} unités cubes\")"
   ]
  },
  {
   "cell_type": "markdown",
   "id": "daba8bab-537b-4f7d-9f3c-ae4d3186a17d",
   "metadata": {},
   "source": [
    "## Volume d'une sphère"
   ]
  },
  {
   "cell_type": "code",
   "execution_count": 5,
   "id": "b9243b59-c751-4479-aa4f-798b599ae2a6",
   "metadata": {},
   "outputs": [
    {
     "name": "stdout",
     "output_type": "stream",
     "text": [
      "Le volume d'une sphère de rayon 4 est = 268.082573106329 unités cubes\n"
     ]
    }
   ],
   "source": [
    "import math\n",
    "def volume_sphere( rayon ):\n",
    "    return 4 * math.pi * rayon**3 / 3\n",
    "\n",
    "rayon = 4\n",
    "volume = volume_sphere( rayon )\n",
    "\n",
    "print(f\"Le volume d'une sphère de rayon {rayon} est = {volume} unités cubes\")"
   ]
  },
  {
   "cell_type": "markdown",
   "id": "6911e712",
   "metadata": {},
   "source": [
    "# Voulume d'un cône\n"
   ]
  },
  {
   "cell_type": "code",
   "execution_count": 6,
   "id": "60452097",
   "metadata": {},
   "outputs": [
    {
     "name": "stdout",
     "output_type": "stream",
     "text": [
      "Le volume d'un cône de rayon 4 et de hauteur 5 est = 83.77580409572782 unités cubes\n"
     ]
    }
   ],
   "source": [
    "import math\n",
    "def volume_cone( rayon, hauteur ):\n",
    "    return math.pi * rayon**2 * hauteur / 3\n",
    "\n",
    "rayon = 4\n",
    "h = 5\n",
    "volume = volume_cone( rayon, h )\n",
    "\n",
    "print(f\"Le volume d'un cône de rayon {rayon} et de hauteur {h} est = {volume} unités cubes\")"
   ]
  },
  {
   "cell_type": "markdown",
   "id": "8c54beb5",
   "metadata": {},
   "source": [
    "# Volume d'une pyramide à base carrée"
   ]
  },
  {
   "cell_type": "code",
   "execution_count": 1,
   "id": "13980bc0",
   "metadata": {},
   "outputs": [
    {
     "name": "stdout",
     "output_type": "stream",
     "text": [
      "Le volume d'une pyramide de base 4 et de hauteur 5 est = 26.666666666666668 unités cubes\n"
     ]
    }
   ],
   "source": [
    "def volume_pyramide_base_carree( cote, hauteur ):\n",
    "    return cote**2 * hauteur / 3\n",
    "\n",
    "cote = 4\n",
    "h = 5\n",
    "volume = volume_pyramide_base_carree( cote, h )\n",
    "\n",
    "print(f\"Le volume d'une pyramide de base {cote} et de hauteur {h} est = {volume} unités cubes\")"
   ]
  }
 ],
 "metadata": {
  "kernelspec": {
   "display_name": "Python 3 (ipykernel)",
   "language": "python",
   "name": "python3"
  },
  "language_info": {
   "codemirror_mode": {
    "name": "ipython",
    "version": 3
   },
   "file_extension": ".py",
   "mimetype": "text/x-python",
   "name": "python",
   "nbconvert_exporter": "python",
   "pygments_lexer": "ipython3",
   "version": "3.11.7"
  }
 },
 "nbformat": 4,
 "nbformat_minor": 5
}
