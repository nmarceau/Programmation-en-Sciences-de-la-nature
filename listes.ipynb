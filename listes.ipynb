{
 "cells": [
  {
   "cell_type": "markdown",
   "metadata": {},
   "source": [
    "### Création d'une liste"
   ]
  },
  {
   "cell_type": "code",
   "execution_count": 7,
   "metadata": {},
   "outputs": [
    {
     "name": "stdout",
     "output_type": "stream",
     "text": [
      "['stylos rouges', 'piles', 'souris pour la salle info', 'claviers', 'brosse pour effacer']\n",
      "[1, 4, 9, 3, 1, 2, 6, 12, 14]\n",
      "[0, 2, 4, 6, 8, 1, 3, 5, 7, 9]\n",
      "[1, 1, 1, 1, 1]\n",
      "[1, 2, 3, 1, 2, 3, 1, 2, 3]\n",
      "[0, 0, 0, 0, 0, 0, 0, 0, 0, 0]\n"
     ]
    }
   ],
   "source": [
    "ma_liste_de_nombres = [ 1, 4, 9, 3, 1, 2 ]\n",
    "ma_liste_de_courses = [ \"stylos rouges\" , \"piles\" , \"souris pour la salle info\" , \"claviers\" ]\n",
    "ma_liste_de_coordonnées_de_vecteurs = [ (1,1) , (0,1) , (1,6)]\n",
    "ma_liste_bordelique = [\"un texte\", 18, 5.4, True, (1,0)]\n",
    "\n",
    "la_liste_vide = []\n",
    "\n",
    "ma_liste_de_courses.append(\"brosse pour effacer\")\n",
    "print(ma_liste_de_courses)\n",
    "\n",
    "ma_liste_de_nombres.extend([6, 12, 14])\n",
    "print(ma_liste_de_nombres)\n",
    "\n",
    "liste_chiffres_pairs = [0 ,2 ,4 ,6 ,8]\n",
    "liste_chiffres_impairs = [1, 3, 5, 7 ,9]\n",
    "print(liste_chiffres_pairs + liste_chiffres_impairs)\n",
    "\n",
    "print([1] * 5)\n",
    "print([1, 2, 3] * 3)\n",
    "\n",
    "ma_liste_zeros = [0] * 10\n",
    "print(ma_liste_zeros)"
   ]
  }
 ],
 "metadata": {
  "kernelspec": {
   "display_name": "base",
   "language": "python",
   "name": "python3"
  },
  "language_info": {
   "codemirror_mode": {
    "name": "ipython",
    "version": 3
   },
   "file_extension": ".py",
   "mimetype": "text/x-python",
   "name": "python",
   "nbconvert_exporter": "python",
   "pygments_lexer": "ipython3",
   "version": "3.11.7"
  }
 },
 "nbformat": 4,
 "nbformat_minor": 2
}
