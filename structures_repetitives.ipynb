{
 "cells": [
  {
   "cell_type": "markdown",
   "metadata": {},
   "source": [
    "### Présentation des boucles for\n",
    "La boucle for énumère les éléments d'un ensemble et pour chaque élément, répète toujours le même code en fonction de cet élément. Donnons un exemple :\n",
    "\n",
    "for objet in liste_courses :\n",
    "    trouver(objet)\n",
    "    mettre_dans_le_chariot(objet)\n",
    "aller_payer()\n",
    "\n",
    "Détaillons un peu. Pour chaque objet dans ma liste de courses, je fais toujours la même chose : je le trouve puis je le mets dans le chariot. C'est ça que fait ma boucle for. Quand il n'y a plus d'objet dans ma liste de course, je vais payer.\n",
    "Attention au fait que, comme pour le if... else..., il ne faut pas oublier les \":\" en fin de ligne et, de plus, ce qui doit être fait en boucle doit être indenté. Et le aller_payer n'est pas indenté car je ne paye qu'à la fin. S'il était indenté, cela signifierait que pour chaque objet j'irais payer avant de passer à l'objet suivant...\n",
    "\n",
    "Nous allons nous intéresser principalement à l'énumération de nombres car c'est de loin la plus utile au début. Pour créer une liste de nombres, on utilise la fonction range.\n",
    "\n",
    "- `range(n)` : crée une liste de n nombres allant de 0 à n-1.\n",
    "- `range(n1,n2)` : crée une liste de nombres allant de n1 à n2-1.\n",
    "- `range(n1,n2,pas)` : crée une liste de nombres allant de n1 à n2-1 en sautant de pas en pas.\n",
    "\n",
    "Par exemple :\n",
    "- `range(4)` est la suite de nombres 0 1 2 3\n",
    "- `range(3,6)` est la suite de nombres 3 4 5\n",
    "- `range(1,9,3)` est la suite de nombres 1 4 7 (de 3 en 3 en partant de 1)\n",
    "- `range(3,0,-1)` est la suite 3 2 1 (un pas négatif permet de compter à l'envers ce qui est très pratique des fois)"
   ]
  },
  {
   "cell_type": "code",
   "execution_count": null,
   "metadata": {},
   "outputs": [],
   "source": [
    "for i in range(3) :\n",
    "   print(\"Bonjour !\")\n",
    "\n",
    "for i in range(5) :\n",
    "   print(i)\n",
    "\n",
    "somme=0\n",
    "for i in range(4) :\n",
    "   somme+= i\n",
    "print(f\"somme={somme}\")\n",
    "\n",
    "for x in range(3):\n",
    "    for y in range(3):\n",
    "        print((x,y))\n",
    "\n",
    "for lettre in \"Bonjour !\":\n",
    "    print(lettre)\n",
    "\n",
    "texte = \"Homme libre, toujours tu chériras la mer ! La mer est ton miroir ; tu contemples ton âme Dans le déroulement infini de sa lame, Et ton esprit n'est pas un gouffre moins amer.\"\n",
    "compteur=0\n",
    "for lettre in texte :\n",
    "    if lettre == \"e\" :\n",
    "        compteur += 1\n",
    "print(compteur)\n",
    "\n",
    "liste = [ 1, \"arbre\", True, 2.564, \"Bonjour !\"]\n",
    "for k in liste: \n",
    "    print(k)\n",
    "\n",
    "\n",
    "texte = \"Ceci est un texte, tout ce qu'il y a de plus simple\"\n",
    "for lettre in texte : \n",
    "    print(lettre)\n",
    "    if lettre == \"x\" :\n",
    "        print(\"Un x a été trouvé !\")\n",
    "        break\n",
    "\n",
    "liste = [ -4, 2, 6, 0, 1, 3, 0, 10]\n",
    "for n in liste:\n",
    "    if n==0:\n",
    "        continue\n",
    "    print(1/n)\n",
    "\n",
    "texte = \"Ceci est une phrase, tout ce qu'il y a de plus simple\"\n",
    "for lettre in texte : \n",
    "    print(lettre)\n",
    "    if lettre == \"x\" :\n",
    "        print(\"Un x a été trouvé !\")\n",
    "        break\n",
    "else :\n",
    "    print(\"Pas de x trouvé !\")\n",
    "\n",
    "\n",
    "i = 0\n",
    "while i < 4 :\n",
    "    print(i)\n",
    "    i+=1\n",
    "\n",
    "n = 0\n",
    "while n*(n+1)*(n+2) < 1000000 :\n",
    "    n+=1\n",
    "print(n)\n",
    "\n",
    "n = 0\n",
    "somme = 0\n",
    "while somme < 1000000 :\n",
    "    n += 1\n",
    "    somme += n \n",
    "print(n)"
   ]
  },
  {
   "cell_type": "markdown",
   "metadata": {},
   "source": [
    "### Exercice 1\n",
    "Écrire un programme qui affiche le plus petit entier $n$ tel que $(n+1)*(n+3)$ dépasse `12345`."
   ]
  },
  {
   "cell_type": "code",
   "execution_count": 17,
   "metadata": {},
   "outputs": [
    {
     "name": "stdout",
     "output_type": "stream",
     "text": [
      "110\n"
     ]
    }
   ],
   "source": [
    "n = 0\n",
    "while( (n+1)*(n+3) <= 12345 ) :\n",
    "    n += 1\n",
    "print(n)"
   ]
  },
  {
   "cell_type": "markdown",
   "metadata": {},
   "source": [
    "### Exercice 2\n",
    "Écrire un programme qui affiche le plus petit entier $n$ tel que $4 + 5 + 6 + ... + n$ dépasse `12345`."
   ]
  },
  {
   "cell_type": "code",
   "execution_count": 24,
   "metadata": {},
   "outputs": [
    {
     "name": "stdout",
     "output_type": "stream",
     "text": [
      "157\n"
     ]
    }
   ],
   "source": [
    "n = 4\n",
    "somme = 0\n",
    "while somme <= 12345 :\n",
    "    somme += n\n",
    "    n += 1\n",
    "print(n-1)"
   ]
  },
  {
   "cell_type": "markdown",
   "metadata": {},
   "source": [
    "### Exercice 3\n",
    "Écrire un programme qui affiche le plus petit entier $n$ tel que $1² + 2² + 3² + ... + n²$ dépasse `12345`."
   ]
  },
  {
   "cell_type": "code",
   "execution_count": 25,
   "metadata": {},
   "outputs": [
    {
     "name": "stdout",
     "output_type": "stream",
     "text": [
      "33\n"
     ]
    }
   ],
   "source": [
    "somme = 0\n",
    "n = 0\n",
    "while somme < 12345 :\n",
    "    n += 1\n",
    "    somme += n**2\n",
    "   \n",
    "print(n)"
   ]
  }
 ],
 "metadata": {
  "kernelspec": {
   "display_name": "base",
   "language": "python",
   "name": "python3"
  },
  "language_info": {
   "codemirror_mode": {
    "name": "ipython",
    "version": 3
   },
   "file_extension": ".py",
   "mimetype": "text/x-python",
   "name": "python",
   "nbconvert_exporter": "python",
   "pygments_lexer": "ipython3",
   "version": "3.11.7"
  }
 },
 "nbformat": 4,
 "nbformat_minor": 2
}
