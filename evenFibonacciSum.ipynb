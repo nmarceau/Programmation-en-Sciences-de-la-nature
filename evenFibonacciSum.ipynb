{
 "cells": [
  {
   "cell_type": "markdown",
   "metadata": {},
   "source": [
    "## Somme Fibonacci (nombres pairs)\n",
    "\n",
    "Donner la somme de tous les nombres pairs dans une séquence de Fibonacci jusqu'à, mais sans inclure, le nombre passé à votre fonction. En bref, additionner tous les nombres pairs de Fibonacci qui sont inférieurs à nombre.\n",
    "\n",
    "La séquence de Fibonacci est une série de nombres où la valeur suivante est l'addition des deux valeurs précédentes. La série commence par 0 et 1 :\n",
    "\n",
    "0 1 1 2 3 5 8 13 21\n",
    "\n",
    "Exemple\n",
    "``` python\n",
    "fibonacci(0)==0\n",
    "fibonacci(33)==10\n",
    "fibonacci(25997544)==19544084\n",
    "```"
   ]
  },
  {
   "cell_type": "code",
   "execution_count": 4,
   "metadata": {},
   "outputs": [
    {
     "name": "stdout",
     "output_type": "stream",
     "text": [
      "La somme des nombres de Fibonacci pairs inférieurs à 33 est 10\n"
     ]
    }
   ],
   "source": [
    "def somme_fibonacci_pair(max):\n",
    "  \n",
    "    fib0 = 0 \n",
    "    fib1 = 1\n",
    "    sum = 0\n",
    "\n",
    "    while fib0+fib1 < max:\n",
    "        fib2 = fib1 + fib0\n",
    "        if fib2 % 2 == 0:\n",
    "            sum += fib2\n",
    "        fib0 = fib1\n",
    "        fib1 = fib2\n",
    "    \n",
    "    return sum\n",
    "\n",
    "nombre = 33\n",
    "print(f\"La somme des nombres de Fibonacci pairs inférieurs à {nombre} est {somme_fibonacci_pair(nombre)}\")"
   ]
  }
 ],
 "metadata": {
  "kernelspec": {
   "display_name": "base",
   "language": "python",
   "name": "python3"
  },
  "language_info": {
   "codemirror_mode": {
    "name": "ipython",
    "version": 3
   },
   "file_extension": ".py",
   "mimetype": "text/x-python",
   "name": "python",
   "nbconvert_exporter": "python",
   "pygments_lexer": "ipython3",
   "version": "3.11.7"
  }
 },
 "nbformat": 4,
 "nbformat_minor": 2
}
