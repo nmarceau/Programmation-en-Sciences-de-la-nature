{
 "cells": [
  {
   "cell_type": "markdown",
   "metadata": {},
   "source": [
    "### Différence entre la somme des carrés et le carré de la somme\n",
    "\n",
    "https://projecteuler.net/problem=6\n",
    "\n",
    "La somme des carrés des 10 premiers nombres naturels est : $$1^2+2^2+\\ldots+9^2+10^2=385$$\n",
    "\n",
    "Le carré de la somme des 10 premiers nombres naturels est : $$(1+2+\\ldots+9+10)^2=3025$$\n",
    "\n",
    "La différence entre la somme des carrés des 10 premiers nombres naturels et le carré de leur somme est $$3025-385=2640$$\n",
    "\n",
    "Trouver la différence entre la somme des carrés des 100 premiers nombres naturels et le carré de leur somme."
   ]
  },
  {
   "cell_type": "code",
   "execution_count": 2,
   "metadata": {},
   "outputs": [
    {
     "name": "stdout",
     "output_type": "stream",
     "text": [
      "La somme des carrés des entiers de 1 à 100 est 338350\n",
      "Le carré de la somme des entiers de 1 à 100 est 25502500\n",
      "La différence entre le carré de la somme et la somme des carrés des entiers de 1 à 100 est 25164150\n"
     ]
    }
   ],
   "source": [
    "nombre = 100\n",
    "somme1 = 0\n",
    "for n in range(1, nombre+1):\n",
    "    somme1 += n**2\n",
    "print(f\"La somme des carrés des entiers de 1 à {nombre} est {somme1}\")\n",
    "\n",
    "somme2 = 0\n",
    "for n in range(1, nombre+1):\n",
    "    somme2 += n\n",
    "somme2 = somme2**2\n",
    "print(f\"Le carré de la somme des entiers de 1 à {nombre} est {somme2}\")\n",
    "\n",
    "print(f\"La différence entre le carré de la somme et la somme des carrés des entiers de 1 à {nombre} est {somme2 - somme1}\")\n"
   ]
  }
 ],
 "metadata": {
  "kernelspec": {
   "display_name": "base",
   "language": "python",
   "name": "python3"
  },
  "language_info": {
   "codemirror_mode": {
    "name": "ipython",
    "version": 3
   },
   "file_extension": ".py",
   "mimetype": "text/x-python",
   "name": "python",
   "nbconvert_exporter": "python",
   "pygments_lexer": "ipython3",
   "version": "3.11.7"
  }
 },
 "nbformat": 4,
 "nbformat_minor": 2
}
