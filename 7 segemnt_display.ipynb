{
 "cells": [
  {
   "cell_type": "markdown",
   "metadata": {},
   "source": [
    "### L'affichage à sept segments  \n",
    "Un affichage à sept segments est une technique d'affichage basé sur sept segments qui peuvent être activés ou désactivés en fonction du motif graphique à produire.\n",
    "L'affichage à sept segments est largement utilisé dans les horloges numériques, les compteurs électroniques, les calculatrices et les autres appareils électroniques qui affichent des informations numériques."
   ]
  },
  {
   "cell_type": "code",
   "execution_count": 1,
   "metadata": {},
   "outputs": [
    {
     "name": "stdout",
     "output_type": "stream",
     "text": [
      "███ ███ ███ \n",
      "  █   █   █ \n",
      "███ ███ ███ \n",
      "  █   █ █   \n",
      "███ ███ ███ \n",
      "\n"
     ]
    }
   ],
   "source": [
    "digits = [  ['███', '█', '███', '███', '█ █', '███', '███', '███', '███', '███'],\n",
    "            ['█ █', '█', '  █', '  █', '█ █', '█  ', '█  ', '  █', '█ █', '█ █'],\n",
    "            ['█ █', '█', '███', '███', '███', '███', '███', '  █', '███', '███'],\n",
    "            ['█ █', '█', '█  ', '  █', '  █', '  █', '█ █', '  █', '█ █', '  █'],\n",
    "            ['███', '█', '███', '███', '  █', '███', '███', '  █', '███', '███']   ]\n",
    "\n",
    "def seven_segment_display(digit):\n",
    "    digit_list = list(str(digit))\n",
    "    display = ''\n",
    "    \n",
    "    for line in range(5):\n",
    "        for n in range(len(digit_list)):\n",
    "            display += digits[line][int(digit_list[n])] + ' '\n",
    "        display += '\\n'\n",
    "        \n",
    "    return display\n",
    "\n",
    "print(seven_segment_display(332))"
   ]
  }
 ],
 "metadata": {
  "kernelspec": {
   "display_name": "base",
   "language": "python",
   "name": "python3"
  },
  "language_info": {
   "codemirror_mode": {
    "name": "ipython",
    "version": 3
   },
   "file_extension": ".py",
   "mimetype": "text/x-python",
   "name": "python",
   "nbconvert_exporter": "python",
   "pygments_lexer": "ipython3",
   "version": "3.11.7"
  }
 },
 "nbformat": 4,
 "nbformat_minor": 2
}
